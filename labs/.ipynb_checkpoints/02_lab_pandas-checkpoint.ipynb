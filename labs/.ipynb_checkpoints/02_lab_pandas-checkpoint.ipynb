{
 "cells": [
  {
   "cell_type": "code",
   "execution_count": 2,
   "metadata": {
    "collapsed": true
   },
   "outputs": [],
   "source": [
    "'''\n",
    "Class 2 Lab\n",
    "'''\n",
    "\n",
    "# imports\n",
    "import pandas as pd\n",
    "import numpy as np\n",
    "import matplotlib.pyplot as plt\n",
    "%matplotlib inline"
   ]
  },
  {
   "cell_type": "code",
   "execution_count": 9,
   "metadata": {
    "collapsed": false
   },
   "outputs": [],
   "source": [
    "# read in the CSV file from a URL\n",
    "drinks = pd.read_csv('https://raw.githubusercontent.com/sinanuozdemir/sfdat22/master/data/drinks.csv', na_filter=False)"
   ]
  },
  {
   "cell_type": "code",
   "execution_count": 13,
   "metadata": {
    "collapsed": false
   },
   "outputs": [
    {
     "name": "stdout",
     "output_type": "stream",
     "text": [
      "              country  beer_servings  spirit_servings  wine_servings  \\\n",
      "0         Afghanistan              0                0              0   \n",
      "1             Albania             89              132             54   \n",
      "2             Algeria             25                0             14   \n",
      "3             Andorra            245              138            312   \n",
      "4              Angola            217               57             45   \n",
      "5   Antigua & Barbuda            102              128             45   \n",
      "6           Argentina            193               25            221   \n",
      "7             Armenia             21              179             11   \n",
      "8           Australia            261               72            212   \n",
      "9             Austria            279               75            191   \n",
      "10         Azerbaijan             21               46              5   \n",
      "11            Bahamas            122              176             51   \n",
      "12            Bahrain             42               63              7   \n",
      "13         Bangladesh              0                0              0   \n",
      "14           Barbados            143              173             36   \n",
      "15            Belarus            142              373             42   \n",
      "16            Belgium            295               84            212   \n",
      "\n",
      "    total_litres_of_pure_alcohol continent  \n",
      "0                            0.0        AS  \n",
      "1                            4.9        EU  \n",
      "2                            0.7        AF  \n",
      "3                           12.4        EU  \n",
      "4                            5.9        AF  \n",
      "5                            4.9        NA  \n",
      "6                            8.3        SA  \n",
      "7                            3.8        EU  \n",
      "8                           10.4        OC  \n",
      "9                            9.7        EU  \n",
      "10                           1.3        EU  \n",
      "11                           6.3        NA  \n",
      "12                           2.0        AS  \n",
      "13                           0.0        AS  \n",
      "14                           6.3        NA  \n",
      "15                          14.4        EU  \n",
      "16                          10.5        EU  \n"
     ]
    }
   ],
   "source": [
    "# 1. Show the first 17 rows of drinks\n",
    "print drinks[0:17]\n"
   ]
  },
  {
   "cell_type": "code",
   "execution_count": 15,
   "metadata": {
    "collapsed": false
   },
   "outputs": [
    {
     "name": "stdout",
     "output_type": "stream",
     "text": [
      "0        0\n",
      "1       89\n",
      "2       25\n",
      "3      245\n",
      "4      217\n",
      "5      102\n",
      "6      193\n",
      "7       21\n",
      "8      261\n",
      "9      279\n",
      "10      21\n",
      "11     122\n",
      "12      42\n",
      "13       0\n",
      "14     143\n",
      "15     142\n",
      "16     295\n",
      "17     263\n",
      "18      34\n",
      "19      23\n",
      "20     167\n",
      "21      76\n",
      "22     173\n",
      "23     245\n",
      "24      31\n",
      "25     231\n",
      "26      25\n",
      "27      88\n",
      "28      37\n",
      "29     144\n",
      "      ... \n",
      "163    128\n",
      "164     90\n",
      "165    152\n",
      "166    185\n",
      "167      5\n",
      "168      2\n",
      "169     99\n",
      "170    106\n",
      "171      1\n",
      "172     36\n",
      "173     36\n",
      "174    197\n",
      "175     51\n",
      "176     51\n",
      "177     19\n",
      "178      6\n",
      "179     45\n",
      "180    206\n",
      "181     16\n",
      "182    219\n",
      "183     36\n",
      "184    249\n",
      "185    115\n",
      "186     25\n",
      "187     21\n",
      "188    333\n",
      "189    111\n",
      "190      6\n",
      "191     32\n",
      "192     64\n",
      "Name: beer_servings, dtype: int64\n"
     ]
    }
   ],
   "source": [
    "# 2. create a variable called beer_servings and use it to store the beer_servings column\n",
    "beer_servings = drinks['beer_servings']\n",
    "print beer_servings"
   ]
  },
  {
   "cell_type": "code",
   "execution_count": null,
   "metadata": {
    "collapsed": true
   },
   "outputs": [],
   "source": [
    "# 3. Display a dataframe where the only rows are those with continent North America\n"
   ]
  },
  {
   "cell_type": "code",
   "execution_count": null,
   "metadata": {
    "collapsed": true
   },
   "outputs": [],
   "source": [
    "# 4. Create a new dataframe called north_america that holds your answer in 1.\n",
    "# drinks (the dataframe) should remain unchanged"
   ]
  },
  {
   "cell_type": "code",
   "execution_count": null,
   "metadata": {
    "collapsed": true
   },
   "outputs": [],
   "source": [
    "# 5. What is the average wine consumption per person per year in Africa?"
   ]
  },
  {
   "cell_type": "code",
   "execution_count": null,
   "metadata": {
    "collapsed": true
   },
   "outputs": [],
   "source": [
    "# 6. Create a scatter plot between spirit servings and wine servings of all countries"
   ]
  },
  {
   "cell_type": "code",
   "execution_count": null,
   "metadata": {
    "collapsed": true
   },
   "outputs": [],
   "source": [
    "# 7. Show a list of the top 10 spirit drinking countries \n",
    "# (show only country names and spirit servings)"
   ]
  },
  {
   "cell_type": "code",
   "execution_count": null,
   "metadata": {
    "collapsed": true
   },
   "outputs": [],
   "source": [
    "# 8. Plot 6 histograms of wine servings by continent, \n",
    "# remember to share x and share y axis scales!"
   ]
  },
  {
   "cell_type": "code",
   "execution_count": null,
   "metadata": {
    "collapsed": true
   },
   "outputs": [],
   "source": [
    "# 9. What is the average wine consumption in South America?"
   ]
  },
  {
   "cell_type": "code",
   "execution_count": 2,
   "metadata": {
    "collapsed": true
   },
   "outputs": [],
   "source": [
    "# 10. Which continent has the highest on average wine consumption?"
   ]
  },
  {
   "cell_type": "code",
   "execution_count": null,
   "metadata": {
    "collapsed": true
   },
   "outputs": [],
   "source": []
  }
 ],
 "metadata": {
  "kernelspec": {
   "display_name": "Python 2",
   "language": "python",
   "name": "python2"
  },
  "language_info": {
   "codemirror_mode": {
    "name": "ipython",
    "version": 2
   },
   "file_extension": ".py",
   "mimetype": "text/x-python",
   "name": "python",
   "nbconvert_exporter": "python",
   "pygments_lexer": "ipython2",
   "version": "2.7.11"
  }
 },
 "nbformat": 4,
 "nbformat_minor": 0
}
