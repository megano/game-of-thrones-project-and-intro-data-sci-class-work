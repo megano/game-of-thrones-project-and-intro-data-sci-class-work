{
  "nbformat": 4,
  "nbformat_minor": 0,
  "metadata": {
    "kernelspec": {
      "display_name": "Python 2",
      "language": "python",
      "name": "python2"
    },
    "language_info": {
      "codemirror_mode": {
        "name": "ipython",
        "version": 2
      },
      "file_extension": ".py",
      "mimetype": "text/x-python",
      "name": "python",
      "nbconvert_exporter": "python",
      "pygments_lexer": "ipython2",
      "version": "2.7.11"
    },
    "colab": {
      "name": "GOT-analysis.ipynb",
      "provenance": []
    }
  },
  "cells": [
    {
      "cell_type": "markdown",
      "metadata": {
        "id": "Y8jSGs-DfSBw"
      },
      "source": [
        "<a href=\"https://colab.research.google.com/github/googlecolab/colabtools/blob/master/notebooks/colab-github-demo.ipynb\" target=\"_parent\"><img src=\"https://colab.research.google.com/assets/colab-badge.svg\" alt=\"Open In Colab\"/></a>\n"
      ]
    },
    {
      "cell_type": "markdown",
      "metadata": {
        "id": "ORN9dWWALgKn"
      },
      "source": [
        "# **Game of Thrones Book Data Analysis**\n",
        "This notebook contains an exporatory data analysis of survival of characters in George RR Martin’s “A Song of Fire and Ice” book series. It uses character-predictions.csv. Sourced from Kaggle, this csv lists features of 1946 characters. It was created by the team at A Song of Ice and Data by scraping the Westeros wiki http://awoiaf.westeros.org.   "
      ]
    },
    {
      "cell_type": "markdown",
      "metadata": {
        "id": "K82gwuD_Li0Q"
      },
      "source": [
        "### **SETUP -- Import Libraries, Models & Metrics**\n",
        "To run this notebook in your browser click the \"Open in Colab\" button. Below are the libraries, models and metrics we'll use."
      ]
    },
    {
      "cell_type": "code",
      "metadata": {
        "id": "jaWD3Jp4F0DS",
        "outputId": "59e9a230-d607-4632-984f-59c1afdaf7e0",
        "colab": {
          "base_uri": "https://localhost:8080/"
        }
      },
      "source": [
        "import pandas as pd # data processing\n",
        "import numpy as np # linear algebra\n",
        "import seaborn as sn # for visuals\n",
        "import matplotlib.pyplot as plt # for graphs\n",
        "%matplotlib inline # how graphs are printed\n",
        "plt.style.use('ggplot') \n",
        "pd.set_option('display.max_rows', 20)\n",
        "pd.set_option('display.max_columns', 20)"
      ],
      "execution_count": 1,
      "outputs": [
        {
          "output_type": "stream",
          "text": [
            "UsageError: unrecognized arguments: # how graphs are printed\n"
          ],
          "name": "stderr"
        }
      ]
    },
    {
      "cell_type": "markdown",
      "metadata": {
        "id": "IXNf_sXqS-Z8"
      },
      "source": [
        "### **LOAD & CLEAN DATA**\n",
        "Use pandas to import the CSV file from a Google Cloud bucket into a dataframe. "
      ]
    },
    {
      "cell_type": "code",
      "metadata": {
        "id": "UokcXreNfiTB",
        "outputId": "159bf4fd-d796-486c-9350-ceb46f4b68f4",
        "colab": {
          "base_uri": "https://localhost:8080/",
          "height": 334
        }
      },
      "source": [
        "# import csv\n",
        "df_raw = pd.read_csv('https://storage.googleapis.com/storytelling-megano/raw-data/character-predictions.csv')\n",
        "df_raw.head()"
      ],
      "execution_count": 2,
      "outputs": [
        {
          "output_type": "execute_result",
          "data": {
            "text/plain": [
              "   S.No  actual  pred  alive   plod                  name  \\\n",
              "0     1       0     0  0.054  0.946  Viserys II Targaryen   \n",
              "1     2       1     0  0.387  0.613           Walder Frey   \n",
              "2     3       1     0  0.493  0.507          Addison Hill   \n",
              "3     4       0     0  0.076  0.924           Aemma Arryn   \n",
              "4     5       1     1  0.617  0.383        Sylva Santagar   \n",
              "\n",
              "                  title  male   culture  dateOfBirth  ...  isAliveHeir  \\\n",
              "0                   NaN     1       NaN          NaN  ...          0.0   \n",
              "1  Lord of the Crossing     1  Rivermen        208.0  ...          NaN   \n",
              "2                   Ser     1       NaN          NaN  ...          NaN   \n",
              "3                 Queen     0       NaN         82.0  ...          NaN   \n",
              "4            Greenstone     0   Dornish        276.0  ...          NaN   \n",
              "\n",
              "  isAliveSpouse isMarried isNoble   age numDeadRelations  boolDeadRelations  \\\n",
              "0           NaN         0       0   NaN               11                  1   \n",
              "1           1.0         1       1  97.0                1                  1   \n",
              "2           NaN         0       1   NaN                0                  0   \n",
              "3           0.0         1       1  23.0                0                  0   \n",
              "4           1.0         1       1  29.0                0                  0   \n",
              "\n",
              "   isPopular  popularity  isAlive  \n",
              "0          1    0.605351        0  \n",
              "1          1    0.896321        1  \n",
              "2          0    0.267559        1  \n",
              "3          0    0.183946        0  \n",
              "4          0    0.043478        1  \n",
              "\n",
              "[5 rows x 33 columns]"
            ],
            "text/html": [
              "<div>\n",
              "<style scoped>\n",
              "    .dataframe tbody tr th:only-of-type {\n",
              "        vertical-align: middle;\n",
              "    }\n",
              "\n",
              "    .dataframe tbody tr th {\n",
              "        vertical-align: top;\n",
              "    }\n",
              "\n",
              "    .dataframe thead th {\n",
              "        text-align: right;\n",
              "    }\n",
              "</style>\n",
              "<table border=\"1\" class=\"dataframe\">\n",
              "  <thead>\n",
              "    <tr style=\"text-align: right;\">\n",
              "      <th></th>\n",
              "      <th>S.No</th>\n",
              "      <th>actual</th>\n",
              "      <th>pred</th>\n",
              "      <th>alive</th>\n",
              "      <th>plod</th>\n",
              "      <th>name</th>\n",
              "      <th>title</th>\n",
              "      <th>male</th>\n",
              "      <th>culture</th>\n",
              "      <th>dateOfBirth</th>\n",
              "      <th>...</th>\n",
              "      <th>isAliveHeir</th>\n",
              "      <th>isAliveSpouse</th>\n",
              "      <th>isMarried</th>\n",
              "      <th>isNoble</th>\n",
              "      <th>age</th>\n",
              "      <th>numDeadRelations</th>\n",
              "      <th>boolDeadRelations</th>\n",
              "      <th>isPopular</th>\n",
              "      <th>popularity</th>\n",
              "      <th>isAlive</th>\n",
              "    </tr>\n",
              "  </thead>\n",
              "  <tbody>\n",
              "    <tr>\n",
              "      <th>0</th>\n",
              "      <td>1</td>\n",
              "      <td>0</td>\n",
              "      <td>0</td>\n",
              "      <td>0.054</td>\n",
              "      <td>0.946</td>\n",
              "      <td>Viserys II Targaryen</td>\n",
              "      <td>NaN</td>\n",
              "      <td>1</td>\n",
              "      <td>NaN</td>\n",
              "      <td>NaN</td>\n",
              "      <td>...</td>\n",
              "      <td>0.0</td>\n",
              "      <td>NaN</td>\n",
              "      <td>0</td>\n",
              "      <td>0</td>\n",
              "      <td>NaN</td>\n",
              "      <td>11</td>\n",
              "      <td>1</td>\n",
              "      <td>1</td>\n",
              "      <td>0.605351</td>\n",
              "      <td>0</td>\n",
              "    </tr>\n",
              "    <tr>\n",
              "      <th>1</th>\n",
              "      <td>2</td>\n",
              "      <td>1</td>\n",
              "      <td>0</td>\n",
              "      <td>0.387</td>\n",
              "      <td>0.613</td>\n",
              "      <td>Walder Frey</td>\n",
              "      <td>Lord of the Crossing</td>\n",
              "      <td>1</td>\n",
              "      <td>Rivermen</td>\n",
              "      <td>208.0</td>\n",
              "      <td>...</td>\n",
              "      <td>NaN</td>\n",
              "      <td>1.0</td>\n",
              "      <td>1</td>\n",
              "      <td>1</td>\n",
              "      <td>97.0</td>\n",
              "      <td>1</td>\n",
              "      <td>1</td>\n",
              "      <td>1</td>\n",
              "      <td>0.896321</td>\n",
              "      <td>1</td>\n",
              "    </tr>\n",
              "    <tr>\n",
              "      <th>2</th>\n",
              "      <td>3</td>\n",
              "      <td>1</td>\n",
              "      <td>0</td>\n",
              "      <td>0.493</td>\n",
              "      <td>0.507</td>\n",
              "      <td>Addison Hill</td>\n",
              "      <td>Ser</td>\n",
              "      <td>1</td>\n",
              "      <td>NaN</td>\n",
              "      <td>NaN</td>\n",
              "      <td>...</td>\n",
              "      <td>NaN</td>\n",
              "      <td>NaN</td>\n",
              "      <td>0</td>\n",
              "      <td>1</td>\n",
              "      <td>NaN</td>\n",
              "      <td>0</td>\n",
              "      <td>0</td>\n",
              "      <td>0</td>\n",
              "      <td>0.267559</td>\n",
              "      <td>1</td>\n",
              "    </tr>\n",
              "    <tr>\n",
              "      <th>3</th>\n",
              "      <td>4</td>\n",
              "      <td>0</td>\n",
              "      <td>0</td>\n",
              "      <td>0.076</td>\n",
              "      <td>0.924</td>\n",
              "      <td>Aemma Arryn</td>\n",
              "      <td>Queen</td>\n",
              "      <td>0</td>\n",
              "      <td>NaN</td>\n",
              "      <td>82.0</td>\n",
              "      <td>...</td>\n",
              "      <td>NaN</td>\n",
              "      <td>0.0</td>\n",
              "      <td>1</td>\n",
              "      <td>1</td>\n",
              "      <td>23.0</td>\n",
              "      <td>0</td>\n",
              "      <td>0</td>\n",
              "      <td>0</td>\n",
              "      <td>0.183946</td>\n",
              "      <td>0</td>\n",
              "    </tr>\n",
              "    <tr>\n",
              "      <th>4</th>\n",
              "      <td>5</td>\n",
              "      <td>1</td>\n",
              "      <td>1</td>\n",
              "      <td>0.617</td>\n",
              "      <td>0.383</td>\n",
              "      <td>Sylva Santagar</td>\n",
              "      <td>Greenstone</td>\n",
              "      <td>0</td>\n",
              "      <td>Dornish</td>\n",
              "      <td>276.0</td>\n",
              "      <td>...</td>\n",
              "      <td>NaN</td>\n",
              "      <td>1.0</td>\n",
              "      <td>1</td>\n",
              "      <td>1</td>\n",
              "      <td>29.0</td>\n",
              "      <td>0</td>\n",
              "      <td>0</td>\n",
              "      <td>0</td>\n",
              "      <td>0.043478</td>\n",
              "      <td>1</td>\n",
              "    </tr>\n",
              "  </tbody>\n",
              "</table>\n",
              "<p>5 rows × 33 columns</p>\n",
              "</div>"
            ]
          },
          "metadata": {
            "tags": []
          },
          "execution_count": 2
        }
      ]
    },
    {
      "cell_type": "code",
      "metadata": {
        "id": "tSDDMW2bjeIG",
        "outputId": "a2c35db8-4749-4f40-ce82-f47f816f1bd8",
        "colab": {
          "base_uri": "https://localhost:8080/"
        }
      },
      "source": [
        "df_raw.info()"
      ],
      "execution_count": 3,
      "outputs": [
        {
          "output_type": "stream",
          "text": [
            "<class 'pandas.core.frame.DataFrame'>\n",
            "RangeIndex: 1946 entries, 0 to 1945\n",
            "Data columns (total 33 columns):\n",
            "S.No                 1946 non-null int64\n",
            "actual               1946 non-null int64\n",
            "pred                 1946 non-null int64\n",
            "alive                1946 non-null float64\n",
            "plod                 1946 non-null float64\n",
            "name                 1946 non-null object\n",
            "title                938 non-null object\n",
            "male                 1946 non-null int64\n",
            "culture              677 non-null object\n",
            "dateOfBirth          433 non-null float64\n",
            "DateoFdeath          444 non-null float64\n",
            "mother               21 non-null object\n",
            "father               26 non-null object\n",
            "heir                 23 non-null object\n",
            "house                1519 non-null object\n",
            "spouse               276 non-null object\n",
            "book1                1946 non-null int64\n",
            "book2                1946 non-null int64\n",
            "book3                1946 non-null int64\n",
            "book4                1946 non-null int64\n",
            "book5                1946 non-null int64\n",
            "isAliveMother        21 non-null float64\n",
            "isAliveFather        26 non-null float64\n",
            "isAliveHeir          23 non-null float64\n",
            "isAliveSpouse        276 non-null float64\n",
            "isMarried            1946 non-null int64\n",
            "isNoble              1946 non-null int64\n",
            "age                  433 non-null float64\n",
            "numDeadRelations     1946 non-null int64\n",
            "boolDeadRelations    1946 non-null int64\n",
            "isPopular            1946 non-null int64\n",
            "popularity           1946 non-null float64\n",
            "isAlive              1946 non-null int64\n",
            "dtypes: float64(10), int64(15), object(8)\n",
            "memory usage: 501.8+ KB\n"
          ],
          "name": "stdout"
        }
      ]
    },
    {
      "cell_type": "code",
      "metadata": {
        "id": "oo-QY1apjgb3",
        "outputId": "51629666-94d7-460b-93d7-8d0dd829aea8",
        "colab": {
          "base_uri": "https://localhost:8080/",
          "height": 337
        }
      },
      "source": [
        "df_raw.describe()"
      ],
      "execution_count": 4,
      "outputs": [
        {
          "output_type": "execute_result",
          "data": {
            "text/plain": [
              "              S.No       actual         pred        alive         plod  \\\n",
              "count  1946.000000  1946.000000  1946.000000  1946.000000  1946.000000   \n",
              "mean    973.500000     0.745632     0.687050     0.634470     0.365530   \n",
              "std     561.906131     0.435617     0.463813     0.312637     0.312637   \n",
              "min       1.000000     0.000000     0.000000     0.000000     0.000000   \n",
              "25%     487.250000     0.000000     0.000000     0.391250     0.101000   \n",
              "50%     973.500000     1.000000     1.000000     0.735500     0.264500   \n",
              "75%    1459.750000     1.000000     1.000000     0.899000     0.608750   \n",
              "max    1946.000000     1.000000     1.000000     1.000000     1.000000   \n",
              "\n",
              "              male    dateOfBirth    DateoFdeath        book1        book2  \\\n",
              "count  1946.000000     433.000000     444.000000  1946.000000  1946.000000   \n",
              "mean      0.619219    1577.364896    2950.193694     0.198356     0.374615   \n",
              "std       0.485704   19565.414460   28192.245529     0.398864     0.484148   \n",
              "min       0.000000     -28.000000       0.000000     0.000000     0.000000   \n",
              "25%       0.000000     240.000000     282.000000     0.000000     0.000000   \n",
              "50%       1.000000     268.000000     299.000000     0.000000     0.000000   \n",
              "75%       1.000000     285.000000     299.000000     0.000000     1.000000   \n",
              "max       1.000000  298299.000000  298299.000000     1.000000     1.000000   \n",
              "\n",
              "       ...  isAliveHeir  isAliveSpouse    isMarried      isNoble  \\\n",
              "count  ...    23.000000     276.000000  1946.000000  1946.000000   \n",
              "mean   ...     0.652174       0.778986     0.141829     0.460946   \n",
              "std    ...     0.486985       0.415684     0.348965     0.498601   \n",
              "min    ...     0.000000       0.000000     0.000000     0.000000   \n",
              "25%    ...     0.000000       1.000000     0.000000     0.000000   \n",
              "50%    ...     1.000000       1.000000     0.000000     0.000000   \n",
              "75%    ...     1.000000       1.000000     0.000000     1.000000   \n",
              "max    ...     1.000000       1.000000     1.000000     1.000000   \n",
              "\n",
              "                 age  numDeadRelations  boolDeadRelations    isPopular  \\\n",
              "count     433.000000       1946.000000        1946.000000  1946.000000   \n",
              "mean    -1293.563510          0.305755           0.074512     0.059096   \n",
              "std     19564.340993          1.383910           0.262669     0.235864   \n",
              "min   -298001.000000          0.000000           0.000000     0.000000   \n",
              "25%        18.000000          0.000000           0.000000     0.000000   \n",
              "50%        27.000000          0.000000           0.000000     0.000000   \n",
              "75%        50.000000          0.000000           0.000000     0.000000   \n",
              "max       100.000000         15.000000           1.000000     1.000000   \n",
              "\n",
              "        popularity      isAlive  \n",
              "count  1946.000000  1946.000000  \n",
              "mean      0.089584     0.745632  \n",
              "std       0.160568     0.435617  \n",
              "min       0.000000     0.000000  \n",
              "25%       0.013378     0.000000  \n",
              "50%       0.033445     1.000000  \n",
              "75%       0.086957     1.000000  \n",
              "max       1.000000     1.000000  \n",
              "\n",
              "[8 rows x 25 columns]"
            ],
            "text/html": [
              "<div>\n",
              "<style scoped>\n",
              "    .dataframe tbody tr th:only-of-type {\n",
              "        vertical-align: middle;\n",
              "    }\n",
              "\n",
              "    .dataframe tbody tr th {\n",
              "        vertical-align: top;\n",
              "    }\n",
              "\n",
              "    .dataframe thead th {\n",
              "        text-align: right;\n",
              "    }\n",
              "</style>\n",
              "<table border=\"1\" class=\"dataframe\">\n",
              "  <thead>\n",
              "    <tr style=\"text-align: right;\">\n",
              "      <th></th>\n",
              "      <th>S.No</th>\n",
              "      <th>actual</th>\n",
              "      <th>pred</th>\n",
              "      <th>alive</th>\n",
              "      <th>plod</th>\n",
              "      <th>male</th>\n",
              "      <th>dateOfBirth</th>\n",
              "      <th>DateoFdeath</th>\n",
              "      <th>book1</th>\n",
              "      <th>book2</th>\n",
              "      <th>...</th>\n",
              "      <th>isAliveHeir</th>\n",
              "      <th>isAliveSpouse</th>\n",
              "      <th>isMarried</th>\n",
              "      <th>isNoble</th>\n",
              "      <th>age</th>\n",
              "      <th>numDeadRelations</th>\n",
              "      <th>boolDeadRelations</th>\n",
              "      <th>isPopular</th>\n",
              "      <th>popularity</th>\n",
              "      <th>isAlive</th>\n",
              "    </tr>\n",
              "  </thead>\n",
              "  <tbody>\n",
              "    <tr>\n",
              "      <th>count</th>\n",
              "      <td>1946.000000</td>\n",
              "      <td>1946.000000</td>\n",
              "      <td>1946.000000</td>\n",
              "      <td>1946.000000</td>\n",
              "      <td>1946.000000</td>\n",
              "      <td>1946.000000</td>\n",
              "      <td>433.000000</td>\n",
              "      <td>444.000000</td>\n",
              "      <td>1946.000000</td>\n",
              "      <td>1946.000000</td>\n",
              "      <td>...</td>\n",
              "      <td>23.000000</td>\n",
              "      <td>276.000000</td>\n",
              "      <td>1946.000000</td>\n",
              "      <td>1946.000000</td>\n",
              "      <td>433.000000</td>\n",
              "      <td>1946.000000</td>\n",
              "      <td>1946.000000</td>\n",
              "      <td>1946.000000</td>\n",
              "      <td>1946.000000</td>\n",
              "      <td>1946.000000</td>\n",
              "    </tr>\n",
              "    <tr>\n",
              "      <th>mean</th>\n",
              "      <td>973.500000</td>\n",
              "      <td>0.745632</td>\n",
              "      <td>0.687050</td>\n",
              "      <td>0.634470</td>\n",
              "      <td>0.365530</td>\n",
              "      <td>0.619219</td>\n",
              "      <td>1577.364896</td>\n",
              "      <td>2950.193694</td>\n",
              "      <td>0.198356</td>\n",
              "      <td>0.374615</td>\n",
              "      <td>...</td>\n",
              "      <td>0.652174</td>\n",
              "      <td>0.778986</td>\n",
              "      <td>0.141829</td>\n",
              "      <td>0.460946</td>\n",
              "      <td>-1293.563510</td>\n",
              "      <td>0.305755</td>\n",
              "      <td>0.074512</td>\n",
              "      <td>0.059096</td>\n",
              "      <td>0.089584</td>\n",
              "      <td>0.745632</td>\n",
              "    </tr>\n",
              "    <tr>\n",
              "      <th>std</th>\n",
              "      <td>561.906131</td>\n",
              "      <td>0.435617</td>\n",
              "      <td>0.463813</td>\n",
              "      <td>0.312637</td>\n",
              "      <td>0.312637</td>\n",
              "      <td>0.485704</td>\n",
              "      <td>19565.414460</td>\n",
              "      <td>28192.245529</td>\n",
              "      <td>0.398864</td>\n",
              "      <td>0.484148</td>\n",
              "      <td>...</td>\n",
              "      <td>0.486985</td>\n",
              "      <td>0.415684</td>\n",
              "      <td>0.348965</td>\n",
              "      <td>0.498601</td>\n",
              "      <td>19564.340993</td>\n",
              "      <td>1.383910</td>\n",
              "      <td>0.262669</td>\n",
              "      <td>0.235864</td>\n",
              "      <td>0.160568</td>\n",
              "      <td>0.435617</td>\n",
              "    </tr>\n",
              "    <tr>\n",
              "      <th>min</th>\n",
              "      <td>1.000000</td>\n",
              "      <td>0.000000</td>\n",
              "      <td>0.000000</td>\n",
              "      <td>0.000000</td>\n",
              "      <td>0.000000</td>\n",
              "      <td>0.000000</td>\n",
              "      <td>-28.000000</td>\n",
              "      <td>0.000000</td>\n",
              "      <td>0.000000</td>\n",
              "      <td>0.000000</td>\n",
              "      <td>...</td>\n",
              "      <td>0.000000</td>\n",
              "      <td>0.000000</td>\n",
              "      <td>0.000000</td>\n",
              "      <td>0.000000</td>\n",
              "      <td>-298001.000000</td>\n",
              "      <td>0.000000</td>\n",
              "      <td>0.000000</td>\n",
              "      <td>0.000000</td>\n",
              "      <td>0.000000</td>\n",
              "      <td>0.000000</td>\n",
              "    </tr>\n",
              "    <tr>\n",
              "      <th>25%</th>\n",
              "      <td>487.250000</td>\n",
              "      <td>0.000000</td>\n",
              "      <td>0.000000</td>\n",
              "      <td>0.391250</td>\n",
              "      <td>0.101000</td>\n",
              "      <td>0.000000</td>\n",
              "      <td>240.000000</td>\n",
              "      <td>282.000000</td>\n",
              "      <td>0.000000</td>\n",
              "      <td>0.000000</td>\n",
              "      <td>...</td>\n",
              "      <td>0.000000</td>\n",
              "      <td>1.000000</td>\n",
              "      <td>0.000000</td>\n",
              "      <td>0.000000</td>\n",
              "      <td>18.000000</td>\n",
              "      <td>0.000000</td>\n",
              "      <td>0.000000</td>\n",
              "      <td>0.000000</td>\n",
              "      <td>0.013378</td>\n",
              "      <td>0.000000</td>\n",
              "    </tr>\n",
              "    <tr>\n",
              "      <th>50%</th>\n",
              "      <td>973.500000</td>\n",
              "      <td>1.000000</td>\n",
              "      <td>1.000000</td>\n",
              "      <td>0.735500</td>\n",
              "      <td>0.264500</td>\n",
              "      <td>1.000000</td>\n",
              "      <td>268.000000</td>\n",
              "      <td>299.000000</td>\n",
              "      <td>0.000000</td>\n",
              "      <td>0.000000</td>\n",
              "      <td>...</td>\n",
              "      <td>1.000000</td>\n",
              "      <td>1.000000</td>\n",
              "      <td>0.000000</td>\n",
              "      <td>0.000000</td>\n",
              "      <td>27.000000</td>\n",
              "      <td>0.000000</td>\n",
              "      <td>0.000000</td>\n",
              "      <td>0.000000</td>\n",
              "      <td>0.033445</td>\n",
              "      <td>1.000000</td>\n",
              "    </tr>\n",
              "    <tr>\n",
              "      <th>75%</th>\n",
              "      <td>1459.750000</td>\n",
              "      <td>1.000000</td>\n",
              "      <td>1.000000</td>\n",
              "      <td>0.899000</td>\n",
              "      <td>0.608750</td>\n",
              "      <td>1.000000</td>\n",
              "      <td>285.000000</td>\n",
              "      <td>299.000000</td>\n",
              "      <td>0.000000</td>\n",
              "      <td>1.000000</td>\n",
              "      <td>...</td>\n",
              "      <td>1.000000</td>\n",
              "      <td>1.000000</td>\n",
              "      <td>0.000000</td>\n",
              "      <td>1.000000</td>\n",
              "      <td>50.000000</td>\n",
              "      <td>0.000000</td>\n",
              "      <td>0.000000</td>\n",
              "      <td>0.000000</td>\n",
              "      <td>0.086957</td>\n",
              "      <td>1.000000</td>\n",
              "    </tr>\n",
              "    <tr>\n",
              "      <th>max</th>\n",
              "      <td>1946.000000</td>\n",
              "      <td>1.000000</td>\n",
              "      <td>1.000000</td>\n",
              "      <td>1.000000</td>\n",
              "      <td>1.000000</td>\n",
              "      <td>1.000000</td>\n",
              "      <td>298299.000000</td>\n",
              "      <td>298299.000000</td>\n",
              "      <td>1.000000</td>\n",
              "      <td>1.000000</td>\n",
              "      <td>...</td>\n",
              "      <td>1.000000</td>\n",
              "      <td>1.000000</td>\n",
              "      <td>1.000000</td>\n",
              "      <td>1.000000</td>\n",
              "      <td>100.000000</td>\n",
              "      <td>15.000000</td>\n",
              "      <td>1.000000</td>\n",
              "      <td>1.000000</td>\n",
              "      <td>1.000000</td>\n",
              "      <td>1.000000</td>\n",
              "    </tr>\n",
              "  </tbody>\n",
              "</table>\n",
              "<p>8 rows × 25 columns</p>\n",
              "</div>"
            ]
          },
          "metadata": {
            "tags": []
          },
          "execution_count": 4
        }
      ]
    },
    {
      "cell_type": "code",
      "metadata": {
        "id": "lYIGQtDTq0ZO",
        "outputId": "916a1217-4271-48ef-9742-1a7067ddb2d4",
        "colab": {
          "base_uri": "https://localhost:8080/"
        }
      },
      "source": [
        "# check number of rows and columns\n",
        "df_raw.shape"
      ],
      "execution_count": 5,
      "outputs": [
        {
          "output_type": "execute_result",
          "data": {
            "text/plain": [
              "(1946, 33)"
            ]
          },
          "metadata": {
            "tags": []
          },
          "execution_count": 5
        }
      ]
    },
    {
      "cell_type": "markdown",
      "metadata": {
        "id": "TnrFonSJX_sm"
      },
      "source": [
        "Let's work on a subset of the data with characters from the 9 major houses and the Night's Watch. The 9 major houses are: Stark, Arryn, Baratheon, Tully, Greyjoy, Lannister, Tyrell, Martell and Targaryen. "
      ]
    },
    {
      "cell_type": "code",
      "metadata": {
        "id": "JENrVSNJjuR_",
        "outputId": "b0ad09ef-41e0-425f-b0bd-3554225d5364",
        "colab": {
          "base_uri": "https://localhost:8080/"
        }
      },
      "source": [
        "# Create a list of the 9 major houses + Night's Watch\n",
        "major_houses = ['House Stark', 'House Arryn', 'House Baratheon', 'House Tully',\n",
        "       'House Greyjoy', 'House Lannister', 'House Tyrell', 'House Martell', \n",
        "       'House Targaryen', \"Night's Watch\"]\n",
        "\n",
        "# Create a dataframe by selecting rows matching major houses\n",
        "df = df_raw[df_raw['house'].isin (major_houses)]\n",
        "df.house.unique()"
      ],
      "execution_count": 6,
      "outputs": [
        {
          "output_type": "execute_result",
          "data": {
            "text/plain": [
              "array(['House Arryn', 'House Targaryen', \"Night's Watch\", 'House Greyjoy',\n",
              "       'House Stark', 'House Tyrell', 'House Lannister', 'House Martell',\n",
              "       'House Baratheon', 'House Tully'], dtype=object)"
            ]
          },
          "metadata": {
            "tags": []
          },
          "execution_count": 6
        }
      ]
    },
    {
      "cell_type": "code",
      "metadata": {
        "id": "0_VReQEYhI4P",
        "outputId": "307688c6-288e-4101-e56f-79f5235ff612",
        "colab": {
          "base_uri": "https://localhost:8080/"
        }
      },
      "source": [
        "df.shape"
      ],
      "execution_count": 7,
      "outputs": [
        {
          "output_type": "execute_result",
          "data": {
            "text/plain": [
              "(435, 33)"
            ]
          },
          "metadata": {
            "tags": []
          },
          "execution_count": 7
        }
      ]
    },
    {
      "cell_type": "code",
      "metadata": {
        "id": "3wvVy-wzhegv",
        "outputId": "6b2154d1-72a9-4800-ed8e-1d79bc54c5f1",
        "colab": {
          "base_uri": "https://localhost:8080/"
        }
      },
      "source": [
        "df.columns"
      ],
      "execution_count": 8,
      "outputs": [
        {
          "output_type": "execute_result",
          "data": {
            "text/plain": [
              "Index([u'S.No', u'actual', u'pred', u'alive', u'plod', u'name', u'title',\n",
              "       u'male', u'culture', u'dateOfBirth', u'DateoFdeath', u'mother',\n",
              "       u'father', u'heir', u'house', u'spouse', u'book1', u'book2', u'book3',\n",
              "       u'book4', u'book5', u'isAliveMother', u'isAliveFather', u'isAliveHeir',\n",
              "       u'isAliveSpouse', u'isMarried', u'isNoble', u'age', u'numDeadRelations',\n",
              "       u'boolDeadRelations', u'isPopular', u'popularity', u'isAlive'],\n",
              "      dtype='object')"
            ]
          },
          "metadata": {
            "tags": []
          },
          "execution_count": 8
        }
      ]
    },
    {
      "cell_type": "markdown",
      "metadata": {
        "id": "M1nvZT26XpPG"
      },
      "source": [
        "Get rid of prediction scores from source data. We're going to make our own predictions! "
      ]
    },
    {
      "cell_type": "code",
      "metadata": {
        "id": "1aXdq9yp0MkS",
        "outputId": "b415d067-0739-4d49-cbd0-c68d25d8aa1d",
        "colab": {
          "base_uri": "https://localhost:8080/"
        }
      },
      "source": [
        "df.drop(['actual','pred','alive', 'plod'],axis=1,inplace=True)"
      ],
      "execution_count": 9,
      "outputs": [
        {
          "output_type": "stream",
          "text": [
            "/usr/local/lib/python2.7/dist-packages/pandas/core/frame.py:3940: SettingWithCopyWarning: \n",
            "A value is trying to be set on a copy of a slice from a DataFrame\n",
            "\n",
            "See the caveats in the documentation: http://pandas.pydata.org/pandas-docs/stable/indexing.html#indexing-view-versus-copy\n",
            "  errors=errors)\n"
          ],
          "name": "stderr"
        }
      ]
    },
    {
      "cell_type": "markdown",
      "metadata": {
        "id": "KK-Km1XKIeER"
      },
      "source": [
        "Also drop columns that won't be relevant for our analysis and are duplicative of other calculated columns. A mother, father, spouse or heir's name occurs too infrequently to be useful for prediction of survival. These are also duplicative of the columns that apply more generally: isAliveMother, isAliveFather, isAliveHier, isAliveSpouse. We have columns for age, whether a person is noble or not and house, so we can drop the columns: exact date of birth/death, culture & title.\n",
        "\n",
        "We'll explore numDeadRelations & popularity. "
      ]
    },
    {
      "cell_type": "code",
      "metadata": {
        "id": "e2QxFXuhW-ZP",
        "outputId": "a96fcbe6-cdd4-41f7-e95f-87dd66e1fd86",
        "colab": {
          "base_uri": "https://localhost:8080/"
        }
      },
      "source": [
        "df = df.drop(['title', 'dateOfBirth', 'DateoFdeath', 'mother', 'father', 'heir', 'spouse'], axis=1)\n",
        "df.columns"
      ],
      "execution_count": 10,
      "outputs": [
        {
          "output_type": "execute_result",
          "data": {
            "text/plain": [
              "Index([u'S.No', u'name', u'male', u'culture', u'house', u'book1', u'book2',\n",
              "       u'book3', u'book4', u'book5', u'isAliveMother', u'isAliveFather',\n",
              "       u'isAliveHeir', u'isAliveSpouse', u'isMarried', u'isNoble', u'age',\n",
              "       u'numDeadRelations', u'boolDeadRelations', u'isPopular', u'popularity',\n",
              "       u'isAlive'],\n",
              "      dtype='object')"
            ]
          },
          "metadata": {
            "tags": []
          },
          "execution_count": 10
        }
      ]
    },
    {
      "cell_type": "markdown",
      "metadata": {
        "id": "bCmoRqZWDDH7"
      },
      "source": [
        "### **CHECK FOR MISSING VALUES & OUTLIERS**\n",
        "Let's explore the data to look for null values & outliers."
      ]
    },
    {
      "cell_type": "code",
      "metadata": {
        "id": "YtDgw-B5C92-",
        "outputId": "cc17dcc7-5772-486d-b759-161f566875e6",
        "colab": {
          "base_uri": "https://localhost:8080/"
        }
      },
      "source": [
        "# Check the total number of missing values in each column\n",
        "df.isnull().sum()"
      ],
      "execution_count": 11,
      "outputs": [
        {
          "output_type": "execute_result",
          "data": {
            "text/plain": [
              "S.No                   0\n",
              "name                   0\n",
              "male                   0\n",
              "culture              252\n",
              "house                  0\n",
              "book1                  0\n",
              "book2                  0\n",
              "book3                  0\n",
              "book4                  0\n",
              "book5                  0\n",
              "isAliveMother        435\n",
              "isAliveFather        435\n",
              "isAliveHeir          435\n",
              "isAliveSpouse        351\n",
              "isMarried              0\n",
              "isNoble                0\n",
              "age                  304\n",
              "numDeadRelations       0\n",
              "boolDeadRelations      0\n",
              "isPopular              0\n",
              "popularity             0\n",
              "isAlive                0\n",
              "dtype: int64"
            ]
          },
          "metadata": {
            "tags": []
          },
          "execution_count": 11
        }
      ]
    },
    {
      "cell_type": "code",
      "metadata": {
        "id": "CNknEEavDs-E",
        "outputId": "7c8bbd70-d942-4a31-9c70-812100b000e5",
        "colab": {
          "base_uri": "https://localhost:8080/"
        }
      },
      "source": [
        "# columns with at least one NaN\n",
        "df.columns[df.isnull().sum() > 0]"
      ],
      "execution_count": 12,
      "outputs": [
        {
          "output_type": "execute_result",
          "data": {
            "text/plain": [
              "Index([u'culture', u'isAliveMother', u'isAliveFather', u'isAliveHeir',\n",
              "       u'isAliveSpouse', u'age'],\n",
              "      dtype='object')"
            ]
          },
          "metadata": {
            "tags": []
          },
          "execution_count": 12
        }
      ]
    },
    {
      "cell_type": "markdown",
      "metadata": {
        "id": "4v5Il_6RxIhN"
      },
      "source": [
        "Let's take a closer look at the outliers in this age column. From df.describe() we saw the average age is -4359.244275, minimum age -298001 and max age 100. Let's find out which characters are negative ages, then clean up this column by getting rid of the negative values and outliers. "
      ]
    },
    {
      "cell_type": "code",
      "metadata": {
        "id": "MsXeiRyNygIs",
        "outputId": "03c37258-c688-4917-a357-f3c2f3fbdd08",
        "colab": {
          "base_uri": "https://localhost:8080/",
          "height": 355
        }
      },
      "source": [
        "df.loc[(df.age <= 0)]"
      ],
      "execution_count": 13,
      "outputs": [
        {
          "output_type": "execute_result",
          "data": {
            "text/plain": [
              "      S.No                                 name  male   culture  \\\n",
              "329    330  Baelon Targaryen (son of Viserys I)     1  Valyrian   \n",
              "790    791      Mors Martell (brother of Doran)     1       NaN   \n",
              "1684  1685                               Doreah     0    Lysene   \n",
              "1868  1869                               Rhaego     0       NaN   \n",
              "\n",
              "                house  book1  book2  book3  book4  book5  ...  isAliveHeir  \\\n",
              "329   House Targaryen      0      0      0      0      0  ...          NaN   \n",
              "790     House Martell      0      0      0      1      0  ...          NaN   \n",
              "1684  House Targaryen      1      1      0      0      1  ...          NaN   \n",
              "1868  House Targaryen      1      1      1      1      0  ...          NaN   \n",
              "\n",
              "      isAliveSpouse  isMarried  isNoble       age  numDeadRelations  \\\n",
              "329             NaN          0        1       0.0                 0   \n",
              "790             NaN          0        0       0.0                 0   \n",
              "1684            NaN          0        0 -277980.0                 0   \n",
              "1868            NaN          0        0 -298001.0                 6   \n",
              "\n",
              "      boolDeadRelations  isPopular  popularity  isAlive  \n",
              "329                   0          0    0.100334        0  \n",
              "790                   0          0    0.066890        0  \n",
              "1684                  0          0    0.110368        0  \n",
              "1868                  1          0    0.167224        0  \n",
              "\n",
              "[4 rows x 22 columns]"
            ],
            "text/html": [
              "<div>\n",
              "<style scoped>\n",
              "    .dataframe tbody tr th:only-of-type {\n",
              "        vertical-align: middle;\n",
              "    }\n",
              "\n",
              "    .dataframe tbody tr th {\n",
              "        vertical-align: top;\n",
              "    }\n",
              "\n",
              "    .dataframe thead th {\n",
              "        text-align: right;\n",
              "    }\n",
              "</style>\n",
              "<table border=\"1\" class=\"dataframe\">\n",
              "  <thead>\n",
              "    <tr style=\"text-align: right;\">\n",
              "      <th></th>\n",
              "      <th>S.No</th>\n",
              "      <th>name</th>\n",
              "      <th>male</th>\n",
              "      <th>culture</th>\n",
              "      <th>house</th>\n",
              "      <th>book1</th>\n",
              "      <th>book2</th>\n",
              "      <th>book3</th>\n",
              "      <th>book4</th>\n",
              "      <th>book5</th>\n",
              "      <th>...</th>\n",
              "      <th>isAliveHeir</th>\n",
              "      <th>isAliveSpouse</th>\n",
              "      <th>isMarried</th>\n",
              "      <th>isNoble</th>\n",
              "      <th>age</th>\n",
              "      <th>numDeadRelations</th>\n",
              "      <th>boolDeadRelations</th>\n",
              "      <th>isPopular</th>\n",
              "      <th>popularity</th>\n",
              "      <th>isAlive</th>\n",
              "    </tr>\n",
              "  </thead>\n",
              "  <tbody>\n",
              "    <tr>\n",
              "      <th>329</th>\n",
              "      <td>330</td>\n",
              "      <td>Baelon Targaryen (son of Viserys I)</td>\n",
              "      <td>1</td>\n",
              "      <td>Valyrian</td>\n",
              "      <td>House Targaryen</td>\n",
              "      <td>0</td>\n",
              "      <td>0</td>\n",
              "      <td>0</td>\n",
              "      <td>0</td>\n",
              "      <td>0</td>\n",
              "      <td>...</td>\n",
              "      <td>NaN</td>\n",
              "      <td>NaN</td>\n",
              "      <td>0</td>\n",
              "      <td>1</td>\n",
              "      <td>0.0</td>\n",
              "      <td>0</td>\n",
              "      <td>0</td>\n",
              "      <td>0</td>\n",
              "      <td>0.100334</td>\n",
              "      <td>0</td>\n",
              "    </tr>\n",
              "    <tr>\n",
              "      <th>790</th>\n",
              "      <td>791</td>\n",
              "      <td>Mors Martell (brother of Doran)</td>\n",
              "      <td>1</td>\n",
              "      <td>NaN</td>\n",
              "      <td>House Martell</td>\n",
              "      <td>0</td>\n",
              "      <td>0</td>\n",
              "      <td>0</td>\n",
              "      <td>1</td>\n",
              "      <td>0</td>\n",
              "      <td>...</td>\n",
              "      <td>NaN</td>\n",
              "      <td>NaN</td>\n",
              "      <td>0</td>\n",
              "      <td>0</td>\n",
              "      <td>0.0</td>\n",
              "      <td>0</td>\n",
              "      <td>0</td>\n",
              "      <td>0</td>\n",
              "      <td>0.066890</td>\n",
              "      <td>0</td>\n",
              "    </tr>\n",
              "    <tr>\n",
              "      <th>1684</th>\n",
              "      <td>1685</td>\n",
              "      <td>Doreah</td>\n",
              "      <td>0</td>\n",
              "      <td>Lysene</td>\n",
              "      <td>House Targaryen</td>\n",
              "      <td>1</td>\n",
              "      <td>1</td>\n",
              "      <td>0</td>\n",
              "      <td>0</td>\n",
              "      <td>1</td>\n",
              "      <td>...</td>\n",
              "      <td>NaN</td>\n",
              "      <td>NaN</td>\n",
              "      <td>0</td>\n",
              "      <td>0</td>\n",
              "      <td>-277980.0</td>\n",
              "      <td>0</td>\n",
              "      <td>0</td>\n",
              "      <td>0</td>\n",
              "      <td>0.110368</td>\n",
              "      <td>0</td>\n",
              "    </tr>\n",
              "    <tr>\n",
              "      <th>1868</th>\n",
              "      <td>1869</td>\n",
              "      <td>Rhaego</td>\n",
              "      <td>0</td>\n",
              "      <td>NaN</td>\n",
              "      <td>House Targaryen</td>\n",
              "      <td>1</td>\n",
              "      <td>1</td>\n",
              "      <td>1</td>\n",
              "      <td>1</td>\n",
              "      <td>0</td>\n",
              "      <td>...</td>\n",
              "      <td>NaN</td>\n",
              "      <td>NaN</td>\n",
              "      <td>0</td>\n",
              "      <td>0</td>\n",
              "      <td>-298001.0</td>\n",
              "      <td>6</td>\n",
              "      <td>1</td>\n",
              "      <td>0</td>\n",
              "      <td>0.167224</td>\n",
              "      <td>0</td>\n",
              "    </tr>\n",
              "  </tbody>\n",
              "</table>\n",
              "<p>4 rows × 22 columns</p>\n",
              "</div>"
            ]
          },
          "metadata": {
            "tags": []
          },
          "execution_count": 13
        }
      ]
    },
    {
      "cell_type": "markdown",
      "metadata": {
        "id": "w_ZXuhUU1kgW"
      },
      "source": [
        "After doing a little investigative work on these characters we find\n",
        "*   Baelon's age should be 44, not 0\n",
        "*   Doreah was a handmaiden of Daenerys Targaryen who is 25 yrs.\n",
        "*   Rhaego was the stillborn son of Drogo and Daenerys Targaryen, so 0 yrs makes sense. \n",
        "*   Mors Nymeros Martell, brother of Prince Doran Martell died as an infant so 0 yrs also makes sense.\n"
      ]
    },
    {
      "cell_type": "code",
      "metadata": {
        "id": "5hhbfWn_5UCF"
      },
      "source": [
        "# fix Doreah's age\n",
        "df['age'].replace([-277980.0], 25, inplace=True)"
      ],
      "execution_count": 15,
      "outputs": []
    },
    {
      "cell_type": "code",
      "metadata": {
        "id": "gYwZ3vV1K1Xy"
      },
      "source": [
        "# fix Rhaego's age\n",
        "df['age'].replace([-298001.0], 0, inplace=True)"
      ],
      "execution_count": 16,
      "outputs": []
    },
    {
      "cell_type": "code",
      "metadata": {
        "id": "kCf57r4gAg8Y"
      },
      "source": [
        "# fix Baelons age\n",
        "df.loc[(df['name'] == 'Baelon Targaryen (son of Viserys I)'), 'age'] = 25 "
      ],
      "execution_count": 17,
      "outputs": []
    },
    {
      "cell_type": "code",
      "metadata": {
        "id": "nUgb-TYx8QB4"
      },
      "source": [
        ""
      ],
      "execution_count": null,
      "outputs": []
    },
    {
      "cell_type": "code",
      "metadata": {
        "id": "m1pqT3vl6Cax",
        "outputId": "65876f0e-281e-43f5-c981-d59ad5599746",
        "colab": {
          "base_uri": "https://localhost:8080/",
          "height": 97
        }
      },
      "source": [
        "# Sanity check this took care of all the negative ages\n",
        "df.loc[(df.age < 0)]"
      ],
      "execution_count": 18,
      "outputs": [
        {
          "output_type": "execute_result",
          "data": {
            "text/plain": [
              "Empty DataFrame\n",
              "Columns: [S.No, name, male, culture, house, book1, book2, book3, book4, book5, isAliveMother, isAliveFather, isAliveHeir, isAliveSpouse, isMarried, isNoble, age, numDeadRelations, boolDeadRelations, isPopular, popularity, isAlive]\n",
              "Index: []\n",
              "\n",
              "[0 rows x 22 columns]"
            ],
            "text/html": [
              "<div>\n",
              "<style scoped>\n",
              "    .dataframe tbody tr th:only-of-type {\n",
              "        vertical-align: middle;\n",
              "    }\n",
              "\n",
              "    .dataframe tbody tr th {\n",
              "        vertical-align: top;\n",
              "    }\n",
              "\n",
              "    .dataframe thead th {\n",
              "        text-align: right;\n",
              "    }\n",
              "</style>\n",
              "<table border=\"1\" class=\"dataframe\">\n",
              "  <thead>\n",
              "    <tr style=\"text-align: right;\">\n",
              "      <th></th>\n",
              "      <th>S.No</th>\n",
              "      <th>name</th>\n",
              "      <th>male</th>\n",
              "      <th>culture</th>\n",
              "      <th>house</th>\n",
              "      <th>book1</th>\n",
              "      <th>book2</th>\n",
              "      <th>book3</th>\n",
              "      <th>book4</th>\n",
              "      <th>book5</th>\n",
              "      <th>...</th>\n",
              "      <th>isAliveHeir</th>\n",
              "      <th>isAliveSpouse</th>\n",
              "      <th>isMarried</th>\n",
              "      <th>isNoble</th>\n",
              "      <th>age</th>\n",
              "      <th>numDeadRelations</th>\n",
              "      <th>boolDeadRelations</th>\n",
              "      <th>isPopular</th>\n",
              "      <th>popularity</th>\n",
              "      <th>isAlive</th>\n",
              "    </tr>\n",
              "  </thead>\n",
              "  <tbody>\n",
              "  </tbody>\n",
              "</table>\n",
              "<p>0 rows × 22 columns</p>\n",
              "</div>"
            ]
          },
          "metadata": {
            "tags": []
          },
          "execution_count": 18
        }
      ]
    },
    {
      "cell_type": "code",
      "metadata": {
        "id": "MyvEfumtwY6l",
        "outputId": "5b8a6309-750c-4ab2-9bd5-23f6fc581236",
        "colab": {
          "base_uri": "https://localhost:8080/"
        }
      },
      "source": [
        "df['age'].value_counts()"
      ],
      "execution_count": 19,
      "outputs": [
        {
          "output_type": "execute_result",
          "data": {
            "text/plain": [
              "100.0    11\n",
              "22.0      7\n",
              "39.0      5\n",
              "19.0      5\n",
              "20.0      5\n",
              "25.0      5\n",
              "17.0      4\n",
              "24.0      4\n",
              "49.0      3\n",
              "36.0      3\n",
              "14.0      3\n",
              "32.0      3\n",
              "34.0      3\n",
              "21.0      3\n",
              "55.0      3\n",
              "18.0      3\n",
              "35.0      3\n",
              "13.0      2\n",
              "28.0      2\n",
              "15.0      2\n",
              "16.0      2\n",
              "31.0      2\n",
              "23.0      2\n",
              "10.0      2\n",
              "0.0       2\n",
              "38.0      2\n",
              "37.0      2\n",
              "56.0      2\n",
              "3.0       2\n",
              "29.0      2\n",
              "         ..\n",
              "59.0      1\n",
              "26.0      1\n",
              "61.0      1\n",
              "70.0      1\n",
              "6.0       1\n",
              "2.0       1\n",
              "47.0      1\n",
              "79.0      1\n",
              "63.0      1\n",
              "76.0      1\n",
              "65.0      1\n",
              "72.0      1\n",
              "52.0      1\n",
              "58.0      1\n",
              "27.0      1\n",
              "81.0      1\n",
              "62.0      1\n",
              "66.0      1\n",
              "77.0      1\n",
              "45.0      1\n",
              "30.0      1\n",
              "48.0      1\n",
              "84.0      1\n",
              "43.0      1\n",
              "41.0      1\n",
              "12.0      1\n",
              "1.0       1\n",
              "54.0      1\n",
              "9.0       1\n",
              "46.0      1\n",
              "Name: age, Length: 62, dtype: int64"
            ]
          },
          "metadata": {
            "tags": []
          },
          "execution_count": 19
        }
      ]
    },
    {
      "cell_type": "code",
      "metadata": {
        "id": "e0_18T9E4ZHE",
        "outputId": "4543cfc9-f2b1-4bb9-a426-57876039d714",
        "colab": {
          "base_uri": "https://localhost:8080/",
          "height": 876
        }
      },
      "source": [
        "# 11 people exactly 100 yrs old seems odd for Westeros. Who are these characters?\n",
        "df.loc[(df.age == 100)]"
      ],
      "execution_count": 22,
      "outputs": [
        {
          "output_type": "execute_result",
          "data": {
            "text/plain": [
              "      S.No                                       name  male   culture  \\\n",
              "55      56                           Naerys Targaryen     0  Valyrian   \n",
              "85      86      Rhaena Targaryen (daughter of Daemon)     0       NaN   \n",
              "86      87   Rhaena Targaryen (daughter of Aegon III)     0  Valyrian   \n",
              "285    286       Aegon Targaryen (son of Jaehaerys I)     0  Valyrian   \n",
              "430    431    Daella Targaryen (daughter of Maekar I)     1  Valyrian   \n",
              "431    432  Daenerys Targaryen (daughter of Aegon IV)     0       NaN   \n",
              "433    434                            Daena Targaryen     0  Valyrian   \n",
              "1347  1348                            Saera Targaryen     1  Valyrian   \n",
              "1815  1816                             Shiera Seastar     0  Westeros   \n",
              "1880  1881                             Rhae Targaryen     0  Valyrian   \n",
              "1901  1902                            Baela Targaryen     0  Valyrian   \n",
              "\n",
              "                house  book1  book2  book3  book4  book5  ...  isAliveHeir  \\\n",
              "55    House Targaryen      1      0      0      0      0  ...          NaN   \n",
              "85    House Targaryen      0      0      0      0      0  ...          NaN   \n",
              "86    House Targaryen      0      0      0      0      0  ...          NaN   \n",
              "285   House Targaryen      0      0      0      0      0  ...          NaN   \n",
              "430   House Targaryen      0      0      0      0      0  ...          NaN   \n",
              "431   House Targaryen      0      0      0      0      1  ...          NaN   \n",
              "433   House Targaryen      0      0      0      0      0  ...          NaN   \n",
              "1347  House Targaryen      0      0      0      0      0  ...          NaN   \n",
              "1815  House Targaryen      0      0      0      0      1  ...          NaN   \n",
              "1880  House Targaryen      0      0      0      0      0  ...          NaN   \n",
              "1901  House Targaryen      0      0      0      0      0  ...          NaN   \n",
              "\n",
              "      isAliveSpouse  isMarried  isNoble    age  numDeadRelations  \\\n",
              "55              0.0          1        1  100.0                12   \n",
              "85              1.0          1        1  100.0                 0   \n",
              "86              NaN          0        1  100.0                 0   \n",
              "285             NaN          0        1  100.0                 0   \n",
              "430             NaN          0        1  100.0                 0   \n",
              "431             1.0          1        1  100.0                10   \n",
              "433             0.0          1        1  100.0                 7   \n",
              "1347            NaN          0        1  100.0                 0   \n",
              "1815            NaN          0        0  100.0                 4   \n",
              "1880            NaN          0        1  100.0                 0   \n",
              "1901            0.0          1        1  100.0                 0   \n",
              "\n",
              "      boolDeadRelations  isPopular  popularity  isAlive  \n",
              "55                    1          0    0.220736        0  \n",
              "85                    0          0    0.143813        0  \n",
              "86                    0          0    0.073579        0  \n",
              "285                   0          0    0.000000        0  \n",
              "430                   0          0    0.080268        0  \n",
              "431                   1          0    0.093645        0  \n",
              "433                   1          0    0.227425        0  \n",
              "1347                  0          0    0.070234        0  \n",
              "1815                  1          0    0.043478        0  \n",
              "1880                  0          0    0.080268        0  \n",
              "1901                  0          0    0.127090        0  \n",
              "\n",
              "[11 rows x 22 columns]"
            ],
            "text/html": [
              "<div>\n",
              "<style scoped>\n",
              "    .dataframe tbody tr th:only-of-type {\n",
              "        vertical-align: middle;\n",
              "    }\n",
              "\n",
              "    .dataframe tbody tr th {\n",
              "        vertical-align: top;\n",
              "    }\n",
              "\n",
              "    .dataframe thead th {\n",
              "        text-align: right;\n",
              "    }\n",
              "</style>\n",
              "<table border=\"1\" class=\"dataframe\">\n",
              "  <thead>\n",
              "    <tr style=\"text-align: right;\">\n",
              "      <th></th>\n",
              "      <th>S.No</th>\n",
              "      <th>name</th>\n",
              "      <th>male</th>\n",
              "      <th>culture</th>\n",
              "      <th>house</th>\n",
              "      <th>book1</th>\n",
              "      <th>book2</th>\n",
              "      <th>book3</th>\n",
              "      <th>book4</th>\n",
              "      <th>book5</th>\n",
              "      <th>...</th>\n",
              "      <th>isAliveHeir</th>\n",
              "      <th>isAliveSpouse</th>\n",
              "      <th>isMarried</th>\n",
              "      <th>isNoble</th>\n",
              "      <th>age</th>\n",
              "      <th>numDeadRelations</th>\n",
              "      <th>boolDeadRelations</th>\n",
              "      <th>isPopular</th>\n",
              "      <th>popularity</th>\n",
              "      <th>isAlive</th>\n",
              "    </tr>\n",
              "  </thead>\n",
              "  <tbody>\n",
              "    <tr>\n",
              "      <th>55</th>\n",
              "      <td>56</td>\n",
              "      <td>Naerys Targaryen</td>\n",
              "      <td>0</td>\n",
              "      <td>Valyrian</td>\n",
              "      <td>House Targaryen</td>\n",
              "      <td>1</td>\n",
              "      <td>0</td>\n",
              "      <td>0</td>\n",
              "      <td>0</td>\n",
              "      <td>0</td>\n",
              "      <td>...</td>\n",
              "      <td>NaN</td>\n",
              "      <td>0.0</td>\n",
              "      <td>1</td>\n",
              "      <td>1</td>\n",
              "      <td>100.0</td>\n",
              "      <td>12</td>\n",
              "      <td>1</td>\n",
              "      <td>0</td>\n",
              "      <td>0.220736</td>\n",
              "      <td>0</td>\n",
              "    </tr>\n",
              "    <tr>\n",
              "      <th>85</th>\n",
              "      <td>86</td>\n",
              "      <td>Rhaena Targaryen (daughter of Daemon)</td>\n",
              "      <td>0</td>\n",
              "      <td>NaN</td>\n",
              "      <td>House Targaryen</td>\n",
              "      <td>0</td>\n",
              "      <td>0</td>\n",
              "      <td>0</td>\n",
              "      <td>0</td>\n",
              "      <td>0</td>\n",
              "      <td>...</td>\n",
              "      <td>NaN</td>\n",
              "      <td>1.0</td>\n",
              "      <td>1</td>\n",
              "      <td>1</td>\n",
              "      <td>100.0</td>\n",
              "      <td>0</td>\n",
              "      <td>0</td>\n",
              "      <td>0</td>\n",
              "      <td>0.143813</td>\n",
              "      <td>0</td>\n",
              "    </tr>\n",
              "    <tr>\n",
              "      <th>86</th>\n",
              "      <td>87</td>\n",
              "      <td>Rhaena Targaryen (daughter of Aegon III)</td>\n",
              "      <td>0</td>\n",
              "      <td>Valyrian</td>\n",
              "      <td>House Targaryen</td>\n",
              "      <td>0</td>\n",
              "      <td>0</td>\n",
              "      <td>0</td>\n",
              "      <td>0</td>\n",
              "      <td>0</td>\n",
              "      <td>...</td>\n",
              "      <td>NaN</td>\n",
              "      <td>NaN</td>\n",
              "      <td>0</td>\n",
              "      <td>1</td>\n",
              "      <td>100.0</td>\n",
              "      <td>0</td>\n",
              "      <td>0</td>\n",
              "      <td>0</td>\n",
              "      <td>0.073579</td>\n",
              "      <td>0</td>\n",
              "    </tr>\n",
              "    <tr>\n",
              "      <th>285</th>\n",
              "      <td>286</td>\n",
              "      <td>Aegon Targaryen (son of Jaehaerys I)</td>\n",
              "      <td>0</td>\n",
              "      <td>Valyrian</td>\n",
              "      <td>House Targaryen</td>\n",
              "      <td>0</td>\n",
              "      <td>0</td>\n",
              "      <td>0</td>\n",
              "      <td>0</td>\n",
              "      <td>0</td>\n",
              "      <td>...</td>\n",
              "      <td>NaN</td>\n",
              "      <td>NaN</td>\n",
              "      <td>0</td>\n",
              "      <td>1</td>\n",
              "      <td>100.0</td>\n",
              "      <td>0</td>\n",
              "      <td>0</td>\n",
              "      <td>0</td>\n",
              "      <td>0.000000</td>\n",
              "      <td>0</td>\n",
              "    </tr>\n",
              "    <tr>\n",
              "      <th>430</th>\n",
              "      <td>431</td>\n",
              "      <td>Daella Targaryen (daughter of Maekar I)</td>\n",
              "      <td>1</td>\n",
              "      <td>Valyrian</td>\n",
              "      <td>House Targaryen</td>\n",
              "      <td>0</td>\n",
              "      <td>0</td>\n",
              "      <td>0</td>\n",
              "      <td>0</td>\n",
              "      <td>0</td>\n",
              "      <td>...</td>\n",
              "      <td>NaN</td>\n",
              "      <td>NaN</td>\n",
              "      <td>0</td>\n",
              "      <td>1</td>\n",
              "      <td>100.0</td>\n",
              "      <td>0</td>\n",
              "      <td>0</td>\n",
              "      <td>0</td>\n",
              "      <td>0.080268</td>\n",
              "      <td>0</td>\n",
              "    </tr>\n",
              "    <tr>\n",
              "      <th>431</th>\n",
              "      <td>432</td>\n",
              "      <td>Daenerys Targaryen (daughter of Aegon IV)</td>\n",
              "      <td>0</td>\n",
              "      <td>NaN</td>\n",
              "      <td>House Targaryen</td>\n",
              "      <td>0</td>\n",
              "      <td>0</td>\n",
              "      <td>0</td>\n",
              "      <td>0</td>\n",
              "      <td>1</td>\n",
              "      <td>...</td>\n",
              "      <td>NaN</td>\n",
              "      <td>1.0</td>\n",
              "      <td>1</td>\n",
              "      <td>1</td>\n",
              "      <td>100.0</td>\n",
              "      <td>10</td>\n",
              "      <td>1</td>\n",
              "      <td>0</td>\n",
              "      <td>0.093645</td>\n",
              "      <td>0</td>\n",
              "    </tr>\n",
              "    <tr>\n",
              "      <th>433</th>\n",
              "      <td>434</td>\n",
              "      <td>Daena Targaryen</td>\n",
              "      <td>0</td>\n",
              "      <td>Valyrian</td>\n",
              "      <td>House Targaryen</td>\n",
              "      <td>0</td>\n",
              "      <td>0</td>\n",
              "      <td>0</td>\n",
              "      <td>0</td>\n",
              "      <td>0</td>\n",
              "      <td>...</td>\n",
              "      <td>NaN</td>\n",
              "      <td>0.0</td>\n",
              "      <td>1</td>\n",
              "      <td>1</td>\n",
              "      <td>100.0</td>\n",
              "      <td>7</td>\n",
              "      <td>1</td>\n",
              "      <td>0</td>\n",
              "      <td>0.227425</td>\n",
              "      <td>0</td>\n",
              "    </tr>\n",
              "    <tr>\n",
              "      <th>1347</th>\n",
              "      <td>1348</td>\n",
              "      <td>Saera Targaryen</td>\n",
              "      <td>1</td>\n",
              "      <td>Valyrian</td>\n",
              "      <td>House Targaryen</td>\n",
              "      <td>0</td>\n",
              "      <td>0</td>\n",
              "      <td>0</td>\n",
              "      <td>0</td>\n",
              "      <td>0</td>\n",
              "      <td>...</td>\n",
              "      <td>NaN</td>\n",
              "      <td>NaN</td>\n",
              "      <td>0</td>\n",
              "      <td>1</td>\n",
              "      <td>100.0</td>\n",
              "      <td>0</td>\n",
              "      <td>0</td>\n",
              "      <td>0</td>\n",
              "      <td>0.070234</td>\n",
              "      <td>0</td>\n",
              "    </tr>\n",
              "    <tr>\n",
              "      <th>1815</th>\n",
              "      <td>1816</td>\n",
              "      <td>Shiera Seastar</td>\n",
              "      <td>0</td>\n",
              "      <td>Westeros</td>\n",
              "      <td>House Targaryen</td>\n",
              "      <td>0</td>\n",
              "      <td>0</td>\n",
              "      <td>0</td>\n",
              "      <td>0</td>\n",
              "      <td>1</td>\n",
              "      <td>...</td>\n",
              "      <td>NaN</td>\n",
              "      <td>NaN</td>\n",
              "      <td>0</td>\n",
              "      <td>0</td>\n",
              "      <td>100.0</td>\n",
              "      <td>4</td>\n",
              "      <td>1</td>\n",
              "      <td>0</td>\n",
              "      <td>0.043478</td>\n",
              "      <td>0</td>\n",
              "    </tr>\n",
              "    <tr>\n",
              "      <th>1880</th>\n",
              "      <td>1881</td>\n",
              "      <td>Rhae Targaryen</td>\n",
              "      <td>0</td>\n",
              "      <td>Valyrian</td>\n",
              "      <td>House Targaryen</td>\n",
              "      <td>0</td>\n",
              "      <td>0</td>\n",
              "      <td>0</td>\n",
              "      <td>0</td>\n",
              "      <td>0</td>\n",
              "      <td>...</td>\n",
              "      <td>NaN</td>\n",
              "      <td>NaN</td>\n",
              "      <td>0</td>\n",
              "      <td>1</td>\n",
              "      <td>100.0</td>\n",
              "      <td>0</td>\n",
              "      <td>0</td>\n",
              "      <td>0</td>\n",
              "      <td>0.080268</td>\n",
              "      <td>0</td>\n",
              "    </tr>\n",
              "    <tr>\n",
              "      <th>1901</th>\n",
              "      <td>1902</td>\n",
              "      <td>Baela Targaryen</td>\n",
              "      <td>0</td>\n",
              "      <td>Valyrian</td>\n",
              "      <td>House Targaryen</td>\n",
              "      <td>0</td>\n",
              "      <td>0</td>\n",
              "      <td>0</td>\n",
              "      <td>0</td>\n",
              "      <td>0</td>\n",
              "      <td>...</td>\n",
              "      <td>NaN</td>\n",
              "      <td>0.0</td>\n",
              "      <td>1</td>\n",
              "      <td>1</td>\n",
              "      <td>100.0</td>\n",
              "      <td>0</td>\n",
              "      <td>0</td>\n",
              "      <td>0</td>\n",
              "      <td>0.127090</td>\n",
              "      <td>0</td>\n",
              "    </tr>\n",
              "  </tbody>\n",
              "</table>\n",
              "<p>11 rows × 22 columns</p>\n",
              "</div>"
            ]
          },
          "metadata": {
            "tags": []
          },
          "execution_count": 22
        }
      ]
    },
    {
      "cell_type": "markdown",
      "metadata": {
        "id": "_LEO_SzUu9MY"
      },
      "source": [
        "### **FILL IN MISSING VALUES**\n",
        "*   isAliveMother, isAliveFather, isAliveHeir, isAliveSpouse: Fill in with mode (most common value) \n",
        "*   age: Fill in with mean wouldn't work well here, since there's so much of a gap between the max age and the next most common age 22yrs old. So we'll use the mode.\n",
        "*   culture: Get a mapping of houses to culture and substitute the most common culture for that house."
      ]
    },
    {
      "cell_type": "code",
      "metadata": {
        "id": "f4f3vaBZDfR0",
        "outputId": "fafa10cf-88f9-4a5d-b744-3a38bc5fb942",
        "colab": {
          "base_uri": "https://localhost:8080/"
        }
      },
      "source": [
        "# total number of missing values in the dataset\n",
        "df.isnull().sum().sum()"
      ],
      "execution_count": 23,
      "outputs": [
        {
          "output_type": "execute_result",
          "data": {
            "text/plain": [
              "2212"
            ]
          },
          "metadata": {
            "tags": []
          },
          "execution_count": 23
        }
      ]
    },
    {
      "cell_type": "code",
      "metadata": {
        "id": "OetmaYdGEbe1",
        "outputId": "7021de61-8211-4c04-d8ee-09e461e5edec",
        "colab": {
          "base_uri": "https://localhost:8080/"
        }
      },
      "source": [
        "# Check for duplicated values\n",
        "df.duplicated().sum()"
      ],
      "execution_count": 24,
      "outputs": [
        {
          "output_type": "execute_result",
          "data": {
            "text/plain": [
              "0"
            ]
          },
          "metadata": {
            "tags": []
          },
          "execution_count": 24
        }
      ]
    },
    {
      "cell_type": "code",
      "metadata": {
        "id": "DULhBI0hWmPg",
        "outputId": "023e7cf7-b451-4d45-8f66-c7f5c70be4c7",
        "colab": {
          "base_uri": "https://localhost:8080/",
          "height": 698
        }
      },
      "source": [
        "# Group by house, survival\n",
        "df.groupby(['house', 'isAlive']).count()"
      ],
      "execution_count": 25,
      "outputs": [
        {
          "output_type": "execute_result",
          "data": {
            "text/plain": [
              "                         S.No  name  male  culture  book1  book2  book3  \\\n",
              "house           isAlive                                                   \n",
              "House Arryn     0           6     6     6        3      6      6      6   \n",
              "                1          10    10    10        1     10     10     10   \n",
              "House Baratheon 0           6     6     6        1      6      6      6   \n",
              "                1           7     7     7        0      7      7      7   \n",
              "House Greyjoy   0          14    14    14        6     14     14     14   \n",
              "                1          27    27    27       22     27     27     27   \n",
              "House Lannister 0          18    18    18        5     18     18     18   \n",
              "                1          31    31    31        5     31     31     31   \n",
              "House Martell   0           4     4     4        3      4      4      4   \n",
              "                1          25    25    25       15     25     25     25   \n",
              "House Stark     0          22    22    22       17     22     22     22   \n",
              "                1          50    50    50       43     50     50     50   \n",
              "House Targaryen 0          41    41    41       29     41     41     41   \n",
              "                1          21    21    21       13     21     21     21   \n",
              "House Tully     0           7     7     7        3      7      7      7   \n",
              "                1           5     5     5        3      5      5      5   \n",
              "House Tyrell    0           2     2     2        2      2      2      2   \n",
              "                1          34    34    34        4     34     34     34   \n",
              "Night's Watch   0          45    45    45        4     45     45     45   \n",
              "                1          60    60    60        4     60     60     60   \n",
              "\n",
              "                         book4  book5  isAliveMother  isAliveFather  \\\n",
              "house           isAlive                                               \n",
              "House Arryn     0            6      6              0              0   \n",
              "                1           10     10              0              0   \n",
              "House Baratheon 0            6      6              0              0   \n",
              "                1            7      7              0              0   \n",
              "House Greyjoy   0           14     14              0              0   \n",
              "                1           27     27              0              0   \n",
              "House Lannister 0           18     18              0              0   \n",
              "                1           31     31              0              0   \n",
              "House Martell   0            4      4              0              0   \n",
              "                1           25     25              0              0   \n",
              "House Stark     0           22     22              0              0   \n",
              "                1           50     50              0              0   \n",
              "House Targaryen 0           41     41              0              0   \n",
              "                1           21     21              0              0   \n",
              "House Tully     0            7      7              0              0   \n",
              "                1            5      5              0              0   \n",
              "House Tyrell    0            2      2              0              0   \n",
              "                1           34     34              0              0   \n",
              "Night's Watch   0           45     45              0              0   \n",
              "                1           60     60              0              0   \n",
              "\n",
              "                         isAliveHeir  isAliveSpouse  isMarried  isNoble  age  \\\n",
              "house           isAlive                                                        \n",
              "House Arryn     0                  0              2          6        6    2   \n",
              "                1                  0              1         10       10    1   \n",
              "House Baratheon 0                  0              3          6        6    4   \n",
              "                1                  0              2          7        7    1   \n",
              "House Greyjoy   0                  0              1         14       14    2   \n",
              "                1                  0              2         27       27    5   \n",
              "House Lannister 0                  0             10         18       18    9   \n",
              "                1                  0              7         31       31    9   \n",
              "House Martell   0                  0              0          4        4    3   \n",
              "                1                  0              3         25       25   11   \n",
              "House Stark     0                  0              4         22       22    6   \n",
              "                1                  0              8         50       50    7   \n",
              "House Targaryen 0                  0             22         41       41   40   \n",
              "                1                  0              4         21       21    6   \n",
              "House Tully     0                  0              3          7        7    3   \n",
              "                1                  0              1          5        5    2   \n",
              "House Tyrell    0                  0              0          2        2    0   \n",
              "                1                  0             11         34       34    7   \n",
              "Night's Watch   0                  0              0         45       45    5   \n",
              "                1                  0              0         60       60    8   \n",
              "\n",
              "                         numDeadRelations  boolDeadRelations  isPopular  \\\n",
              "house           isAlive                                                   \n",
              "House Arryn     0                       6                  6          6   \n",
              "                1                      10                 10         10   \n",
              "House Baratheon 0                       6                  6          6   \n",
              "                1                       7                  7          7   \n",
              "House Greyjoy   0                      14                 14         14   \n",
              "                1                      27                 27         27   \n",
              "House Lannister 0                      18                 18         18   \n",
              "                1                      31                 31         31   \n",
              "House Martell   0                       4                  4          4   \n",
              "                1                      25                 25         25   \n",
              "House Stark     0                      22                 22         22   \n",
              "                1                      50                 50         50   \n",
              "House Targaryen 0                      41                 41         41   \n",
              "                1                      21                 21         21   \n",
              "House Tully     0                       7                  7          7   \n",
              "                1                       5                  5          5   \n",
              "House Tyrell    0                       2                  2          2   \n",
              "                1                      34                 34         34   \n",
              "Night's Watch   0                      45                 45         45   \n",
              "                1                      60                 60         60   \n",
              "\n",
              "                         popularity  \n",
              "house           isAlive              \n",
              "House Arryn     0                 6  \n",
              "                1                10  \n",
              "House Baratheon 0                 6  \n",
              "                1                 7  \n",
              "House Greyjoy   0                14  \n",
              "                1                27  \n",
              "House Lannister 0                18  \n",
              "                1                31  \n",
              "House Martell   0                 4  \n",
              "                1                25  \n",
              "House Stark     0                22  \n",
              "                1                50  \n",
              "House Targaryen 0                41  \n",
              "                1                21  \n",
              "House Tully     0                 7  \n",
              "                1                 5  \n",
              "House Tyrell    0                 2  \n",
              "                1                34  \n",
              "Night's Watch   0                45  \n",
              "                1                60  "
            ],
            "text/html": [
              "<div>\n",
              "<style scoped>\n",
              "    .dataframe tbody tr th:only-of-type {\n",
              "        vertical-align: middle;\n",
              "    }\n",
              "\n",
              "    .dataframe tbody tr th {\n",
              "        vertical-align: top;\n",
              "    }\n",
              "\n",
              "    .dataframe thead th {\n",
              "        text-align: right;\n",
              "    }\n",
              "</style>\n",
              "<table border=\"1\" class=\"dataframe\">\n",
              "  <thead>\n",
              "    <tr style=\"text-align: right;\">\n",
              "      <th></th>\n",
              "      <th></th>\n",
              "      <th>S.No</th>\n",
              "      <th>name</th>\n",
              "      <th>male</th>\n",
              "      <th>culture</th>\n",
              "      <th>book1</th>\n",
              "      <th>book2</th>\n",
              "      <th>book3</th>\n",
              "      <th>book4</th>\n",
              "      <th>book5</th>\n",
              "      <th>isAliveMother</th>\n",
              "      <th>isAliveFather</th>\n",
              "      <th>isAliveHeir</th>\n",
              "      <th>isAliveSpouse</th>\n",
              "      <th>isMarried</th>\n",
              "      <th>isNoble</th>\n",
              "      <th>age</th>\n",
              "      <th>numDeadRelations</th>\n",
              "      <th>boolDeadRelations</th>\n",
              "      <th>isPopular</th>\n",
              "      <th>popularity</th>\n",
              "    </tr>\n",
              "    <tr>\n",
              "      <th>house</th>\n",
              "      <th>isAlive</th>\n",
              "      <th></th>\n",
              "      <th></th>\n",
              "      <th></th>\n",
              "      <th></th>\n",
              "      <th></th>\n",
              "      <th></th>\n",
              "      <th></th>\n",
              "      <th></th>\n",
              "      <th></th>\n",
              "      <th></th>\n",
              "      <th></th>\n",
              "      <th></th>\n",
              "      <th></th>\n",
              "      <th></th>\n",
              "      <th></th>\n",
              "      <th></th>\n",
              "      <th></th>\n",
              "      <th></th>\n",
              "      <th></th>\n",
              "      <th></th>\n",
              "    </tr>\n",
              "  </thead>\n",
              "  <tbody>\n",
              "    <tr>\n",
              "      <th rowspan=\"2\" valign=\"top\">House Arryn</th>\n",
              "      <th>0</th>\n",
              "      <td>6</td>\n",
              "      <td>6</td>\n",
              "      <td>6</td>\n",
              "      <td>3</td>\n",
              "      <td>6</td>\n",
              "      <td>6</td>\n",
              "      <td>6</td>\n",
              "      <td>6</td>\n",
              "      <td>6</td>\n",
              "      <td>0</td>\n",
              "      <td>0</td>\n",
              "      <td>0</td>\n",
              "      <td>2</td>\n",
              "      <td>6</td>\n",
              "      <td>6</td>\n",
              "      <td>2</td>\n",
              "      <td>6</td>\n",
              "      <td>6</td>\n",
              "      <td>6</td>\n",
              "      <td>6</td>\n",
              "    </tr>\n",
              "    <tr>\n",
              "      <th>1</th>\n",
              "      <td>10</td>\n",
              "      <td>10</td>\n",
              "      <td>10</td>\n",
              "      <td>1</td>\n",
              "      <td>10</td>\n",
              "      <td>10</td>\n",
              "      <td>10</td>\n",
              "      <td>10</td>\n",
              "      <td>10</td>\n",
              "      <td>0</td>\n",
              "      <td>0</td>\n",
              "      <td>0</td>\n",
              "      <td>1</td>\n",
              "      <td>10</td>\n",
              "      <td>10</td>\n",
              "      <td>1</td>\n",
              "      <td>10</td>\n",
              "      <td>10</td>\n",
              "      <td>10</td>\n",
              "      <td>10</td>\n",
              "    </tr>\n",
              "    <tr>\n",
              "      <th rowspan=\"2\" valign=\"top\">House Baratheon</th>\n",
              "      <th>0</th>\n",
              "      <td>6</td>\n",
              "      <td>6</td>\n",
              "      <td>6</td>\n",
              "      <td>1</td>\n",
              "      <td>6</td>\n",
              "      <td>6</td>\n",
              "      <td>6</td>\n",
              "      <td>6</td>\n",
              "      <td>6</td>\n",
              "      <td>0</td>\n",
              "      <td>0</td>\n",
              "      <td>0</td>\n",
              "      <td>3</td>\n",
              "      <td>6</td>\n",
              "      <td>6</td>\n",
              "      <td>4</td>\n",
              "      <td>6</td>\n",
              "      <td>6</td>\n",
              "      <td>6</td>\n",
              "      <td>6</td>\n",
              "    </tr>\n",
              "    <tr>\n",
              "      <th>1</th>\n",
              "      <td>7</td>\n",
              "      <td>7</td>\n",
              "      <td>7</td>\n",
              "      <td>0</td>\n",
              "      <td>7</td>\n",
              "      <td>7</td>\n",
              "      <td>7</td>\n",
              "      <td>7</td>\n",
              "      <td>7</td>\n",
              "      <td>0</td>\n",
              "      <td>0</td>\n",
              "      <td>0</td>\n",
              "      <td>2</td>\n",
              "      <td>7</td>\n",
              "      <td>7</td>\n",
              "      <td>1</td>\n",
              "      <td>7</td>\n",
              "      <td>7</td>\n",
              "      <td>7</td>\n",
              "      <td>7</td>\n",
              "    </tr>\n",
              "    <tr>\n",
              "      <th rowspan=\"2\" valign=\"top\">House Greyjoy</th>\n",
              "      <th>0</th>\n",
              "      <td>14</td>\n",
              "      <td>14</td>\n",
              "      <td>14</td>\n",
              "      <td>6</td>\n",
              "      <td>14</td>\n",
              "      <td>14</td>\n",
              "      <td>14</td>\n",
              "      <td>14</td>\n",
              "      <td>14</td>\n",
              "      <td>0</td>\n",
              "      <td>0</td>\n",
              "      <td>0</td>\n",
              "      <td>1</td>\n",
              "      <td>14</td>\n",
              "      <td>14</td>\n",
              "      <td>2</td>\n",
              "      <td>14</td>\n",
              "      <td>14</td>\n",
              "      <td>14</td>\n",
              "      <td>14</td>\n",
              "    </tr>\n",
              "    <tr>\n",
              "      <th>1</th>\n",
              "      <td>27</td>\n",
              "      <td>27</td>\n",
              "      <td>27</td>\n",
              "      <td>22</td>\n",
              "      <td>27</td>\n",
              "      <td>27</td>\n",
              "      <td>27</td>\n",
              "      <td>27</td>\n",
              "      <td>27</td>\n",
              "      <td>0</td>\n",
              "      <td>0</td>\n",
              "      <td>0</td>\n",
              "      <td>2</td>\n",
              "      <td>27</td>\n",
              "      <td>27</td>\n",
              "      <td>5</td>\n",
              "      <td>27</td>\n",
              "      <td>27</td>\n",
              "      <td>27</td>\n",
              "      <td>27</td>\n",
              "    </tr>\n",
              "    <tr>\n",
              "      <th rowspan=\"2\" valign=\"top\">House Lannister</th>\n",
              "      <th>0</th>\n",
              "      <td>18</td>\n",
              "      <td>18</td>\n",
              "      <td>18</td>\n",
              "      <td>5</td>\n",
              "      <td>18</td>\n",
              "      <td>18</td>\n",
              "      <td>18</td>\n",
              "      <td>18</td>\n",
              "      <td>18</td>\n",
              "      <td>0</td>\n",
              "      <td>0</td>\n",
              "      <td>0</td>\n",
              "      <td>10</td>\n",
              "      <td>18</td>\n",
              "      <td>18</td>\n",
              "      <td>9</td>\n",
              "      <td>18</td>\n",
              "      <td>18</td>\n",
              "      <td>18</td>\n",
              "      <td>18</td>\n",
              "    </tr>\n",
              "    <tr>\n",
              "      <th>1</th>\n",
              "      <td>31</td>\n",
              "      <td>31</td>\n",
              "      <td>31</td>\n",
              "      <td>5</td>\n",
              "      <td>31</td>\n",
              "      <td>31</td>\n",
              "      <td>31</td>\n",
              "      <td>31</td>\n",
              "      <td>31</td>\n",
              "      <td>0</td>\n",
              "      <td>0</td>\n",
              "      <td>0</td>\n",
              "      <td>7</td>\n",
              "      <td>31</td>\n",
              "      <td>31</td>\n",
              "      <td>9</td>\n",
              "      <td>31</td>\n",
              "      <td>31</td>\n",
              "      <td>31</td>\n",
              "      <td>31</td>\n",
              "    </tr>\n",
              "    <tr>\n",
              "      <th rowspan=\"2\" valign=\"top\">House Martell</th>\n",
              "      <th>0</th>\n",
              "      <td>4</td>\n",
              "      <td>4</td>\n",
              "      <td>4</td>\n",
              "      <td>3</td>\n",
              "      <td>4</td>\n",
              "      <td>4</td>\n",
              "      <td>4</td>\n",
              "      <td>4</td>\n",
              "      <td>4</td>\n",
              "      <td>0</td>\n",
              "      <td>0</td>\n",
              "      <td>0</td>\n",
              "      <td>0</td>\n",
              "      <td>4</td>\n",
              "      <td>4</td>\n",
              "      <td>3</td>\n",
              "      <td>4</td>\n",
              "      <td>4</td>\n",
              "      <td>4</td>\n",
              "      <td>4</td>\n",
              "    </tr>\n",
              "    <tr>\n",
              "      <th>1</th>\n",
              "      <td>25</td>\n",
              "      <td>25</td>\n",
              "      <td>25</td>\n",
              "      <td>15</td>\n",
              "      <td>25</td>\n",
              "      <td>25</td>\n",
              "      <td>25</td>\n",
              "      <td>25</td>\n",
              "      <td>25</td>\n",
              "      <td>0</td>\n",
              "      <td>0</td>\n",
              "      <td>0</td>\n",
              "      <td>3</td>\n",
              "      <td>25</td>\n",
              "      <td>25</td>\n",
              "      <td>11</td>\n",
              "      <td>25</td>\n",
              "      <td>25</td>\n",
              "      <td>25</td>\n",
              "      <td>25</td>\n",
              "    </tr>\n",
              "    <tr>\n",
              "      <th rowspan=\"2\" valign=\"top\">House Stark</th>\n",
              "      <th>0</th>\n",
              "      <td>22</td>\n",
              "      <td>22</td>\n",
              "      <td>22</td>\n",
              "      <td>17</td>\n",
              "      <td>22</td>\n",
              "      <td>22</td>\n",
              "      <td>22</td>\n",
              "      <td>22</td>\n",
              "      <td>22</td>\n",
              "      <td>0</td>\n",
              "      <td>0</td>\n",
              "      <td>0</td>\n",
              "      <td>4</td>\n",
              "      <td>22</td>\n",
              "      <td>22</td>\n",
              "      <td>6</td>\n",
              "      <td>22</td>\n",
              "      <td>22</td>\n",
              "      <td>22</td>\n",
              "      <td>22</td>\n",
              "    </tr>\n",
              "    <tr>\n",
              "      <th>1</th>\n",
              "      <td>50</td>\n",
              "      <td>50</td>\n",
              "      <td>50</td>\n",
              "      <td>43</td>\n",
              "      <td>50</td>\n",
              "      <td>50</td>\n",
              "      <td>50</td>\n",
              "      <td>50</td>\n",
              "      <td>50</td>\n",
              "      <td>0</td>\n",
              "      <td>0</td>\n",
              "      <td>0</td>\n",
              "      <td>8</td>\n",
              "      <td>50</td>\n",
              "      <td>50</td>\n",
              "      <td>7</td>\n",
              "      <td>50</td>\n",
              "      <td>50</td>\n",
              "      <td>50</td>\n",
              "      <td>50</td>\n",
              "    </tr>\n",
              "    <tr>\n",
              "      <th rowspan=\"2\" valign=\"top\">House Targaryen</th>\n",
              "      <th>0</th>\n",
              "      <td>41</td>\n",
              "      <td>41</td>\n",
              "      <td>41</td>\n",
              "      <td>29</td>\n",
              "      <td>41</td>\n",
              "      <td>41</td>\n",
              "      <td>41</td>\n",
              "      <td>41</td>\n",
              "      <td>41</td>\n",
              "      <td>0</td>\n",
              "      <td>0</td>\n",
              "      <td>0</td>\n",
              "      <td>22</td>\n",
              "      <td>41</td>\n",
              "      <td>41</td>\n",
              "      <td>40</td>\n",
              "      <td>41</td>\n",
              "      <td>41</td>\n",
              "      <td>41</td>\n",
              "      <td>41</td>\n",
              "    </tr>\n",
              "    <tr>\n",
              "      <th>1</th>\n",
              "      <td>21</td>\n",
              "      <td>21</td>\n",
              "      <td>21</td>\n",
              "      <td>13</td>\n",
              "      <td>21</td>\n",
              "      <td>21</td>\n",
              "      <td>21</td>\n",
              "      <td>21</td>\n",
              "      <td>21</td>\n",
              "      <td>0</td>\n",
              "      <td>0</td>\n",
              "      <td>0</td>\n",
              "      <td>4</td>\n",
              "      <td>21</td>\n",
              "      <td>21</td>\n",
              "      <td>6</td>\n",
              "      <td>21</td>\n",
              "      <td>21</td>\n",
              "      <td>21</td>\n",
              "      <td>21</td>\n",
              "    </tr>\n",
              "    <tr>\n",
              "      <th rowspan=\"2\" valign=\"top\">House Tully</th>\n",
              "      <th>0</th>\n",
              "      <td>7</td>\n",
              "      <td>7</td>\n",
              "      <td>7</td>\n",
              "      <td>3</td>\n",
              "      <td>7</td>\n",
              "      <td>7</td>\n",
              "      <td>7</td>\n",
              "      <td>7</td>\n",
              "      <td>7</td>\n",
              "      <td>0</td>\n",
              "      <td>0</td>\n",
              "      <td>0</td>\n",
              "      <td>3</td>\n",
              "      <td>7</td>\n",
              "      <td>7</td>\n",
              "      <td>3</td>\n",
              "      <td>7</td>\n",
              "      <td>7</td>\n",
              "      <td>7</td>\n",
              "      <td>7</td>\n",
              "    </tr>\n",
              "    <tr>\n",
              "      <th>1</th>\n",
              "      <td>5</td>\n",
              "      <td>5</td>\n",
              "      <td>5</td>\n",
              "      <td>3</td>\n",
              "      <td>5</td>\n",
              "      <td>5</td>\n",
              "      <td>5</td>\n",
              "      <td>5</td>\n",
              "      <td>5</td>\n",
              "      <td>0</td>\n",
              "      <td>0</td>\n",
              "      <td>0</td>\n",
              "      <td>1</td>\n",
              "      <td>5</td>\n",
              "      <td>5</td>\n",
              "      <td>2</td>\n",
              "      <td>5</td>\n",
              "      <td>5</td>\n",
              "      <td>5</td>\n",
              "      <td>5</td>\n",
              "    </tr>\n",
              "    <tr>\n",
              "      <th rowspan=\"2\" valign=\"top\">House Tyrell</th>\n",
              "      <th>0</th>\n",
              "      <td>2</td>\n",
              "      <td>2</td>\n",
              "      <td>2</td>\n",
              "      <td>2</td>\n",
              "      <td>2</td>\n",
              "      <td>2</td>\n",
              "      <td>2</td>\n",
              "      <td>2</td>\n",
              "      <td>2</td>\n",
              "      <td>0</td>\n",
              "      <td>0</td>\n",
              "      <td>0</td>\n",
              "      <td>0</td>\n",
              "      <td>2</td>\n",
              "      <td>2</td>\n",
              "      <td>0</td>\n",
              "      <td>2</td>\n",
              "      <td>2</td>\n",
              "      <td>2</td>\n",
              "      <td>2</td>\n",
              "    </tr>\n",
              "    <tr>\n",
              "      <th>1</th>\n",
              "      <td>34</td>\n",
              "      <td>34</td>\n",
              "      <td>34</td>\n",
              "      <td>4</td>\n",
              "      <td>34</td>\n",
              "      <td>34</td>\n",
              "      <td>34</td>\n",
              "      <td>34</td>\n",
              "      <td>34</td>\n",
              "      <td>0</td>\n",
              "      <td>0</td>\n",
              "      <td>0</td>\n",
              "      <td>11</td>\n",
              "      <td>34</td>\n",
              "      <td>34</td>\n",
              "      <td>7</td>\n",
              "      <td>34</td>\n",
              "      <td>34</td>\n",
              "      <td>34</td>\n",
              "      <td>34</td>\n",
              "    </tr>\n",
              "    <tr>\n",
              "      <th rowspan=\"2\" valign=\"top\">Night's Watch</th>\n",
              "      <th>0</th>\n",
              "      <td>45</td>\n",
              "      <td>45</td>\n",
              "      <td>45</td>\n",
              "      <td>4</td>\n",
              "      <td>45</td>\n",
              "      <td>45</td>\n",
              "      <td>45</td>\n",
              "      <td>45</td>\n",
              "      <td>45</td>\n",
              "      <td>0</td>\n",
              "      <td>0</td>\n",
              "      <td>0</td>\n",
              "      <td>0</td>\n",
              "      <td>45</td>\n",
              "      <td>45</td>\n",
              "      <td>5</td>\n",
              "      <td>45</td>\n",
              "      <td>45</td>\n",
              "      <td>45</td>\n",
              "      <td>45</td>\n",
              "    </tr>\n",
              "    <tr>\n",
              "      <th>1</th>\n",
              "      <td>60</td>\n",
              "      <td>60</td>\n",
              "      <td>60</td>\n",
              "      <td>4</td>\n",
              "      <td>60</td>\n",
              "      <td>60</td>\n",
              "      <td>60</td>\n",
              "      <td>60</td>\n",
              "      <td>60</td>\n",
              "      <td>0</td>\n",
              "      <td>0</td>\n",
              "      <td>0</td>\n",
              "      <td>0</td>\n",
              "      <td>60</td>\n",
              "      <td>60</td>\n",
              "      <td>8</td>\n",
              "      <td>60</td>\n",
              "      <td>60</td>\n",
              "      <td>60</td>\n",
              "      <td>60</td>\n",
              "    </tr>\n",
              "  </tbody>\n",
              "</table>\n",
              "</div>"
            ]
          },
          "metadata": {
            "tags": []
          },
          "execution_count": 25
        }
      ]
    },
    {
      "cell_type": "markdown",
      "metadata": {
        "id": "LSKN5wQPHp-y"
      },
      "source": [
        "### **CHECK FOR CLASS IMBALANCE, DATA TYPES**"
      ]
    },
    {
      "cell_type": "markdown",
      "metadata": {
        "id": "0dVKyxjyEH2t"
      },
      "source": [
        "### **QUESTIONS TO THINK ABOUT**\n",
        "Here are a few questions we could ask.\n",
        "1. Is there a correlation between a character's traits: **married or not, male or female, noble or not** and survival?\n",
        "2. Is there a correlation between a character's **popularity** and survival?\n",
        "3. Is there a correlation between the **number of dead relatives** a charcter has and that character's survival?"
      ]
    },
    {
      "cell_type": "markdown",
      "metadata": {
        "id": "LhAJFfSYYOhO"
      },
      "source": [
        "### **DATA EXPLORATION**\n",
        "Let's create a heatmap to visualize any correlations. The closer to 1 or -1 the correlation value is, the more related the features are. A value close to 0 means there is little correlation.  "
      ]
    },
    {
      "cell_type": "code",
      "metadata": {
        "id": "9BUk6myT5QHl"
      },
      "source": [
        "correlation = df.corr()\n",
        "plt.figure(figsize = (10,10))\n",
        "sn.heatmap(correlation, vmax=1, square=True, annot=True, cmap='coolwarm')\n",
        "plt.title(\"Character Features & Survival Correlation\")"
      ],
      "execution_count": null,
      "outputs": []
    },
    {
      "cell_type": "markdown",
      "metadata": {
        "id": "rw6DC1aKJKjz"
      },
      "source": [
        "Looking at the heatmap above, let's reflect on our initial questions. The red \"1\" diagonal values in the heatmap are where features match with each other, so there's always a perfect correlation. A strong correlation coefficent is greater than 0.8. A correlation under 0.5 is generally described as weak.  \n",
        "\n",
        "1. Is there a correlation between being **married, male, or noble** and survival? There aren't strong correlations - positive or negative between survival and traits like being married, male, or noble. The highest correlation value for this set of features is -0.15. \n",
        "2. Is there a correlation between a character's **popularity** and survival?\n",
        "Popularity score does not correlate with survival.  \n",
        "3. Is there a correlation between the **number of dead relatives** a charcter has and that character's survival? The number of dead relations score of 0.62 indicates a moderate positive relationship."
      ]
    },
    {
      "cell_type": "markdown",
      "metadata": {
        "id": "wyAHWZccJJPZ"
      },
      "source": [
        "Let's group by house and see if we find any patterns across various features: house name, popularity, marriage status, nobility & survival.  "
      ]
    },
    {
      "cell_type": "code",
      "metadata": {
        "id": "KxJhVQGmF0DY"
      },
      "source": [
        "def get_house(value):\n",
        "    value = value.lower()\n",
        "    v = [k for (k, v) in house.items() if value in v]\n",
        "    return v[0] if len(v) > 0 else value.title()"
      ],
      "execution_count": 26,
      "outputs": []
    },
    {
      "cell_type": "code",
      "metadata": {
        "id": "lU_5RT8aF0Db",
        "outputId": "c79780de-25c2-4496-db2d-b43488678c98",
        "colab": {
          "base_uri": "https://localhost:8080/",
          "height": 490
        }
      },
      "source": [
        "# Q: Which house has the highest proportion of deaths?\n",
        "# A: Targaryens. \n",
        "data = df.groupby([\"house\", \"isAlive\"]).count()[\"S.No\"].unstack().copy(deep = True)\n",
        "p = data.div(data.sum(axis = 1), axis = 0).plot.barh(stacked = True, rot = 0, figsize = (15, 8), width = .5)\n",
        "_ = p.set_xticklabels(\"\"), p.legend([\"Dead\", \"Alive\"], fontsize = 12., loc = \"upper right\", ncol = 2, borderpad = -.15)\n",
        "_ = p.set_ylabel(\"House\"), p.set_xlabel(\"Proportion of Dead vs. Alive\")"
      ],
      "execution_count": 27,
      "outputs": [
        {
          "output_type": "display_data",
          "data": {
            "image/png": "[encoded data removed]",
            "text/plain": [
              "<Figure size 1080x576 with 1 Axes>"
            ]
          },
          "metadata": {
            "tags": [],
            "needs_background": "light"
          }
        }
      ]
    },
    {
      "cell_type": "code",
      "metadata": {
        "id": "7EYgTDfxF0Df",
        "outputId": "1758d905-6a6f-4a93-dc2c-fb1a58da4e7f",
        "colab": {
          "base_uri": "https://localhost:8080/",
          "height": 382
        }
      },
      "source": [
        "# Q: Is there a relationship between survival and popularity? \n",
        "# A: A higher proportion of popular characters die\n",
        "data = df.groupby([\"isPopular\", \"isAlive\"]).count()[\"S.No\"].unstack().copy(deep = True)\n",
        "p = data.div(data.sum(axis = 1), axis = 0).plot.barh(stacked = True, rot = 0, figsize = (15, 6), width = .4)\n",
        "_ = p.set_yticklabels([\"No\", \"Yes\"]), p.set_xticklabels(\"\"), p.legend([\"Dead\", \"Alive\"], fontsize = 12.)\n",
        "_ = p.set_ylabel(\"Is Popular\"), p.set_xlabel(\"Proportion of Dead vs. Alive\")"
      ],
      "execution_count": 28,
      "outputs": [
        {
          "output_type": "display_data",
          "data": {
            "image/png": "[encoded data removed]",
            "text/plain": [
              "<Figure size 1080x432 with 1 Axes>"
            ]
          },
          "metadata": {
            "tags": [],
            "needs_background": "light"
          }
        }
      ]
    },
    {
      "cell_type": "code",
      "metadata": {
        "id": "9A_zls8PF0Di",
        "outputId": "53fe91f1-91ec-4207-9e3f-45919b48b174",
        "colab": {
          "base_uri": "https://localhost:8080/",
          "height": 382
        }
      },
      "source": [
        "# Q: Is there a relationship between survial and marriage? \n",
        "# A: More of the dead characters were married than single.  \n",
        "data = df.groupby([\"isMarried\", \"isAlive\"]).count()[\"S.No\"].unstack().copy(deep = True)\n",
        "p = data.div(data.sum(axis = 1), axis = 0).plot.barh(stacked = True, rot = 0, figsize = (15, 6), width = .4)\n",
        "_ = p.set_yticklabels([\"No\", \"Yes\"]), p.set_xticklabels(\"\"), p.legend([\"Dead\", \"Alive\"], fontsize = 12.)\n",
        "_ = p.set_ylabel(\"Married\"), p.set_xlabel(\"Proportion of Dead vs. Alive\")"
      ],
      "execution_count": 29,
      "outputs": [
        {
          "output_type": "display_data",
          "data": {
            "image/png": "[encoded data removed]",
            "text/plain": [
              "<Figure size 1080x432 with 1 Axes>"
            ]
          },
          "metadata": {
            "tags": [],
            "needs_background": "light"
          }
        }
      ]
    },
    {
      "cell_type": "code",
      "metadata": {
        "id": "waDc4JSIF0Dm",
        "outputId": "3c48612b-2b92-4ff9-baf1-338da02c6078",
        "colab": {
          "base_uri": "https://localhost:8080/",
          "height": 382
        }
      },
      "source": [
        "# Q: Is there a relationship between survial and being noble? \n",
        "# A: More of the dead characters were noble.  \n",
        "data = df.groupby([\"isNoble\", \"isAlive\"]).count()[\"S.No\"].unstack().copy(deep = True)\n",
        "p = data.div(data.sum(axis = 1), axis = 0).plot.barh(stacked = True, rot = 0, figsize = (15, 6), width = .4)\n",
        "_ = p.set_yticklabels([\"No\", \"Yes\"]), p.set_xticklabels(\"\"), p.legend([\"Dead\", \"Alive\"], fontsize = 12.)\n",
        "_ = p.set_ylabel(\"Noble\"), p.set_xlabel(\"Proportion of Dead vs. Alive\")"
      ],
      "execution_count": 30,
      "outputs": [
        {
          "output_type": "display_data",
          "data": {
            "image/png": "[encoded data removed]",
            "text/plain": [
              "<Figure size 1080x432 with 1 Axes>"
            ]
          },
          "metadata": {
            "tags": [],
            "needs_background": "light"
          }
        }
      ]
    },
    {
      "cell_type": "code",
      "metadata": {
        "id": "9liS_--Q9tY_"
      },
      "source": [
        ""
      ],
      "execution_count": null,
      "outputs": []
    }
  ]
}