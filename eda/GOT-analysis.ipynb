{
  "nbformat": 4,
  "nbformat_minor": 0,
  "metadata": {
    "kernelspec": {
      "display_name": "Python 2",
      "language": "python",
      "name": "python2"
    },
    "language_info": {
      "codemirror_mode": {
        "name": "ipython",
        "version": 2
      },
      "file_extension": ".py",
      "mimetype": "text/x-python",
      "name": "python",
      "nbconvert_exporter": "python",
      "pygments_lexer": "ipython2",
      "version": "2.7.11"
    },
    "colab": {
      "name": "GOT-analysis.ipynb",
      "provenance": []
    }
  },
  "cells": [
    {
      "cell_type": "markdown",
      "metadata": {
        "id": "Y8jSGs-DfSBw"
      },
      "source": [
        "<a href=\"https://colab.research.google.com/github/googlecolab/colabtools/blob/master/notebooks/colab-github-demo.ipynb\" target=\"_parent\"><img src=\"https://colab.research.google.com/assets/colab-badge.svg\" alt=\"Open In Colab\"/></a>\n"
      ]
    },
    {
      "cell_type": "code",
      "metadata": {
        "id": "jaWD3Jp4F0DS"
      },
      "source": [
        "import pandas as pd\n",
        "import numpy as np\n",
        "import matplotlib.pyplot as plt\n",
        "%matplotlib inline\n",
        "from sklearn import metrics\n",
        "from sklearn.tree import DecisionTreeClassifier\n",
        "from sklearn.linear_model import LogisticRegression\n",
        "from sklearn.linear_model import LinearRegression \n",
        "from sklearn.naive_bayes import MultinomialNB\n",
        "from sklearn.model_selection import cross_val_score\n",
        "from sklearn.model_selection import train_test_split\n",
        "from sklearn.tree import export_graphviz\n",
        "from sklearn.ensemble import RandomForestClassifier"
      ],
      "execution_count": 75,
      "outputs": []
    },
    {
      "cell_type": "code",
      "metadata": {
        "id": "OJaQiLJE0JRv"
      },
      "source": [
        "# Use a subset of the character-predictions data set focused on major houses\n",
        "url = 'https://storage.googleapis.com/storytelling-megano/raw-data/character-predictions-9.csv'\n",
        "df = pd.read_csv(url, sep=',')"
      ],
      "execution_count": 76,
      "outputs": []
    },
    {
      "cell_type": "code",
      "metadata": {
        "id": "1aXdq9yp0MkS",
        "outputId": "5e2f88bf-743f-4e5f-f1f8-8f6fe6bb380a",
        "colab": {
          "base_uri": "https://localhost:8080/",
          "height": 198
        }
      },
      "source": [
        "((df['alive'] >= .5) == df['isAlive']).mean()\n",
        "# Get rid of previous prediction info\n",
        "df.drop(['actual','pred','alive','plod'],axis=1,inplace=True)\n",
        "df.head()"
      ],
      "execution_count": 115,
      "outputs": [
        {
          "output_type": "execute_result",
          "data": {
            "text/plain": [
              "   S.No  male        house  book1  book2  book3  book4  book5  isMarried  \\\n",
              "0     4     0  House Arryn      0      0      0      0      0          1   \n",
              "1   309     0  House Arryn      0      0      0      1      0          1   \n",
              "2   313     0  House Arryn      1      0      0      0      0          0   \n",
              "3   341     1  House Arryn      1      0      0      0      0          0   \n",
              "4   548     1  House Arryn      0      0      0      1      1          0   \n",
              "\n",
              "   isNoble  numDeadRelations  boolDeadRelations  isPopular  popularity  \\\n",
              "0        1                 0                  0          0    0.183946   \n",
              "1        0                 1                  1          0    0.080268   \n",
              "2        0                 0                  0          0    0.006689   \n",
              "3        0                 0                  0          0    0.003344   \n",
              "4        0                 0                  0          0    0.016722   \n",
              "\n",
              "   isAlive  \n",
              "0        0  \n",
              "1        1  \n",
              "2        1  \n",
              "3        1  \n",
              "4        1  "
            ],
            "text/html": [
              "<div>\n",
              "<style scoped>\n",
              "    .dataframe tbody tr th:only-of-type {\n",
              "        vertical-align: middle;\n",
              "    }\n",
              "\n",
              "    .dataframe tbody tr th {\n",
              "        vertical-align: top;\n",
              "    }\n",
              "\n",
              "    .dataframe thead th {\n",
              "        text-align: right;\n",
              "    }\n",
              "</style>\n",
              "<table border=\"1\" class=\"dataframe\">\n",
              "  <thead>\n",
              "    <tr style=\"text-align: right;\">\n",
              "      <th></th>\n",
              "      <th>S.No</th>\n",
              "      <th>male</th>\n",
              "      <th>house</th>\n",
              "      <th>book1</th>\n",
              "      <th>book2</th>\n",
              "      <th>book3</th>\n",
              "      <th>book4</th>\n",
              "      <th>book5</th>\n",
              "      <th>isMarried</th>\n",
              "      <th>isNoble</th>\n",
              "      <th>numDeadRelations</th>\n",
              "      <th>boolDeadRelations</th>\n",
              "      <th>isPopular</th>\n",
              "      <th>popularity</th>\n",
              "      <th>isAlive</th>\n",
              "    </tr>\n",
              "  </thead>\n",
              "  <tbody>\n",
              "    <tr>\n",
              "      <th>0</th>\n",
              "      <td>4</td>\n",
              "      <td>0</td>\n",
              "      <td>House Arryn</td>\n",
              "      <td>0</td>\n",
              "      <td>0</td>\n",
              "      <td>0</td>\n",
              "      <td>0</td>\n",
              "      <td>0</td>\n",
              "      <td>1</td>\n",
              "      <td>1</td>\n",
              "      <td>0</td>\n",
              "      <td>0</td>\n",
              "      <td>0</td>\n",
              "      <td>0.183946</td>\n",
              "      <td>0</td>\n",
              "    </tr>\n",
              "    <tr>\n",
              "      <th>1</th>\n",
              "      <td>309</td>\n",
              "      <td>0</td>\n",
              "      <td>House Arryn</td>\n",
              "      <td>0</td>\n",
              "      <td>0</td>\n",
              "      <td>0</td>\n",
              "      <td>1</td>\n",
              "      <td>0</td>\n",
              "      <td>1</td>\n",
              "      <td>0</td>\n",
              "      <td>1</td>\n",
              "      <td>1</td>\n",
              "      <td>0</td>\n",
              "      <td>0.080268</td>\n",
              "      <td>1</td>\n",
              "    </tr>\n",
              "    <tr>\n",
              "      <th>2</th>\n",
              "      <td>313</td>\n",
              "      <td>0</td>\n",
              "      <td>House Arryn</td>\n",
              "      <td>1</td>\n",
              "      <td>0</td>\n",
              "      <td>0</td>\n",
              "      <td>0</td>\n",
              "      <td>0</td>\n",
              "      <td>0</td>\n",
              "      <td>0</td>\n",
              "      <td>0</td>\n",
              "      <td>0</td>\n",
              "      <td>0</td>\n",
              "      <td>0.006689</td>\n",
              "      <td>1</td>\n",
              "    </tr>\n",
              "    <tr>\n",
              "      <th>3</th>\n",
              "      <td>341</td>\n",
              "      <td>1</td>\n",
              "      <td>House Arryn</td>\n",
              "      <td>1</td>\n",
              "      <td>0</td>\n",
              "      <td>0</td>\n",
              "      <td>0</td>\n",
              "      <td>0</td>\n",
              "      <td>0</td>\n",
              "      <td>0</td>\n",
              "      <td>0</td>\n",
              "      <td>0</td>\n",
              "      <td>0</td>\n",
              "      <td>0.003344</td>\n",
              "      <td>1</td>\n",
              "    </tr>\n",
              "    <tr>\n",
              "      <th>4</th>\n",
              "      <td>548</td>\n",
              "      <td>1</td>\n",
              "      <td>House Arryn</td>\n",
              "      <td>0</td>\n",
              "      <td>0</td>\n",
              "      <td>0</td>\n",
              "      <td>1</td>\n",
              "      <td>1</td>\n",
              "      <td>0</td>\n",
              "      <td>0</td>\n",
              "      <td>0</td>\n",
              "      <td>0</td>\n",
              "      <td>0</td>\n",
              "      <td>0.016722</td>\n",
              "      <td>1</td>\n",
              "    </tr>\n",
              "  </tbody>\n",
              "</table>\n",
              "</div>"
            ]
          },
          "metadata": {
            "tags": []
          },
          "execution_count": 115
        }
      ]
    },
    {
      "cell_type": "code",
      "metadata": {
        "id": "KxJhVQGmF0DY"
      },
      "source": [
        "def get_house(value):\n",
        "    value = value.lower()\n",
        "    v = [k for (k, v) in house.items() if value in v]\n",
        "    return v[0] if len(v) > 0 else value.title()"
      ],
      "execution_count": 78,
      "outputs": []
    },
    {
      "cell_type": "code",
      "metadata": {
        "id": "lU_5RT8aF0Db",
        "outputId": "a067b6fe-df94-42e8-af5f-ba1f35dbe862",
        "colab": {
          "base_uri": "https://localhost:8080/",
          "height": 490
        }
      },
      "source": [
        "# Q: Which house has the highest proportion of deaths?\n",
        "# A: Targaryens. \n",
        "data = df.groupby([\"house\", \"isAlive\"]).count()[\"S.No\"].unstack().copy(deep = True)\n",
        "p = data.div(data.sum(axis = 1), axis = 0).plot.barh(stacked = True, rot = 0, figsize = (15, 8), width = .5)\n",
        "_ = p.set_xticklabels(\"\"), p.legend([\"Dead\", \"Alive\"], fontsize = 12., loc = \"upper right\", ncol = 2, borderpad = -.15)\n",
        "_ = p.set_ylabel(\"House\"), p.set_xlabel(\"Proportion of Dead vs. Alive\")"
      ],
      "execution_count": 79,
      "outputs": [
        {
          "output_type": "display_data",
          "data": {
            "image/png": "[encoded data removed]",
            "text/plain": [
              "<Figure size 1080x576 with 1 Axes>"
            ]
          },
          "metadata": {
            "tags": [],
            "needs_background": "light"
          }
        }
      ]
    },
    {
      "cell_type": "code",
      "metadata": {
        "id": "7EYgTDfxF0Df",
        "outputId": "08fd6491-7ce4-4da7-91bf-2ec1b39ab156",
        "colab": {
          "base_uri": "https://localhost:8080/",
          "height": 382
        }
      },
      "source": [
        "# Q: Is there a relationship between survival and popularity? \n",
        "# A: A higher proportion of popular characters die\n",
        "data = df.groupby([\"isPopular\", \"isAlive\"]).count()[\"S.No\"].unstack().copy(deep = True)\n",
        "p = data.div(data.sum(axis = 1), axis = 0).plot.barh(stacked = True, rot = 0, figsize = (15, 6), width = .4)\n",
        "_ = p.set_yticklabels([\"No\", \"Yes\"]), p.set_xticklabels(\"\"), p.legend([\"Dead\", \"Alive\"], fontsize = 12.)\n",
        "_ = p.set_ylabel(\"Is Popular\"), p.set_xlabel(\"Proportion of Dead vs. Alive\")"
      ],
      "execution_count": 80,
      "outputs": [
        {
          "output_type": "display_data",
          "data": {
            "image/png": "[encoded data removed]",
            "text/plain": [
              "<Figure size 1080x432 with 1 Axes>"
            ]
          },
          "metadata": {
            "tags": [],
            "needs_background": "light"
          }
        }
      ]
    },
    {
      "cell_type": "code",
      "metadata": {
        "id": "9A_zls8PF0Di",
        "outputId": "47515082-6f49-4775-d291-c3af5b007168",
        "colab": {
          "base_uri": "https://localhost:8080/",
          "height": 382
        }
      },
      "source": [
        "# Q: Is there a relationship between survial and marriage? \n",
        "# A: More of the dead characters were married than single.  \n",
        "data = df.groupby([\"isMarried\", \"isAlive\"]).count()[\"S.No\"].unstack().copy(deep = True)\n",
        "p = data.div(data.sum(axis = 1), axis = 0).plot.barh(stacked = True, rot = 0, figsize = (15, 6), width = .4)\n",
        "_ = p.set_yticklabels([\"No\", \"Yes\"]), p.set_xticklabels(\"\"), p.legend([\"Dead\", \"Alive\"], fontsize = 12.)\n",
        "_ = p.set_ylabel(\"Married\"), p.set_xlabel(\"Proportion of Dead vs. Alive\")"
      ],
      "execution_count": 81,
      "outputs": [
        {
          "output_type": "display_data",
          "data": {
            "image/png": "[encoded data removed]",
            "text/plain": [
              "<Figure size 1080x432 with 1 Axes>"
            ]
          },
          "metadata": {
            "tags": [],
            "needs_background": "light"
          }
        }
      ]
    },
    {
      "cell_type": "code",
      "metadata": {
        "id": "waDc4JSIF0Dm",
        "outputId": "c179e269-f51d-4840-b849-c33e2b69b1ab",
        "colab": {
          "base_uri": "https://localhost:8080/",
          "height": 382
        }
      },
      "source": [
        "# Q: Is there a relationship between survial and being noble? \n",
        "# A: More of the dead characters were noble.  \n",
        "data = df.groupby([\"isNoble\", \"isAlive\"]).count()[\"S.No\"].unstack().copy(deep = True)\n",
        "p = data.div(data.sum(axis = 1), axis = 0).plot.barh(stacked = True, rot = 0, figsize = (15, 6), width = .4)\n",
        "_ = p.set_yticklabels([\"No\", \"Yes\"]), p.set_xticklabels(\"\"), p.legend([\"Dead\", \"Alive\"], fontsize = 12.)\n",
        "_ = p.set_ylabel(\"Noble\"), p.set_xlabel(\"Proportion of Dead vs. Alive\")"
      ],
      "execution_count": 82,
      "outputs": [
        {
          "output_type": "display_data",
          "data": {
            "image/png": "[encoded data removed]",
            "text/plain": [
              "<Figure size 1080x432 with 1 Axes>"
            ]
          },
          "metadata": {
            "tags": [],
            "needs_background": "light"
          }
        }
      ]
    },
    {
      "cell_type": "code",
      "metadata": {
        "id": "AbIlRdDLF0Dr"
      },
      "source": [
        "### Logistic Regression\n",
        "\n",
        "# character data\n",
        "url = 'https://storage.googleapis.com/storytelling-megano/raw-data/character-predictions-9.csv'\n",
        "train = pd.read_csv(url)"
      ],
      "execution_count": 83,
      "outputs": []
    },
    {
      "cell_type": "code",
      "metadata": {
        "id": "RVi1MU6AF0D1",
        "outputId": "4a9bcfef-5696-408c-b1c8-c1e8a8c95fa2",
        "colab": {
          "base_uri": "https://localhost:8080/"
        }
      },
      "source": [
        "# before splitting, just predict the mean of the entire dataset\n",
        "na_rate = train['isAlive'].sum()/float(train.shape[0]) # null accuracy\n",
        "print 'null accuracy rate: %s' %na_rate"
      ],
      "execution_count": 84,
      "outputs": [
        {
          "output_type": "stream",
          "text": [
            "null accuracy rate: 0.6817359855334539\n"
          ],
          "name": "stdout"
        }
      ]
    },
    {
      "cell_type": "code",
      "metadata": {
        "id": "F6JC9tO6F0D4"
      },
      "source": [
        "# Turn house categorical variable into numeric\n",
        "df_house = pd.get_dummies(df['house'])\n",
        "\n",
        "# Join the dummy variables to the main dataframe\n",
        "df_new = pd.concat([df, df_house], axis=1)\n",
        "df_new = df_new.drop('house', axis=1)"
      ],
      "execution_count": 85,
      "outputs": []
    },
    {
      "cell_type": "code",
      "metadata": {
        "id": "VQvJmhIhF0D7"
      },
      "source": [
        "# define X and y\n",
        "feature_cols = ['male', 'book1', 'book2', 'book3', 'book4', 'book5', 'isMarried', 'isNoble', 'numDeadRelations', 'popularity']\n",
        "X = df_new[feature_cols]\n",
        "y = df_new.isAlive.values"
      ],
      "execution_count": 86,
      "outputs": []
    },
    {
      "cell_type": "code",
      "metadata": {
        "id": "TEpPrr3jF0D-",
        "outputId": "bb7da95a-0f28-4d45-e018-95d1654d46f1",
        "colab": {
          "base_uri": "https://localhost:8080/",
          "height": 265
        }
      },
      "source": [
        "df_new.head()"
      ],
      "execution_count": 87,
      "outputs": [
        {
          "output_type": "execute_result",
          "data": {
            "text/plain": [
              "   S.No  male  book1  book2  book3  book4  book5  isMarried  isNoble  \\\n",
              "0     4     0      0      0      0      0      0          1        1   \n",
              "1   309     0      0      0      0      1      0          1        0   \n",
              "2   313     0      1      0      0      0      0          0        0   \n",
              "3   341     1      1      0      0      0      0          0        0   \n",
              "4   548     1      0      0      0      1      1          0        0   \n",
              "\n",
              "   numDeadRelations  ...  House Baratheon  House Bolton  House Frey  \\\n",
              "0                 0  ...                0             0           0   \n",
              "1                 1  ...                0             0           0   \n",
              "2                 0  ...                0             0           0   \n",
              "3                 0  ...                0             0           0   \n",
              "4                 0  ...                0             0           0   \n",
              "\n",
              "   House Greyjoy  House Lannister  House Martell  House Stark  \\\n",
              "0              0                0              0            0   \n",
              "1              0                0              0            0   \n",
              "2              0                0              0            0   \n",
              "3              0                0              0            0   \n",
              "4              0                0              0            0   \n",
              "\n",
              "   House Targaryen  House Tyrell  Night's Watch  \n",
              "0                0             0              0  \n",
              "1                0             0              0  \n",
              "2                0             0              0  \n",
              "3                0             0              0  \n",
              "4                0             0              0  \n",
              "\n",
              "[5 rows x 25 columns]"
            ],
            "text/html": [
              "<div>\n",
              "<style scoped>\n",
              "    .dataframe tbody tr th:only-of-type {\n",
              "        vertical-align: middle;\n",
              "    }\n",
              "\n",
              "    .dataframe tbody tr th {\n",
              "        vertical-align: top;\n",
              "    }\n",
              "\n",
              "    .dataframe thead th {\n",
              "        text-align: right;\n",
              "    }\n",
              "</style>\n",
              "<table border=\"1\" class=\"dataframe\">\n",
              "  <thead>\n",
              "    <tr style=\"text-align: right;\">\n",
              "      <th></th>\n",
              "      <th>S.No</th>\n",
              "      <th>male</th>\n",
              "      <th>book1</th>\n",
              "      <th>book2</th>\n",
              "      <th>book3</th>\n",
              "      <th>book4</th>\n",
              "      <th>book5</th>\n",
              "      <th>isMarried</th>\n",
              "      <th>isNoble</th>\n",
              "      <th>numDeadRelations</th>\n",
              "      <th>...</th>\n",
              "      <th>House Baratheon</th>\n",
              "      <th>House Bolton</th>\n",
              "      <th>House Frey</th>\n",
              "      <th>House Greyjoy</th>\n",
              "      <th>House Lannister</th>\n",
              "      <th>House Martell</th>\n",
              "      <th>House Stark</th>\n",
              "      <th>House Targaryen</th>\n",
              "      <th>House Tyrell</th>\n",
              "      <th>Night's Watch</th>\n",
              "    </tr>\n",
              "  </thead>\n",
              "  <tbody>\n",
              "    <tr>\n",
              "      <th>0</th>\n",
              "      <td>4</td>\n",
              "      <td>0</td>\n",
              "      <td>0</td>\n",
              "      <td>0</td>\n",
              "      <td>0</td>\n",
              "      <td>0</td>\n",
              "      <td>0</td>\n",
              "      <td>1</td>\n",
              "      <td>1</td>\n",
              "      <td>0</td>\n",
              "      <td>...</td>\n",
              "      <td>0</td>\n",
              "      <td>0</td>\n",
              "      <td>0</td>\n",
              "      <td>0</td>\n",
              "      <td>0</td>\n",
              "      <td>0</td>\n",
              "      <td>0</td>\n",
              "      <td>0</td>\n",
              "      <td>0</td>\n",
              "      <td>0</td>\n",
              "    </tr>\n",
              "    <tr>\n",
              "      <th>1</th>\n",
              "      <td>309</td>\n",
              "      <td>0</td>\n",
              "      <td>0</td>\n",
              "      <td>0</td>\n",
              "      <td>0</td>\n",
              "      <td>1</td>\n",
              "      <td>0</td>\n",
              "      <td>1</td>\n",
              "      <td>0</td>\n",
              "      <td>1</td>\n",
              "      <td>...</td>\n",
              "      <td>0</td>\n",
              "      <td>0</td>\n",
              "      <td>0</td>\n",
              "      <td>0</td>\n",
              "      <td>0</td>\n",
              "      <td>0</td>\n",
              "      <td>0</td>\n",
              "      <td>0</td>\n",
              "      <td>0</td>\n",
              "      <td>0</td>\n",
              "    </tr>\n",
              "    <tr>\n",
              "      <th>2</th>\n",
              "      <td>313</td>\n",
              "      <td>0</td>\n",
              "      <td>1</td>\n",
              "      <td>0</td>\n",
              "      <td>0</td>\n",
              "      <td>0</td>\n",
              "      <td>0</td>\n",
              "      <td>0</td>\n",
              "      <td>0</td>\n",
              "      <td>0</td>\n",
              "      <td>...</td>\n",
              "      <td>0</td>\n",
              "      <td>0</td>\n",
              "      <td>0</td>\n",
              "      <td>0</td>\n",
              "      <td>0</td>\n",
              "      <td>0</td>\n",
              "      <td>0</td>\n",
              "      <td>0</td>\n",
              "      <td>0</td>\n",
              "      <td>0</td>\n",
              "    </tr>\n",
              "    <tr>\n",
              "      <th>3</th>\n",
              "      <td>341</td>\n",
              "      <td>1</td>\n",
              "      <td>1</td>\n",
              "      <td>0</td>\n",
              "      <td>0</td>\n",
              "      <td>0</td>\n",
              "      <td>0</td>\n",
              "      <td>0</td>\n",
              "      <td>0</td>\n",
              "      <td>0</td>\n",
              "      <td>...</td>\n",
              "      <td>0</td>\n",
              "      <td>0</td>\n",
              "      <td>0</td>\n",
              "      <td>0</td>\n",
              "      <td>0</td>\n",
              "      <td>0</td>\n",
              "      <td>0</td>\n",
              "      <td>0</td>\n",
              "      <td>0</td>\n",
              "      <td>0</td>\n",
              "    </tr>\n",
              "    <tr>\n",
              "      <th>4</th>\n",
              "      <td>548</td>\n",
              "      <td>1</td>\n",
              "      <td>0</td>\n",
              "      <td>0</td>\n",
              "      <td>0</td>\n",
              "      <td>1</td>\n",
              "      <td>1</td>\n",
              "      <td>0</td>\n",
              "      <td>0</td>\n",
              "      <td>0</td>\n",
              "      <td>...</td>\n",
              "      <td>0</td>\n",
              "      <td>0</td>\n",
              "      <td>0</td>\n",
              "      <td>0</td>\n",
              "      <td>0</td>\n",
              "      <td>0</td>\n",
              "      <td>0</td>\n",
              "      <td>0</td>\n",
              "      <td>0</td>\n",
              "      <td>0</td>\n",
              "    </tr>\n",
              "  </tbody>\n",
              "</table>\n",
              "<p>5 rows × 25 columns</p>\n",
              "</div>"
            ]
          },
          "metadata": {
            "tags": []
          },
          "execution_count": 87
        }
      ]
    },
    {
      "cell_type": "code",
      "metadata": {
        "id": "EqLEStT2F0EB",
        "outputId": "db4d4cb2-0add-414d-a350-b7aca582f9fc",
        "colab": {
          "base_uri": "https://localhost:8080/"
        }
      },
      "source": [
        "lg = LogisticRegression()\n",
        "print(cross_val_score(lg, X, y, cv=10, scoring='accuracy').mean())\n",
        "\n",
        "ln = LinearRegression()\n",
        "print(np.sqrt(abs(cross_val_score(ln, X, y, cv=10, scoring='neg_mean_squared_error').mean())))"
      ],
      "execution_count": 88,
      "outputs": [
        {
          "output_type": "stream",
          "text": [
            "0.6814935064935066\n",
            "0.4499127348001184\n"
          ],
          "name": "stdout"
        }
      ]
    },
    {
      "cell_type": "code",
      "metadata": {
        "scrolled": true,
        "id": "lpu077EaF0EG"
      },
      "source": [
        "logreg = LogisticRegression()\n",
        "X_train, X_test, y_train, y_test = train_test_split(X, y, test_size=0.33, random_state=42)\n",
        "logreg.fit(X_train,y_train)\n",
        "preds = logreg.predict(X_test)\n",
        "probs = logreg.predict_proba(X_test)[:, 1]\n",
        "# SCORE(logreg)"
      ],
      "execution_count": 89,
      "outputs": []
    },
    {
      "cell_type": "code",
      "metadata": {
        "id": "AcHARSUTF0EJ",
        "outputId": "1e87928b-2348-4075-8464-4a7098a6cdd1",
        "colab": {
          "base_uri": "https://localhost:8080/"
        }
      },
      "source": [
        "nb = MultinomialNB()\n",
        "print cross_val_score(nb, X, y, cv=10).mean()"
      ],
      "execution_count": 90,
      "outputs": [
        {
          "output_type": "stream",
          "text": [
            "0.7050012025012025\n"
          ],
          "name": "stdout"
        }
      ]
    },
    {
      "cell_type": "code",
      "metadata": {
        "id": "iidN8c2tF0EP"
      },
      "source": [
        "nb = MultinomialNB()\n",
        "nb.fit(X_train, y_train)\n",
        "preds = nb.predict(X_test)\n",
        "probs = nb.predict_proba(X_test)[:, 1]\n",
        "# SCORE(nb)"
      ],
      "execution_count": 91,
      "outputs": []
    },
    {
      "cell_type": "code",
      "metadata": {
        "id": "iB-dZKhrF0ER",
        "outputId": "e6f54966-330b-4aaa-9c5e-b08a6fff52bb",
        "colab": {
          "base_uri": "https://localhost:8080/"
        }
      },
      "source": [
        "# Try splitting the data more times\n",
        "lg = LogisticRegression()\n",
        "logval = cross_val_score(lg, X, y, cv=100).mean()\n",
        "print logval\n",
        "\n",
        "nb = MultinomialNB()\n",
        "nbval = cross_val_score(nb, X, y, cv=100).mean()\n",
        "print nbval\n",
        "\n",
        "ln = LinearRegression()\n",
        "lrval = np.sqrt(abs(cross_val_score(ln, X, y, cv=100, scoring='neg_mean_squared_error').mean()))\n",
        "print lrval"
      ],
      "execution_count": 93,
      "outputs": [
        {
          "output_type": "stream",
          "text": [
            "0.6926666666666667\n",
            "0.7084999999999999\n",
            "0.43881357278798966\n"
          ],
          "name": "stdout"
        }
      ]
    },
    {
      "cell_type": "code",
      "metadata": {
        "id": "ZvsvUrWEF0EU"
      },
      "source": [
        "# Decision tree\n",
        "train = df_new"
      ],
      "execution_count": 94,
      "outputs": []
    },
    {
      "cell_type": "code",
      "metadata": {
        "id": "cv287MafF0EX"
      },
      "source": [
        "# before splitting anything, just predict the mean of the entire dataset\n",
        "train['prediction'] = train.isAlive.mean()"
      ],
      "execution_count": 95,
      "outputs": []
    },
    {
      "cell_type": "code",
      "metadata": {
        "id": "n114EbetF0EZ",
        "outputId": "b7abd30e-3d63-46a5-c76e-743929a387dd",
        "colab": {
          "base_uri": "https://localhost:8080/"
        }
      },
      "source": [
        "# calculate RMSE for those predictions\n",
        "np.sqrt(metrics.mean_squared_error(train.isAlive, train.prediction))"
      ],
      "execution_count": 96,
      "outputs": [
        {
          "output_type": "execute_result",
          "data": {
            "text/plain": [
              "0.46580256714855517"
            ]
          },
          "metadata": {
            "tags": []
          },
          "execution_count": 96
        }
      ]
    },
    {
      "cell_type": "code",
      "metadata": {
        "scrolled": true,
        "id": "cv-Gb9kUF0Ec",
        "outputId": "17c5cf3c-1622-4f94-fad4-143f4a331a1c",
        "colab": {
          "base_uri": "https://localhost:8080/"
        }
      },
      "source": [
        "train.shape"
      ],
      "execution_count": 97,
      "outputs": [
        {
          "output_type": "execute_result",
          "data": {
            "text/plain": [
              "(553, 26)"
            ]
          },
          "metadata": {
            "tags": []
          },
          "execution_count": 97
        }
      ]
    },
    {
      "cell_type": "code",
      "metadata": {
        "id": "iflVQD8TF0Eh"
      },
      "source": [
        "# define X and y\n",
        "feature_cols = ['male', 'book1', 'book2', 'book3', 'book4', 'book5', 'isMarried', 'isNoble', 'numDeadRelations', 'popularity']\n",
        "X = df_new[feature_cols]\n",
        "y = df_new.isAlive.values"
      ],
      "execution_count": 98,
      "outputs": []
    },
    {
      "cell_type": "code",
      "metadata": {
        "id": "Ak0CEipCF0Ek",
        "outputId": "c3061a5f-c951-4fa4-e3e0-063ca14ec3af",
        "colab": {
          "base_uri": "https://localhost:8080/"
        }
      },
      "source": [
        "# instantiate a DecisionTreeClassifier\n",
        "treereg = DecisionTreeClassifier(max_depth=10, random_state=1)\n",
        "treereg"
      ],
      "execution_count": 99,
      "outputs": [
        {
          "output_type": "execute_result",
          "data": {
            "text/plain": [
              "DecisionTreeClassifier(class_weight=None, criterion='gini', max_depth=10,\n",
              "            max_features=None, max_leaf_nodes=None,\n",
              "            min_impurity_decrease=0.0, min_impurity_split=None,\n",
              "            min_samples_leaf=1, min_samples_split=2,\n",
              "            min_weight_fraction_leaf=0.0, presort=False, random_state=1,\n",
              "            splitter='best')"
            ]
          },
          "metadata": {
            "tags": []
          },
          "execution_count": 99
        }
      ]
    },
    {
      "cell_type": "code",
      "metadata": {
        "id": "Lldmz1cRF0En",
        "outputId": "b1f547f4-2908-4770-e194-5d0798d6f0bd",
        "colab": {
          "base_uri": "https://localhost:8080/"
        }
      },
      "source": [
        "# use leave-one-out cross-validation (LOOCV) to estimate the RMSE for this model\n",
        "scores = cross_val_score(treereg, X, y, cv=14, scoring='accuracy')\n",
        "np.mean(scores)"
      ],
      "execution_count": 102,
      "outputs": [
        {
          "output_type": "execute_result",
          "data": {
            "text/plain": [
              "0.7195753807595912"
            ]
          },
          "metadata": {
            "tags": []
          },
          "execution_count": 102
        }
      ]
    },
    {
      "cell_type": "code",
      "metadata": {
        "id": "bXpEGVkHF0Ep",
        "outputId": "8789db8e-99c9-4290-e276-fb35f06d7e6c",
        "colab": {
          "base_uri": "https://localhost:8080/"
        }
      },
      "source": [
        "# try different tree depths\n",
        "max_depth_range = range(1,15)\n",
        "\n",
        "# store the average RMSE for each max_depth\n",
        "RMSE_scores = []\n",
        "\n",
        "# LOOCV with each max_depth\n",
        "for depth in max_depth_range:\n",
        "    treereg = DecisionTreeClassifier(max_depth=depth, random_state=1)\n",
        "    MSE_scores = cross_val_score(treereg, X, y, cv=14, scoring='accuracy')\n",
        "    RMSE_scores.append(np.mean(MSE_scores))\n",
        "print len(MSE_scores)"
      ],
      "execution_count": 103,
      "outputs": [
        {
          "output_type": "stream",
          "text": [
            "14\n"
          ],
          "name": "stdout"
        }
      ]
    },
    {
      "cell_type": "code",
      "metadata": {
        "id": "EMCO9VDWF0Et",
        "outputId": "07ba5c6f-55a4-4090-b1d3-73be0e1bc28d",
        "colab": {
          "base_uri": "https://localhost:8080/",
          "height": 301
        }
      },
      "source": [
        "# plot max_depth (x-axis) vs MSE (y-axis)\n",
        "plt.plot(max_depth_range, MSE_scores)\n",
        "plt.xlabel('max_depth')\n",
        "plt.ylabel('accuracy (higher is better)')"
      ],
      "execution_count": 104,
      "outputs": [
        {
          "output_type": "execute_result",
          "data": {
            "text/plain": [
              "Text(0,0.5,'accuracy (higher is better)')"
            ]
          },
          "metadata": {
            "tags": []
          },
          "execution_count": 104
        },
        {
          "output_type": "display_data",
          "data": {
            "image/png": "[encoded data removed]",
            "text/plain": [
              "<Figure size 432x288 with 1 Axes>"
            ]
          },
          "metadata": {
            "tags": [],
            "needs_background": "light"
          }
        }
      ]
    },
    {
      "cell_type": "code",
      "metadata": {
        "id": "SCGk3XyXF0Ev",
        "outputId": "6c7f3165-b733-4eb3-d918-0247cc62d94b",
        "colab": {
          "base_uri": "https://localhost:8080/",
          "height": 301
        }
      },
      "source": [
        "# try different tree depths\n",
        "max_depth_range = range(1,15)\n",
        "\n",
        "# store the average RMSE for each max_depth\n",
        "RMSE_scores = []\n",
        "\n",
        "# LOOCV with each max_depth\n",
        "for depth in max_depth_range:\n",
        "    treereg = DecisionTreeClassifier(criterion='gini', max_features=10, max_depth=depth, random_state=1)\n",
        "    MSE_scores = cross_val_score(treereg, X, y, cv=14, scoring='accuracy')\n",
        "    RMSE_scores.append(np.mean(MSE_scores))\n",
        "\n",
        "# plot max_depth (x-axis) vs RMSE (y-axis)\n",
        "plt.plot(max_depth_range, RMSE_scores)\n",
        "plt.xlabel('max_depth')\n",
        "plt.ylabel('accuracy (higher is better)')"
      ],
      "execution_count": 105,
      "outputs": [
        {
          "output_type": "execute_result",
          "data": {
            "text/plain": [
              "Text(0,0.5,'accuracy (higher is better)')"
            ]
          },
          "metadata": {
            "tags": []
          },
          "execution_count": 105
        },
        {
          "output_type": "display_data",
          "data": {
            "image/png": "[encoded data removed]",
            "text/plain": [
              "<Figure size 432x288 with 1 Axes>"
            ]
          },
          "metadata": {
            "tags": [],
            "needs_background": "light"
          }
        }
      ]
    },
    {
      "cell_type": "code",
      "metadata": {
        "id": "Frr9Mp9fF0Ey"
      },
      "source": [
        "## ** remember to split the training and test data set ** ##\n",
        "\n",
        "# instantiate a DecisionTreeClassifier with dept of 12 because that had higheset accuracy\n",
        "treereg = DecisionTreeClassifier(max_depth=12, random_state=1)\n",
        "treereg.fit(X, y)\n",
        "my_prediction = treereg.predict(X)"
      ],
      "execution_count": 106,
      "outputs": []
    },
    {
      "cell_type": "code",
      "metadata": {
        "id": "U-oLo7NxF0E2",
        "outputId": "6790141a-9a01-4be1-9c61-34216fbe3b3d",
        "colab": {
          "base_uri": "https://localhost:8080/"
        }
      },
      "source": [
        "\n",
        "# use leave-one-out cross-validation (LOOCV) to estimate the MSE for this model\n",
        "scores = cross_val_score(treereg, X, y, cv=14, scoring='neg_mean_squared_error')\n",
        "np.mean(np.sqrt(-scores))"
      ],
      "execution_count": 116,
      "outputs": [
        {
          "output_type": "execute_result",
          "data": {
            "text/plain": [
              "0.5286344245978418"
            ]
          },
          "metadata": {
            "tags": []
          },
          "execution_count": 116
        }
      ]
    },
    {
      "cell_type": "code",
      "metadata": {
        "id": "0eDin_N-F0E5",
        "outputId": "a9281888-7b92-4dfe-fc71-2ab923215d6d",
        "colab": {
          "base_uri": "https://localhost:8080/",
          "height": 348
        }
      },
      "source": [
        "# Gini importance of each feature (normalized total reduction of error brought by that feature)\n",
        "pd.DataFrame({'feature':feature_cols, 'importance':treereg.feature_importances_}).sort_values('importance', ascending=False)"
      ],
      "execution_count": 117,
      "outputs": [
        {
          "output_type": "execute_result",
          "data": {
            "text/plain": [
              "            feature  importance\n",
              "9        popularity    0.433172\n",
              "4             book4    0.094636\n",
              "0              male    0.075922\n",
              "2             book2    0.074095\n",
              "7           isNoble    0.069164\n",
              "3             book3    0.065323\n",
              "6         isMarried    0.057158\n",
              "8  numDeadRelations    0.056576\n",
              "5             book5    0.041734\n",
              "1             book1    0.032220"
            ],
            "text/html": [
              "<div>\n",
              "<style scoped>\n",
              "    .dataframe tbody tr th:only-of-type {\n",
              "        vertical-align: middle;\n",
              "    }\n",
              "\n",
              "    .dataframe tbody tr th {\n",
              "        vertical-align: top;\n",
              "    }\n",
              "\n",
              "    .dataframe thead th {\n",
              "        text-align: right;\n",
              "    }\n",
              "</style>\n",
              "<table border=\"1\" class=\"dataframe\">\n",
              "  <thead>\n",
              "    <tr style=\"text-align: right;\">\n",
              "      <th></th>\n",
              "      <th>feature</th>\n",
              "      <th>importance</th>\n",
              "    </tr>\n",
              "  </thead>\n",
              "  <tbody>\n",
              "    <tr>\n",
              "      <th>9</th>\n",
              "      <td>popularity</td>\n",
              "      <td>0.433172</td>\n",
              "    </tr>\n",
              "    <tr>\n",
              "      <th>4</th>\n",
              "      <td>book4</td>\n",
              "      <td>0.094636</td>\n",
              "    </tr>\n",
              "    <tr>\n",
              "      <th>0</th>\n",
              "      <td>male</td>\n",
              "      <td>0.075922</td>\n",
              "    </tr>\n",
              "    <tr>\n",
              "      <th>2</th>\n",
              "      <td>book2</td>\n",
              "      <td>0.074095</td>\n",
              "    </tr>\n",
              "    <tr>\n",
              "      <th>7</th>\n",
              "      <td>isNoble</td>\n",
              "      <td>0.069164</td>\n",
              "    </tr>\n",
              "    <tr>\n",
              "      <th>3</th>\n",
              "      <td>book3</td>\n",
              "      <td>0.065323</td>\n",
              "    </tr>\n",
              "    <tr>\n",
              "      <th>6</th>\n",
              "      <td>isMarried</td>\n",
              "      <td>0.057158</td>\n",
              "    </tr>\n",
              "    <tr>\n",
              "      <th>8</th>\n",
              "      <td>numDeadRelations</td>\n",
              "      <td>0.056576</td>\n",
              "    </tr>\n",
              "    <tr>\n",
              "      <th>5</th>\n",
              "      <td>book5</td>\n",
              "      <td>0.041734</td>\n",
              "    </tr>\n",
              "    <tr>\n",
              "      <th>1</th>\n",
              "      <td>book1</td>\n",
              "      <td>0.032220</td>\n",
              "    </tr>\n",
              "  </tbody>\n",
              "</table>\n",
              "</div>"
            ]
          },
          "metadata": {
            "tags": []
          },
          "execution_count": 117
        }
      ]
    },
    {
      "cell_type": "code",
      "metadata": {
        "id": "gVjJW3W7F0E7"
      },
      "source": [
        "# create a Graphviz file\n",
        "export_graphviz(treereg, out_file='tree_GOT.dot', feature_names=feature_cols)\n",
        "\n",
        "# At the command line, run this to convert to PNG:\n",
        "#   dot -Tpng tree_GOT.dot -o tree_GOT.png"
      ],
      "execution_count": 118,
      "outputs": []
    },
    {
      "cell_type": "code",
      "metadata": {
        "id": "e9lnAW1NF0E-",
        "outputId": "03c18190-7524-4fde-a6a9-07acd4cbcaaa",
        "colab": {
          "base_uri": "https://localhost:8080/"
        }
      },
      "source": [
        "# Compare original prediction accuracy\n",
        "url = 'https://storage.googleapis.com/storytelling-megano/raw-data/character-predictions-9.csv'\n",
        "df = pd.read_csv(url, sep=',')\n",
        "\n",
        "((df['alive'] >= .5) == df['isAlive']).mean()"
      ],
      "execution_count": 119,
      "outputs": [
        {
          "output_type": "execute_result",
          "data": {
            "text/plain": [
              "0.72875226039783"
            ]
          },
          "metadata": {
            "tags": []
          },
          "execution_count": 119
        }
      ]
    },
    {
      "cell_type": "code",
      "metadata": {
        "id": "e4xHovCaF0FB"
      },
      "source": [
        "# random forrest \n",
        "rfclf = RandomForestClassifier(n_estimators=100)\n",
        "# define X and y\n",
        "feature_cols = ['male', 'book1', 'book2', 'book3', 'book4', 'book5', 'isMarried', 'isNoble', 'numDeadRelations', 'popularity']\n",
        "X = df_new[feature_cols]\n",
        "y = df_new.isAlive.values\n",
        "rfclf = rfclf.fit(X, y)"
      ],
      "execution_count": 120,
      "outputs": []
    },
    {
      "cell_type": "code",
      "metadata": {
        "id": "x84Y6YiPF0FD",
        "outputId": "91a51f4a-e2fd-4cda-e559-7c8b28047657",
        "colab": {
          "base_uri": "https://localhost:8080/",
          "height": 348
        }
      },
      "source": [
        "# Gini importance of each feature (normalized total reduction of error brought by that feature)\n",
        "pd.DataFrame({'feature':feature_cols, 'importance':rfclf.feature_importances_}).sort_values('importance', ascending=False)"
      ],
      "execution_count": 121,
      "outputs": [
        {
          "output_type": "execute_result",
          "data": {
            "text/plain": [
              "            feature  importance\n",
              "9        popularity    0.465406\n",
              "4             book4    0.098796\n",
              "8  numDeadRelations    0.076818\n",
              "2             book2    0.067882\n",
              "7           isNoble    0.057441\n",
              "3             book3    0.050039\n",
              "0              male    0.050015\n",
              "6         isMarried    0.046497\n",
              "1             book1    0.044846\n",
              "5             book5    0.042260"
            ],
            "text/html": [
              "<div>\n",
              "<style scoped>\n",
              "    .dataframe tbody tr th:only-of-type {\n",
              "        vertical-align: middle;\n",
              "    }\n",
              "\n",
              "    .dataframe tbody tr th {\n",
              "        vertical-align: top;\n",
              "    }\n",
              "\n",
              "    .dataframe thead th {\n",
              "        text-align: right;\n",
              "    }\n",
              "</style>\n",
              "<table border=\"1\" class=\"dataframe\">\n",
              "  <thead>\n",
              "    <tr style=\"text-align: right;\">\n",
              "      <th></th>\n",
              "      <th>feature</th>\n",
              "      <th>importance</th>\n",
              "    </tr>\n",
              "  </thead>\n",
              "  <tbody>\n",
              "    <tr>\n",
              "      <th>9</th>\n",
              "      <td>popularity</td>\n",
              "      <td>0.465406</td>\n",
              "    </tr>\n",
              "    <tr>\n",
              "      <th>4</th>\n",
              "      <td>book4</td>\n",
              "      <td>0.098796</td>\n",
              "    </tr>\n",
              "    <tr>\n",
              "      <th>8</th>\n",
              "      <td>numDeadRelations</td>\n",
              "      <td>0.076818</td>\n",
              "    </tr>\n",
              "    <tr>\n",
              "      <th>2</th>\n",
              "      <td>book2</td>\n",
              "      <td>0.067882</td>\n",
              "    </tr>\n",
              "    <tr>\n",
              "      <th>7</th>\n",
              "      <td>isNoble</td>\n",
              "      <td>0.057441</td>\n",
              "    </tr>\n",
              "    <tr>\n",
              "      <th>3</th>\n",
              "      <td>book3</td>\n",
              "      <td>0.050039</td>\n",
              "    </tr>\n",
              "    <tr>\n",
              "      <th>0</th>\n",
              "      <td>male</td>\n",
              "      <td>0.050015</td>\n",
              "    </tr>\n",
              "    <tr>\n",
              "      <th>6</th>\n",
              "      <td>isMarried</td>\n",
              "      <td>0.046497</td>\n",
              "    </tr>\n",
              "    <tr>\n",
              "      <th>1</th>\n",
              "      <td>book1</td>\n",
              "      <td>0.044846</td>\n",
              "    </tr>\n",
              "    <tr>\n",
              "      <th>5</th>\n",
              "      <td>book5</td>\n",
              "      <td>0.042260</td>\n",
              "    </tr>\n",
              "  </tbody>\n",
              "</table>\n",
              "</div>"
            ]
          },
          "metadata": {
            "tags": []
          },
          "execution_count": 121
        }
      ]
    },
    {
      "cell_type": "code",
      "metadata": {
        "id": "FKvtKpF85FHO"
      },
      "source": [
        ""
      ],
      "execution_count": 121,
      "outputs": []
    }
  ]
}