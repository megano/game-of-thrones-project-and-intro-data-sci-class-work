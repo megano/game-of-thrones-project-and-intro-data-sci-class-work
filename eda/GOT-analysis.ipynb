{
  "nbformat": 4,
  "nbformat_minor": 0,
  "metadata": {
    "kernelspec": {
      "display_name": "Python 2",
      "language": "python",
      "name": "python2"
    },
    "language_info": {
      "codemirror_mode": {
        "name": "ipython",
        "version": 2
      },
      "file_extension": ".py",
      "mimetype": "text/x-python",
      "name": "python",
      "nbconvert_exporter": "python",
      "pygments_lexer": "ipython2",
      "version": "2.7.11"
    },
    "colab": {
      "name": "GOT-analysis.ipynb",
      "provenance": []
    }
  },
  "cells": [
    {
      "cell_type": "markdown",
      "metadata": {
        "id": "Y8jSGs-DfSBw"
      },
      "source": [
        "<a href=\"https://colab.research.google.com/github/googlecolab/colabtools/blob/master/notebooks/colab-github-demo.ipynb\" target=\"_parent\"><img src=\"https://colab.research.google.com/assets/colab-badge.svg\" alt=\"Open In Colab\"/></a>\n"
      ]
    },
    {
      "cell_type": "markdown",
      "metadata": {
        "id": "ORN9dWWALgKn"
      },
      "source": [
        "# **Game of Thrones Book Data Analysis**\n",
        "This notebook contains an exporatory data analysis of survival of characters in George RR Martin’s “A Song of Fire and Ice” book series. It uses character-predictions.csv. Sourced from Kaggle, this csv lists features of 1946 characters. It was created by the team at A Song of Ice and Data by scraping the Westeros wiki http://awoiaf.westeros.org.   "
      ]
    },
    {
      "cell_type": "markdown",
      "metadata": {
        "id": "K82gwuD_Li0Q"
      },
      "source": [
        "### **SETUP -- Import Libraries, Models & Metrics**\n",
        "To run this notebook in your browser click the \"Open in Colab\" button. Below are the libraries, models and metrics we'll use."
      ]
    },
    {
      "cell_type": "code",
      "metadata": {
        "id": "jaWD3Jp4F0DS",
        "outputId": "e93ba3ca-a7e2-400d-e5be-c3ba88bc64cd",
        "colab": {
          "base_uri": "https://localhost:8080/"
        }
      },
      "source": [
        "import pandas as pd # data processing\n",
        "import numpy as np # linear algebra\n",
        "import seaborn as sns # for visuals\n",
        "import matplotlib.pyplot as plt # for graphs\n",
        "%matplotlib inline # how graphs are printed\n",
        "plt.style.use('ggplot') \n",
        "pd.set_option('display.max_rows', 20)\n",
        "pd.set_option('display.max_columns', 20)"
      ],
      "execution_count": 42,
      "outputs": [
        {
          "output_type": "stream",
          "text": [
            "UsageError: unrecognized arguments: # how graphs are printed\n"
          ],
          "name": "stderr"
        }
      ]
    },
    {
      "cell_type": "markdown",
      "metadata": {
        "id": "IXNf_sXqS-Z8"
      },
      "source": [
        "### **LOAD & CLEAN DATA**\n",
        "Use pandas to import the CSV file from a Google Cloud bucket into a dataframe. "
      ]
    },
    {
      "cell_type": "code",
      "metadata": {
        "id": "UokcXreNfiTB",
        "outputId": "177e7102-b8b7-469d-fbcc-3fa25d86317a",
        "colab": {
          "base_uri": "https://localhost:8080/",
          "height": 334
        }
      },
      "source": [
        "# import csv\n",
        "df_raw = pd.read_csv('https://storage.googleapis.com/storytelling-megano/raw-data/character-predictions.csv')\n",
        "df_raw.head()"
      ],
      "execution_count": 43,
      "outputs": [
        {
          "output_type": "execute_result",
          "data": {
            "text/plain": [
              "   S.No  actual  pred  alive   plod                  name  \\\n",
              "0     1       0     0  0.054  0.946  Viserys II Targaryen   \n",
              "1     2       1     0  0.387  0.613           Walder Frey   \n",
              "2     3       1     0  0.493  0.507          Addison Hill   \n",
              "3     4       0     0  0.076  0.924           Aemma Arryn   \n",
              "4     5       1     1  0.617  0.383        Sylva Santagar   \n",
              "\n",
              "                  title  male   culture  dateOfBirth  ...  isAliveHeir  \\\n",
              "0                   NaN     1       NaN          NaN  ...          0.0   \n",
              "1  Lord of the Crossing     1  Rivermen        208.0  ...          NaN   \n",
              "2                   Ser     1       NaN          NaN  ...          NaN   \n",
              "3                 Queen     0       NaN         82.0  ...          NaN   \n",
              "4            Greenstone     0   Dornish        276.0  ...          NaN   \n",
              "\n",
              "  isAliveSpouse isMarried isNoble   age numDeadRelations  boolDeadRelations  \\\n",
              "0           NaN         0       0   NaN               11                  1   \n",
              "1           1.0         1       1  97.0                1                  1   \n",
              "2           NaN         0       1   NaN                0                  0   \n",
              "3           0.0         1       1  23.0                0                  0   \n",
              "4           1.0         1       1  29.0                0                  0   \n",
              "\n",
              "   isPopular  popularity  isAlive  \n",
              "0          1    0.605351        0  \n",
              "1          1    0.896321        1  \n",
              "2          0    0.267559        1  \n",
              "3          0    0.183946        0  \n",
              "4          0    0.043478        1  \n",
              "\n",
              "[5 rows x 33 columns]"
            ],
            "text/html": [
              "<div>\n",
              "<style scoped>\n",
              "    .dataframe tbody tr th:only-of-type {\n",
              "        vertical-align: middle;\n",
              "    }\n",
              "\n",
              "    .dataframe tbody tr th {\n",
              "        vertical-align: top;\n",
              "    }\n",
              "\n",
              "    .dataframe thead th {\n",
              "        text-align: right;\n",
              "    }\n",
              "</style>\n",
              "<table border=\"1\" class=\"dataframe\">\n",
              "  <thead>\n",
              "    <tr style=\"text-align: right;\">\n",
              "      <th></th>\n",
              "      <th>S.No</th>\n",
              "      <th>actual</th>\n",
              "      <th>pred</th>\n",
              "      <th>alive</th>\n",
              "      <th>plod</th>\n",
              "      <th>name</th>\n",
              "      <th>title</th>\n",
              "      <th>male</th>\n",
              "      <th>culture</th>\n",
              "      <th>dateOfBirth</th>\n",
              "      <th>...</th>\n",
              "      <th>isAliveHeir</th>\n",
              "      <th>isAliveSpouse</th>\n",
              "      <th>isMarried</th>\n",
              "      <th>isNoble</th>\n",
              "      <th>age</th>\n",
              "      <th>numDeadRelations</th>\n",
              "      <th>boolDeadRelations</th>\n",
              "      <th>isPopular</th>\n",
              "      <th>popularity</th>\n",
              "      <th>isAlive</th>\n",
              "    </tr>\n",
              "  </thead>\n",
              "  <tbody>\n",
              "    <tr>\n",
              "      <th>0</th>\n",
              "      <td>1</td>\n",
              "      <td>0</td>\n",
              "      <td>0</td>\n",
              "      <td>0.054</td>\n",
              "      <td>0.946</td>\n",
              "      <td>Viserys II Targaryen</td>\n",
              "      <td>NaN</td>\n",
              "      <td>1</td>\n",
              "      <td>NaN</td>\n",
              "      <td>NaN</td>\n",
              "      <td>...</td>\n",
              "      <td>0.0</td>\n",
              "      <td>NaN</td>\n",
              "      <td>0</td>\n",
              "      <td>0</td>\n",
              "      <td>NaN</td>\n",
              "      <td>11</td>\n",
              "      <td>1</td>\n",
              "      <td>1</td>\n",
              "      <td>0.605351</td>\n",
              "      <td>0</td>\n",
              "    </tr>\n",
              "    <tr>\n",
              "      <th>1</th>\n",
              "      <td>2</td>\n",
              "      <td>1</td>\n",
              "      <td>0</td>\n",
              "      <td>0.387</td>\n",
              "      <td>0.613</td>\n",
              "      <td>Walder Frey</td>\n",
              "      <td>Lord of the Crossing</td>\n",
              "      <td>1</td>\n",
              "      <td>Rivermen</td>\n",
              "      <td>208.0</td>\n",
              "      <td>...</td>\n",
              "      <td>NaN</td>\n",
              "      <td>1.0</td>\n",
              "      <td>1</td>\n",
              "      <td>1</td>\n",
              "      <td>97.0</td>\n",
              "      <td>1</td>\n",
              "      <td>1</td>\n",
              "      <td>1</td>\n",
              "      <td>0.896321</td>\n",
              "      <td>1</td>\n",
              "    </tr>\n",
              "    <tr>\n",
              "      <th>2</th>\n",
              "      <td>3</td>\n",
              "      <td>1</td>\n",
              "      <td>0</td>\n",
              "      <td>0.493</td>\n",
              "      <td>0.507</td>\n",
              "      <td>Addison Hill</td>\n",
              "      <td>Ser</td>\n",
              "      <td>1</td>\n",
              "      <td>NaN</td>\n",
              "      <td>NaN</td>\n",
              "      <td>...</td>\n",
              "      <td>NaN</td>\n",
              "      <td>NaN</td>\n",
              "      <td>0</td>\n",
              "      <td>1</td>\n",
              "      <td>NaN</td>\n",
              "      <td>0</td>\n",
              "      <td>0</td>\n",
              "      <td>0</td>\n",
              "      <td>0.267559</td>\n",
              "      <td>1</td>\n",
              "    </tr>\n",
              "    <tr>\n",
              "      <th>3</th>\n",
              "      <td>4</td>\n",
              "      <td>0</td>\n",
              "      <td>0</td>\n",
              "      <td>0.076</td>\n",
              "      <td>0.924</td>\n",
              "      <td>Aemma Arryn</td>\n",
              "      <td>Queen</td>\n",
              "      <td>0</td>\n",
              "      <td>NaN</td>\n",
              "      <td>82.0</td>\n",
              "      <td>...</td>\n",
              "      <td>NaN</td>\n",
              "      <td>0.0</td>\n",
              "      <td>1</td>\n",
              "      <td>1</td>\n",
              "      <td>23.0</td>\n",
              "      <td>0</td>\n",
              "      <td>0</td>\n",
              "      <td>0</td>\n",
              "      <td>0.183946</td>\n",
              "      <td>0</td>\n",
              "    </tr>\n",
              "    <tr>\n",
              "      <th>4</th>\n",
              "      <td>5</td>\n",
              "      <td>1</td>\n",
              "      <td>1</td>\n",
              "      <td>0.617</td>\n",
              "      <td>0.383</td>\n",
              "      <td>Sylva Santagar</td>\n",
              "      <td>Greenstone</td>\n",
              "      <td>0</td>\n",
              "      <td>Dornish</td>\n",
              "      <td>276.0</td>\n",
              "      <td>...</td>\n",
              "      <td>NaN</td>\n",
              "      <td>1.0</td>\n",
              "      <td>1</td>\n",
              "      <td>1</td>\n",
              "      <td>29.0</td>\n",
              "      <td>0</td>\n",
              "      <td>0</td>\n",
              "      <td>0</td>\n",
              "      <td>0.043478</td>\n",
              "      <td>1</td>\n",
              "    </tr>\n",
              "  </tbody>\n",
              "</table>\n",
              "<p>5 rows × 33 columns</p>\n",
              "</div>"
            ]
          },
          "metadata": {
            "tags": []
          },
          "execution_count": 43
        }
      ]
    },
    {
      "cell_type": "code",
      "metadata": {
        "id": "tSDDMW2bjeIG",
        "outputId": "4b79ec77-e51d-4432-e2cd-75c0b14e3176",
        "colab": {
          "base_uri": "https://localhost:8080/"
        }
      },
      "source": [
        "df_raw.info()"
      ],
      "execution_count": 44,
      "outputs": [
        {
          "output_type": "stream",
          "text": [
            "<class 'pandas.core.frame.DataFrame'>\n",
            "RangeIndex: 1946 entries, 0 to 1945\n",
            "Data columns (total 33 columns):\n",
            "S.No                 1946 non-null int64\n",
            "actual               1946 non-null int64\n",
            "pred                 1946 non-null int64\n",
            "alive                1946 non-null float64\n",
            "plod                 1946 non-null float64\n",
            "name                 1946 non-null object\n",
            "title                938 non-null object\n",
            "male                 1946 non-null int64\n",
            "culture              677 non-null object\n",
            "dateOfBirth          433 non-null float64\n",
            "DateoFdeath          444 non-null float64\n",
            "mother               21 non-null object\n",
            "father               26 non-null object\n",
            "heir                 23 non-null object\n",
            "house                1519 non-null object\n",
            "spouse               276 non-null object\n",
            "book1                1946 non-null int64\n",
            "book2                1946 non-null int64\n",
            "book3                1946 non-null int64\n",
            "book4                1946 non-null int64\n",
            "book5                1946 non-null int64\n",
            "isAliveMother        21 non-null float64\n",
            "isAliveFather        26 non-null float64\n",
            "isAliveHeir          23 non-null float64\n",
            "isAliveSpouse        276 non-null float64\n",
            "isMarried            1946 non-null int64\n",
            "isNoble              1946 non-null int64\n",
            "age                  433 non-null float64\n",
            "numDeadRelations     1946 non-null int64\n",
            "boolDeadRelations    1946 non-null int64\n",
            "isPopular            1946 non-null int64\n",
            "popularity           1946 non-null float64\n",
            "isAlive              1946 non-null int64\n",
            "dtypes: float64(10), int64(15), object(8)\n",
            "memory usage: 501.8+ KB\n"
          ],
          "name": "stdout"
        }
      ]
    },
    {
      "cell_type": "code",
      "metadata": {
        "id": "oo-QY1apjgb3",
        "outputId": "5e222dea-2057-4a81-dd4b-00359e1873e6",
        "colab": {
          "base_uri": "https://localhost:8080/",
          "height": 337
        }
      },
      "source": [
        "df_raw.describe()"
      ],
      "execution_count": 45,
      "outputs": [
        {
          "output_type": "execute_result",
          "data": {
            "text/plain": [
              "              S.No       actual         pred        alive         plod  \\\n",
              "count  1946.000000  1946.000000  1946.000000  1946.000000  1946.000000   \n",
              "mean    973.500000     0.745632     0.687050     0.634470     0.365530   \n",
              "std     561.906131     0.435617     0.463813     0.312637     0.312637   \n",
              "min       1.000000     0.000000     0.000000     0.000000     0.000000   \n",
              "25%     487.250000     0.000000     0.000000     0.391250     0.101000   \n",
              "50%     973.500000     1.000000     1.000000     0.735500     0.264500   \n",
              "75%    1459.750000     1.000000     1.000000     0.899000     0.608750   \n",
              "max    1946.000000     1.000000     1.000000     1.000000     1.000000   \n",
              "\n",
              "              male    dateOfBirth    DateoFdeath        book1        book2  \\\n",
              "count  1946.000000     433.000000     444.000000  1946.000000  1946.000000   \n",
              "mean      0.619219    1577.364896    2950.193694     0.198356     0.374615   \n",
              "std       0.485704   19565.414460   28192.245529     0.398864     0.484148   \n",
              "min       0.000000     -28.000000       0.000000     0.000000     0.000000   \n",
              "25%       0.000000     240.000000     282.000000     0.000000     0.000000   \n",
              "50%       1.000000     268.000000     299.000000     0.000000     0.000000   \n",
              "75%       1.000000     285.000000     299.000000     0.000000     1.000000   \n",
              "max       1.000000  298299.000000  298299.000000     1.000000     1.000000   \n",
              "\n",
              "       ...  isAliveHeir  isAliveSpouse    isMarried      isNoble  \\\n",
              "count  ...    23.000000     276.000000  1946.000000  1946.000000   \n",
              "mean   ...     0.652174       0.778986     0.141829     0.460946   \n",
              "std    ...     0.486985       0.415684     0.348965     0.498601   \n",
              "min    ...     0.000000       0.000000     0.000000     0.000000   \n",
              "25%    ...     0.000000       1.000000     0.000000     0.000000   \n",
              "50%    ...     1.000000       1.000000     0.000000     0.000000   \n",
              "75%    ...     1.000000       1.000000     0.000000     1.000000   \n",
              "max    ...     1.000000       1.000000     1.000000     1.000000   \n",
              "\n",
              "                 age  numDeadRelations  boolDeadRelations    isPopular  \\\n",
              "count     433.000000       1946.000000        1946.000000  1946.000000   \n",
              "mean    -1293.563510          0.305755           0.074512     0.059096   \n",
              "std     19564.340993          1.383910           0.262669     0.235864   \n",
              "min   -298001.000000          0.000000           0.000000     0.000000   \n",
              "25%        18.000000          0.000000           0.000000     0.000000   \n",
              "50%        27.000000          0.000000           0.000000     0.000000   \n",
              "75%        50.000000          0.000000           0.000000     0.000000   \n",
              "max       100.000000         15.000000           1.000000     1.000000   \n",
              "\n",
              "        popularity      isAlive  \n",
              "count  1946.000000  1946.000000  \n",
              "mean      0.089584     0.745632  \n",
              "std       0.160568     0.435617  \n",
              "min       0.000000     0.000000  \n",
              "25%       0.013378     0.000000  \n",
              "50%       0.033445     1.000000  \n",
              "75%       0.086957     1.000000  \n",
              "max       1.000000     1.000000  \n",
              "\n",
              "[8 rows x 25 columns]"
            ],
            "text/html": [
              "<div>\n",
              "<style scoped>\n",
              "    .dataframe tbody tr th:only-of-type {\n",
              "        vertical-align: middle;\n",
              "    }\n",
              "\n",
              "    .dataframe tbody tr th {\n",
              "        vertical-align: top;\n",
              "    }\n",
              "\n",
              "    .dataframe thead th {\n",
              "        text-align: right;\n",
              "    }\n",
              "</style>\n",
              "<table border=\"1\" class=\"dataframe\">\n",
              "  <thead>\n",
              "    <tr style=\"text-align: right;\">\n",
              "      <th></th>\n",
              "      <th>S.No</th>\n",
              "      <th>actual</th>\n",
              "      <th>pred</th>\n",
              "      <th>alive</th>\n",
              "      <th>plod</th>\n",
              "      <th>male</th>\n",
              "      <th>dateOfBirth</th>\n",
              "      <th>DateoFdeath</th>\n",
              "      <th>book1</th>\n",
              "      <th>book2</th>\n",
              "      <th>...</th>\n",
              "      <th>isAliveHeir</th>\n",
              "      <th>isAliveSpouse</th>\n",
              "      <th>isMarried</th>\n",
              "      <th>isNoble</th>\n",
              "      <th>age</th>\n",
              "      <th>numDeadRelations</th>\n",
              "      <th>boolDeadRelations</th>\n",
              "      <th>isPopular</th>\n",
              "      <th>popularity</th>\n",
              "      <th>isAlive</th>\n",
              "    </tr>\n",
              "  </thead>\n",
              "  <tbody>\n",
              "    <tr>\n",
              "      <th>count</th>\n",
              "      <td>1946.000000</td>\n",
              "      <td>1946.000000</td>\n",
              "      <td>1946.000000</td>\n",
              "      <td>1946.000000</td>\n",
              "      <td>1946.000000</td>\n",
              "      <td>1946.000000</td>\n",
              "      <td>433.000000</td>\n",
              "      <td>444.000000</td>\n",
              "      <td>1946.000000</td>\n",
              "      <td>1946.000000</td>\n",
              "      <td>...</td>\n",
              "      <td>23.000000</td>\n",
              "      <td>276.000000</td>\n",
              "      <td>1946.000000</td>\n",
              "      <td>1946.000000</td>\n",
              "      <td>433.000000</td>\n",
              "      <td>1946.000000</td>\n",
              "      <td>1946.000000</td>\n",
              "      <td>1946.000000</td>\n",
              "      <td>1946.000000</td>\n",
              "      <td>1946.000000</td>\n",
              "    </tr>\n",
              "    <tr>\n",
              "      <th>mean</th>\n",
              "      <td>973.500000</td>\n",
              "      <td>0.745632</td>\n",
              "      <td>0.687050</td>\n",
              "      <td>0.634470</td>\n",
              "      <td>0.365530</td>\n",
              "      <td>0.619219</td>\n",
              "      <td>1577.364896</td>\n",
              "      <td>2950.193694</td>\n",
              "      <td>0.198356</td>\n",
              "      <td>0.374615</td>\n",
              "      <td>...</td>\n",
              "      <td>0.652174</td>\n",
              "      <td>0.778986</td>\n",
              "      <td>0.141829</td>\n",
              "      <td>0.460946</td>\n",
              "      <td>-1293.563510</td>\n",
              "      <td>0.305755</td>\n",
              "      <td>0.074512</td>\n",
              "      <td>0.059096</td>\n",
              "      <td>0.089584</td>\n",
              "      <td>0.745632</td>\n",
              "    </tr>\n",
              "    <tr>\n",
              "      <th>std</th>\n",
              "      <td>561.906131</td>\n",
              "      <td>0.435617</td>\n",
              "      <td>0.463813</td>\n",
              "      <td>0.312637</td>\n",
              "      <td>0.312637</td>\n",
              "      <td>0.485704</td>\n",
              "      <td>19565.414460</td>\n",
              "      <td>28192.245529</td>\n",
              "      <td>0.398864</td>\n",
              "      <td>0.484148</td>\n",
              "      <td>...</td>\n",
              "      <td>0.486985</td>\n",
              "      <td>0.415684</td>\n",
              "      <td>0.348965</td>\n",
              "      <td>0.498601</td>\n",
              "      <td>19564.340993</td>\n",
              "      <td>1.383910</td>\n",
              "      <td>0.262669</td>\n",
              "      <td>0.235864</td>\n",
              "      <td>0.160568</td>\n",
              "      <td>0.435617</td>\n",
              "    </tr>\n",
              "    <tr>\n",
              "      <th>min</th>\n",
              "      <td>1.000000</td>\n",
              "      <td>0.000000</td>\n",
              "      <td>0.000000</td>\n",
              "      <td>0.000000</td>\n",
              "      <td>0.000000</td>\n",
              "      <td>0.000000</td>\n",
              "      <td>-28.000000</td>\n",
              "      <td>0.000000</td>\n",
              "      <td>0.000000</td>\n",
              "      <td>0.000000</td>\n",
              "      <td>...</td>\n",
              "      <td>0.000000</td>\n",
              "      <td>0.000000</td>\n",
              "      <td>0.000000</td>\n",
              "      <td>0.000000</td>\n",
              "      <td>-298001.000000</td>\n",
              "      <td>0.000000</td>\n",
              "      <td>0.000000</td>\n",
              "      <td>0.000000</td>\n",
              "      <td>0.000000</td>\n",
              "      <td>0.000000</td>\n",
              "    </tr>\n",
              "    <tr>\n",
              "      <th>25%</th>\n",
              "      <td>487.250000</td>\n",
              "      <td>0.000000</td>\n",
              "      <td>0.000000</td>\n",
              "      <td>0.391250</td>\n",
              "      <td>0.101000</td>\n",
              "      <td>0.000000</td>\n",
              "      <td>240.000000</td>\n",
              "      <td>282.000000</td>\n",
              "      <td>0.000000</td>\n",
              "      <td>0.000000</td>\n",
              "      <td>...</td>\n",
              "      <td>0.000000</td>\n",
              "      <td>1.000000</td>\n",
              "      <td>0.000000</td>\n",
              "      <td>0.000000</td>\n",
              "      <td>18.000000</td>\n",
              "      <td>0.000000</td>\n",
              "      <td>0.000000</td>\n",
              "      <td>0.000000</td>\n",
              "      <td>0.013378</td>\n",
              "      <td>0.000000</td>\n",
              "    </tr>\n",
              "    <tr>\n",
              "      <th>50%</th>\n",
              "      <td>973.500000</td>\n",
              "      <td>1.000000</td>\n",
              "      <td>1.000000</td>\n",
              "      <td>0.735500</td>\n",
              "      <td>0.264500</td>\n",
              "      <td>1.000000</td>\n",
              "      <td>268.000000</td>\n",
              "      <td>299.000000</td>\n",
              "      <td>0.000000</td>\n",
              "      <td>0.000000</td>\n",
              "      <td>...</td>\n",
              "      <td>1.000000</td>\n",
              "      <td>1.000000</td>\n",
              "      <td>0.000000</td>\n",
              "      <td>0.000000</td>\n",
              "      <td>27.000000</td>\n",
              "      <td>0.000000</td>\n",
              "      <td>0.000000</td>\n",
              "      <td>0.000000</td>\n",
              "      <td>0.033445</td>\n",
              "      <td>1.000000</td>\n",
              "    </tr>\n",
              "    <tr>\n",
              "      <th>75%</th>\n",
              "      <td>1459.750000</td>\n",
              "      <td>1.000000</td>\n",
              "      <td>1.000000</td>\n",
              "      <td>0.899000</td>\n",
              "      <td>0.608750</td>\n",
              "      <td>1.000000</td>\n",
              "      <td>285.000000</td>\n",
              "      <td>299.000000</td>\n",
              "      <td>0.000000</td>\n",
              "      <td>1.000000</td>\n",
              "      <td>...</td>\n",
              "      <td>1.000000</td>\n",
              "      <td>1.000000</td>\n",
              "      <td>0.000000</td>\n",
              "      <td>1.000000</td>\n",
              "      <td>50.000000</td>\n",
              "      <td>0.000000</td>\n",
              "      <td>0.000000</td>\n",
              "      <td>0.000000</td>\n",
              "      <td>0.086957</td>\n",
              "      <td>1.000000</td>\n",
              "    </tr>\n",
              "    <tr>\n",
              "      <th>max</th>\n",
              "      <td>1946.000000</td>\n",
              "      <td>1.000000</td>\n",
              "      <td>1.000000</td>\n",
              "      <td>1.000000</td>\n",
              "      <td>1.000000</td>\n",
              "      <td>1.000000</td>\n",
              "      <td>298299.000000</td>\n",
              "      <td>298299.000000</td>\n",
              "      <td>1.000000</td>\n",
              "      <td>1.000000</td>\n",
              "      <td>...</td>\n",
              "      <td>1.000000</td>\n",
              "      <td>1.000000</td>\n",
              "      <td>1.000000</td>\n",
              "      <td>1.000000</td>\n",
              "      <td>100.000000</td>\n",
              "      <td>15.000000</td>\n",
              "      <td>1.000000</td>\n",
              "      <td>1.000000</td>\n",
              "      <td>1.000000</td>\n",
              "      <td>1.000000</td>\n",
              "    </tr>\n",
              "  </tbody>\n",
              "</table>\n",
              "<p>8 rows × 25 columns</p>\n",
              "</div>"
            ]
          },
          "metadata": {
            "tags": []
          },
          "execution_count": 45
        }
      ]
    },
    {
      "cell_type": "code",
      "metadata": {
        "id": "lYIGQtDTq0ZO",
        "outputId": "961afc9b-d099-455c-8489-411911379298",
        "colab": {
          "base_uri": "https://localhost:8080/"
        }
      },
      "source": [
        "# check number of rows and columns\n",
        "df_raw.shape"
      ],
      "execution_count": 46,
      "outputs": [
        {
          "output_type": "execute_result",
          "data": {
            "text/plain": [
              "(1946, 33)"
            ]
          },
          "metadata": {
            "tags": []
          },
          "execution_count": 46
        }
      ]
    },
    {
      "cell_type": "markdown",
      "metadata": {
        "id": "TnrFonSJX_sm"
      },
      "source": [
        "Let's work on a subset of the data with characters from the 9 major houses and the Night's Watch. The 9 major houses are: Stark, Arryn, Baratheon, Tully, Greyjoy, Lannister, Tyrell, Martell and Targaryen. "
      ]
    },
    {
      "cell_type": "code",
      "metadata": {
        "id": "JENrVSNJjuR_",
        "outputId": "8bb5d76a-a350-448c-ddf7-50b80d9aa24e",
        "colab": {
          "base_uri": "https://localhost:8080/"
        }
      },
      "source": [
        "# Create a list of the 9 major houses + Night's Watch\n",
        "major_houses = ['House Stark', 'House Arryn', 'House Baratheon', 'House Tully',\n",
        "       'House Greyjoy', 'House Lannister', 'House Tyrell', 'House Martell', \n",
        "       'House Targaryen', \"Night's Watch\"]\n",
        "\n",
        "# Create a dataframe by selecting rows matching major houses\n",
        "df = df_raw[df_raw['house'].isin (major_houses)]\n",
        "df.house.unique()"
      ],
      "execution_count": 47,
      "outputs": [
        {
          "output_type": "execute_result",
          "data": {
            "text/plain": [
              "array(['House Arryn', 'House Targaryen', \"Night's Watch\", 'House Greyjoy',\n",
              "       'House Stark', 'House Tyrell', 'House Lannister', 'House Martell',\n",
              "       'House Baratheon', 'House Tully'], dtype=object)"
            ]
          },
          "metadata": {
            "tags": []
          },
          "execution_count": 47
        }
      ]
    },
    {
      "cell_type": "code",
      "metadata": {
        "id": "0_VReQEYhI4P",
        "outputId": "f0c99baa-79fa-4dab-8a24-6ce933e97223",
        "colab": {
          "base_uri": "https://localhost:8080/"
        }
      },
      "source": [
        "df.shape"
      ],
      "execution_count": 48,
      "outputs": [
        {
          "output_type": "execute_result",
          "data": {
            "text/plain": [
              "(435, 33)"
            ]
          },
          "metadata": {
            "tags": []
          },
          "execution_count": 48
        }
      ]
    },
    {
      "cell_type": "code",
      "metadata": {
        "id": "3wvVy-wzhegv",
        "outputId": "5088897e-3102-4d7b-cd6d-e88c7a6d9801",
        "colab": {
          "base_uri": "https://localhost:8080/"
        }
      },
      "source": [
        "df.columns"
      ],
      "execution_count": 49,
      "outputs": [
        {
          "output_type": "execute_result",
          "data": {
            "text/plain": [
              "Index([u'S.No', u'actual', u'pred', u'alive', u'plod', u'name', u'title',\n",
              "       u'male', u'culture', u'dateOfBirth', u'DateoFdeath', u'mother',\n",
              "       u'father', u'heir', u'house', u'spouse', u'book1', u'book2', u'book3',\n",
              "       u'book4', u'book5', u'isAliveMother', u'isAliveFather', u'isAliveHeir',\n",
              "       u'isAliveSpouse', u'isMarried', u'isNoble', u'age', u'numDeadRelations',\n",
              "       u'boolDeadRelations', u'isPopular', u'popularity', u'isAlive'],\n",
              "      dtype='object')"
            ]
          },
          "metadata": {
            "tags": []
          },
          "execution_count": 49
        }
      ]
    },
    {
      "cell_type": "markdown",
      "metadata": {
        "id": "M1nvZT26XpPG"
      },
      "source": [
        "Get rid of prediction scores from source data. We're going to make our own predictions! "
      ]
    },
    {
      "cell_type": "code",
      "metadata": {
        "id": "1aXdq9yp0MkS"
      },
      "source": [
        "df.drop(['actual','pred','alive', 'plod'],axis=1,inplace=True)"
      ],
      "execution_count": 50,
      "outputs": []
    },
    {
      "cell_type": "markdown",
      "metadata": {
        "id": "KK-Km1XKIeER"
      },
      "source": [
        "Also drop columns that won't be relevant for our analysis and are duplicative of other calculated columns. A mother, father, spouse or heir's name occurs too infrequently to be useful for prediction of survival. These are also duplicative of the columns that apply more generally: isAliveMother, isAliveFather, isAliveHier, isAliveSpouse. We have columns for age, whether a person is noble or not and house, so we can drop the columns: exact date of birth/death, culture & title.\n",
        "\n",
        "We'll explore numDeadRelations & popularity. "
      ]
    },
    {
      "cell_type": "code",
      "metadata": {
        "id": "e2QxFXuhW-ZP",
        "outputId": "c091afc3-7538-40a4-a8cd-92590b55448e",
        "colab": {
          "base_uri": "https://localhost:8080/"
        }
      },
      "source": [
        "df = df.drop(['title', 'dateOfBirth', 'DateoFdeath', 'mother', 'father', 'heir', 'spouse'], axis=1)\n",
        "df.columns"
      ],
      "execution_count": 51,
      "outputs": [
        {
          "output_type": "execute_result",
          "data": {
            "text/plain": [
              "Index([u'S.No', u'name', u'male', u'culture', u'house', u'book1', u'book2',\n",
              "       u'book3', u'book4', u'book5', u'isAliveMother', u'isAliveFather',\n",
              "       u'isAliveHeir', u'isAliveSpouse', u'isMarried', u'isNoble', u'age',\n",
              "       u'numDeadRelations', u'boolDeadRelations', u'isPopular', u'popularity',\n",
              "       u'isAlive'],\n",
              "      dtype='object')"
            ]
          },
          "metadata": {
            "tags": []
          },
          "execution_count": 51
        }
      ]
    },
    {
      "cell_type": "code",
      "metadata": {
        "id": "obrUnqqQe1So",
        "outputId": "2d0848c7-f763-48e4-e2ef-c657f0b3dbbb",
        "colab": {
          "base_uri": "https://localhost:8080/",
          "height": 316
        }
      },
      "source": [
        "# Drop the \"House\" prefix from house names.\n",
        "df['house'] = df['house'].str.replace(r'\\House', '')\n",
        "df.head()"
      ],
      "execution_count": 52,
      "outputs": [
        {
          "output_type": "execute_result",
          "data": {
            "text/plain": [
              "    S.No              name  male   culture          house  book1  book2  \\\n",
              "3      4       Aemma Arryn     0       NaN          Arryn      0      0   \n",
              "6      7  Valarr Targaryen     1  Valyrian      Targaryen      0      0   \n",
              "10    11              Will     1       NaN  Night's Watch      1      1   \n",
              "27    28             Wulfe     1  Ironborn        Greyjoy      0      0   \n",
              "29    30       Wyl (guard)     0  Northmen          Stark      1      0   \n",
              "\n",
              "    book3  book4  book5  ...  isAliveHeir  isAliveSpouse  isMarried  isNoble  \\\n",
              "3       0      0      0  ...          NaN            0.0          1        1   \n",
              "6       0      0      0  ...          NaN            1.0          1        1   \n",
              "10      0      0      0  ...          NaN            NaN          0        0   \n",
              "27      0      1      1  ...          NaN            NaN          0        0   \n",
              "29      0      0      0  ...          NaN            NaN          0        0   \n",
              "\n",
              "     age  numDeadRelations  boolDeadRelations  isPopular  popularity  isAlive  \n",
              "3   23.0                 0                  0          0    0.183946        0  \n",
              "6   26.0                 0                  0          1    0.431438        0  \n",
              "10   NaN                 0                  0          0    0.163880        0  \n",
              "27   NaN                 0                  0          0    0.023411        1  \n",
              "29   NaN                 0                  0          0    0.026756        0  \n",
              "\n",
              "[5 rows x 22 columns]"
            ],
            "text/html": [
              "<div>\n",
              "<style scoped>\n",
              "    .dataframe tbody tr th:only-of-type {\n",
              "        vertical-align: middle;\n",
              "    }\n",
              "\n",
              "    .dataframe tbody tr th {\n",
              "        vertical-align: top;\n",
              "    }\n",
              "\n",
              "    .dataframe thead th {\n",
              "        text-align: right;\n",
              "    }\n",
              "</style>\n",
              "<table border=\"1\" class=\"dataframe\">\n",
              "  <thead>\n",
              "    <tr style=\"text-align: right;\">\n",
              "      <th></th>\n",
              "      <th>S.No</th>\n",
              "      <th>name</th>\n",
              "      <th>male</th>\n",
              "      <th>culture</th>\n",
              "      <th>house</th>\n",
              "      <th>book1</th>\n",
              "      <th>book2</th>\n",
              "      <th>book3</th>\n",
              "      <th>book4</th>\n",
              "      <th>book5</th>\n",
              "      <th>...</th>\n",
              "      <th>isAliveHeir</th>\n",
              "      <th>isAliveSpouse</th>\n",
              "      <th>isMarried</th>\n",
              "      <th>isNoble</th>\n",
              "      <th>age</th>\n",
              "      <th>numDeadRelations</th>\n",
              "      <th>boolDeadRelations</th>\n",
              "      <th>isPopular</th>\n",
              "      <th>popularity</th>\n",
              "      <th>isAlive</th>\n",
              "    </tr>\n",
              "  </thead>\n",
              "  <tbody>\n",
              "    <tr>\n",
              "      <th>3</th>\n",
              "      <td>4</td>\n",
              "      <td>Aemma Arryn</td>\n",
              "      <td>0</td>\n",
              "      <td>NaN</td>\n",
              "      <td>Arryn</td>\n",
              "      <td>0</td>\n",
              "      <td>0</td>\n",
              "      <td>0</td>\n",
              "      <td>0</td>\n",
              "      <td>0</td>\n",
              "      <td>...</td>\n",
              "      <td>NaN</td>\n",
              "      <td>0.0</td>\n",
              "      <td>1</td>\n",
              "      <td>1</td>\n",
              "      <td>23.0</td>\n",
              "      <td>0</td>\n",
              "      <td>0</td>\n",
              "      <td>0</td>\n",
              "      <td>0.183946</td>\n",
              "      <td>0</td>\n",
              "    </tr>\n",
              "    <tr>\n",
              "      <th>6</th>\n",
              "      <td>7</td>\n",
              "      <td>Valarr Targaryen</td>\n",
              "      <td>1</td>\n",
              "      <td>Valyrian</td>\n",
              "      <td>Targaryen</td>\n",
              "      <td>0</td>\n",
              "      <td>0</td>\n",
              "      <td>0</td>\n",
              "      <td>0</td>\n",
              "      <td>0</td>\n",
              "      <td>...</td>\n",
              "      <td>NaN</td>\n",
              "      <td>1.0</td>\n",
              "      <td>1</td>\n",
              "      <td>1</td>\n",
              "      <td>26.0</td>\n",
              "      <td>0</td>\n",
              "      <td>0</td>\n",
              "      <td>1</td>\n",
              "      <td>0.431438</td>\n",
              "      <td>0</td>\n",
              "    </tr>\n",
              "    <tr>\n",
              "      <th>10</th>\n",
              "      <td>11</td>\n",
              "      <td>Will</td>\n",
              "      <td>1</td>\n",
              "      <td>NaN</td>\n",
              "      <td>Night's Watch</td>\n",
              "      <td>1</td>\n",
              "      <td>1</td>\n",
              "      <td>0</td>\n",
              "      <td>0</td>\n",
              "      <td>0</td>\n",
              "      <td>...</td>\n",
              "      <td>NaN</td>\n",
              "      <td>NaN</td>\n",
              "      <td>0</td>\n",
              "      <td>0</td>\n",
              "      <td>NaN</td>\n",
              "      <td>0</td>\n",
              "      <td>0</td>\n",
              "      <td>0</td>\n",
              "      <td>0.163880</td>\n",
              "      <td>0</td>\n",
              "    </tr>\n",
              "    <tr>\n",
              "      <th>27</th>\n",
              "      <td>28</td>\n",
              "      <td>Wulfe</td>\n",
              "      <td>1</td>\n",
              "      <td>Ironborn</td>\n",
              "      <td>Greyjoy</td>\n",
              "      <td>0</td>\n",
              "      <td>0</td>\n",
              "      <td>0</td>\n",
              "      <td>1</td>\n",
              "      <td>1</td>\n",
              "      <td>...</td>\n",
              "      <td>NaN</td>\n",
              "      <td>NaN</td>\n",
              "      <td>0</td>\n",
              "      <td>0</td>\n",
              "      <td>NaN</td>\n",
              "      <td>0</td>\n",
              "      <td>0</td>\n",
              "      <td>0</td>\n",
              "      <td>0.023411</td>\n",
              "      <td>1</td>\n",
              "    </tr>\n",
              "    <tr>\n",
              "      <th>29</th>\n",
              "      <td>30</td>\n",
              "      <td>Wyl (guard)</td>\n",
              "      <td>0</td>\n",
              "      <td>Northmen</td>\n",
              "      <td>Stark</td>\n",
              "      <td>1</td>\n",
              "      <td>0</td>\n",
              "      <td>0</td>\n",
              "      <td>0</td>\n",
              "      <td>0</td>\n",
              "      <td>...</td>\n",
              "      <td>NaN</td>\n",
              "      <td>NaN</td>\n",
              "      <td>0</td>\n",
              "      <td>0</td>\n",
              "      <td>NaN</td>\n",
              "      <td>0</td>\n",
              "      <td>0</td>\n",
              "      <td>0</td>\n",
              "      <td>0.026756</td>\n",
              "      <td>0</td>\n",
              "    </tr>\n",
              "  </tbody>\n",
              "</table>\n",
              "<p>5 rows × 22 columns</p>\n",
              "</div>"
            ]
          },
          "metadata": {
            "tags": []
          },
          "execution_count": 52
        }
      ]
    },
    {
      "cell_type": "markdown",
      "metadata": {
        "id": "bCmoRqZWDDH7"
      },
      "source": [
        "### **CHECK FOR MISSING VALUES & OUTLIERS**\n",
        "Let's explore the data to look for null values & outliers."
      ]
    },
    {
      "cell_type": "code",
      "metadata": {
        "id": "YtDgw-B5C92-",
        "outputId": "651f25ea-9ea0-4f6c-97f0-ee01cadd89f9",
        "colab": {
          "base_uri": "https://localhost:8080/"
        }
      },
      "source": [
        "# Check the total number of missing values in each column\n",
        "df.isnull().sum()"
      ],
      "execution_count": 53,
      "outputs": [
        {
          "output_type": "execute_result",
          "data": {
            "text/plain": [
              "S.No                   0\n",
              "name                   0\n",
              "male                   0\n",
              "culture              252\n",
              "house                  0\n",
              "book1                  0\n",
              "book2                  0\n",
              "book3                  0\n",
              "book4                  0\n",
              "book5                  0\n",
              "isAliveMother        435\n",
              "isAliveFather        435\n",
              "isAliveHeir          435\n",
              "isAliveSpouse        351\n",
              "isMarried              0\n",
              "isNoble                0\n",
              "age                  304\n",
              "numDeadRelations       0\n",
              "boolDeadRelations      0\n",
              "isPopular              0\n",
              "popularity             0\n",
              "isAlive                0\n",
              "dtype: int64"
            ]
          },
          "metadata": {
            "tags": []
          },
          "execution_count": 53
        }
      ]
    },
    {
      "cell_type": "code",
      "metadata": {
        "id": "CNknEEavDs-E",
        "outputId": "fa8f6df5-0b29-4c28-bb76-1ff43462ce7e",
        "colab": {
          "base_uri": "https://localhost:8080/"
        }
      },
      "source": [
        "# Which columns have 80% or more missing values\n",
        "df.columns[df.isnull().sum() > 348]"
      ],
      "execution_count": 54,
      "outputs": [
        {
          "output_type": "execute_result",
          "data": {
            "text/plain": [
              "Index([u'isAliveMother', u'isAliveFather', u'isAliveHeir', u'isAliveSpouse'], dtype='object')"
            ]
          },
          "metadata": {
            "tags": []
          },
          "execution_count": 54
        }
      ]
    },
    {
      "cell_type": "code",
      "metadata": {
        "id": "dEGTXOGSdY4t"
      },
      "source": [
        "# Drop columns missing 80% or more\n",
        "df.drop(['isAliveMother','isAliveFather','isAliveHeir', 'isAliveSpouse'],axis=1,inplace=True)"
      ],
      "execution_count": 55,
      "outputs": []
    },
    {
      "cell_type": "code",
      "metadata": {
        "id": "QCuCw8nddukG"
      },
      "source": [
        "# Drop culture, since house has 0 missing values and those correlate\n",
        "# df.drop(['culture'],axis=1,inplace=True)"
      ],
      "execution_count": 56,
      "outputs": []
    },
    {
      "cell_type": "markdown",
      "metadata": {
        "id": "4v5Il_6RxIhN"
      },
      "source": [
        "Let's take a closer look at the outliers in this age column. From df.describe() we saw the average age is -4359.244275, minimum age -298001 and max age 100. Let's find out which characters are negative ages, then clean up this column by getting rid of the negative values and outliers. "
      ]
    },
    {
      "cell_type": "code",
      "metadata": {
        "id": "MsXeiRyNygIs",
        "outputId": "61281524-e640-42e4-95f7-5ac0bd78af4f",
        "colab": {
          "base_uri": "https://localhost:8080/",
          "height": 292
        }
      },
      "source": [
        "df.loc[(df.age <= 0)]"
      ],
      "execution_count": 57,
      "outputs": [
        {
          "output_type": "execute_result",
          "data": {
            "text/plain": [
              "      S.No                                 name  male   culture       house  \\\n",
              "329    330  Baelon Targaryen (son of Viserys I)     1  Valyrian   Targaryen   \n",
              "790    791      Mors Martell (brother of Doran)     1       NaN     Martell   \n",
              "1684  1685                               Doreah     0    Lysene   Targaryen   \n",
              "1868  1869                               Rhaego     0       NaN   Targaryen   \n",
              "\n",
              "      book1  book2  book3  book4  book5  isMarried  isNoble       age  \\\n",
              "329       0      0      0      0      0          0        1       0.0   \n",
              "790       0      0      0      1      0          0        0       0.0   \n",
              "1684      1      1      0      0      1          0        0 -277980.0   \n",
              "1868      1      1      1      1      0          0        0 -298001.0   \n",
              "\n",
              "      numDeadRelations  boolDeadRelations  isPopular  popularity  isAlive  \n",
              "329                  0                  0          0    0.100334        0  \n",
              "790                  0                  0          0    0.066890        0  \n",
              "1684                 0                  0          0    0.110368        0  \n",
              "1868                 6                  1          0    0.167224        0  "
            ],
            "text/html": [
              "<div>\n",
              "<style scoped>\n",
              "    .dataframe tbody tr th:only-of-type {\n",
              "        vertical-align: middle;\n",
              "    }\n",
              "\n",
              "    .dataframe tbody tr th {\n",
              "        vertical-align: top;\n",
              "    }\n",
              "\n",
              "    .dataframe thead th {\n",
              "        text-align: right;\n",
              "    }\n",
              "</style>\n",
              "<table border=\"1\" class=\"dataframe\">\n",
              "  <thead>\n",
              "    <tr style=\"text-align: right;\">\n",
              "      <th></th>\n",
              "      <th>S.No</th>\n",
              "      <th>name</th>\n",
              "      <th>male</th>\n",
              "      <th>culture</th>\n",
              "      <th>house</th>\n",
              "      <th>book1</th>\n",
              "      <th>book2</th>\n",
              "      <th>book3</th>\n",
              "      <th>book4</th>\n",
              "      <th>book5</th>\n",
              "      <th>isMarried</th>\n",
              "      <th>isNoble</th>\n",
              "      <th>age</th>\n",
              "      <th>numDeadRelations</th>\n",
              "      <th>boolDeadRelations</th>\n",
              "      <th>isPopular</th>\n",
              "      <th>popularity</th>\n",
              "      <th>isAlive</th>\n",
              "    </tr>\n",
              "  </thead>\n",
              "  <tbody>\n",
              "    <tr>\n",
              "      <th>329</th>\n",
              "      <td>330</td>\n",
              "      <td>Baelon Targaryen (son of Viserys I)</td>\n",
              "      <td>1</td>\n",
              "      <td>Valyrian</td>\n",
              "      <td>Targaryen</td>\n",
              "      <td>0</td>\n",
              "      <td>0</td>\n",
              "      <td>0</td>\n",
              "      <td>0</td>\n",
              "      <td>0</td>\n",
              "      <td>0</td>\n",
              "      <td>1</td>\n",
              "      <td>0.0</td>\n",
              "      <td>0</td>\n",
              "      <td>0</td>\n",
              "      <td>0</td>\n",
              "      <td>0.100334</td>\n",
              "      <td>0</td>\n",
              "    </tr>\n",
              "    <tr>\n",
              "      <th>790</th>\n",
              "      <td>791</td>\n",
              "      <td>Mors Martell (brother of Doran)</td>\n",
              "      <td>1</td>\n",
              "      <td>NaN</td>\n",
              "      <td>Martell</td>\n",
              "      <td>0</td>\n",
              "      <td>0</td>\n",
              "      <td>0</td>\n",
              "      <td>1</td>\n",
              "      <td>0</td>\n",
              "      <td>0</td>\n",
              "      <td>0</td>\n",
              "      <td>0.0</td>\n",
              "      <td>0</td>\n",
              "      <td>0</td>\n",
              "      <td>0</td>\n",
              "      <td>0.066890</td>\n",
              "      <td>0</td>\n",
              "    </tr>\n",
              "    <tr>\n",
              "      <th>1684</th>\n",
              "      <td>1685</td>\n",
              "      <td>Doreah</td>\n",
              "      <td>0</td>\n",
              "      <td>Lysene</td>\n",
              "      <td>Targaryen</td>\n",
              "      <td>1</td>\n",
              "      <td>1</td>\n",
              "      <td>0</td>\n",
              "      <td>0</td>\n",
              "      <td>1</td>\n",
              "      <td>0</td>\n",
              "      <td>0</td>\n",
              "      <td>-277980.0</td>\n",
              "      <td>0</td>\n",
              "      <td>0</td>\n",
              "      <td>0</td>\n",
              "      <td>0.110368</td>\n",
              "      <td>0</td>\n",
              "    </tr>\n",
              "    <tr>\n",
              "      <th>1868</th>\n",
              "      <td>1869</td>\n",
              "      <td>Rhaego</td>\n",
              "      <td>0</td>\n",
              "      <td>NaN</td>\n",
              "      <td>Targaryen</td>\n",
              "      <td>1</td>\n",
              "      <td>1</td>\n",
              "      <td>1</td>\n",
              "      <td>1</td>\n",
              "      <td>0</td>\n",
              "      <td>0</td>\n",
              "      <td>0</td>\n",
              "      <td>-298001.0</td>\n",
              "      <td>6</td>\n",
              "      <td>1</td>\n",
              "      <td>0</td>\n",
              "      <td>0.167224</td>\n",
              "      <td>0</td>\n",
              "    </tr>\n",
              "  </tbody>\n",
              "</table>\n",
              "</div>"
            ]
          },
          "metadata": {
            "tags": []
          },
          "execution_count": 57
        }
      ]
    },
    {
      "cell_type": "markdown",
      "metadata": {
        "id": "w_ZXuhUU1kgW"
      },
      "source": [
        "After doing a little investigative work on these characters we find\n",
        "*   Baelon's age should be 44, not 0\n",
        "*   Doreah was a handmaiden of Daenerys Targaryen who is 25 yrs.\n",
        "*   Rhaego was the stillborn son of Drogo and Daenerys Targaryen, so 0 yrs makes sense. \n",
        "*   Mors Nymeros Martell, brother of Prince Doran Martell died as an infant so no need to change his age of 0yrs. "
      ]
    },
    {
      "cell_type": "code",
      "metadata": {
        "id": "5hhbfWn_5UCF"
      },
      "source": [
        "# fix Doreah's age\n",
        "df['age'].replace([-277980.0], 25, inplace=True)"
      ],
      "execution_count": 58,
      "outputs": []
    },
    {
      "cell_type": "code",
      "metadata": {
        "id": "gYwZ3vV1K1Xy"
      },
      "source": [
        "# fix Rhaego's age\n",
        "df['age'].replace([-298001.0], 0, inplace=True)"
      ],
      "execution_count": 59,
      "outputs": []
    },
    {
      "cell_type": "code",
      "metadata": {
        "id": "kCf57r4gAg8Y"
      },
      "source": [
        "# fix Baelons age\n",
        "df.loc[(df['name'] == 'Baelon Targaryen (son of Viserys I)'), 'age'] = 25 "
      ],
      "execution_count": 60,
      "outputs": []
    },
    {
      "cell_type": "code",
      "metadata": {
        "id": "m1pqT3vl6Cax",
        "outputId": "ed061101-0e1e-421c-a6fd-9b592f8db995",
        "colab": {
          "base_uri": "https://localhost:8080/",
          "height": 68
        }
      },
      "source": [
        "# Sanity check this took care of all the negative ages\n",
        "df.loc[(df.age < 0)]"
      ],
      "execution_count": 61,
      "outputs": [
        {
          "output_type": "execute_result",
          "data": {
            "text/plain": [
              "Empty DataFrame\n",
              "Columns: [S.No, name, male, culture, house, book1, book2, book3, book4, book5, isMarried, isNoble, age, numDeadRelations, boolDeadRelations, isPopular, popularity, isAlive]\n",
              "Index: []"
            ],
            "text/html": [
              "<div>\n",
              "<style scoped>\n",
              "    .dataframe tbody tr th:only-of-type {\n",
              "        vertical-align: middle;\n",
              "    }\n",
              "\n",
              "    .dataframe tbody tr th {\n",
              "        vertical-align: top;\n",
              "    }\n",
              "\n",
              "    .dataframe thead th {\n",
              "        text-align: right;\n",
              "    }\n",
              "</style>\n",
              "<table border=\"1\" class=\"dataframe\">\n",
              "  <thead>\n",
              "    <tr style=\"text-align: right;\">\n",
              "      <th></th>\n",
              "      <th>S.No</th>\n",
              "      <th>name</th>\n",
              "      <th>male</th>\n",
              "      <th>culture</th>\n",
              "      <th>house</th>\n",
              "      <th>book1</th>\n",
              "      <th>book2</th>\n",
              "      <th>book3</th>\n",
              "      <th>book4</th>\n",
              "      <th>book5</th>\n",
              "      <th>isMarried</th>\n",
              "      <th>isNoble</th>\n",
              "      <th>age</th>\n",
              "      <th>numDeadRelations</th>\n",
              "      <th>boolDeadRelations</th>\n",
              "      <th>isPopular</th>\n",
              "      <th>popularity</th>\n",
              "      <th>isAlive</th>\n",
              "    </tr>\n",
              "  </thead>\n",
              "  <tbody>\n",
              "  </tbody>\n",
              "</table>\n",
              "</div>"
            ]
          },
          "metadata": {
            "tags": []
          },
          "execution_count": 61
        }
      ]
    },
    {
      "cell_type": "code",
      "metadata": {
        "id": "MyvEfumtwY6l",
        "outputId": "bcb3a73e-85fe-4af9-e183-30f208250c5a",
        "colab": {
          "base_uri": "https://localhost:8080/"
        }
      },
      "source": [
        "df['age'].value_counts()"
      ],
      "execution_count": 62,
      "outputs": [
        {
          "output_type": "execute_result",
          "data": {
            "text/plain": [
              "100.0    11\n",
              "22.0      7\n",
              "39.0      5\n",
              "19.0      5\n",
              "20.0      5\n",
              "25.0      5\n",
              "17.0      4\n",
              "24.0      4\n",
              "49.0      3\n",
              "36.0      3\n",
              "14.0      3\n",
              "32.0      3\n",
              "34.0      3\n",
              "21.0      3\n",
              "55.0      3\n",
              "18.0      3\n",
              "35.0      3\n",
              "13.0      2\n",
              "28.0      2\n",
              "15.0      2\n",
              "16.0      2\n",
              "31.0      2\n",
              "23.0      2\n",
              "10.0      2\n",
              "0.0       2\n",
              "38.0      2\n",
              "37.0      2\n",
              "56.0      2\n",
              "3.0       2\n",
              "29.0      2\n",
              "         ..\n",
              "59.0      1\n",
              "26.0      1\n",
              "61.0      1\n",
              "70.0      1\n",
              "6.0       1\n",
              "2.0       1\n",
              "47.0      1\n",
              "79.0      1\n",
              "63.0      1\n",
              "76.0      1\n",
              "65.0      1\n",
              "72.0      1\n",
              "52.0      1\n",
              "58.0      1\n",
              "27.0      1\n",
              "81.0      1\n",
              "62.0      1\n",
              "66.0      1\n",
              "77.0      1\n",
              "45.0      1\n",
              "30.0      1\n",
              "48.0      1\n",
              "84.0      1\n",
              "43.0      1\n",
              "41.0      1\n",
              "12.0      1\n",
              "1.0       1\n",
              "54.0      1\n",
              "9.0       1\n",
              "46.0      1\n",
              "Name: age, Length: 62, dtype: int64"
            ]
          },
          "metadata": {
            "tags": []
          },
          "execution_count": 62
        }
      ]
    },
    {
      "cell_type": "code",
      "metadata": {
        "id": "e0_18T9E4ZHE",
        "outputId": "ea7ccaf0-69d0-4586-bd3d-d2b75749911a",
        "colab": {
          "base_uri": "https://localhost:8080/",
          "height": 847
        }
      },
      "source": [
        "# 11 people exactly 100 yrs old seems odd for Westeros. Who are these characters?\n",
        "df.loc[(df.age == 100)]"
      ],
      "execution_count": 63,
      "outputs": [
        {
          "output_type": "execute_result",
          "data": {
            "text/plain": [
              "      S.No                                       name  male   culture  \\\n",
              "55      56                           Naerys Targaryen     0  Valyrian   \n",
              "85      86      Rhaena Targaryen (daughter of Daemon)     0       NaN   \n",
              "86      87   Rhaena Targaryen (daughter of Aegon III)     0  Valyrian   \n",
              "285    286       Aegon Targaryen (son of Jaehaerys I)     0  Valyrian   \n",
              "430    431    Daella Targaryen (daughter of Maekar I)     1  Valyrian   \n",
              "431    432  Daenerys Targaryen (daughter of Aegon IV)     0       NaN   \n",
              "433    434                            Daena Targaryen     0  Valyrian   \n",
              "1347  1348                            Saera Targaryen     1  Valyrian   \n",
              "1815  1816                             Shiera Seastar     0  Westeros   \n",
              "1880  1881                             Rhae Targaryen     0  Valyrian   \n",
              "1901  1902                            Baela Targaryen     0  Valyrian   \n",
              "\n",
              "           house  book1  book2  book3  book4  book5  isMarried  isNoble  \\\n",
              "55     Targaryen      1      0      0      0      0          1        1   \n",
              "85     Targaryen      0      0      0      0      0          1        1   \n",
              "86     Targaryen      0      0      0      0      0          0        1   \n",
              "285    Targaryen      0      0      0      0      0          0        1   \n",
              "430    Targaryen      0      0      0      0      0          0        1   \n",
              "431    Targaryen      0      0      0      0      1          1        1   \n",
              "433    Targaryen      0      0      0      0      0          1        1   \n",
              "1347   Targaryen      0      0      0      0      0          0        1   \n",
              "1815   Targaryen      0      0      0      0      1          0        0   \n",
              "1880   Targaryen      0      0      0      0      0          0        1   \n",
              "1901   Targaryen      0      0      0      0      0          1        1   \n",
              "\n",
              "        age  numDeadRelations  boolDeadRelations  isPopular  popularity  \\\n",
              "55    100.0                12                  1          0    0.220736   \n",
              "85    100.0                 0                  0          0    0.143813   \n",
              "86    100.0                 0                  0          0    0.073579   \n",
              "285   100.0                 0                  0          0    0.000000   \n",
              "430   100.0                 0                  0          0    0.080268   \n",
              "431   100.0                10                  1          0    0.093645   \n",
              "433   100.0                 7                  1          0    0.227425   \n",
              "1347  100.0                 0                  0          0    0.070234   \n",
              "1815  100.0                 4                  1          0    0.043478   \n",
              "1880  100.0                 0                  0          0    0.080268   \n",
              "1901  100.0                 0                  0          0    0.127090   \n",
              "\n",
              "      isAlive  \n",
              "55          0  \n",
              "85          0  \n",
              "86          0  \n",
              "285         0  \n",
              "430         0  \n",
              "431         0  \n",
              "433         0  \n",
              "1347        0  \n",
              "1815        0  \n",
              "1880        0  \n",
              "1901        0  "
            ],
            "text/html": [
              "<div>\n",
              "<style scoped>\n",
              "    .dataframe tbody tr th:only-of-type {\n",
              "        vertical-align: middle;\n",
              "    }\n",
              "\n",
              "    .dataframe tbody tr th {\n",
              "        vertical-align: top;\n",
              "    }\n",
              "\n",
              "    .dataframe thead th {\n",
              "        text-align: right;\n",
              "    }\n",
              "</style>\n",
              "<table border=\"1\" class=\"dataframe\">\n",
              "  <thead>\n",
              "    <tr style=\"text-align: right;\">\n",
              "      <th></th>\n",
              "      <th>S.No</th>\n",
              "      <th>name</th>\n",
              "      <th>male</th>\n",
              "      <th>culture</th>\n",
              "      <th>house</th>\n",
              "      <th>book1</th>\n",
              "      <th>book2</th>\n",
              "      <th>book3</th>\n",
              "      <th>book4</th>\n",
              "      <th>book5</th>\n",
              "      <th>isMarried</th>\n",
              "      <th>isNoble</th>\n",
              "      <th>age</th>\n",
              "      <th>numDeadRelations</th>\n",
              "      <th>boolDeadRelations</th>\n",
              "      <th>isPopular</th>\n",
              "      <th>popularity</th>\n",
              "      <th>isAlive</th>\n",
              "    </tr>\n",
              "  </thead>\n",
              "  <tbody>\n",
              "    <tr>\n",
              "      <th>55</th>\n",
              "      <td>56</td>\n",
              "      <td>Naerys Targaryen</td>\n",
              "      <td>0</td>\n",
              "      <td>Valyrian</td>\n",
              "      <td>Targaryen</td>\n",
              "      <td>1</td>\n",
              "      <td>0</td>\n",
              "      <td>0</td>\n",
              "      <td>0</td>\n",
              "      <td>0</td>\n",
              "      <td>1</td>\n",
              "      <td>1</td>\n",
              "      <td>100.0</td>\n",
              "      <td>12</td>\n",
              "      <td>1</td>\n",
              "      <td>0</td>\n",
              "      <td>0.220736</td>\n",
              "      <td>0</td>\n",
              "    </tr>\n",
              "    <tr>\n",
              "      <th>85</th>\n",
              "      <td>86</td>\n",
              "      <td>Rhaena Targaryen (daughter of Daemon)</td>\n",
              "      <td>0</td>\n",
              "      <td>NaN</td>\n",
              "      <td>Targaryen</td>\n",
              "      <td>0</td>\n",
              "      <td>0</td>\n",
              "      <td>0</td>\n",
              "      <td>0</td>\n",
              "      <td>0</td>\n",
              "      <td>1</td>\n",
              "      <td>1</td>\n",
              "      <td>100.0</td>\n",
              "      <td>0</td>\n",
              "      <td>0</td>\n",
              "      <td>0</td>\n",
              "      <td>0.143813</td>\n",
              "      <td>0</td>\n",
              "    </tr>\n",
              "    <tr>\n",
              "      <th>86</th>\n",
              "      <td>87</td>\n",
              "      <td>Rhaena Targaryen (daughter of Aegon III)</td>\n",
              "      <td>0</td>\n",
              "      <td>Valyrian</td>\n",
              "      <td>Targaryen</td>\n",
              "      <td>0</td>\n",
              "      <td>0</td>\n",
              "      <td>0</td>\n",
              "      <td>0</td>\n",
              "      <td>0</td>\n",
              "      <td>0</td>\n",
              "      <td>1</td>\n",
              "      <td>100.0</td>\n",
              "      <td>0</td>\n",
              "      <td>0</td>\n",
              "      <td>0</td>\n",
              "      <td>0.073579</td>\n",
              "      <td>0</td>\n",
              "    </tr>\n",
              "    <tr>\n",
              "      <th>285</th>\n",
              "      <td>286</td>\n",
              "      <td>Aegon Targaryen (son of Jaehaerys I)</td>\n",
              "      <td>0</td>\n",
              "      <td>Valyrian</td>\n",
              "      <td>Targaryen</td>\n",
              "      <td>0</td>\n",
              "      <td>0</td>\n",
              "      <td>0</td>\n",
              "      <td>0</td>\n",
              "      <td>0</td>\n",
              "      <td>0</td>\n",
              "      <td>1</td>\n",
              "      <td>100.0</td>\n",
              "      <td>0</td>\n",
              "      <td>0</td>\n",
              "      <td>0</td>\n",
              "      <td>0.000000</td>\n",
              "      <td>0</td>\n",
              "    </tr>\n",
              "    <tr>\n",
              "      <th>430</th>\n",
              "      <td>431</td>\n",
              "      <td>Daella Targaryen (daughter of Maekar I)</td>\n",
              "      <td>1</td>\n",
              "      <td>Valyrian</td>\n",
              "      <td>Targaryen</td>\n",
              "      <td>0</td>\n",
              "      <td>0</td>\n",
              "      <td>0</td>\n",
              "      <td>0</td>\n",
              "      <td>0</td>\n",
              "      <td>0</td>\n",
              "      <td>1</td>\n",
              "      <td>100.0</td>\n",
              "      <td>0</td>\n",
              "      <td>0</td>\n",
              "      <td>0</td>\n",
              "      <td>0.080268</td>\n",
              "      <td>0</td>\n",
              "    </tr>\n",
              "    <tr>\n",
              "      <th>431</th>\n",
              "      <td>432</td>\n",
              "      <td>Daenerys Targaryen (daughter of Aegon IV)</td>\n",
              "      <td>0</td>\n",
              "      <td>NaN</td>\n",
              "      <td>Targaryen</td>\n",
              "      <td>0</td>\n",
              "      <td>0</td>\n",
              "      <td>0</td>\n",
              "      <td>0</td>\n",
              "      <td>1</td>\n",
              "      <td>1</td>\n",
              "      <td>1</td>\n",
              "      <td>100.0</td>\n",
              "      <td>10</td>\n",
              "      <td>1</td>\n",
              "      <td>0</td>\n",
              "      <td>0.093645</td>\n",
              "      <td>0</td>\n",
              "    </tr>\n",
              "    <tr>\n",
              "      <th>433</th>\n",
              "      <td>434</td>\n",
              "      <td>Daena Targaryen</td>\n",
              "      <td>0</td>\n",
              "      <td>Valyrian</td>\n",
              "      <td>Targaryen</td>\n",
              "      <td>0</td>\n",
              "      <td>0</td>\n",
              "      <td>0</td>\n",
              "      <td>0</td>\n",
              "      <td>0</td>\n",
              "      <td>1</td>\n",
              "      <td>1</td>\n",
              "      <td>100.0</td>\n",
              "      <td>7</td>\n",
              "      <td>1</td>\n",
              "      <td>0</td>\n",
              "      <td>0.227425</td>\n",
              "      <td>0</td>\n",
              "    </tr>\n",
              "    <tr>\n",
              "      <th>1347</th>\n",
              "      <td>1348</td>\n",
              "      <td>Saera Targaryen</td>\n",
              "      <td>1</td>\n",
              "      <td>Valyrian</td>\n",
              "      <td>Targaryen</td>\n",
              "      <td>0</td>\n",
              "      <td>0</td>\n",
              "      <td>0</td>\n",
              "      <td>0</td>\n",
              "      <td>0</td>\n",
              "      <td>0</td>\n",
              "      <td>1</td>\n",
              "      <td>100.0</td>\n",
              "      <td>0</td>\n",
              "      <td>0</td>\n",
              "      <td>0</td>\n",
              "      <td>0.070234</td>\n",
              "      <td>0</td>\n",
              "    </tr>\n",
              "    <tr>\n",
              "      <th>1815</th>\n",
              "      <td>1816</td>\n",
              "      <td>Shiera Seastar</td>\n",
              "      <td>0</td>\n",
              "      <td>Westeros</td>\n",
              "      <td>Targaryen</td>\n",
              "      <td>0</td>\n",
              "      <td>0</td>\n",
              "      <td>0</td>\n",
              "      <td>0</td>\n",
              "      <td>1</td>\n",
              "      <td>0</td>\n",
              "      <td>0</td>\n",
              "      <td>100.0</td>\n",
              "      <td>4</td>\n",
              "      <td>1</td>\n",
              "      <td>0</td>\n",
              "      <td>0.043478</td>\n",
              "      <td>0</td>\n",
              "    </tr>\n",
              "    <tr>\n",
              "      <th>1880</th>\n",
              "      <td>1881</td>\n",
              "      <td>Rhae Targaryen</td>\n",
              "      <td>0</td>\n",
              "      <td>Valyrian</td>\n",
              "      <td>Targaryen</td>\n",
              "      <td>0</td>\n",
              "      <td>0</td>\n",
              "      <td>0</td>\n",
              "      <td>0</td>\n",
              "      <td>0</td>\n",
              "      <td>0</td>\n",
              "      <td>1</td>\n",
              "      <td>100.0</td>\n",
              "      <td>0</td>\n",
              "      <td>0</td>\n",
              "      <td>0</td>\n",
              "      <td>0.080268</td>\n",
              "      <td>0</td>\n",
              "    </tr>\n",
              "    <tr>\n",
              "      <th>1901</th>\n",
              "      <td>1902</td>\n",
              "      <td>Baela Targaryen</td>\n",
              "      <td>0</td>\n",
              "      <td>Valyrian</td>\n",
              "      <td>Targaryen</td>\n",
              "      <td>0</td>\n",
              "      <td>0</td>\n",
              "      <td>0</td>\n",
              "      <td>0</td>\n",
              "      <td>0</td>\n",
              "      <td>1</td>\n",
              "      <td>1</td>\n",
              "      <td>100.0</td>\n",
              "      <td>0</td>\n",
              "      <td>0</td>\n",
              "      <td>0</td>\n",
              "      <td>0.127090</td>\n",
              "      <td>0</td>\n",
              "    </tr>\n",
              "  </tbody>\n",
              "</table>\n",
              "</div>"
            ]
          },
          "metadata": {
            "tags": []
          },
          "execution_count": 63
        }
      ]
    },
    {
      "cell_type": "markdown",
      "metadata": {
        "id": "ItQZzDAvZVL1"
      },
      "source": [
        "Based on the Wiki of Ice and Fire's data, here are the actual ages. Randomly sampling other ages in the dataset shows other ages do match up with ages listed on the wiki. So it seems the age variable is accurate when it's not listing 100 yrs old or large negative numbers. \n",
        "*   Naerys Targaryen: 46\n",
        "*   Rhaena Targaryen (daughter of Daemon): unknown\n",
        "*   Rhaena Targaryen (daughter of Aegon III): 24\n",
        "*   Aegon Targaryen (son of Jaehaerys I): 0\n",
        "*   Daella Targaryen (daughter of Maekar I): unknown\n",
        "*   Daenerys Targaryen (daughter of Aegon IV): unknown\n",
        "*   Daena Targaryen: 26\n",
        "*   Saera Targaryen: 34\n",
        "*   Shiera Seastar: 33\n",
        "*   Rhae Targaryen: unknown\n",
        "*   Baela Targaryen: unknown"
      ]
    },
    {
      "cell_type": "code",
      "metadata": {
        "id": "yKA_RBDtuRdI"
      },
      "source": [
        "# fix Naerys' age\n",
        "df.loc[(df['name'] == 'Naerys Targaryen'), 'age'] = 46 "
      ],
      "execution_count": 64,
      "outputs": []
    },
    {
      "cell_type": "code",
      "metadata": {
        "id": "apFn1pkxvPLK"
      },
      "source": [
        "# fix Rhaena's age\n",
        "df.loc[(df['name'] == 'Rhaena Targaryen (daughter of Aegon III)'), 'age'] = 24"
      ],
      "execution_count": 65,
      "outputs": []
    },
    {
      "cell_type": "code",
      "metadata": {
        "id": "gzVJT2slvYQO"
      },
      "source": [
        "# fix Aegon, son of Jaehaerys I's age\n",
        "df.loc[(df['name'] == 'Aegon Targaryen (son of Jaehaerys I)'), 'age'] = 0"
      ],
      "execution_count": 66,
      "outputs": []
    },
    {
      "cell_type": "code",
      "metadata": {
        "id": "zLkr2OlKvhIr"
      },
      "source": [
        "# fix Daena's age\n",
        "df.loc[(df['name'] == 'Daena Targaryen'), 'age'] = 26 "
      ],
      "execution_count": 67,
      "outputs": []
    },
    {
      "cell_type": "code",
      "metadata": {
        "id": "HJnwG-vfvNye"
      },
      "source": [
        "# fix Saera's age\n",
        "df.loc[(df['name'] == 'Saera Targaryen'), 'age'] = 34 "
      ],
      "execution_count": 68,
      "outputs": []
    },
    {
      "cell_type": "code",
      "metadata": {
        "id": "n53ymLKyvyux"
      },
      "source": [
        "# fix Shiera's age\n",
        "df.loc[(df['name'] == 'Shiera Seastar'), 'age'] = 33"
      ],
      "execution_count": 69,
      "outputs": []
    },
    {
      "cell_type": "code",
      "metadata": {
        "id": "tA0wdZF6wSV2"
      },
      "source": [
        "# change ages from 100 to NA for: Rhae & Baela Targaryen, \n",
        "# Rhaena Targaryen (Daemon), Daella Targaryen & Daenerys Targaryen (Aegon IV) \n",
        "df['age'].replace([100], float('NaN'), inplace=True)"
      ],
      "execution_count": 70,
      "outputs": []
    },
    {
      "cell_type": "code",
      "metadata": {
        "id": "WVWvZDFiw9kC",
        "outputId": "669fd7c8-9869-46a5-8e4a-a991a20638a9",
        "colab": {
          "base_uri": "https://localhost:8080/",
          "height": 68
        }
      },
      "source": [
        "# Verify no one remains listed as 100 incorrectly\n",
        "df.loc[(df.age == 100)]"
      ],
      "execution_count": 71,
      "outputs": [
        {
          "output_type": "execute_result",
          "data": {
            "text/plain": [
              "Empty DataFrame\n",
              "Columns: [S.No, name, male, culture, house, book1, book2, book3, book4, book5, isMarried, isNoble, age, numDeadRelations, boolDeadRelations, isPopular, popularity, isAlive]\n",
              "Index: []"
            ],
            "text/html": [
              "<div>\n",
              "<style scoped>\n",
              "    .dataframe tbody tr th:only-of-type {\n",
              "        vertical-align: middle;\n",
              "    }\n",
              "\n",
              "    .dataframe tbody tr th {\n",
              "        vertical-align: top;\n",
              "    }\n",
              "\n",
              "    .dataframe thead th {\n",
              "        text-align: right;\n",
              "    }\n",
              "</style>\n",
              "<table border=\"1\" class=\"dataframe\">\n",
              "  <thead>\n",
              "    <tr style=\"text-align: right;\">\n",
              "      <th></th>\n",
              "      <th>S.No</th>\n",
              "      <th>name</th>\n",
              "      <th>male</th>\n",
              "      <th>culture</th>\n",
              "      <th>house</th>\n",
              "      <th>book1</th>\n",
              "      <th>book2</th>\n",
              "      <th>book3</th>\n",
              "      <th>book4</th>\n",
              "      <th>book5</th>\n",
              "      <th>isMarried</th>\n",
              "      <th>isNoble</th>\n",
              "      <th>age</th>\n",
              "      <th>numDeadRelations</th>\n",
              "      <th>boolDeadRelations</th>\n",
              "      <th>isPopular</th>\n",
              "      <th>popularity</th>\n",
              "      <th>isAlive</th>\n",
              "    </tr>\n",
              "  </thead>\n",
              "  <tbody>\n",
              "  </tbody>\n",
              "</table>\n",
              "</div>"
            ]
          },
          "metadata": {
            "tags": []
          },
          "execution_count": 71
        }
      ]
    },
    {
      "cell_type": "markdown",
      "metadata": {
        "id": "2t3q9a6SxzVG"
      },
      "source": [
        "Now that we've dealt with outliers, what does do the mean, median and mode of the age variable look like?"
      ]
    },
    {
      "cell_type": "code",
      "metadata": {
        "id": "2J1BM1UYxSd8",
        "outputId": "5f2177bb-9ae3-44cd-81cc-bb54e7678e25",
        "colab": {
          "base_uri": "https://localhost:8080/"
        }
      },
      "source": [
        "df['age'].describe()"
      ],
      "execution_count": 72,
      "outputs": [
        {
          "output_type": "execute_result",
          "data": {
            "text/plain": [
              "count    126.000000\n",
              "mean      32.007937\n",
              "std       18.841017\n",
              "min        0.000000\n",
              "25%       19.000000\n",
              "50%       27.500000\n",
              "75%       41.750000\n",
              "max       84.000000\n",
              "Name: age, dtype: float64"
            ]
          },
          "metadata": {
            "tags": []
          },
          "execution_count": 72
        }
      ]
    },
    {
      "cell_type": "code",
      "metadata": {
        "id": "o2OXO0Jkx8uf",
        "outputId": "b96d0adc-0337-4a25-9d1a-82d19bc030be",
        "colab": {
          "base_uri": "https://localhost:8080/"
        }
      },
      "source": [
        "df['age'].mean()"
      ],
      "execution_count": 73,
      "outputs": [
        {
          "output_type": "execute_result",
          "data": {
            "text/plain": [
              "32.007936507936506"
            ]
          },
          "metadata": {
            "tags": []
          },
          "execution_count": 73
        }
      ]
    },
    {
      "cell_type": "markdown",
      "metadata": {
        "id": "_LEO_SzUu9MY"
      },
      "source": [
        "### **FILL IN MISSING VALUES**\n",
        "Age: Fill in with mean wouldn't work well here, since there's so much of a gap between the max age and the next most common age 22yrs old. "
      ]
    },
    {
      "cell_type": "code",
      "metadata": {
        "id": "f4f3vaBZDfR0",
        "outputId": "72f40028-7221-4f06-909f-c1afc2c6a6f6",
        "colab": {
          "base_uri": "https://localhost:8080/"
        }
      },
      "source": [
        "# total number of missing values in the dataset\n",
        "df.isnull().sum().sum()"
      ],
      "execution_count": 74,
      "outputs": [
        {
          "output_type": "execute_result",
          "data": {
            "text/plain": [
              "561"
            ]
          },
          "metadata": {
            "tags": []
          },
          "execution_count": 74
        }
      ]
    },
    {
      "cell_type": "code",
      "metadata": {
        "id": "OetmaYdGEbe1",
        "outputId": "744d9986-a2bf-48ce-91f7-4d5a2e38d2a8",
        "colab": {
          "base_uri": "https://localhost:8080/"
        }
      },
      "source": [
        "# Check for duplicated values\n",
        "df.duplicated().sum()"
      ],
      "execution_count": 75,
      "outputs": [
        {
          "output_type": "execute_result",
          "data": {
            "text/plain": [
              "0"
            ]
          },
          "metadata": {
            "tags": []
          },
          "execution_count": 75
        }
      ]
    },
    {
      "cell_type": "code",
      "metadata": {
        "id": "Xgve1sWbObNP",
        "outputId": "c6d56006-6b99-41a8-cbef-f1a0ec0f9d28",
        "colab": {
          "base_uri": "https://localhost:8080/"
        }
      },
      "source": [
        "df.columns"
      ],
      "execution_count": 76,
      "outputs": [
        {
          "output_type": "execute_result",
          "data": {
            "text/plain": [
              "Index([u'S.No', u'name', u'male', u'culture', u'house', u'book1', u'book2',\n",
              "       u'book3', u'book4', u'book5', u'isMarried', u'isNoble', u'age',\n",
              "       u'numDeadRelations', u'boolDeadRelations', u'isPopular', u'popularity',\n",
              "       u'isAlive'],\n",
              "      dtype='object')"
            ]
          },
          "metadata": {
            "tags": []
          },
          "execution_count": 76
        }
      ]
    },
    {
      "cell_type": "markdown",
      "metadata": {
        "id": "LhAJFfSYYOhO"
      },
      "source": [
        "### **DATA VISUALIZATION**\n",
        "Let's create a heatmap to visualize any correlations. The closer to 1 or -1 the correlation value is, the more related the features are. A value close to 0 means there is little correlation. Here are a few questions we could explore.\n",
        "1. Is there a correlation between a character's traits: **married or not, male or female, noble or not** and survival?\n",
        "2. Is there a correlation between **popularity** and survival?\n",
        "3. Is there a correlation between the **number of dead relatives** and that character's survival?\n",
        "4. Is there a correlation between **appearances in a particular book** & survival?\n",
        "5. Is there a correlation between **age** & survival?\n",
        "6. Is there a correlation between whether **mother, father, heir, or spouse are alive** and survival?"
      ]
    },
    {
      "cell_type": "code",
      "metadata": {
        "id": "9BUk6myT5QHl"
      },
      "source": [
        "# Create correlation matrix\n",
        "corr_matrix = df.corr()\n",
        "\n",
        "# df_dummy = pd.get_dummies(df.house)\n",
        "# df = pd.concat([df, df_dummy], axis = 1)\n",
        "\n",
        "# Set up mask to hide upper triangle.\n",
        "mask = np.zeros_like(corr_matrix, dtype=np.bool)\n",
        "mask[np.triu_indices_from(mask)]= True"
      ],
      "execution_count": 77,
      "outputs": []
    },
    {
      "cell_type": "code",
      "metadata": {
        "id": "beW6adz8PpDo",
        "outputId": "a927ad7a-b116-4f0b-9abb-3ad9fc994d41",
        "colab": {
          "base_uri": "https://localhost:8080/",
          "height": 879
        }
      },
      "source": [
        "# Visualize correlations\n",
        "plt.figure(figsize = (15,15))\n",
        "sns.heatmap(corr_matrix, \n",
        "            mask = mask, \n",
        "            square=True, \n",
        "            annot=True,\n",
        "            linewidths = .5, \n",
        "            cmap='coolwarm',\n",
        "            vmin = -1, \n",
        "            vmax = 1)\n",
        "\n",
        "plt.title(\"Character Features & Survival Correlation\")\n",
        "sns.set_style({'xtick.bottom': True}, {'ytick.left': True})"
      ],
      "execution_count": 78,
      "outputs": [
        {
          "output_type": "display_data",
          "data": {
            "image/png": "[encoded data removed]",
            "text/plain": [
              "<Figure size 1080x1080 with 2 Axes>"
            ]
          },
          "metadata": {
            "tags": [],
            "needs_background": "light"
          }
        }
      ]
    },
    {
      "cell_type": "markdown",
      "metadata": {
        "id": "rw6DC1aKJKjz"
      },
      "source": [
        "Looking at the heatmap above, let's reflect on our initial questions. A strong correlation coefficent is greater than 0.8. A correlation under 0.5 is generally described as weak. There aren't any correlations: neither strong nor week in a positive or negative direction between a character's survival and any of the features in our dataframe. The largest correlation value for \"isAlive\" is whether the spouse is alive, which at 0.35 doesn't even meet the bar for a weak level of correlation. In the heatmap above, only the numeric columns were calculated, so it's possible there's a correlation between house and survival. The age variable is frequently missing, and may provide more signal if it's mapped to categories like \"young\", \"middle-aged\" and \"elder\" instead of exact ages."
      ]
    },
    {
      "cell_type": "markdown",
      "metadata": {
        "id": "LSKN5wQPHp-y"
      },
      "source": [
        "### **CHECKING CLASS BALANCE**\n",
        "Let's look at the balance of characters alive vs dead and the representation of each house and culture.  "
      ]
    },
    {
      "cell_type": "code",
      "metadata": {
        "id": "p269uZjynezf",
        "outputId": "bced3e7b-104f-4d79-d709-31a068882a02",
        "colab": {
          "base_uri": "https://localhost:8080/"
        }
      },
      "source": [
        "df.isAlive.value_counts()"
      ],
      "execution_count": 160,
      "outputs": [
        {
          "output_type": "execute_result",
          "data": {
            "text/plain": [
              "1    270\n",
              "0    165\n",
              "Name: isAlive, dtype: int64"
            ]
          },
          "metadata": {
            "tags": []
          },
          "execution_count": 160
        }
      ]
    },
    {
      "cell_type": "markdown",
      "metadata": {
        "id": "MuQpfbMlntKb"
      },
      "source": [
        "The dataset isn't heavily skewed in one direction. The living represent 62% of the dataset, and the dead 38%. "
      ]
    },
    {
      "cell_type": "code",
      "metadata": {
        "id": "8K4NNkdbTJtY",
        "outputId": "0217011f-6dbf-4062-d71b-5c8f2531a04b",
        "colab": {
          "base_uri": "https://localhost:8080/"
        }
      },
      "source": [
        "# What is the representation of each house in the data?\n",
        "df.house.value_counts() / len(df)"
      ],
      "execution_count": 79,
      "outputs": [
        {
          "output_type": "execute_result",
          "data": {
            "text/plain": [
              "Night's Watch    0.241379\n",
              " Stark           0.165517\n",
              " Targaryen       0.142529\n",
              " Lannister       0.112644\n",
              " Greyjoy         0.094253\n",
              " Tyrell          0.082759\n",
              " Martell         0.066667\n",
              " Arryn           0.036782\n",
              " Baratheon       0.029885\n",
              " Tully           0.027586\n",
              "Name: house, dtype: float64"
            ]
          },
          "metadata": {
            "tags": []
          },
          "execution_count": 79
        }
      ]
    },
    {
      "cell_type": "markdown",
      "metadata": {
        "id": "CSG5yMdGUt3b"
      },
      "source": [
        "Out of 435 characters, Night's Watch represents 24% of the data with 2.8% being from the smallest house, Tully. A prediction is more likely to be accurate for houses with larger representation in the dataset vs houses with less representation because the model will have fewer examples to train on for that particular house. "
      ]
    },
    {
      "cell_type": "code",
      "metadata": {
        "id": "jKEql2ddYOc5",
        "outputId": "f056b863-f8c7-44aa-a100-e75b50802f53",
        "colab": {
          "base_uri": "https://localhost:8080/",
          "height": 415
        }
      },
      "source": [
        "# How many characters per house?\n",
        "df.groupby(['house']).count()"
      ],
      "execution_count": 80,
      "outputs": [
        {
          "output_type": "execute_result",
          "data": {
            "text/plain": [
              "               S.No  name  male  culture  book1  book2  book3  book4  book5  \\\n",
              "house                                                                         \n",
              " Arryn           16    16    16        4     16     16     16     16     16   \n",
              " Baratheon       13    13    13        1     13     13     13     13     13   \n",
              " Greyjoy         41    41    41       28     41     41     41     41     41   \n",
              " Lannister       49    49    49       10     49     49     49     49     49   \n",
              " Martell         29    29    29       18     29     29     29     29     29   \n",
              " Stark           72    72    72       60     72     72     72     72     72   \n",
              " Targaryen       62    62    62       42     62     62     62     62     62   \n",
              " Tully           12    12    12        6     12     12     12     12     12   \n",
              " Tyrell          36    36    36        6     36     36     36     36     36   \n",
              "Night's Watch   105   105   105        8    105    105    105    105    105   \n",
              "\n",
              "               isMarried  isNoble  age  numDeadRelations  boolDeadRelations  \\\n",
              "house                                                                         \n",
              " Arryn                16       16    3                16                 16   \n",
              " Baratheon            13       13    5                13                 13   \n",
              " Greyjoy              41       41    7                41                 41   \n",
              " Lannister            49       49   18                49                 49   \n",
              " Martell              29       29   14                29                 29   \n",
              " Stark                72       72   13                72                 72   \n",
              " Targaryen            62       62   41                62                 62   \n",
              " Tully                12       12    5                12                 12   \n",
              " Tyrell               36       36    7                36                 36   \n",
              "Night's Watch        105      105   13               105                105   \n",
              "\n",
              "               isPopular  popularity  isAlive  \n",
              "house                                          \n",
              " Arryn                16          16       16  \n",
              " Baratheon            13          13       13  \n",
              " Greyjoy              41          41       41  \n",
              " Lannister            49          49       49  \n",
              " Martell              29          29       29  \n",
              " Stark                72          72       72  \n",
              " Targaryen            62          62       62  \n",
              " Tully                12          12       12  \n",
              " Tyrell               36          36       36  \n",
              "Night's Watch        105         105      105  "
            ],
            "text/html": [
              "<div>\n",
              "<style scoped>\n",
              "    .dataframe tbody tr th:only-of-type {\n",
              "        vertical-align: middle;\n",
              "    }\n",
              "\n",
              "    .dataframe tbody tr th {\n",
              "        vertical-align: top;\n",
              "    }\n",
              "\n",
              "    .dataframe thead th {\n",
              "        text-align: right;\n",
              "    }\n",
              "</style>\n",
              "<table border=\"1\" class=\"dataframe\">\n",
              "  <thead>\n",
              "    <tr style=\"text-align: right;\">\n",
              "      <th></th>\n",
              "      <th>S.No</th>\n",
              "      <th>name</th>\n",
              "      <th>male</th>\n",
              "      <th>culture</th>\n",
              "      <th>book1</th>\n",
              "      <th>book2</th>\n",
              "      <th>book3</th>\n",
              "      <th>book4</th>\n",
              "      <th>book5</th>\n",
              "      <th>isMarried</th>\n",
              "      <th>isNoble</th>\n",
              "      <th>age</th>\n",
              "      <th>numDeadRelations</th>\n",
              "      <th>boolDeadRelations</th>\n",
              "      <th>isPopular</th>\n",
              "      <th>popularity</th>\n",
              "      <th>isAlive</th>\n",
              "    </tr>\n",
              "    <tr>\n",
              "      <th>house</th>\n",
              "      <th></th>\n",
              "      <th></th>\n",
              "      <th></th>\n",
              "      <th></th>\n",
              "      <th></th>\n",
              "      <th></th>\n",
              "      <th></th>\n",
              "      <th></th>\n",
              "      <th></th>\n",
              "      <th></th>\n",
              "      <th></th>\n",
              "      <th></th>\n",
              "      <th></th>\n",
              "      <th></th>\n",
              "      <th></th>\n",
              "      <th></th>\n",
              "      <th></th>\n",
              "    </tr>\n",
              "  </thead>\n",
              "  <tbody>\n",
              "    <tr>\n",
              "      <th>Arryn</th>\n",
              "      <td>16</td>\n",
              "      <td>16</td>\n",
              "      <td>16</td>\n",
              "      <td>4</td>\n",
              "      <td>16</td>\n",
              "      <td>16</td>\n",
              "      <td>16</td>\n",
              "      <td>16</td>\n",
              "      <td>16</td>\n",
              "      <td>16</td>\n",
              "      <td>16</td>\n",
              "      <td>3</td>\n",
              "      <td>16</td>\n",
              "      <td>16</td>\n",
              "      <td>16</td>\n",
              "      <td>16</td>\n",
              "      <td>16</td>\n",
              "    </tr>\n",
              "    <tr>\n",
              "      <th>Baratheon</th>\n",
              "      <td>13</td>\n",
              "      <td>13</td>\n",
              "      <td>13</td>\n",
              "      <td>1</td>\n",
              "      <td>13</td>\n",
              "      <td>13</td>\n",
              "      <td>13</td>\n",
              "      <td>13</td>\n",
              "      <td>13</td>\n",
              "      <td>13</td>\n",
              "      <td>13</td>\n",
              "      <td>5</td>\n",
              "      <td>13</td>\n",
              "      <td>13</td>\n",
              "      <td>13</td>\n",
              "      <td>13</td>\n",
              "      <td>13</td>\n",
              "    </tr>\n",
              "    <tr>\n",
              "      <th>Greyjoy</th>\n",
              "      <td>41</td>\n",
              "      <td>41</td>\n",
              "      <td>41</td>\n",
              "      <td>28</td>\n",
              "      <td>41</td>\n",
              "      <td>41</td>\n",
              "      <td>41</td>\n",
              "      <td>41</td>\n",
              "      <td>41</td>\n",
              "      <td>41</td>\n",
              "      <td>41</td>\n",
              "      <td>7</td>\n",
              "      <td>41</td>\n",
              "      <td>41</td>\n",
              "      <td>41</td>\n",
              "      <td>41</td>\n",
              "      <td>41</td>\n",
              "    </tr>\n",
              "    <tr>\n",
              "      <th>Lannister</th>\n",
              "      <td>49</td>\n",
              "      <td>49</td>\n",
              "      <td>49</td>\n",
              "      <td>10</td>\n",
              "      <td>49</td>\n",
              "      <td>49</td>\n",
              "      <td>49</td>\n",
              "      <td>49</td>\n",
              "      <td>49</td>\n",
              "      <td>49</td>\n",
              "      <td>49</td>\n",
              "      <td>18</td>\n",
              "      <td>49</td>\n",
              "      <td>49</td>\n",
              "      <td>49</td>\n",
              "      <td>49</td>\n",
              "      <td>49</td>\n",
              "    </tr>\n",
              "    <tr>\n",
              "      <th>Martell</th>\n",
              "      <td>29</td>\n",
              "      <td>29</td>\n",
              "      <td>29</td>\n",
              "      <td>18</td>\n",
              "      <td>29</td>\n",
              "      <td>29</td>\n",
              "      <td>29</td>\n",
              "      <td>29</td>\n",
              "      <td>29</td>\n",
              "      <td>29</td>\n",
              "      <td>29</td>\n",
              "      <td>14</td>\n",
              "      <td>29</td>\n",
              "      <td>29</td>\n",
              "      <td>29</td>\n",
              "      <td>29</td>\n",
              "      <td>29</td>\n",
              "    </tr>\n",
              "    <tr>\n",
              "      <th>Stark</th>\n",
              "      <td>72</td>\n",
              "      <td>72</td>\n",
              "      <td>72</td>\n",
              "      <td>60</td>\n",
              "      <td>72</td>\n",
              "      <td>72</td>\n",
              "      <td>72</td>\n",
              "      <td>72</td>\n",
              "      <td>72</td>\n",
              "      <td>72</td>\n",
              "      <td>72</td>\n",
              "      <td>13</td>\n",
              "      <td>72</td>\n",
              "      <td>72</td>\n",
              "      <td>72</td>\n",
              "      <td>72</td>\n",
              "      <td>72</td>\n",
              "    </tr>\n",
              "    <tr>\n",
              "      <th>Targaryen</th>\n",
              "      <td>62</td>\n",
              "      <td>62</td>\n",
              "      <td>62</td>\n",
              "      <td>42</td>\n",
              "      <td>62</td>\n",
              "      <td>62</td>\n",
              "      <td>62</td>\n",
              "      <td>62</td>\n",
              "      <td>62</td>\n",
              "      <td>62</td>\n",
              "      <td>62</td>\n",
              "      <td>41</td>\n",
              "      <td>62</td>\n",
              "      <td>62</td>\n",
              "      <td>62</td>\n",
              "      <td>62</td>\n",
              "      <td>62</td>\n",
              "    </tr>\n",
              "    <tr>\n",
              "      <th>Tully</th>\n",
              "      <td>12</td>\n",
              "      <td>12</td>\n",
              "      <td>12</td>\n",
              "      <td>6</td>\n",
              "      <td>12</td>\n",
              "      <td>12</td>\n",
              "      <td>12</td>\n",
              "      <td>12</td>\n",
              "      <td>12</td>\n",
              "      <td>12</td>\n",
              "      <td>12</td>\n",
              "      <td>5</td>\n",
              "      <td>12</td>\n",
              "      <td>12</td>\n",
              "      <td>12</td>\n",
              "      <td>12</td>\n",
              "      <td>12</td>\n",
              "    </tr>\n",
              "    <tr>\n",
              "      <th>Tyrell</th>\n",
              "      <td>36</td>\n",
              "      <td>36</td>\n",
              "      <td>36</td>\n",
              "      <td>6</td>\n",
              "      <td>36</td>\n",
              "      <td>36</td>\n",
              "      <td>36</td>\n",
              "      <td>36</td>\n",
              "      <td>36</td>\n",
              "      <td>36</td>\n",
              "      <td>36</td>\n",
              "      <td>7</td>\n",
              "      <td>36</td>\n",
              "      <td>36</td>\n",
              "      <td>36</td>\n",
              "      <td>36</td>\n",
              "      <td>36</td>\n",
              "    </tr>\n",
              "    <tr>\n",
              "      <th>Night's Watch</th>\n",
              "      <td>105</td>\n",
              "      <td>105</td>\n",
              "      <td>105</td>\n",
              "      <td>8</td>\n",
              "      <td>105</td>\n",
              "      <td>105</td>\n",
              "      <td>105</td>\n",
              "      <td>105</td>\n",
              "      <td>105</td>\n",
              "      <td>105</td>\n",
              "      <td>105</td>\n",
              "      <td>13</td>\n",
              "      <td>105</td>\n",
              "      <td>105</td>\n",
              "      <td>105</td>\n",
              "      <td>105</td>\n",
              "      <td>105</td>\n",
              "    </tr>\n",
              "  </tbody>\n",
              "</table>\n",
              "</div>"
            ]
          },
          "metadata": {
            "tags": []
          },
          "execution_count": 80
        }
      ]
    },
    {
      "cell_type": "code",
      "metadata": {
        "id": "DULhBI0hWmPg",
        "outputId": "0506cf1d-8d9f-4fd5-bea2-fa25cabeadfc",
        "colab": {
          "base_uri": "https://localhost:8080/",
          "height": 698
        }
      },
      "source": [
        "# Group by house, survival\n",
        "df.groupby(['house', 'isAlive']).count()"
      ],
      "execution_count": 81,
      "outputs": [
        {
          "output_type": "execute_result",
          "data": {
            "text/plain": [
              "                       S.No  name  male  culture  book1  book2  book3  book4  \\\n",
              "house         isAlive                                                          \n",
              " Arryn        0           6     6     6        3      6      6      6      6   \n",
              "              1          10    10    10        1     10     10     10     10   \n",
              " Baratheon    0           6     6     6        1      6      6      6      6   \n",
              "              1           7     7     7        0      7      7      7      7   \n",
              " Greyjoy      0          14    14    14        6     14     14     14     14   \n",
              "              1          27    27    27       22     27     27     27     27   \n",
              " Lannister    0          18    18    18        5     18     18     18     18   \n",
              "              1          31    31    31        5     31     31     31     31   \n",
              " Martell      0           4     4     4        3      4      4      4      4   \n",
              "              1          25    25    25       15     25     25     25     25   \n",
              " Stark        0          22    22    22       17     22     22     22     22   \n",
              "              1          50    50    50       43     50     50     50     50   \n",
              " Targaryen    0          41    41    41       29     41     41     41     41   \n",
              "              1          21    21    21       13     21     21     21     21   \n",
              " Tully        0           7     7     7        3      7      7      7      7   \n",
              "              1           5     5     5        3      5      5      5      5   \n",
              " Tyrell       0           2     2     2        2      2      2      2      2   \n",
              "              1          34    34    34        4     34     34     34     34   \n",
              "Night's Watch 0          45    45    45        4     45     45     45     45   \n",
              "              1          60    60    60        4     60     60     60     60   \n",
              "\n",
              "                       book5  isMarried  isNoble  age  numDeadRelations  \\\n",
              "house         isAlive                                                     \n",
              " Arryn        0            6          6        6    2                 6   \n",
              "              1           10         10       10    1                10   \n",
              " Baratheon    0            6          6        6    4                 6   \n",
              "              1            7          7        7    1                 7   \n",
              " Greyjoy      0           14         14       14    2                14   \n",
              "              1           27         27       27    5                27   \n",
              " Lannister    0           18         18       18    9                18   \n",
              "              1           31         31       31    9                31   \n",
              " Martell      0            4          4        4    3                 4   \n",
              "              1           25         25       25   11                25   \n",
              " Stark        0           22         22       22    6                22   \n",
              "              1           50         50       50    7                50   \n",
              " Targaryen    0           41         41       41   35                41   \n",
              "              1           21         21       21    6                21   \n",
              " Tully        0            7          7        7    3                 7   \n",
              "              1            5          5        5    2                 5   \n",
              " Tyrell       0            2          2        2    0                 2   \n",
              "              1           34         34       34    7                34   \n",
              "Night's Watch 0           45         45       45    5                45   \n",
              "              1           60         60       60    8                60   \n",
              "\n",
              "                       boolDeadRelations  isPopular  popularity  \n",
              "house         isAlive                                            \n",
              " Arryn        0                        6          6           6  \n",
              "              1                       10         10          10  \n",
              " Baratheon    0                        6          6           6  \n",
              "              1                        7          7           7  \n",
              " Greyjoy      0                       14         14          14  \n",
              "              1                       27         27          27  \n",
              " Lannister    0                       18         18          18  \n",
              "              1                       31         31          31  \n",
              " Martell      0                        4          4           4  \n",
              "              1                       25         25          25  \n",
              " Stark        0                       22         22          22  \n",
              "              1                       50         50          50  \n",
              " Targaryen    0                       41         41          41  \n",
              "              1                       21         21          21  \n",
              " Tully        0                        7          7           7  \n",
              "              1                        5          5           5  \n",
              " Tyrell       0                        2          2           2  \n",
              "              1                       34         34          34  \n",
              "Night's Watch 0                       45         45          45  \n",
              "              1                       60         60          60  "
            ],
            "text/html": [
              "<div>\n",
              "<style scoped>\n",
              "    .dataframe tbody tr th:only-of-type {\n",
              "        vertical-align: middle;\n",
              "    }\n",
              "\n",
              "    .dataframe tbody tr th {\n",
              "        vertical-align: top;\n",
              "    }\n",
              "\n",
              "    .dataframe thead th {\n",
              "        text-align: right;\n",
              "    }\n",
              "</style>\n",
              "<table border=\"1\" class=\"dataframe\">\n",
              "  <thead>\n",
              "    <tr style=\"text-align: right;\">\n",
              "      <th></th>\n",
              "      <th></th>\n",
              "      <th>S.No</th>\n",
              "      <th>name</th>\n",
              "      <th>male</th>\n",
              "      <th>culture</th>\n",
              "      <th>book1</th>\n",
              "      <th>book2</th>\n",
              "      <th>book3</th>\n",
              "      <th>book4</th>\n",
              "      <th>book5</th>\n",
              "      <th>isMarried</th>\n",
              "      <th>isNoble</th>\n",
              "      <th>age</th>\n",
              "      <th>numDeadRelations</th>\n",
              "      <th>boolDeadRelations</th>\n",
              "      <th>isPopular</th>\n",
              "      <th>popularity</th>\n",
              "    </tr>\n",
              "    <tr>\n",
              "      <th>house</th>\n",
              "      <th>isAlive</th>\n",
              "      <th></th>\n",
              "      <th></th>\n",
              "      <th></th>\n",
              "      <th></th>\n",
              "      <th></th>\n",
              "      <th></th>\n",
              "      <th></th>\n",
              "      <th></th>\n",
              "      <th></th>\n",
              "      <th></th>\n",
              "      <th></th>\n",
              "      <th></th>\n",
              "      <th></th>\n",
              "      <th></th>\n",
              "      <th></th>\n",
              "      <th></th>\n",
              "    </tr>\n",
              "  </thead>\n",
              "  <tbody>\n",
              "    <tr>\n",
              "      <th rowspan=\"2\" valign=\"top\">Arryn</th>\n",
              "      <th>0</th>\n",
              "      <td>6</td>\n",
              "      <td>6</td>\n",
              "      <td>6</td>\n",
              "      <td>3</td>\n",
              "      <td>6</td>\n",
              "      <td>6</td>\n",
              "      <td>6</td>\n",
              "      <td>6</td>\n",
              "      <td>6</td>\n",
              "      <td>6</td>\n",
              "      <td>6</td>\n",
              "      <td>2</td>\n",
              "      <td>6</td>\n",
              "      <td>6</td>\n",
              "      <td>6</td>\n",
              "      <td>6</td>\n",
              "    </tr>\n",
              "    <tr>\n",
              "      <th>1</th>\n",
              "      <td>10</td>\n",
              "      <td>10</td>\n",
              "      <td>10</td>\n",
              "      <td>1</td>\n",
              "      <td>10</td>\n",
              "      <td>10</td>\n",
              "      <td>10</td>\n",
              "      <td>10</td>\n",
              "      <td>10</td>\n",
              "      <td>10</td>\n",
              "      <td>10</td>\n",
              "      <td>1</td>\n",
              "      <td>10</td>\n",
              "      <td>10</td>\n",
              "      <td>10</td>\n",
              "      <td>10</td>\n",
              "    </tr>\n",
              "    <tr>\n",
              "      <th rowspan=\"2\" valign=\"top\">Baratheon</th>\n",
              "      <th>0</th>\n",
              "      <td>6</td>\n",
              "      <td>6</td>\n",
              "      <td>6</td>\n",
              "      <td>1</td>\n",
              "      <td>6</td>\n",
              "      <td>6</td>\n",
              "      <td>6</td>\n",
              "      <td>6</td>\n",
              "      <td>6</td>\n",
              "      <td>6</td>\n",
              "      <td>6</td>\n",
              "      <td>4</td>\n",
              "      <td>6</td>\n",
              "      <td>6</td>\n",
              "      <td>6</td>\n",
              "      <td>6</td>\n",
              "    </tr>\n",
              "    <tr>\n",
              "      <th>1</th>\n",
              "      <td>7</td>\n",
              "      <td>7</td>\n",
              "      <td>7</td>\n",
              "      <td>0</td>\n",
              "      <td>7</td>\n",
              "      <td>7</td>\n",
              "      <td>7</td>\n",
              "      <td>7</td>\n",
              "      <td>7</td>\n",
              "      <td>7</td>\n",
              "      <td>7</td>\n",
              "      <td>1</td>\n",
              "      <td>7</td>\n",
              "      <td>7</td>\n",
              "      <td>7</td>\n",
              "      <td>7</td>\n",
              "    </tr>\n",
              "    <tr>\n",
              "      <th rowspan=\"2\" valign=\"top\">Greyjoy</th>\n",
              "      <th>0</th>\n",
              "      <td>14</td>\n",
              "      <td>14</td>\n",
              "      <td>14</td>\n",
              "      <td>6</td>\n",
              "      <td>14</td>\n",
              "      <td>14</td>\n",
              "      <td>14</td>\n",
              "      <td>14</td>\n",
              "      <td>14</td>\n",
              "      <td>14</td>\n",
              "      <td>14</td>\n",
              "      <td>2</td>\n",
              "      <td>14</td>\n",
              "      <td>14</td>\n",
              "      <td>14</td>\n",
              "      <td>14</td>\n",
              "    </tr>\n",
              "    <tr>\n",
              "      <th>1</th>\n",
              "      <td>27</td>\n",
              "      <td>27</td>\n",
              "      <td>27</td>\n",
              "      <td>22</td>\n",
              "      <td>27</td>\n",
              "      <td>27</td>\n",
              "      <td>27</td>\n",
              "      <td>27</td>\n",
              "      <td>27</td>\n",
              "      <td>27</td>\n",
              "      <td>27</td>\n",
              "      <td>5</td>\n",
              "      <td>27</td>\n",
              "      <td>27</td>\n",
              "      <td>27</td>\n",
              "      <td>27</td>\n",
              "    </tr>\n",
              "    <tr>\n",
              "      <th rowspan=\"2\" valign=\"top\">Lannister</th>\n",
              "      <th>0</th>\n",
              "      <td>18</td>\n",
              "      <td>18</td>\n",
              "      <td>18</td>\n",
              "      <td>5</td>\n",
              "      <td>18</td>\n",
              "      <td>18</td>\n",
              "      <td>18</td>\n",
              "      <td>18</td>\n",
              "      <td>18</td>\n",
              "      <td>18</td>\n",
              "      <td>18</td>\n",
              "      <td>9</td>\n",
              "      <td>18</td>\n",
              "      <td>18</td>\n",
              "      <td>18</td>\n",
              "      <td>18</td>\n",
              "    </tr>\n",
              "    <tr>\n",
              "      <th>1</th>\n",
              "      <td>31</td>\n",
              "      <td>31</td>\n",
              "      <td>31</td>\n",
              "      <td>5</td>\n",
              "      <td>31</td>\n",
              "      <td>31</td>\n",
              "      <td>31</td>\n",
              "      <td>31</td>\n",
              "      <td>31</td>\n",
              "      <td>31</td>\n",
              "      <td>31</td>\n",
              "      <td>9</td>\n",
              "      <td>31</td>\n",
              "      <td>31</td>\n",
              "      <td>31</td>\n",
              "      <td>31</td>\n",
              "    </tr>\n",
              "    <tr>\n",
              "      <th rowspan=\"2\" valign=\"top\">Martell</th>\n",
              "      <th>0</th>\n",
              "      <td>4</td>\n",
              "      <td>4</td>\n",
              "      <td>4</td>\n",
              "      <td>3</td>\n",
              "      <td>4</td>\n",
              "      <td>4</td>\n",
              "      <td>4</td>\n",
              "      <td>4</td>\n",
              "      <td>4</td>\n",
              "      <td>4</td>\n",
              "      <td>4</td>\n",
              "      <td>3</td>\n",
              "      <td>4</td>\n",
              "      <td>4</td>\n",
              "      <td>4</td>\n",
              "      <td>4</td>\n",
              "    </tr>\n",
              "    <tr>\n",
              "      <th>1</th>\n",
              "      <td>25</td>\n",
              "      <td>25</td>\n",
              "      <td>25</td>\n",
              "      <td>15</td>\n",
              "      <td>25</td>\n",
              "      <td>25</td>\n",
              "      <td>25</td>\n",
              "      <td>25</td>\n",
              "      <td>25</td>\n",
              "      <td>25</td>\n",
              "      <td>25</td>\n",
              "      <td>11</td>\n",
              "      <td>25</td>\n",
              "      <td>25</td>\n",
              "      <td>25</td>\n",
              "      <td>25</td>\n",
              "    </tr>\n",
              "    <tr>\n",
              "      <th rowspan=\"2\" valign=\"top\">Stark</th>\n",
              "      <th>0</th>\n",
              "      <td>22</td>\n",
              "      <td>22</td>\n",
              "      <td>22</td>\n",
              "      <td>17</td>\n",
              "      <td>22</td>\n",
              "      <td>22</td>\n",
              "      <td>22</td>\n",
              "      <td>22</td>\n",
              "      <td>22</td>\n",
              "      <td>22</td>\n",
              "      <td>22</td>\n",
              "      <td>6</td>\n",
              "      <td>22</td>\n",
              "      <td>22</td>\n",
              "      <td>22</td>\n",
              "      <td>22</td>\n",
              "    </tr>\n",
              "    <tr>\n",
              "      <th>1</th>\n",
              "      <td>50</td>\n",
              "      <td>50</td>\n",
              "      <td>50</td>\n",
              "      <td>43</td>\n",
              "      <td>50</td>\n",
              "      <td>50</td>\n",
              "      <td>50</td>\n",
              "      <td>50</td>\n",
              "      <td>50</td>\n",
              "      <td>50</td>\n",
              "      <td>50</td>\n",
              "      <td>7</td>\n",
              "      <td>50</td>\n",
              "      <td>50</td>\n",
              "      <td>50</td>\n",
              "      <td>50</td>\n",
              "    </tr>\n",
              "    <tr>\n",
              "      <th rowspan=\"2\" valign=\"top\">Targaryen</th>\n",
              "      <th>0</th>\n",
              "      <td>41</td>\n",
              "      <td>41</td>\n",
              "      <td>41</td>\n",
              "      <td>29</td>\n",
              "      <td>41</td>\n",
              "      <td>41</td>\n",
              "      <td>41</td>\n",
              "      <td>41</td>\n",
              "      <td>41</td>\n",
              "      <td>41</td>\n",
              "      <td>41</td>\n",
              "      <td>35</td>\n",
              "      <td>41</td>\n",
              "      <td>41</td>\n",
              "      <td>41</td>\n",
              "      <td>41</td>\n",
              "    </tr>\n",
              "    <tr>\n",
              "      <th>1</th>\n",
              "      <td>21</td>\n",
              "      <td>21</td>\n",
              "      <td>21</td>\n",
              "      <td>13</td>\n",
              "      <td>21</td>\n",
              "      <td>21</td>\n",
              "      <td>21</td>\n",
              "      <td>21</td>\n",
              "      <td>21</td>\n",
              "      <td>21</td>\n",
              "      <td>21</td>\n",
              "      <td>6</td>\n",
              "      <td>21</td>\n",
              "      <td>21</td>\n",
              "      <td>21</td>\n",
              "      <td>21</td>\n",
              "    </tr>\n",
              "    <tr>\n",
              "      <th rowspan=\"2\" valign=\"top\">Tully</th>\n",
              "      <th>0</th>\n",
              "      <td>7</td>\n",
              "      <td>7</td>\n",
              "      <td>7</td>\n",
              "      <td>3</td>\n",
              "      <td>7</td>\n",
              "      <td>7</td>\n",
              "      <td>7</td>\n",
              "      <td>7</td>\n",
              "      <td>7</td>\n",
              "      <td>7</td>\n",
              "      <td>7</td>\n",
              "      <td>3</td>\n",
              "      <td>7</td>\n",
              "      <td>7</td>\n",
              "      <td>7</td>\n",
              "      <td>7</td>\n",
              "    </tr>\n",
              "    <tr>\n",
              "      <th>1</th>\n",
              "      <td>5</td>\n",
              "      <td>5</td>\n",
              "      <td>5</td>\n",
              "      <td>3</td>\n",
              "      <td>5</td>\n",
              "      <td>5</td>\n",
              "      <td>5</td>\n",
              "      <td>5</td>\n",
              "      <td>5</td>\n",
              "      <td>5</td>\n",
              "      <td>5</td>\n",
              "      <td>2</td>\n",
              "      <td>5</td>\n",
              "      <td>5</td>\n",
              "      <td>5</td>\n",
              "      <td>5</td>\n",
              "    </tr>\n",
              "    <tr>\n",
              "      <th rowspan=\"2\" valign=\"top\">Tyrell</th>\n",
              "      <th>0</th>\n",
              "      <td>2</td>\n",
              "      <td>2</td>\n",
              "      <td>2</td>\n",
              "      <td>2</td>\n",
              "      <td>2</td>\n",
              "      <td>2</td>\n",
              "      <td>2</td>\n",
              "      <td>2</td>\n",
              "      <td>2</td>\n",
              "      <td>2</td>\n",
              "      <td>2</td>\n",
              "      <td>0</td>\n",
              "      <td>2</td>\n",
              "      <td>2</td>\n",
              "      <td>2</td>\n",
              "      <td>2</td>\n",
              "    </tr>\n",
              "    <tr>\n",
              "      <th>1</th>\n",
              "      <td>34</td>\n",
              "      <td>34</td>\n",
              "      <td>34</td>\n",
              "      <td>4</td>\n",
              "      <td>34</td>\n",
              "      <td>34</td>\n",
              "      <td>34</td>\n",
              "      <td>34</td>\n",
              "      <td>34</td>\n",
              "      <td>34</td>\n",
              "      <td>34</td>\n",
              "      <td>7</td>\n",
              "      <td>34</td>\n",
              "      <td>34</td>\n",
              "      <td>34</td>\n",
              "      <td>34</td>\n",
              "    </tr>\n",
              "    <tr>\n",
              "      <th rowspan=\"2\" valign=\"top\">Night's Watch</th>\n",
              "      <th>0</th>\n",
              "      <td>45</td>\n",
              "      <td>45</td>\n",
              "      <td>45</td>\n",
              "      <td>4</td>\n",
              "      <td>45</td>\n",
              "      <td>45</td>\n",
              "      <td>45</td>\n",
              "      <td>45</td>\n",
              "      <td>45</td>\n",
              "      <td>45</td>\n",
              "      <td>45</td>\n",
              "      <td>5</td>\n",
              "      <td>45</td>\n",
              "      <td>45</td>\n",
              "      <td>45</td>\n",
              "      <td>45</td>\n",
              "    </tr>\n",
              "    <tr>\n",
              "      <th>1</th>\n",
              "      <td>60</td>\n",
              "      <td>60</td>\n",
              "      <td>60</td>\n",
              "      <td>4</td>\n",
              "      <td>60</td>\n",
              "      <td>60</td>\n",
              "      <td>60</td>\n",
              "      <td>60</td>\n",
              "      <td>60</td>\n",
              "      <td>60</td>\n",
              "      <td>60</td>\n",
              "      <td>8</td>\n",
              "      <td>60</td>\n",
              "      <td>60</td>\n",
              "      <td>60</td>\n",
              "      <td>60</td>\n",
              "    </tr>\n",
              "  </tbody>\n",
              "</table>\n",
              "</div>"
            ]
          },
          "metadata": {
            "tags": []
          },
          "execution_count": 81
        }
      ]
    },
    {
      "cell_type": "code",
      "metadata": {
        "id": "lU_5RT8aF0Db",
        "outputId": "51e5367a-03a3-4f28-e2bb-67f0ecb8ca59",
        "colab": {
          "base_uri": "https://localhost:8080/",
          "height": 627
        }
      },
      "source": [
        "# Plot proportion alive by house\n",
        "sns.barplot(x='isAlive', y='house', data=df)\n",
        "fig = plt.gcf()\n",
        "fig.set_size_inches(5, 10)\n",
        "plt.xlabel(\"Proportion Alive\")\n",
        "plt.ylabel(\"House\")\n",
        "plt.title(\"Proportion Alive by House\")\n",
        "plt.savefig(\"proportion_alive_by_house.png\", format='png',dpi=150)"
      ],
      "execution_count": 202,
      "outputs": [
        {
          "output_type": "display_data",
          "data": {
            "image/png": "[encoded data removed]",
            "text/plain": [
              "<Figure size 360x720 with 1 Axes>"
            ]
          },
          "metadata": {
            "tags": []
          }
        }
      ]
    },
    {
      "cell_type": "markdown",
      "metadata": {
        "id": "c_CLJvLwv1SK"
      },
      "source": [
        "House Tyrell has the largest portion alive, while Targaryens have the least portion of their house alive. This matches up with the history of Westeros which inclues a major war between two Targaryens that resulted in the destruction of most of house Targaryen and nearly all their dragons."
      ]
    },
    {
      "cell_type": "code",
      "metadata": {
        "id": "NQCj5Fc5jPT0",
        "outputId": "b7bb3d79-5ab3-4e4e-b7df-5476787f919b",
        "colab": {
          "base_uri": "https://localhost:8080/"
        }
      },
      "source": [
        "# Get unique culture values regardless \n",
        "df['culture'].str.title().unique()"
      ],
      "execution_count": 158,
      "outputs": [
        {
          "output_type": "execute_result",
          "data": {
            "text/plain": [
              "array([nan, 'Valyrian', 'Ironborn', 'Northmen', 'Reach', 'Lhazarene',\n",
              "       'Westermen', 'Westerman', 'Summer Isles', 'Dothraki', 'Westeros',\n",
              "       'Rivermen', 'Vale', 'Sistermen', 'Wildling', 'Dorne', 'Dornishmen',\n",
              "       'Dornish', 'Tyroshi', 'Westerlands', 'Naathi', 'Rhoynar',\n",
              "       'Free Folk', 'Ironmen', 'Norvos', 'Meereenese', 'First Men',\n",
              "       'Lysene', 'Pentoshi', 'Valemen', 'Stormlands', 'Braavosi',\n",
              "       'Wildlings', 'The Reach'], dtype=object)"
            ]
          },
          "metadata": {
            "tags": []
          },
          "execution_count": 158
        }
      ]
    },
    {
      "cell_type": "code",
      "metadata": {
        "id": "CSIBF4V7c5xa",
        "outputId": "4e191301-4729-48d2-8549-391ed49d7df1",
        "colab": {
          "base_uri": "https://localhost:8080/",
          "height": 627
        }
      },
      "source": [
        "# Plot proportion alive by culture\n",
        "sns.set_style('whitegrid')\n",
        "culture = list(df['culture'].str.title().unique())\n",
        "ax = sns.barplot(x='isAlive', y='culture', data=df)\n",
        "fig = plt.gcf()\n",
        "fig.set_size_inches(5, 10)\n",
        "plt.xlabel(\"Proportion Alive\")\n",
        "plt.ylabel(\"Culture\")\n",
        "plt.title(\"Proportion Alive by Culture\")\n",
        "plt.savefig(\"proportion_alive_by_culture.png\", format='png',dpi=150)"
      ],
      "execution_count": 203,
      "outputs": [
        {
          "output_type": "display_data",
          "data": {
            "image/png": "[encoded data removed]",
            "text/plain": [
              "<Figure size 360x720 with 1 Axes>"
            ]
          },
          "metadata": {
            "tags": []
          }
        }
      ]
    },
    {
      "cell_type": "markdown",
      "metadata": {
        "id": "URvzjcKJws-J"
      },
      "source": [
        "This doesn't seem right. The First Men are the original human inhabitants of Westeros, so it's unlikely they are alive. Let's look at the counts behind these percentages."
      ]
    },
    {
      "cell_type": "code",
      "metadata": {
        "id": "mFvQzJ8ox1Hv",
        "outputId": "3f2794eb-3ee9-4b7c-bdd0-c899280a6e18",
        "colab": {
          "base_uri": "https://localhost:8080/",
          "height": 78
        }
      },
      "source": [
        "df.loc[df['culture'] == 'First Men'][['name', 'isAlive']]"
      ],
      "execution_count": 220,
      "outputs": [
        {
          "output_type": "execute_result",
          "data": {
            "text/plain": [
              "                  name  isAlive\n",
              "1664  Bran the Builder        1"
            ],
            "text/html": [
              "<div>\n",
              "<style scoped>\n",
              "    .dataframe tbody tr th:only-of-type {\n",
              "        vertical-align: middle;\n",
              "    }\n",
              "\n",
              "    .dataframe tbody tr th {\n",
              "        vertical-align: top;\n",
              "    }\n",
              "\n",
              "    .dataframe thead th {\n",
              "        text-align: right;\n",
              "    }\n",
              "</style>\n",
              "<table border=\"1\" class=\"dataframe\">\n",
              "  <thead>\n",
              "    <tr style=\"text-align: right;\">\n",
              "      <th></th>\n",
              "      <th>name</th>\n",
              "      <th>isAlive</th>\n",
              "    </tr>\n",
              "  </thead>\n",
              "  <tbody>\n",
              "    <tr>\n",
              "      <th>1664</th>\n",
              "      <td>Bran the Builder</td>\n",
              "      <td>1</td>\n",
              "    </tr>\n",
              "  </tbody>\n",
              "</table>\n",
              "</div>"
            ]
          },
          "metadata": {
            "tags": []
          },
          "execution_count": 220
        }
      ]
    },
    {
      "cell_type": "code",
      "metadata": {
        "id": "DckEFQwu1NA9",
        "outputId": "f9335938-f4ac-4957-e11e-c7bcc6a3af99",
        "colab": {
          "base_uri": "https://localhost:8080/"
        }
      },
      "source": [
        "df.culture.value_counts()"
      ],
      "execution_count": 221,
      "outputs": [
        {
          "output_type": "execute_result",
          "data": {
            "text/plain": [
              "Northmen        48\n",
              "Valyrian        29\n",
              "Ironborn        26\n",
              "Dornishmen       9\n",
              "northmen         8\n",
              "Rivermen         6\n",
              "Dornish          6\n",
              "Westerman        6\n",
              "Dothraki         5\n",
              "Westeros         5\n",
              "Reach            5\n",
              "Valemen          3\n",
              "westermen        2\n",
              "Pentoshi         2\n",
              "Westerlands      2\n",
              "Ironmen          2\n",
              "Lhazarene        1\n",
              "Free folk        1\n",
              "ironborn         1\n",
              "Tyroshi          1\n",
              "Meereenese       1\n",
              "First Men        1\n",
              "Sistermen        1\n",
              "The Reach        1\n",
              "Stormlands       1\n",
              "Summer Isles     1\n",
              "Wildling         1\n",
              "Wildlings        1\n",
              "Lysene           1\n",
              "Naathi           1\n",
              "Dorne            1\n",
              "Braavosi         1\n",
              "Vale             1\n",
              "Rhoynar          1\n",
              "Norvos           1\n",
              "Name: culture, dtype: int64"
            ]
          },
          "metadata": {
            "tags": []
          },
          "execution_count": 221
        }
      ]
    },
    {
      "cell_type": "code",
      "metadata": {
        "id": "4cg_qgMdx7kc"
      },
      "source": [
        ""
      ],
      "execution_count": null,
      "outputs": []
    }
  ]
}