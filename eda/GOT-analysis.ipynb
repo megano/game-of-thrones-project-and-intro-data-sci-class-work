{
  "nbformat": 4,
  "nbformat_minor": 0,
  "metadata": {
    "kernelspec": {
      "name": "python3",
      "display_name": "Python 3"
    },
    "colab": {
      "name": "GOT-analysis.ipynb",
      "provenance": [],
      "collapsed_sections": []
    }
  },
  "cells": [
    {
      "cell_type": "markdown",
      "metadata": {
        "id": "Y8jSGs-DfSBw"
      },
      "source": [
        "<a href=\"https://colab.research.google.com/github/googlecolab/colabtools/blob/master/notebooks/colab-github-demo.ipynb\" target=\"_parent\"><img src=\"https://colab.research.google.com/assets/colab-badge.svg\" alt=\"Open In Colab\"/></a>\n"
      ]
    },
    {
      "cell_type": "markdown",
      "metadata": {
        "id": "ORN9dWWALgKn"
      },
      "source": [
        "# **Game of Thrones Survival Classification Project**\n",
        "This is a machine learning classification project on Game of Thrones data. We will classify whether a character is alive or not by the end of book 5. Data contains 1946 characters from the Westeros wiki http://awoiaf.westeros.org, provided in csv format by the A Song of Ice and Data team. The Game of Thrones TV series is based on George RR Martin’s “A Song of Fire and Ice” 7 book series. After the 5th book, the TV series and books diverge more. \n",
        "\n",
        "**Plan**:\n",
        "- Load, explore, clean & visualize the data\n",
        "- Preprocessing: prepare data for modelling, feature engineering\n",
        "- 3 models: logistic regression, random forest, __.   "
      ]
    },
    {
      "cell_type": "markdown",
      "metadata": {
        "id": "K82gwuD_Li0Q"
      },
      "source": [
        "### **SETUP -- Import Libraries, Models & Metrics**\n",
        "To run this notebook in your browser click the \"Open in Colab\" button. Below are the libraries, models and metrics we'll use."
      ]
    },
    {
      "cell_type": "code",
      "metadata": {
        "id": "jaWD3Jp4F0DS"
      },
      "source": [
        "import pandas as pd # data processing\n",
        "import numpy as np # linear algebra\n",
        "import seaborn as sns # for visuals\n",
        "import matplotlib.pyplot as plt # for graphs\n",
        "# how graphs are printed\n",
        "%matplotlib inline \n",
        "plt.style.use('ggplot') \n",
        "pd.set_option('display.max_rows', 20)\n",
        "pd.set_option('display.max_columns', 20)\n",
        "\n",
        "from sklearn.preprocessing import OneHotEncoder\n",
        "from sklearn import metrics\n",
        "# from sklearn.tree import DecisionTreeClassifier\n",
        "# from sklearn.naive_bayes import MultinomialNB\n",
        "from sklearn.model_selection import cross_val_score\n",
        "from sklearn.model_selection import train_test_split\n",
        "from sklearn.preprocessing import StandardScaler\n",
        "from sklearn.dummy import DummyClassifier\n",
        "from sklearn.linear_model import LogisticRegression\n",
        "from sklearn.ensemble import RandomForestClassifier\n",
        "# from sklearn.tree import export_graphviz\n",
        "from sklearn.metrics import accuracy_score\n",
        "from sklearn.metrics import confusion_matrix\n",
        "from sklearn.metrics import plot_confusion_matrix\n",
        "from sklearn.metrics import classification_report"
      ],
      "execution_count": null,
      "outputs": []
    },
    {
      "cell_type": "markdown",
      "metadata": {
        "id": "IXNf_sXqS-Z8"
      },
      "source": [
        "### **LOAD & EXPLORE DATA**\n",
        "Use pandas to import the CSV file from a Google Cloud bucket into a dataframe. "
      ]
    },
    {
      "cell_type": "code",
      "metadata": {
        "id": "UokcXreNfiTB",
        "colab": {
          "base_uri": "https://localhost:8080/",
          "height": 369
        },
        "outputId": "52494a2b-4933-4e3e-8007-a1b83d4039eb"
      },
      "source": [
        "df_raw = pd.read_csv('https://storage.googleapis.com/storytelling-megano/raw-data/character-predictions.csv', index_col='S.No')\n",
        "df_raw.head()"
      ],
      "execution_count": null,
      "outputs": [
        {
          "output_type": "execute_result",
          "data": {
            "text/html": [
              "<div>\n",
              "<style scoped>\n",
              "    .dataframe tbody tr th:only-of-type {\n",
              "        vertical-align: middle;\n",
              "    }\n",
              "\n",
              "    .dataframe tbody tr th {\n",
              "        vertical-align: top;\n",
              "    }\n",
              "\n",
              "    .dataframe thead th {\n",
              "        text-align: right;\n",
              "    }\n",
              "</style>\n",
              "<table border=\"1\" class=\"dataframe\">\n",
              "  <thead>\n",
              "    <tr style=\"text-align: right;\">\n",
              "      <th></th>\n",
              "      <th>actual</th>\n",
              "      <th>pred</th>\n",
              "      <th>alive</th>\n",
              "      <th>plod</th>\n",
              "      <th>name</th>\n",
              "      <th>title</th>\n",
              "      <th>male</th>\n",
              "      <th>culture</th>\n",
              "      <th>dateOfBirth</th>\n",
              "      <th>DateoFdeath</th>\n",
              "      <th>...</th>\n",
              "      <th>isAliveHeir</th>\n",
              "      <th>isAliveSpouse</th>\n",
              "      <th>isMarried</th>\n",
              "      <th>isNoble</th>\n",
              "      <th>age</th>\n",
              "      <th>numDeadRelations</th>\n",
              "      <th>boolDeadRelations</th>\n",
              "      <th>isPopular</th>\n",
              "      <th>popularity</th>\n",
              "      <th>isAlive</th>\n",
              "    </tr>\n",
              "    <tr>\n",
              "      <th>S.No</th>\n",
              "      <th></th>\n",
              "      <th></th>\n",
              "      <th></th>\n",
              "      <th></th>\n",
              "      <th></th>\n",
              "      <th></th>\n",
              "      <th></th>\n",
              "      <th></th>\n",
              "      <th></th>\n",
              "      <th></th>\n",
              "      <th></th>\n",
              "      <th></th>\n",
              "      <th></th>\n",
              "      <th></th>\n",
              "      <th></th>\n",
              "      <th></th>\n",
              "      <th></th>\n",
              "      <th></th>\n",
              "      <th></th>\n",
              "      <th></th>\n",
              "      <th></th>\n",
              "    </tr>\n",
              "  </thead>\n",
              "  <tbody>\n",
              "    <tr>\n",
              "      <th>1</th>\n",
              "      <td>0</td>\n",
              "      <td>0</td>\n",
              "      <td>0.054</td>\n",
              "      <td>0.946</td>\n",
              "      <td>Viserys II Targaryen</td>\n",
              "      <td>NaN</td>\n",
              "      <td>1</td>\n",
              "      <td>NaN</td>\n",
              "      <td>NaN</td>\n",
              "      <td>NaN</td>\n",
              "      <td>...</td>\n",
              "      <td>0.0</td>\n",
              "      <td>NaN</td>\n",
              "      <td>0</td>\n",
              "      <td>0</td>\n",
              "      <td>NaN</td>\n",
              "      <td>11</td>\n",
              "      <td>1</td>\n",
              "      <td>1</td>\n",
              "      <td>0.605351</td>\n",
              "      <td>0</td>\n",
              "    </tr>\n",
              "    <tr>\n",
              "      <th>2</th>\n",
              "      <td>1</td>\n",
              "      <td>0</td>\n",
              "      <td>0.387</td>\n",
              "      <td>0.613</td>\n",
              "      <td>Walder Frey</td>\n",
              "      <td>Lord of the Crossing</td>\n",
              "      <td>1</td>\n",
              "      <td>Rivermen</td>\n",
              "      <td>208.0</td>\n",
              "      <td>NaN</td>\n",
              "      <td>...</td>\n",
              "      <td>NaN</td>\n",
              "      <td>1.0</td>\n",
              "      <td>1</td>\n",
              "      <td>1</td>\n",
              "      <td>97.0</td>\n",
              "      <td>1</td>\n",
              "      <td>1</td>\n",
              "      <td>1</td>\n",
              "      <td>0.896321</td>\n",
              "      <td>1</td>\n",
              "    </tr>\n",
              "    <tr>\n",
              "      <th>3</th>\n",
              "      <td>1</td>\n",
              "      <td>0</td>\n",
              "      <td>0.493</td>\n",
              "      <td>0.507</td>\n",
              "      <td>Addison Hill</td>\n",
              "      <td>Ser</td>\n",
              "      <td>1</td>\n",
              "      <td>NaN</td>\n",
              "      <td>NaN</td>\n",
              "      <td>NaN</td>\n",
              "      <td>...</td>\n",
              "      <td>NaN</td>\n",
              "      <td>NaN</td>\n",
              "      <td>0</td>\n",
              "      <td>1</td>\n",
              "      <td>NaN</td>\n",
              "      <td>0</td>\n",
              "      <td>0</td>\n",
              "      <td>0</td>\n",
              "      <td>0.267559</td>\n",
              "      <td>1</td>\n",
              "    </tr>\n",
              "    <tr>\n",
              "      <th>4</th>\n",
              "      <td>0</td>\n",
              "      <td>0</td>\n",
              "      <td>0.076</td>\n",
              "      <td>0.924</td>\n",
              "      <td>Aemma Arryn</td>\n",
              "      <td>Queen</td>\n",
              "      <td>0</td>\n",
              "      <td>NaN</td>\n",
              "      <td>82.0</td>\n",
              "      <td>105.0</td>\n",
              "      <td>...</td>\n",
              "      <td>NaN</td>\n",
              "      <td>0.0</td>\n",
              "      <td>1</td>\n",
              "      <td>1</td>\n",
              "      <td>23.0</td>\n",
              "      <td>0</td>\n",
              "      <td>0</td>\n",
              "      <td>0</td>\n",
              "      <td>0.183946</td>\n",
              "      <td>0</td>\n",
              "    </tr>\n",
              "    <tr>\n",
              "      <th>5</th>\n",
              "      <td>1</td>\n",
              "      <td>1</td>\n",
              "      <td>0.617</td>\n",
              "      <td>0.383</td>\n",
              "      <td>Sylva Santagar</td>\n",
              "      <td>Greenstone</td>\n",
              "      <td>0</td>\n",
              "      <td>Dornish</td>\n",
              "      <td>276.0</td>\n",
              "      <td>NaN</td>\n",
              "      <td>...</td>\n",
              "      <td>NaN</td>\n",
              "      <td>1.0</td>\n",
              "      <td>1</td>\n",
              "      <td>1</td>\n",
              "      <td>29.0</td>\n",
              "      <td>0</td>\n",
              "      <td>0</td>\n",
              "      <td>0</td>\n",
              "      <td>0.043478</td>\n",
              "      <td>1</td>\n",
              "    </tr>\n",
              "  </tbody>\n",
              "</table>\n",
              "<p>5 rows × 32 columns</p>\n",
              "</div>"
            ],
            "text/plain": [
              "      actual  pred  alive   plod                  name                 title  \\\n",
              "S.No                                                                           \n",
              "1          0     0  0.054  0.946  Viserys II Targaryen                   NaN   \n",
              "2          1     0  0.387  0.613           Walder Frey  Lord of the Crossing   \n",
              "3          1     0  0.493  0.507          Addison Hill                   Ser   \n",
              "4          0     0  0.076  0.924           Aemma Arryn                 Queen   \n",
              "5          1     1  0.617  0.383        Sylva Santagar            Greenstone   \n",
              "\n",
              "      male   culture  dateOfBirth  DateoFdeath  ... isAliveHeir isAliveSpouse  \\\n",
              "S.No                                            ...                             \n",
              "1        1       NaN          NaN          NaN  ...         0.0           NaN   \n",
              "2        1  Rivermen        208.0          NaN  ...         NaN           1.0   \n",
              "3        1       NaN          NaN          NaN  ...         NaN           NaN   \n",
              "4        0       NaN         82.0        105.0  ...         NaN           0.0   \n",
              "5        0   Dornish        276.0          NaN  ...         NaN           1.0   \n",
              "\n",
              "     isMarried isNoble   age  numDeadRelations  boolDeadRelations  isPopular  \\\n",
              "S.No                                                                           \n",
              "1            0       0   NaN                11                  1          1   \n",
              "2            1       1  97.0                 1                  1          1   \n",
              "3            0       1   NaN                 0                  0          0   \n",
              "4            1       1  23.0                 0                  0          0   \n",
              "5            1       1  29.0                 0                  0          0   \n",
              "\n",
              "      popularity  isAlive  \n",
              "S.No                       \n",
              "1       0.605351        0  \n",
              "2       0.896321        1  \n",
              "3       0.267559        1  \n",
              "4       0.183946        0  \n",
              "5       0.043478        1  \n",
              "\n",
              "[5 rows x 32 columns]"
            ]
          },
          "metadata": {
            "tags": []
          },
          "execution_count": 75
        }
      ]
    },
    {
      "cell_type": "code",
      "metadata": {
        "id": "tSDDMW2bjeIG",
        "colab": {
          "base_uri": "https://localhost:8080/"
        },
        "outputId": "22464848-271c-46b4-8bc3-acd58430d78f"
      },
      "source": [
        "df_raw.info()"
      ],
      "execution_count": null,
      "outputs": [
        {
          "output_type": "stream",
          "text": [
            "<class 'pandas.core.frame.DataFrame'>\n",
            "Int64Index: 1946 entries, 1 to 1946\n",
            "Data columns (total 32 columns):\n",
            " #   Column             Non-Null Count  Dtype  \n",
            "---  ------             --------------  -----  \n",
            " 0   actual             1946 non-null   int64  \n",
            " 1   pred               1946 non-null   int64  \n",
            " 2   alive              1946 non-null   float64\n",
            " 3   plod               1946 non-null   float64\n",
            " 4   name               1946 non-null   object \n",
            " 5   title              938 non-null    object \n",
            " 6   male               1946 non-null   int64  \n",
            " 7   culture            677 non-null    object \n",
            " 8   dateOfBirth        433 non-null    float64\n",
            " 9   DateoFdeath        444 non-null    float64\n",
            " 10  mother             21 non-null     object \n",
            " 11  father             26 non-null     object \n",
            " 12  heir               23 non-null     object \n",
            " 13  house              1519 non-null   object \n",
            " 14  spouse             276 non-null    object \n",
            " 15  book1              1946 non-null   int64  \n",
            " 16  book2              1946 non-null   int64  \n",
            " 17  book3              1946 non-null   int64  \n",
            " 18  book4              1946 non-null   int64  \n",
            " 19  book5              1946 non-null   int64  \n",
            " 20  isAliveMother      21 non-null     float64\n",
            " 21  isAliveFather      26 non-null     float64\n",
            " 22  isAliveHeir        23 non-null     float64\n",
            " 23  isAliveSpouse      276 non-null    float64\n",
            " 24  isMarried          1946 non-null   int64  \n",
            " 25  isNoble            1946 non-null   int64  \n",
            " 26  age                433 non-null    float64\n",
            " 27  numDeadRelations   1946 non-null   int64  \n",
            " 28  boolDeadRelations  1946 non-null   int64  \n",
            " 29  isPopular          1946 non-null   int64  \n",
            " 30  popularity         1946 non-null   float64\n",
            " 31  isAlive            1946 non-null   int64  \n",
            "dtypes: float64(10), int64(14), object(8)\n",
            "memory usage: 501.7+ KB\n"
          ],
          "name": "stdout"
        }
      ]
    },
    {
      "cell_type": "code",
      "metadata": {
        "id": "oo-QY1apjgb3",
        "colab": {
          "base_uri": "https://localhost:8080/",
          "height": 346
        },
        "outputId": "2c4c39cf-30d9-4bba-a498-4a476035270c"
      },
      "source": [
        "df_raw.describe()"
      ],
      "execution_count": null,
      "outputs": [
        {
          "output_type": "execute_result",
          "data": {
            "text/html": [
              "<div>\n",
              "<style scoped>\n",
              "    .dataframe tbody tr th:only-of-type {\n",
              "        vertical-align: middle;\n",
              "    }\n",
              "\n",
              "    .dataframe tbody tr th {\n",
              "        vertical-align: top;\n",
              "    }\n",
              "\n",
              "    .dataframe thead th {\n",
              "        text-align: right;\n",
              "    }\n",
              "</style>\n",
              "<table border=\"1\" class=\"dataframe\">\n",
              "  <thead>\n",
              "    <tr style=\"text-align: right;\">\n",
              "      <th></th>\n",
              "      <th>actual</th>\n",
              "      <th>pred</th>\n",
              "      <th>alive</th>\n",
              "      <th>plod</th>\n",
              "      <th>male</th>\n",
              "      <th>dateOfBirth</th>\n",
              "      <th>DateoFdeath</th>\n",
              "      <th>book1</th>\n",
              "      <th>book2</th>\n",
              "      <th>book3</th>\n",
              "      <th>...</th>\n",
              "      <th>isAliveHeir</th>\n",
              "      <th>isAliveSpouse</th>\n",
              "      <th>isMarried</th>\n",
              "      <th>isNoble</th>\n",
              "      <th>age</th>\n",
              "      <th>numDeadRelations</th>\n",
              "      <th>boolDeadRelations</th>\n",
              "      <th>isPopular</th>\n",
              "      <th>popularity</th>\n",
              "      <th>isAlive</th>\n",
              "    </tr>\n",
              "  </thead>\n",
              "  <tbody>\n",
              "    <tr>\n",
              "      <th>count</th>\n",
              "      <td>1946.000000</td>\n",
              "      <td>1946.000000</td>\n",
              "      <td>1946.000000</td>\n",
              "      <td>1946.000000</td>\n",
              "      <td>1946.000000</td>\n",
              "      <td>433.000000</td>\n",
              "      <td>444.000000</td>\n",
              "      <td>1946.000000</td>\n",
              "      <td>1946.000000</td>\n",
              "      <td>1946.000000</td>\n",
              "      <td>...</td>\n",
              "      <td>23.000000</td>\n",
              "      <td>276.000000</td>\n",
              "      <td>1946.000000</td>\n",
              "      <td>1946.000000</td>\n",
              "      <td>433.000000</td>\n",
              "      <td>1946.000000</td>\n",
              "      <td>1946.000000</td>\n",
              "      <td>1946.000000</td>\n",
              "      <td>1946.000000</td>\n",
              "      <td>1946.000000</td>\n",
              "    </tr>\n",
              "    <tr>\n",
              "      <th>mean</th>\n",
              "      <td>0.745632</td>\n",
              "      <td>0.687050</td>\n",
              "      <td>0.634470</td>\n",
              "      <td>0.365530</td>\n",
              "      <td>0.619219</td>\n",
              "      <td>1577.364896</td>\n",
              "      <td>2950.193694</td>\n",
              "      <td>0.198356</td>\n",
              "      <td>0.374615</td>\n",
              "      <td>0.480473</td>\n",
              "      <td>...</td>\n",
              "      <td>0.652174</td>\n",
              "      <td>0.778986</td>\n",
              "      <td>0.141829</td>\n",
              "      <td>0.460946</td>\n",
              "      <td>-1293.563510</td>\n",
              "      <td>0.305755</td>\n",
              "      <td>0.074512</td>\n",
              "      <td>0.059096</td>\n",
              "      <td>0.089584</td>\n",
              "      <td>0.745632</td>\n",
              "    </tr>\n",
              "    <tr>\n",
              "      <th>std</th>\n",
              "      <td>0.435617</td>\n",
              "      <td>0.463813</td>\n",
              "      <td>0.312637</td>\n",
              "      <td>0.312637</td>\n",
              "      <td>0.485704</td>\n",
              "      <td>19565.414460</td>\n",
              "      <td>28192.245529</td>\n",
              "      <td>0.398864</td>\n",
              "      <td>0.484148</td>\n",
              "      <td>0.499747</td>\n",
              "      <td>...</td>\n",
              "      <td>0.486985</td>\n",
              "      <td>0.415684</td>\n",
              "      <td>0.348965</td>\n",
              "      <td>0.498601</td>\n",
              "      <td>19564.340993</td>\n",
              "      <td>1.383910</td>\n",
              "      <td>0.262669</td>\n",
              "      <td>0.235864</td>\n",
              "      <td>0.160568</td>\n",
              "      <td>0.435617</td>\n",
              "    </tr>\n",
              "    <tr>\n",
              "      <th>min</th>\n",
              "      <td>0.000000</td>\n",
              "      <td>0.000000</td>\n",
              "      <td>0.000000</td>\n",
              "      <td>0.000000</td>\n",
              "      <td>0.000000</td>\n",
              "      <td>-28.000000</td>\n",
              "      <td>0.000000</td>\n",
              "      <td>0.000000</td>\n",
              "      <td>0.000000</td>\n",
              "      <td>0.000000</td>\n",
              "      <td>...</td>\n",
              "      <td>0.000000</td>\n",
              "      <td>0.000000</td>\n",
              "      <td>0.000000</td>\n",
              "      <td>0.000000</td>\n",
              "      <td>-298001.000000</td>\n",
              "      <td>0.000000</td>\n",
              "      <td>0.000000</td>\n",
              "      <td>0.000000</td>\n",
              "      <td>0.000000</td>\n",
              "      <td>0.000000</td>\n",
              "    </tr>\n",
              "    <tr>\n",
              "      <th>25%</th>\n",
              "      <td>0.000000</td>\n",
              "      <td>0.000000</td>\n",
              "      <td>0.391250</td>\n",
              "      <td>0.101000</td>\n",
              "      <td>0.000000</td>\n",
              "      <td>240.000000</td>\n",
              "      <td>282.000000</td>\n",
              "      <td>0.000000</td>\n",
              "      <td>0.000000</td>\n",
              "      <td>0.000000</td>\n",
              "      <td>...</td>\n",
              "      <td>0.000000</td>\n",
              "      <td>1.000000</td>\n",
              "      <td>0.000000</td>\n",
              "      <td>0.000000</td>\n",
              "      <td>18.000000</td>\n",
              "      <td>0.000000</td>\n",
              "      <td>0.000000</td>\n",
              "      <td>0.000000</td>\n",
              "      <td>0.013378</td>\n",
              "      <td>0.000000</td>\n",
              "    </tr>\n",
              "    <tr>\n",
              "      <th>50%</th>\n",
              "      <td>1.000000</td>\n",
              "      <td>1.000000</td>\n",
              "      <td>0.735500</td>\n",
              "      <td>0.264500</td>\n",
              "      <td>1.000000</td>\n",
              "      <td>268.000000</td>\n",
              "      <td>299.000000</td>\n",
              "      <td>0.000000</td>\n",
              "      <td>0.000000</td>\n",
              "      <td>0.000000</td>\n",
              "      <td>...</td>\n",
              "      <td>1.000000</td>\n",
              "      <td>1.000000</td>\n",
              "      <td>0.000000</td>\n",
              "      <td>0.000000</td>\n",
              "      <td>27.000000</td>\n",
              "      <td>0.000000</td>\n",
              "      <td>0.000000</td>\n",
              "      <td>0.000000</td>\n",
              "      <td>0.033445</td>\n",
              "      <td>1.000000</td>\n",
              "    </tr>\n",
              "    <tr>\n",
              "      <th>75%</th>\n",
              "      <td>1.000000</td>\n",
              "      <td>1.000000</td>\n",
              "      <td>0.899000</td>\n",
              "      <td>0.608750</td>\n",
              "      <td>1.000000</td>\n",
              "      <td>285.000000</td>\n",
              "      <td>299.000000</td>\n",
              "      <td>0.000000</td>\n",
              "      <td>1.000000</td>\n",
              "      <td>1.000000</td>\n",
              "      <td>...</td>\n",
              "      <td>1.000000</td>\n",
              "      <td>1.000000</td>\n",
              "      <td>0.000000</td>\n",
              "      <td>1.000000</td>\n",
              "      <td>50.000000</td>\n",
              "      <td>0.000000</td>\n",
              "      <td>0.000000</td>\n",
              "      <td>0.000000</td>\n",
              "      <td>0.086957</td>\n",
              "      <td>1.000000</td>\n",
              "    </tr>\n",
              "    <tr>\n",
              "      <th>max</th>\n",
              "      <td>1.000000</td>\n",
              "      <td>1.000000</td>\n",
              "      <td>1.000000</td>\n",
              "      <td>1.000000</td>\n",
              "      <td>1.000000</td>\n",
              "      <td>298299.000000</td>\n",
              "      <td>298299.000000</td>\n",
              "      <td>1.000000</td>\n",
              "      <td>1.000000</td>\n",
              "      <td>1.000000</td>\n",
              "      <td>...</td>\n",
              "      <td>1.000000</td>\n",
              "      <td>1.000000</td>\n",
              "      <td>1.000000</td>\n",
              "      <td>1.000000</td>\n",
              "      <td>100.000000</td>\n",
              "      <td>15.000000</td>\n",
              "      <td>1.000000</td>\n",
              "      <td>1.000000</td>\n",
              "      <td>1.000000</td>\n",
              "      <td>1.000000</td>\n",
              "    </tr>\n",
              "  </tbody>\n",
              "</table>\n",
              "<p>8 rows × 24 columns</p>\n",
              "</div>"
            ],
            "text/plain": [
              "            actual         pred        alive         plod         male  \\\n",
              "count  1946.000000  1946.000000  1946.000000  1946.000000  1946.000000   \n",
              "mean      0.745632     0.687050     0.634470     0.365530     0.619219   \n",
              "std       0.435617     0.463813     0.312637     0.312637     0.485704   \n",
              "min       0.000000     0.000000     0.000000     0.000000     0.000000   \n",
              "25%       0.000000     0.000000     0.391250     0.101000     0.000000   \n",
              "50%       1.000000     1.000000     0.735500     0.264500     1.000000   \n",
              "75%       1.000000     1.000000     0.899000     0.608750     1.000000   \n",
              "max       1.000000     1.000000     1.000000     1.000000     1.000000   \n",
              "\n",
              "         dateOfBirth    DateoFdeath        book1        book2        book3  \\\n",
              "count     433.000000     444.000000  1946.000000  1946.000000  1946.000000   \n",
              "mean     1577.364896    2950.193694     0.198356     0.374615     0.480473   \n",
              "std     19565.414460   28192.245529     0.398864     0.484148     0.499747   \n",
              "min       -28.000000       0.000000     0.000000     0.000000     0.000000   \n",
              "25%       240.000000     282.000000     0.000000     0.000000     0.000000   \n",
              "50%       268.000000     299.000000     0.000000     0.000000     0.000000   \n",
              "75%       285.000000     299.000000     0.000000     1.000000     1.000000   \n",
              "max    298299.000000  298299.000000     1.000000     1.000000     1.000000   \n",
              "\n",
              "       ...  isAliveHeir  isAliveSpouse    isMarried      isNoble  \\\n",
              "count  ...    23.000000     276.000000  1946.000000  1946.000000   \n",
              "mean   ...     0.652174       0.778986     0.141829     0.460946   \n",
              "std    ...     0.486985       0.415684     0.348965     0.498601   \n",
              "min    ...     0.000000       0.000000     0.000000     0.000000   \n",
              "25%    ...     0.000000       1.000000     0.000000     0.000000   \n",
              "50%    ...     1.000000       1.000000     0.000000     0.000000   \n",
              "75%    ...     1.000000       1.000000     0.000000     1.000000   \n",
              "max    ...     1.000000       1.000000     1.000000     1.000000   \n",
              "\n",
              "                 age  numDeadRelations  boolDeadRelations    isPopular  \\\n",
              "count     433.000000       1946.000000        1946.000000  1946.000000   \n",
              "mean    -1293.563510          0.305755           0.074512     0.059096   \n",
              "std     19564.340993          1.383910           0.262669     0.235864   \n",
              "min   -298001.000000          0.000000           0.000000     0.000000   \n",
              "25%        18.000000          0.000000           0.000000     0.000000   \n",
              "50%        27.000000          0.000000           0.000000     0.000000   \n",
              "75%        50.000000          0.000000           0.000000     0.000000   \n",
              "max       100.000000         15.000000           1.000000     1.000000   \n",
              "\n",
              "        popularity      isAlive  \n",
              "count  1946.000000  1946.000000  \n",
              "mean      0.089584     0.745632  \n",
              "std       0.160568     0.435617  \n",
              "min       0.000000     0.000000  \n",
              "25%       0.013378     0.000000  \n",
              "50%       0.033445     1.000000  \n",
              "75%       0.086957     1.000000  \n",
              "max       1.000000     1.000000  \n",
              "\n",
              "[8 rows x 24 columns]"
            ]
          },
          "metadata": {
            "tags": []
          },
          "execution_count": 77
        }
      ]
    },
    {
      "cell_type": "code",
      "metadata": {
        "id": "lYIGQtDTq0ZO",
        "colab": {
          "base_uri": "https://localhost:8080/"
        },
        "outputId": "c7d37319-be27-4544-ff59-a6f80e576cbe"
      },
      "source": [
        "# check number of rows and columns\n",
        "df_raw.shape"
      ],
      "execution_count": null,
      "outputs": [
        {
          "output_type": "execute_result",
          "data": {
            "text/plain": [
              "(1946, 32)"
            ]
          },
          "metadata": {
            "tags": []
          },
          "execution_count": 78
        }
      ]
    },
    {
      "cell_type": "code",
      "metadata": {
        "id": "Bg_K-lVHFYhA",
        "colab": {
          "base_uri": "https://localhost:8080/"
        },
        "outputId": "748c0e49-1b8f-4810-b00b-e7ad19083de5"
      },
      "source": [
        "# Check the total number of missing values in each column\n",
        "df_raw.isnull().sum()"
      ],
      "execution_count": null,
      "outputs": [
        {
          "output_type": "execute_result",
          "data": {
            "text/plain": [
              "actual               0\n",
              "pred                 0\n",
              "alive                0\n",
              "plod                 0\n",
              "name                 0\n",
              "                    ..\n",
              "numDeadRelations     0\n",
              "boolDeadRelations    0\n",
              "isPopular            0\n",
              "popularity           0\n",
              "isAlive              0\n",
              "Length: 32, dtype: int64"
            ]
          },
          "metadata": {
            "tags": []
          },
          "execution_count": 79
        }
      ]
    },
    {
      "cell_type": "code",
      "metadata": {
        "id": "vCh92ewJGoio",
        "colab": {
          "base_uri": "https://localhost:8080/"
        },
        "outputId": "04e5ce2e-e307-4e64-bcbf-c7162528608b"
      },
      "source": [
        "# Which columns have 70% or more missing values\n",
        "df_raw.columns[df_raw.isnull().sum() > 1362 ]"
      ],
      "execution_count": null,
      "outputs": [
        {
          "output_type": "execute_result",
          "data": {
            "text/plain": [
              "Index(['dateOfBirth', 'DateoFdeath', 'mother', 'father', 'heir', 'spouse',\n",
              "       'isAliveMother', 'isAliveFather', 'isAliveHeir', 'isAliveSpouse',\n",
              "       'age'],\n",
              "      dtype='object')"
            ]
          },
          "metadata": {
            "tags": []
          },
          "execution_count": 80
        }
      ]
    },
    {
      "cell_type": "markdown",
      "metadata": {
        "id": "TnrFonSJX_sm"
      },
      "source": [
        "Let's work on a subset of the data with characters from the 9 major houses and the Night's Watch. The 9 major houses are: Stark, Arryn, Baratheon, Tully, Greyjoy, Lannister, Tyrell, Martell and Targaryen. "
      ]
    },
    {
      "cell_type": "code",
      "metadata": {
        "id": "JENrVSNJjuR_",
        "colab": {
          "base_uri": "https://localhost:8080/"
        },
        "outputId": "cfe2d2a4-8054-44bb-a1fd-386627214ddb"
      },
      "source": [
        "# Create a list of the 9 major houses + Night's Watch\n",
        "major_houses = ['House Stark', 'House Arryn', 'House Baratheon', 'House Tully',\n",
        "       'House Greyjoy', 'House Lannister', 'House Tyrell', 'House Martell', \n",
        "       'House Targaryen', \"Night's Watch\"]\n",
        "\n",
        "# Create a dataframe by selecting rows matching major houses\n",
        "df = df_raw[df_raw['house'].isin (major_houses)]\n",
        "df.house.unique()"
      ],
      "execution_count": null,
      "outputs": [
        {
          "output_type": "execute_result",
          "data": {
            "text/plain": [
              "array(['House Arryn', 'House Targaryen', \"Night's Watch\", 'House Greyjoy',\n",
              "       'House Stark', 'House Tyrell', 'House Lannister', 'House Martell',\n",
              "       'House Baratheon', 'House Tully'], dtype=object)"
            ]
          },
          "metadata": {
            "tags": []
          },
          "execution_count": 81
        }
      ]
    },
    {
      "cell_type": "code",
      "metadata": {
        "id": "0_VReQEYhI4P",
        "colab": {
          "base_uri": "https://localhost:8080/"
        },
        "outputId": "c33d6e7e-dc11-4e74-aa60-b1e4adacd528"
      },
      "source": [
        "df.shape"
      ],
      "execution_count": null,
      "outputs": [
        {
          "output_type": "execute_result",
          "data": {
            "text/plain": [
              "(435, 32)"
            ]
          },
          "metadata": {
            "tags": []
          },
          "execution_count": 82
        }
      ]
    },
    {
      "cell_type": "code",
      "metadata": {
        "id": "3wvVy-wzhegv",
        "colab": {
          "base_uri": "https://localhost:8080/"
        },
        "outputId": "a1d3bb6f-4f63-442b-96fb-93482bf37b85"
      },
      "source": [
        "df.columns"
      ],
      "execution_count": null,
      "outputs": [
        {
          "output_type": "execute_result",
          "data": {
            "text/plain": [
              "Index(['actual', 'pred', 'alive', 'plod', 'name', 'title', 'male', 'culture',\n",
              "       'dateOfBirth', 'DateoFdeath', 'mother', 'father', 'heir', 'house',\n",
              "       'spouse', 'book1', 'book2', 'book3', 'book4', 'book5', 'isAliveMother',\n",
              "       'isAliveFather', 'isAliveHeir', 'isAliveSpouse', 'isMarried', 'isNoble',\n",
              "       'age', 'numDeadRelations', 'boolDeadRelations', 'isPopular',\n",
              "       'popularity', 'isAlive'],\n",
              "      dtype='object')"
            ]
          },
          "metadata": {
            "tags": []
          },
          "execution_count": 83
        }
      ]
    },
    {
      "cell_type": "markdown",
      "metadata": {
        "id": "M1nvZT26XpPG"
      },
      "source": [
        "Get rid of prediction scores from source data. We're going to make our own predictions! "
      ]
    },
    {
      "cell_type": "code",
      "metadata": {
        "id": "1aXdq9yp0MkS",
        "colab": {
          "base_uri": "https://localhost:8080/"
        },
        "outputId": "09401117-f311-4aef-b6ef-4c2bf8653083"
      },
      "source": [
        "pred_cols = ['actual','pred','alive', 'plod', 'DateoFdeath']\n",
        "df.drop(pred_cols, axis=1, inplace=True)"
      ],
      "execution_count": null,
      "outputs": [
        {
          "output_type": "stream",
          "text": [
            "/usr/local/lib/python3.7/dist-packages/pandas/core/frame.py:4174: SettingWithCopyWarning: \n",
            "A value is trying to be set on a copy of a slice from a DataFrame\n",
            "\n",
            "See the caveats in the documentation: https://pandas.pydata.org/pandas-docs/stable/user_guide/indexing.html#returning-a-view-versus-a-copy\n",
            "  errors=errors,\n"
          ],
          "name": "stderr"
        }
      ]
    },
    {
      "cell_type": "markdown",
      "metadata": {
        "id": "KK-Km1XKIeER"
      },
      "source": [
        "Drop columns with too many missing values, values not relevant for our analysis (character names), or duplicates/booleans of other columns. A mother, father, spouse or heir's name occurs too infrequently to be useful for prediction of survival. These are also duplicative of the columns that apply more generally: isAliveMother, isAliveFather, isAliveHier, isAliveSpouse. We have columns for age and whether a person is noble or not and house, so drop exact date of birth & title. Boolean columns isPopular and boolDeadRelations are duplicative of popularity and numDeadRelations. "
      ]
    },
    {
      "cell_type": "code",
      "metadata": {
        "id": "e2QxFXuhW-ZP",
        "colab": {
          "base_uri": "https://localhost:8080/"
        },
        "outputId": "554048c9-5232-47c7-d402-4fec6548ff9d"
      },
      "source": [
        "cols = ['title', 'dateOfBirth', 'mother', 'father', 'heir', 'spouse', \n",
        "        'isPopular', 'boolDeadRelations']\n",
        "df.drop(cols, axis=1, inplace = True)\n",
        "df.columns"
      ],
      "execution_count": null,
      "outputs": [
        {
          "output_type": "stream",
          "text": [
            "/usr/local/lib/python3.7/dist-packages/pandas/core/frame.py:4174: SettingWithCopyWarning: \n",
            "A value is trying to be set on a copy of a slice from a DataFrame\n",
            "\n",
            "See the caveats in the documentation: https://pandas.pydata.org/pandas-docs/stable/user_guide/indexing.html#returning-a-view-versus-a-copy\n",
            "  errors=errors,\n"
          ],
          "name": "stderr"
        },
        {
          "output_type": "execute_result",
          "data": {
            "text/plain": [
              "Index(['name', 'male', 'culture', 'house', 'book1', 'book2', 'book3', 'book4',\n",
              "       'book5', 'isAliveMother', 'isAliveFather', 'isAliveHeir',\n",
              "       'isAliveSpouse', 'isMarried', 'isNoble', 'age', 'numDeadRelations',\n",
              "       'popularity', 'isAlive'],\n",
              "      dtype='object')"
            ]
          },
          "metadata": {
            "tags": []
          },
          "execution_count": 85
        }
      ]
    },
    {
      "cell_type": "code",
      "metadata": {
        "id": "obrUnqqQe1So",
        "colab": {
          "base_uri": "https://localhost:8080/",
          "height": 425
        },
        "outputId": "1925b5c7-7609-4a9f-b3b8-fd3520fa2308"
      },
      "source": [
        "# Drop the \"House\" prefix from house names.\n",
        "df['house'] = df['house'].str.replace(r'House', '')\n",
        "df.head()"
      ],
      "execution_count": null,
      "outputs": [
        {
          "output_type": "stream",
          "text": [
            "/usr/local/lib/python3.7/dist-packages/ipykernel_launcher.py:2: SettingWithCopyWarning: \n",
            "A value is trying to be set on a copy of a slice from a DataFrame.\n",
            "Try using .loc[row_indexer,col_indexer] = value instead\n",
            "\n",
            "See the caveats in the documentation: https://pandas.pydata.org/pandas-docs/stable/user_guide/indexing.html#returning-a-view-versus-a-copy\n",
            "  \n"
          ],
          "name": "stderr"
        },
        {
          "output_type": "execute_result",
          "data": {
            "text/html": [
              "<div>\n",
              "<style scoped>\n",
              "    .dataframe tbody tr th:only-of-type {\n",
              "        vertical-align: middle;\n",
              "    }\n",
              "\n",
              "    .dataframe tbody tr th {\n",
              "        vertical-align: top;\n",
              "    }\n",
              "\n",
              "    .dataframe thead th {\n",
              "        text-align: right;\n",
              "    }\n",
              "</style>\n",
              "<table border=\"1\" class=\"dataframe\">\n",
              "  <thead>\n",
              "    <tr style=\"text-align: right;\">\n",
              "      <th></th>\n",
              "      <th>name</th>\n",
              "      <th>male</th>\n",
              "      <th>culture</th>\n",
              "      <th>house</th>\n",
              "      <th>book1</th>\n",
              "      <th>book2</th>\n",
              "      <th>book3</th>\n",
              "      <th>book4</th>\n",
              "      <th>book5</th>\n",
              "      <th>isAliveMother</th>\n",
              "      <th>isAliveFather</th>\n",
              "      <th>isAliveHeir</th>\n",
              "      <th>isAliveSpouse</th>\n",
              "      <th>isMarried</th>\n",
              "      <th>isNoble</th>\n",
              "      <th>age</th>\n",
              "      <th>numDeadRelations</th>\n",
              "      <th>popularity</th>\n",
              "      <th>isAlive</th>\n",
              "    </tr>\n",
              "    <tr>\n",
              "      <th>S.No</th>\n",
              "      <th></th>\n",
              "      <th></th>\n",
              "      <th></th>\n",
              "      <th></th>\n",
              "      <th></th>\n",
              "      <th></th>\n",
              "      <th></th>\n",
              "      <th></th>\n",
              "      <th></th>\n",
              "      <th></th>\n",
              "      <th></th>\n",
              "      <th></th>\n",
              "      <th></th>\n",
              "      <th></th>\n",
              "      <th></th>\n",
              "      <th></th>\n",
              "      <th></th>\n",
              "      <th></th>\n",
              "      <th></th>\n",
              "    </tr>\n",
              "  </thead>\n",
              "  <tbody>\n",
              "    <tr>\n",
              "      <th>4</th>\n",
              "      <td>Aemma Arryn</td>\n",
              "      <td>0</td>\n",
              "      <td>NaN</td>\n",
              "      <td>Arryn</td>\n",
              "      <td>0</td>\n",
              "      <td>0</td>\n",
              "      <td>0</td>\n",
              "      <td>0</td>\n",
              "      <td>0</td>\n",
              "      <td>NaN</td>\n",
              "      <td>NaN</td>\n",
              "      <td>NaN</td>\n",
              "      <td>0.0</td>\n",
              "      <td>1</td>\n",
              "      <td>1</td>\n",
              "      <td>23.0</td>\n",
              "      <td>0</td>\n",
              "      <td>0.183946</td>\n",
              "      <td>0</td>\n",
              "    </tr>\n",
              "    <tr>\n",
              "      <th>7</th>\n",
              "      <td>Valarr Targaryen</td>\n",
              "      <td>1</td>\n",
              "      <td>Valyrian</td>\n",
              "      <td>Targaryen</td>\n",
              "      <td>0</td>\n",
              "      <td>0</td>\n",
              "      <td>0</td>\n",
              "      <td>0</td>\n",
              "      <td>0</td>\n",
              "      <td>NaN</td>\n",
              "      <td>NaN</td>\n",
              "      <td>NaN</td>\n",
              "      <td>1.0</td>\n",
              "      <td>1</td>\n",
              "      <td>1</td>\n",
              "      <td>26.0</td>\n",
              "      <td>0</td>\n",
              "      <td>0.431438</td>\n",
              "      <td>0</td>\n",
              "    </tr>\n",
              "    <tr>\n",
              "      <th>11</th>\n",
              "      <td>Will</td>\n",
              "      <td>1</td>\n",
              "      <td>NaN</td>\n",
              "      <td>Night's Watch</td>\n",
              "      <td>1</td>\n",
              "      <td>1</td>\n",
              "      <td>0</td>\n",
              "      <td>0</td>\n",
              "      <td>0</td>\n",
              "      <td>NaN</td>\n",
              "      <td>NaN</td>\n",
              "      <td>NaN</td>\n",
              "      <td>NaN</td>\n",
              "      <td>0</td>\n",
              "      <td>0</td>\n",
              "      <td>NaN</td>\n",
              "      <td>0</td>\n",
              "      <td>0.163880</td>\n",
              "      <td>0</td>\n",
              "    </tr>\n",
              "    <tr>\n",
              "      <th>28</th>\n",
              "      <td>Wulfe</td>\n",
              "      <td>1</td>\n",
              "      <td>Ironborn</td>\n",
              "      <td>Greyjoy</td>\n",
              "      <td>0</td>\n",
              "      <td>0</td>\n",
              "      <td>0</td>\n",
              "      <td>1</td>\n",
              "      <td>1</td>\n",
              "      <td>NaN</td>\n",
              "      <td>NaN</td>\n",
              "      <td>NaN</td>\n",
              "      <td>NaN</td>\n",
              "      <td>0</td>\n",
              "      <td>0</td>\n",
              "      <td>NaN</td>\n",
              "      <td>0</td>\n",
              "      <td>0.023411</td>\n",
              "      <td>1</td>\n",
              "    </tr>\n",
              "    <tr>\n",
              "      <th>30</th>\n",
              "      <td>Wyl (guard)</td>\n",
              "      <td>0</td>\n",
              "      <td>Northmen</td>\n",
              "      <td>Stark</td>\n",
              "      <td>1</td>\n",
              "      <td>0</td>\n",
              "      <td>0</td>\n",
              "      <td>0</td>\n",
              "      <td>0</td>\n",
              "      <td>NaN</td>\n",
              "      <td>NaN</td>\n",
              "      <td>NaN</td>\n",
              "      <td>NaN</td>\n",
              "      <td>0</td>\n",
              "      <td>0</td>\n",
              "      <td>NaN</td>\n",
              "      <td>0</td>\n",
              "      <td>0.026756</td>\n",
              "      <td>0</td>\n",
              "    </tr>\n",
              "  </tbody>\n",
              "</table>\n",
              "</div>"
            ],
            "text/plain": [
              "                  name  male   culture          house  book1  book2  book3  \\\n",
              "S.No                                                                         \n",
              "4          Aemma Arryn     0       NaN          Arryn      0      0      0   \n",
              "7     Valarr Targaryen     1  Valyrian      Targaryen      0      0      0   \n",
              "11                Will     1       NaN  Night's Watch      1      1      0   \n",
              "28               Wulfe     1  Ironborn        Greyjoy      0      0      0   \n",
              "30         Wyl (guard)     0  Northmen          Stark      1      0      0   \n",
              "\n",
              "      book4  book5  isAliveMother  isAliveFather  isAliveHeir  isAliveSpouse  \\\n",
              "S.No                                                                           \n",
              "4         0      0            NaN            NaN          NaN            0.0   \n",
              "7         0      0            NaN            NaN          NaN            1.0   \n",
              "11        0      0            NaN            NaN          NaN            NaN   \n",
              "28        1      1            NaN            NaN          NaN            NaN   \n",
              "30        0      0            NaN            NaN          NaN            NaN   \n",
              "\n",
              "      isMarried  isNoble   age  numDeadRelations  popularity  isAlive  \n",
              "S.No                                                                   \n",
              "4             1        1  23.0                 0    0.183946        0  \n",
              "7             1        1  26.0                 0    0.431438        0  \n",
              "11            0        0   NaN                 0    0.163880        0  \n",
              "28            0        0   NaN                 0    0.023411        1  \n",
              "30            0        0   NaN                 0    0.026756        0  "
            ]
          },
          "metadata": {
            "tags": []
          },
          "execution_count": 86
        }
      ]
    },
    {
      "cell_type": "markdown",
      "metadata": {
        "id": "bCmoRqZWDDH7"
      },
      "source": [
        "### **CHECK FOR MISSING VALUES & OUTLIERS**\n",
        "Let's explore the data to look for null values & outliers."
      ]
    },
    {
      "cell_type": "code",
      "metadata": {
        "id": "YtDgw-B5C92-",
        "colab": {
          "base_uri": "https://localhost:8080/"
        },
        "outputId": "ad01659a-aca2-4c63-f2c3-4b874ea5f329"
      },
      "source": [
        "# Check the total number of missing values in each column\n",
        "df.isnull().sum()"
      ],
      "execution_count": null,
      "outputs": [
        {
          "output_type": "execute_result",
          "data": {
            "text/plain": [
              "name                  0\n",
              "male                  0\n",
              "culture             252\n",
              "house                 0\n",
              "book1                 0\n",
              "book2                 0\n",
              "book3                 0\n",
              "book4                 0\n",
              "book5                 0\n",
              "isAliveMother       435\n",
              "isAliveFather       435\n",
              "isAliveHeir         435\n",
              "isAliveSpouse       351\n",
              "isMarried             0\n",
              "isNoble               0\n",
              "age                 304\n",
              "numDeadRelations      0\n",
              "popularity            0\n",
              "isAlive               0\n",
              "dtype: int64"
            ]
          },
          "metadata": {
            "tags": []
          },
          "execution_count": 87
        }
      ]
    },
    {
      "cell_type": "code",
      "metadata": {
        "id": "CNknEEavDs-E",
        "colab": {
          "base_uri": "https://localhost:8080/"
        },
        "outputId": "cb776ee2-76c0-4d99-ab08-6efbb3376c8d"
      },
      "source": [
        "# Which columns have 80% or more missing values\n",
        "df.columns[df.isnull().sum() > 348]"
      ],
      "execution_count": null,
      "outputs": [
        {
          "output_type": "execute_result",
          "data": {
            "text/plain": [
              "Index(['isAliveMother', 'isAliveFather', 'isAliveHeir', 'isAliveSpouse'], dtype='object')"
            ]
          },
          "metadata": {
            "tags": []
          },
          "execution_count": 88
        }
      ]
    },
    {
      "cell_type": "code",
      "metadata": {
        "id": "dEGTXOGSdY4t",
        "colab": {
          "base_uri": "https://localhost:8080/"
        },
        "outputId": "13a83b7d-2269-46db-eb01-7f1a8609eebf"
      },
      "source": [
        "# Drop columns missing 80% or more\n",
        "df.drop(['isAliveMother','isAliveFather','isAliveHeir', 'isAliveSpouse'], axis=1,inplace=True)"
      ],
      "execution_count": null,
      "outputs": [
        {
          "output_type": "stream",
          "text": [
            "/usr/local/lib/python3.7/dist-packages/pandas/core/frame.py:4174: SettingWithCopyWarning: \n",
            "A value is trying to be set on a copy of a slice from a DataFrame\n",
            "\n",
            "See the caveats in the documentation: https://pandas.pydata.org/pandas-docs/stable/user_guide/indexing.html#returning-a-view-versus-a-copy\n",
            "  errors=errors,\n"
          ],
          "name": "stderr"
        }
      ]
    },
    {
      "cell_type": "code",
      "metadata": {
        "id": "QCuCw8nddukG"
      },
      "source": [
        "# Drop culture, since house has 0 missing values and those correlate\n",
        "# df.drop(['culture'],axis=1,inplace=True)"
      ],
      "execution_count": null,
      "outputs": []
    },
    {
      "cell_type": "markdown",
      "metadata": {
        "id": "4v5Il_6RxIhN"
      },
      "source": [
        "Let's take a closer look at the outliers in this age column. From df.describe() we saw the average age is -4359.244275, minimum age -298001 and max age 100. Let's find out which characters are negative ages, then clean up this column by getting rid of the negative values and outliers. "
      ]
    },
    {
      "cell_type": "code",
      "metadata": {
        "id": "MsXeiRyNygIs",
        "colab": {
          "base_uri": "https://localhost:8080/",
          "height": 238
        },
        "outputId": "9bce5b92-34ce-44ab-f67b-c50e9c491182"
      },
      "source": [
        "df.loc[(df.age <= 0)]"
      ],
      "execution_count": null,
      "outputs": [
        {
          "output_type": "execute_result",
          "data": {
            "text/html": [
              "<div>\n",
              "<style scoped>\n",
              "    .dataframe tbody tr th:only-of-type {\n",
              "        vertical-align: middle;\n",
              "    }\n",
              "\n",
              "    .dataframe tbody tr th {\n",
              "        vertical-align: top;\n",
              "    }\n",
              "\n",
              "    .dataframe thead th {\n",
              "        text-align: right;\n",
              "    }\n",
              "</style>\n",
              "<table border=\"1\" class=\"dataframe\">\n",
              "  <thead>\n",
              "    <tr style=\"text-align: right;\">\n",
              "      <th></th>\n",
              "      <th>name</th>\n",
              "      <th>male</th>\n",
              "      <th>culture</th>\n",
              "      <th>house</th>\n",
              "      <th>book1</th>\n",
              "      <th>book2</th>\n",
              "      <th>book3</th>\n",
              "      <th>book4</th>\n",
              "      <th>book5</th>\n",
              "      <th>isMarried</th>\n",
              "      <th>isNoble</th>\n",
              "      <th>age</th>\n",
              "      <th>numDeadRelations</th>\n",
              "      <th>popularity</th>\n",
              "      <th>isAlive</th>\n",
              "    </tr>\n",
              "    <tr>\n",
              "      <th>S.No</th>\n",
              "      <th></th>\n",
              "      <th></th>\n",
              "      <th></th>\n",
              "      <th></th>\n",
              "      <th></th>\n",
              "      <th></th>\n",
              "      <th></th>\n",
              "      <th></th>\n",
              "      <th></th>\n",
              "      <th></th>\n",
              "      <th></th>\n",
              "      <th></th>\n",
              "      <th></th>\n",
              "      <th></th>\n",
              "      <th></th>\n",
              "    </tr>\n",
              "  </thead>\n",
              "  <tbody>\n",
              "    <tr>\n",
              "      <th>330</th>\n",
              "      <td>Baelon Targaryen (son of Viserys I)</td>\n",
              "      <td>1</td>\n",
              "      <td>Valyrian</td>\n",
              "      <td>Targaryen</td>\n",
              "      <td>0</td>\n",
              "      <td>0</td>\n",
              "      <td>0</td>\n",
              "      <td>0</td>\n",
              "      <td>0</td>\n",
              "      <td>0</td>\n",
              "      <td>1</td>\n",
              "      <td>0.0</td>\n",
              "      <td>0</td>\n",
              "      <td>0.100334</td>\n",
              "      <td>0</td>\n",
              "    </tr>\n",
              "    <tr>\n",
              "      <th>791</th>\n",
              "      <td>Mors Martell (brother of Doran)</td>\n",
              "      <td>1</td>\n",
              "      <td>NaN</td>\n",
              "      <td>Martell</td>\n",
              "      <td>0</td>\n",
              "      <td>0</td>\n",
              "      <td>0</td>\n",
              "      <td>1</td>\n",
              "      <td>0</td>\n",
              "      <td>0</td>\n",
              "      <td>0</td>\n",
              "      <td>0.0</td>\n",
              "      <td>0</td>\n",
              "      <td>0.066890</td>\n",
              "      <td>0</td>\n",
              "    </tr>\n",
              "    <tr>\n",
              "      <th>1685</th>\n",
              "      <td>Doreah</td>\n",
              "      <td>0</td>\n",
              "      <td>Lysene</td>\n",
              "      <td>Targaryen</td>\n",
              "      <td>1</td>\n",
              "      <td>1</td>\n",
              "      <td>0</td>\n",
              "      <td>0</td>\n",
              "      <td>1</td>\n",
              "      <td>0</td>\n",
              "      <td>0</td>\n",
              "      <td>-277980.0</td>\n",
              "      <td>0</td>\n",
              "      <td>0.110368</td>\n",
              "      <td>0</td>\n",
              "    </tr>\n",
              "    <tr>\n",
              "      <th>1869</th>\n",
              "      <td>Rhaego</td>\n",
              "      <td>0</td>\n",
              "      <td>NaN</td>\n",
              "      <td>Targaryen</td>\n",
              "      <td>1</td>\n",
              "      <td>1</td>\n",
              "      <td>1</td>\n",
              "      <td>1</td>\n",
              "      <td>0</td>\n",
              "      <td>0</td>\n",
              "      <td>0</td>\n",
              "      <td>-298001.0</td>\n",
              "      <td>6</td>\n",
              "      <td>0.167224</td>\n",
              "      <td>0</td>\n",
              "    </tr>\n",
              "  </tbody>\n",
              "</table>\n",
              "</div>"
            ],
            "text/plain": [
              "                                     name  male   culture       house  book1  \\\n",
              "S.No                                                                           \n",
              "330   Baelon Targaryen (son of Viserys I)     1  Valyrian   Targaryen      0   \n",
              "791       Mors Martell (brother of Doran)     1       NaN     Martell      0   \n",
              "1685                               Doreah     0    Lysene   Targaryen      1   \n",
              "1869                               Rhaego     0       NaN   Targaryen      1   \n",
              "\n",
              "      book2  book3  book4  book5  isMarried  isNoble       age  \\\n",
              "S.No                                                             \n",
              "330       0      0      0      0          0        1       0.0   \n",
              "791       0      0      1      0          0        0       0.0   \n",
              "1685      1      0      0      1          0        0 -277980.0   \n",
              "1869      1      1      1      0          0        0 -298001.0   \n",
              "\n",
              "      numDeadRelations  popularity  isAlive  \n",
              "S.No                                         \n",
              "330                  0    0.100334        0  \n",
              "791                  0    0.066890        0  \n",
              "1685                 0    0.110368        0  \n",
              "1869                 6    0.167224        0  "
            ]
          },
          "metadata": {
            "tags": []
          },
          "execution_count": 91
        }
      ]
    },
    {
      "cell_type": "markdown",
      "metadata": {
        "id": "w_ZXuhUU1kgW"
      },
      "source": [
        "After doing a little investigative work on these characters we find\n",
        "*   Baelon's age should be 44, not 0\n",
        "*   Doreah was a handmaiden of Daenerys Targaryen who is 25 yrs.\n",
        "*   Rhaego was the stillborn son of Drogo and Daenerys Targaryen, so 0 yrs makes sense. \n",
        "*   Mors Nymeros Martell, brother of Prince Doran Martell died as an infant so no need to change his age of 0yrs. "
      ]
    },
    {
      "cell_type": "code",
      "metadata": {
        "id": "5hhbfWn_5UCF"
      },
      "source": [
        "# Set Doreah's age using index\n",
        "df.at[1685, 'age'] = 25"
      ],
      "execution_count": null,
      "outputs": []
    },
    {
      "cell_type": "code",
      "metadata": {
        "id": "gYwZ3vV1K1Xy"
      },
      "source": [
        "# Set Rhaego's age using index value\n",
        "df.at[1869, 'age'] = 0"
      ],
      "execution_count": null,
      "outputs": []
    },
    {
      "cell_type": "code",
      "metadata": {
        "id": "kCf57r4gAg8Y"
      },
      "source": [
        "# Set Baelon's age using index\n",
        "df.at[330, 'age'] = 44"
      ],
      "execution_count": null,
      "outputs": []
    },
    {
      "cell_type": "code",
      "metadata": {
        "id": "m1pqT3vl6Cax",
        "colab": {
          "base_uri": "https://localhost:8080/",
          "height": 80
        },
        "outputId": "2c68e53e-682e-4d5f-8337-27034f67b1f2"
      },
      "source": [
        "# Sanity check this took care of all the negative ages\n",
        "df.loc[(df.age < 0)]"
      ],
      "execution_count": null,
      "outputs": [
        {
          "output_type": "execute_result",
          "data": {
            "text/html": [
              "<div>\n",
              "<style scoped>\n",
              "    .dataframe tbody tr th:only-of-type {\n",
              "        vertical-align: middle;\n",
              "    }\n",
              "\n",
              "    .dataframe tbody tr th {\n",
              "        vertical-align: top;\n",
              "    }\n",
              "\n",
              "    .dataframe thead th {\n",
              "        text-align: right;\n",
              "    }\n",
              "</style>\n",
              "<table border=\"1\" class=\"dataframe\">\n",
              "  <thead>\n",
              "    <tr style=\"text-align: right;\">\n",
              "      <th></th>\n",
              "      <th>name</th>\n",
              "      <th>male</th>\n",
              "      <th>culture</th>\n",
              "      <th>house</th>\n",
              "      <th>book1</th>\n",
              "      <th>book2</th>\n",
              "      <th>book3</th>\n",
              "      <th>book4</th>\n",
              "      <th>book5</th>\n",
              "      <th>isMarried</th>\n",
              "      <th>isNoble</th>\n",
              "      <th>age</th>\n",
              "      <th>numDeadRelations</th>\n",
              "      <th>popularity</th>\n",
              "      <th>isAlive</th>\n",
              "    </tr>\n",
              "    <tr>\n",
              "      <th>S.No</th>\n",
              "      <th></th>\n",
              "      <th></th>\n",
              "      <th></th>\n",
              "      <th></th>\n",
              "      <th></th>\n",
              "      <th></th>\n",
              "      <th></th>\n",
              "      <th></th>\n",
              "      <th></th>\n",
              "      <th></th>\n",
              "      <th></th>\n",
              "      <th></th>\n",
              "      <th></th>\n",
              "      <th></th>\n",
              "      <th></th>\n",
              "    </tr>\n",
              "  </thead>\n",
              "  <tbody>\n",
              "  </tbody>\n",
              "</table>\n",
              "</div>"
            ],
            "text/plain": [
              "Empty DataFrame\n",
              "Columns: [name, male, culture, house, book1, book2, book3, book4, book5, isMarried, isNoble, age, numDeadRelations, popularity, isAlive]\n",
              "Index: []"
            ]
          },
          "metadata": {
            "tags": []
          },
          "execution_count": 95
        }
      ]
    },
    {
      "cell_type": "code",
      "metadata": {
        "id": "MyvEfumtwY6l",
        "colab": {
          "base_uri": "https://localhost:8080/"
        },
        "outputId": "df015795-345a-4d6a-b898-0f8834b905c5"
      },
      "source": [
        "df['age'].value_counts()"
      ],
      "execution_count": null,
      "outputs": [
        {
          "output_type": "execute_result",
          "data": {
            "text/plain": [
              "100.0    11\n",
              "22.0      7\n",
              "39.0      5\n",
              "19.0      5\n",
              "20.0      5\n",
              "         ..\n",
              "1.0       1\n",
              "46.0      1\n",
              "54.0      1\n",
              "9.0       1\n",
              "12.0      1\n",
              "Name: age, Length: 63, dtype: int64"
            ]
          },
          "metadata": {
            "tags": []
          },
          "execution_count": 96
        }
      ]
    },
    {
      "cell_type": "code",
      "metadata": {
        "id": "e0_18T9E4ZHE",
        "colab": {
          "base_uri": "https://localhost:8080/",
          "height": 506
        },
        "outputId": "8d2e8d71-7582-4ee9-8a79-d00860152829"
      },
      "source": [
        "# 11 people exactly 100 yrs old seems odd for Westeros. Who are these characters?\n",
        "df.loc[(df.age == 100)]"
      ],
      "execution_count": null,
      "outputs": [
        {
          "output_type": "execute_result",
          "data": {
            "text/html": [
              "<div>\n",
              "<style scoped>\n",
              "    .dataframe tbody tr th:only-of-type {\n",
              "        vertical-align: middle;\n",
              "    }\n",
              "\n",
              "    .dataframe tbody tr th {\n",
              "        vertical-align: top;\n",
              "    }\n",
              "\n",
              "    .dataframe thead th {\n",
              "        text-align: right;\n",
              "    }\n",
              "</style>\n",
              "<table border=\"1\" class=\"dataframe\">\n",
              "  <thead>\n",
              "    <tr style=\"text-align: right;\">\n",
              "      <th></th>\n",
              "      <th>name</th>\n",
              "      <th>male</th>\n",
              "      <th>culture</th>\n",
              "      <th>house</th>\n",
              "      <th>book1</th>\n",
              "      <th>book2</th>\n",
              "      <th>book3</th>\n",
              "      <th>book4</th>\n",
              "      <th>book5</th>\n",
              "      <th>isMarried</th>\n",
              "      <th>isNoble</th>\n",
              "      <th>age</th>\n",
              "      <th>numDeadRelations</th>\n",
              "      <th>popularity</th>\n",
              "      <th>isAlive</th>\n",
              "    </tr>\n",
              "    <tr>\n",
              "      <th>S.No</th>\n",
              "      <th></th>\n",
              "      <th></th>\n",
              "      <th></th>\n",
              "      <th></th>\n",
              "      <th></th>\n",
              "      <th></th>\n",
              "      <th></th>\n",
              "      <th></th>\n",
              "      <th></th>\n",
              "      <th></th>\n",
              "      <th></th>\n",
              "      <th></th>\n",
              "      <th></th>\n",
              "      <th></th>\n",
              "      <th></th>\n",
              "    </tr>\n",
              "  </thead>\n",
              "  <tbody>\n",
              "    <tr>\n",
              "      <th>56</th>\n",
              "      <td>Naerys Targaryen</td>\n",
              "      <td>0</td>\n",
              "      <td>Valyrian</td>\n",
              "      <td>Targaryen</td>\n",
              "      <td>1</td>\n",
              "      <td>0</td>\n",
              "      <td>0</td>\n",
              "      <td>0</td>\n",
              "      <td>0</td>\n",
              "      <td>1</td>\n",
              "      <td>1</td>\n",
              "      <td>100.0</td>\n",
              "      <td>12</td>\n",
              "      <td>0.220736</td>\n",
              "      <td>0</td>\n",
              "    </tr>\n",
              "    <tr>\n",
              "      <th>86</th>\n",
              "      <td>Rhaena Targaryen (daughter of Daemon)</td>\n",
              "      <td>0</td>\n",
              "      <td>NaN</td>\n",
              "      <td>Targaryen</td>\n",
              "      <td>0</td>\n",
              "      <td>0</td>\n",
              "      <td>0</td>\n",
              "      <td>0</td>\n",
              "      <td>0</td>\n",
              "      <td>1</td>\n",
              "      <td>1</td>\n",
              "      <td>100.0</td>\n",
              "      <td>0</td>\n",
              "      <td>0.143813</td>\n",
              "      <td>0</td>\n",
              "    </tr>\n",
              "    <tr>\n",
              "      <th>87</th>\n",
              "      <td>Rhaena Targaryen (daughter of Aegon III)</td>\n",
              "      <td>0</td>\n",
              "      <td>Valyrian</td>\n",
              "      <td>Targaryen</td>\n",
              "      <td>0</td>\n",
              "      <td>0</td>\n",
              "      <td>0</td>\n",
              "      <td>0</td>\n",
              "      <td>0</td>\n",
              "      <td>0</td>\n",
              "      <td>1</td>\n",
              "      <td>100.0</td>\n",
              "      <td>0</td>\n",
              "      <td>0.073579</td>\n",
              "      <td>0</td>\n",
              "    </tr>\n",
              "    <tr>\n",
              "      <th>286</th>\n",
              "      <td>Aegon Targaryen (son of Jaehaerys I)</td>\n",
              "      <td>0</td>\n",
              "      <td>Valyrian</td>\n",
              "      <td>Targaryen</td>\n",
              "      <td>0</td>\n",
              "      <td>0</td>\n",
              "      <td>0</td>\n",
              "      <td>0</td>\n",
              "      <td>0</td>\n",
              "      <td>0</td>\n",
              "      <td>1</td>\n",
              "      <td>100.0</td>\n",
              "      <td>0</td>\n",
              "      <td>0.000000</td>\n",
              "      <td>0</td>\n",
              "    </tr>\n",
              "    <tr>\n",
              "      <th>431</th>\n",
              "      <td>Daella Targaryen (daughter of Maekar I)</td>\n",
              "      <td>1</td>\n",
              "      <td>Valyrian</td>\n",
              "      <td>Targaryen</td>\n",
              "      <td>0</td>\n",
              "      <td>0</td>\n",
              "      <td>0</td>\n",
              "      <td>0</td>\n",
              "      <td>0</td>\n",
              "      <td>0</td>\n",
              "      <td>1</td>\n",
              "      <td>100.0</td>\n",
              "      <td>0</td>\n",
              "      <td>0.080268</td>\n",
              "      <td>0</td>\n",
              "    </tr>\n",
              "    <tr>\n",
              "      <th>432</th>\n",
              "      <td>Daenerys Targaryen (daughter of Aegon IV)</td>\n",
              "      <td>0</td>\n",
              "      <td>NaN</td>\n",
              "      <td>Targaryen</td>\n",
              "      <td>0</td>\n",
              "      <td>0</td>\n",
              "      <td>0</td>\n",
              "      <td>0</td>\n",
              "      <td>1</td>\n",
              "      <td>1</td>\n",
              "      <td>1</td>\n",
              "      <td>100.0</td>\n",
              "      <td>10</td>\n",
              "      <td>0.093645</td>\n",
              "      <td>0</td>\n",
              "    </tr>\n",
              "    <tr>\n",
              "      <th>434</th>\n",
              "      <td>Daena Targaryen</td>\n",
              "      <td>0</td>\n",
              "      <td>Valyrian</td>\n",
              "      <td>Targaryen</td>\n",
              "      <td>0</td>\n",
              "      <td>0</td>\n",
              "      <td>0</td>\n",
              "      <td>0</td>\n",
              "      <td>0</td>\n",
              "      <td>1</td>\n",
              "      <td>1</td>\n",
              "      <td>100.0</td>\n",
              "      <td>7</td>\n",
              "      <td>0.227425</td>\n",
              "      <td>0</td>\n",
              "    </tr>\n",
              "    <tr>\n",
              "      <th>1348</th>\n",
              "      <td>Saera Targaryen</td>\n",
              "      <td>1</td>\n",
              "      <td>Valyrian</td>\n",
              "      <td>Targaryen</td>\n",
              "      <td>0</td>\n",
              "      <td>0</td>\n",
              "      <td>0</td>\n",
              "      <td>0</td>\n",
              "      <td>0</td>\n",
              "      <td>0</td>\n",
              "      <td>1</td>\n",
              "      <td>100.0</td>\n",
              "      <td>0</td>\n",
              "      <td>0.070234</td>\n",
              "      <td>0</td>\n",
              "    </tr>\n",
              "    <tr>\n",
              "      <th>1816</th>\n",
              "      <td>Shiera Seastar</td>\n",
              "      <td>0</td>\n",
              "      <td>Westeros</td>\n",
              "      <td>Targaryen</td>\n",
              "      <td>0</td>\n",
              "      <td>0</td>\n",
              "      <td>0</td>\n",
              "      <td>0</td>\n",
              "      <td>1</td>\n",
              "      <td>0</td>\n",
              "      <td>0</td>\n",
              "      <td>100.0</td>\n",
              "      <td>4</td>\n",
              "      <td>0.043478</td>\n",
              "      <td>0</td>\n",
              "    </tr>\n",
              "    <tr>\n",
              "      <th>1881</th>\n",
              "      <td>Rhae Targaryen</td>\n",
              "      <td>0</td>\n",
              "      <td>Valyrian</td>\n",
              "      <td>Targaryen</td>\n",
              "      <td>0</td>\n",
              "      <td>0</td>\n",
              "      <td>0</td>\n",
              "      <td>0</td>\n",
              "      <td>0</td>\n",
              "      <td>0</td>\n",
              "      <td>1</td>\n",
              "      <td>100.0</td>\n",
              "      <td>0</td>\n",
              "      <td>0.080268</td>\n",
              "      <td>0</td>\n",
              "    </tr>\n",
              "    <tr>\n",
              "      <th>1902</th>\n",
              "      <td>Baela Targaryen</td>\n",
              "      <td>0</td>\n",
              "      <td>Valyrian</td>\n",
              "      <td>Targaryen</td>\n",
              "      <td>0</td>\n",
              "      <td>0</td>\n",
              "      <td>0</td>\n",
              "      <td>0</td>\n",
              "      <td>0</td>\n",
              "      <td>1</td>\n",
              "      <td>1</td>\n",
              "      <td>100.0</td>\n",
              "      <td>0</td>\n",
              "      <td>0.127090</td>\n",
              "      <td>0</td>\n",
              "    </tr>\n",
              "  </tbody>\n",
              "</table>\n",
              "</div>"
            ],
            "text/plain": [
              "                                           name  male   culture       house  \\\n",
              "S.No                                                                          \n",
              "56                             Naerys Targaryen     0  Valyrian   Targaryen   \n",
              "86        Rhaena Targaryen (daughter of Daemon)     0       NaN   Targaryen   \n",
              "87     Rhaena Targaryen (daughter of Aegon III)     0  Valyrian   Targaryen   \n",
              "286        Aegon Targaryen (son of Jaehaerys I)     0  Valyrian   Targaryen   \n",
              "431     Daella Targaryen (daughter of Maekar I)     1  Valyrian   Targaryen   \n",
              "432   Daenerys Targaryen (daughter of Aegon IV)     0       NaN   Targaryen   \n",
              "434                             Daena Targaryen     0  Valyrian   Targaryen   \n",
              "1348                            Saera Targaryen     1  Valyrian   Targaryen   \n",
              "1816                             Shiera Seastar     0  Westeros   Targaryen   \n",
              "1881                             Rhae Targaryen     0  Valyrian   Targaryen   \n",
              "1902                            Baela Targaryen     0  Valyrian   Targaryen   \n",
              "\n",
              "      book1  book2  book3  book4  book5  isMarried  isNoble    age  \\\n",
              "S.No                                                                 \n",
              "56        1      0      0      0      0          1        1  100.0   \n",
              "86        0      0      0      0      0          1        1  100.0   \n",
              "87        0      0      0      0      0          0        1  100.0   \n",
              "286       0      0      0      0      0          0        1  100.0   \n",
              "431       0      0      0      0      0          0        1  100.0   \n",
              "432       0      0      0      0      1          1        1  100.0   \n",
              "434       0      0      0      0      0          1        1  100.0   \n",
              "1348      0      0      0      0      0          0        1  100.0   \n",
              "1816      0      0      0      0      1          0        0  100.0   \n",
              "1881      0      0      0      0      0          0        1  100.0   \n",
              "1902      0      0      0      0      0          1        1  100.0   \n",
              "\n",
              "      numDeadRelations  popularity  isAlive  \n",
              "S.No                                         \n",
              "56                  12    0.220736        0  \n",
              "86                   0    0.143813        0  \n",
              "87                   0    0.073579        0  \n",
              "286                  0    0.000000        0  \n",
              "431                  0    0.080268        0  \n",
              "432                 10    0.093645        0  \n",
              "434                  7    0.227425        0  \n",
              "1348                 0    0.070234        0  \n",
              "1816                 4    0.043478        0  \n",
              "1881                 0    0.080268        0  \n",
              "1902                 0    0.127090        0  "
            ]
          },
          "metadata": {
            "tags": []
          },
          "execution_count": 97
        }
      ]
    },
    {
      "cell_type": "markdown",
      "metadata": {
        "id": "ItQZzDAvZVL1"
      },
      "source": [
        "Based on the Wiki of Ice and Fire's data, here are the actual ages. Randomly sampling other ages in the dataset shows other ages do match up with ages listed on the wiki. So it seems the age variable is accurate when it's not listing 100 yrs old or large negative numbers. \n",
        "*   Naerys Targaryen: 46\n",
        "*   Rhaena Targaryen (daughter of Daemon): unknown\n",
        "*   Rhaena Targaryen (daughter of Aegon III): 24\n",
        "*   Aegon Targaryen (son of Jaehaerys I): 0\n",
        "*   Daella Targaryen (daughter of Maekar I): unknown\n",
        "*   Daenerys Targaryen (daughter of Aegon IV): unknown\n",
        "*   Daena Targaryen: 26\n",
        "*   Saera Targaryen: 34\n",
        "*   Shiera Seastar: 33\n",
        "*   Rhae Targaryen: unknown\n",
        "*   Baela Targaryen: unknown"
      ]
    },
    {
      "cell_type": "code",
      "metadata": {
        "id": "yKA_RBDtuRdI"
      },
      "source": [
        "# Set Naerys's age using index\n",
        "df.at[56, 'age'] = 46 "
      ],
      "execution_count": null,
      "outputs": []
    },
    {
      "cell_type": "code",
      "metadata": {
        "id": "apFn1pkxvPLK"
      },
      "source": [
        "# Set Rhaena's age using index\n",
        "df.at[87, 'age'] = 24 "
      ],
      "execution_count": null,
      "outputs": []
    },
    {
      "cell_type": "code",
      "metadata": {
        "id": "gzVJT2slvYQO"
      },
      "source": [
        "# Set Aegon, son of Jaehaerys I's age using index\n",
        "df.at[286, 'age'] = 0 "
      ],
      "execution_count": null,
      "outputs": []
    },
    {
      "cell_type": "code",
      "metadata": {
        "id": "zLkr2OlKvhIr"
      },
      "source": [
        "# Set Daena's age using index\n",
        "df.at[434, 'age'] = 26 "
      ],
      "execution_count": null,
      "outputs": []
    },
    {
      "cell_type": "code",
      "metadata": {
        "id": "HJnwG-vfvNye"
      },
      "source": [
        "# Set Saera's age using index\n",
        "df.at[1348, 'age'] = 34"
      ],
      "execution_count": null,
      "outputs": []
    },
    {
      "cell_type": "code",
      "metadata": {
        "id": "n53ymLKyvyux"
      },
      "source": [
        "# Set Shiera's age using index\n",
        "df.at[1816, 'age'] = 33"
      ],
      "execution_count": null,
      "outputs": []
    },
    {
      "cell_type": "code",
      "metadata": {
        "id": "tA0wdZF6wSV2",
        "colab": {
          "base_uri": "https://localhost:8080/"
        },
        "outputId": "883d97f5-5fc8-4dee-f5bf-13fe71387e3f"
      },
      "source": [
        "# change ages from 100 to NA for: Rhae & Baela Targaryen, \n",
        "# Rhaena Targaryen (Daemon), Daella Targaryen & Daenerys Targaryen (Aegon IV) \n",
        "df['age'].replace([100], float('NaN'), inplace=True)"
      ],
      "execution_count": null,
      "outputs": [
        {
          "output_type": "stream",
          "text": [
            "/usr/local/lib/python3.7/dist-packages/pandas/core/series.py:4582: SettingWithCopyWarning: \n",
            "A value is trying to be set on a copy of a slice from a DataFrame\n",
            "\n",
            "See the caveats in the documentation: https://pandas.pydata.org/pandas-docs/stable/user_guide/indexing.html#returning-a-view-versus-a-copy\n",
            "  method=method,\n"
          ],
          "name": "stderr"
        }
      ]
    },
    {
      "cell_type": "code",
      "metadata": {
        "id": "WVWvZDFiw9kC",
        "colab": {
          "base_uri": "https://localhost:8080/",
          "height": 80
        },
        "outputId": "0b55fa10-d010-4c25-fe8c-c951c605442a"
      },
      "source": [
        "# Verify no one remains listed as 100 incorrectly\n",
        "df.loc[(df.age == 100)]"
      ],
      "execution_count": null,
      "outputs": [
        {
          "output_type": "execute_result",
          "data": {
            "text/html": [
              "<div>\n",
              "<style scoped>\n",
              "    .dataframe tbody tr th:only-of-type {\n",
              "        vertical-align: middle;\n",
              "    }\n",
              "\n",
              "    .dataframe tbody tr th {\n",
              "        vertical-align: top;\n",
              "    }\n",
              "\n",
              "    .dataframe thead th {\n",
              "        text-align: right;\n",
              "    }\n",
              "</style>\n",
              "<table border=\"1\" class=\"dataframe\">\n",
              "  <thead>\n",
              "    <tr style=\"text-align: right;\">\n",
              "      <th></th>\n",
              "      <th>name</th>\n",
              "      <th>male</th>\n",
              "      <th>culture</th>\n",
              "      <th>house</th>\n",
              "      <th>book1</th>\n",
              "      <th>book2</th>\n",
              "      <th>book3</th>\n",
              "      <th>book4</th>\n",
              "      <th>book5</th>\n",
              "      <th>isMarried</th>\n",
              "      <th>isNoble</th>\n",
              "      <th>age</th>\n",
              "      <th>numDeadRelations</th>\n",
              "      <th>popularity</th>\n",
              "      <th>isAlive</th>\n",
              "    </tr>\n",
              "    <tr>\n",
              "      <th>S.No</th>\n",
              "      <th></th>\n",
              "      <th></th>\n",
              "      <th></th>\n",
              "      <th></th>\n",
              "      <th></th>\n",
              "      <th></th>\n",
              "      <th></th>\n",
              "      <th></th>\n",
              "      <th></th>\n",
              "      <th></th>\n",
              "      <th></th>\n",
              "      <th></th>\n",
              "      <th></th>\n",
              "      <th></th>\n",
              "      <th></th>\n",
              "    </tr>\n",
              "  </thead>\n",
              "  <tbody>\n",
              "  </tbody>\n",
              "</table>\n",
              "</div>"
            ],
            "text/plain": [
              "Empty DataFrame\n",
              "Columns: [name, male, culture, house, book1, book2, book3, book4, book5, isMarried, isNoble, age, numDeadRelations, popularity, isAlive]\n",
              "Index: []"
            ]
          },
          "metadata": {
            "tags": []
          },
          "execution_count": 105
        }
      ]
    },
    {
      "cell_type": "markdown",
      "metadata": {
        "id": "2t3q9a6SxzVG"
      },
      "source": [
        "Now that we've dealt with outliers, what does do the mean, median and mode of the age variable look like?"
      ]
    },
    {
      "cell_type": "code",
      "metadata": {
        "id": "2J1BM1UYxSd8",
        "colab": {
          "base_uri": "https://localhost:8080/"
        },
        "outputId": "fa861de8-d951-42f4-e2b5-ddcaf1aac495"
      },
      "source": [
        "df['age'].describe()"
      ],
      "execution_count": null,
      "outputs": [
        {
          "output_type": "execute_result",
          "data": {
            "text/plain": [
              "count    126.000000\n",
              "mean      32.158730\n",
              "std       18.860504\n",
              "min        0.000000\n",
              "25%       19.000000\n",
              "50%       28.000000\n",
              "75%       42.750000\n",
              "max       84.000000\n",
              "Name: age, dtype: float64"
            ]
          },
          "metadata": {
            "tags": []
          },
          "execution_count": 106
        }
      ]
    },
    {
      "cell_type": "code",
      "metadata": {
        "id": "o2OXO0Jkx8uf",
        "colab": {
          "base_uri": "https://localhost:8080/"
        },
        "outputId": "dd2703e8-8889-43be-9f1a-ad5faaf48746"
      },
      "source": [
        "df['age'].mode()"
      ],
      "execution_count": null,
      "outputs": [
        {
          "output_type": "execute_result",
          "data": {
            "text/plain": [
              "0    22.0\n",
              "dtype: float64"
            ]
          },
          "metadata": {
            "tags": []
          },
          "execution_count": 107
        }
      ]
    },
    {
      "cell_type": "code",
      "metadata": {
        "id": "f4f3vaBZDfR0",
        "colab": {
          "base_uri": "https://localhost:8080/"
        },
        "outputId": "cb7ffd63-74a9-4645-853a-56133e8f7dbb"
      },
      "source": [
        "# check missing values in the dataset\n",
        "df.isnull().sum()"
      ],
      "execution_count": null,
      "outputs": [
        {
          "output_type": "execute_result",
          "data": {
            "text/plain": [
              "name                  0\n",
              "male                  0\n",
              "culture             252\n",
              "house                 0\n",
              "book1                 0\n",
              "book2                 0\n",
              "book3                 0\n",
              "book4                 0\n",
              "book5                 0\n",
              "isMarried             0\n",
              "isNoble               0\n",
              "age                 309\n",
              "numDeadRelations      0\n",
              "popularity            0\n",
              "isAlive               0\n",
              "dtype: int64"
            ]
          },
          "metadata": {
            "tags": []
          },
          "execution_count": 108
        }
      ]
    },
    {
      "cell_type": "code",
      "metadata": {
        "id": "OetmaYdGEbe1",
        "colab": {
          "base_uri": "https://localhost:8080/"
        },
        "outputId": "a46b79e3-62b3-44cd-f8a9-2cc484694e9c"
      },
      "source": [
        "# Check for duplicated values\n",
        "df.duplicated().sum()"
      ],
      "execution_count": null,
      "outputs": [
        {
          "output_type": "execute_result",
          "data": {
            "text/plain": [
              "0"
            ]
          },
          "metadata": {
            "tags": []
          },
          "execution_count": 109
        }
      ]
    },
    {
      "cell_type": "markdown",
      "metadata": {
        "id": "_LEO_SzUu9MY"
      },
      "source": [
        "### **FILL IN MISSING VALUES**"
      ]
    },
    {
      "cell_type": "markdown",
      "metadata": {
        "id": "v9fq5LzIj0mT"
      },
      "source": [
        "**Age**\n",
        "\n",
        "Let's fill in missing values for age (309)."
      ]
    },
    {
      "cell_type": "code",
      "metadata": {
        "id": "vQ47UEAAKf1u",
        "colab": {
          "base_uri": "https://localhost:8080/"
        },
        "outputId": "1774571f-0b1d-4fa6-c5a3-cffaebbc472c"
      },
      "source": [
        "# check distribution of age variable\n",
        "pd.qcut(df['age'], q=5, precision=0)"
      ],
      "execution_count": null,
      "outputs": [
        {
          "output_type": "execute_result",
          "data": {
            "text/plain": [
              "S.No\n",
              "4       (18.0, 24.0]\n",
              "7       (24.0, 34.0]\n",
              "11               NaN\n",
              "28               NaN\n",
              "30               NaN\n",
              "            ...     \n",
              "1928    (18.0, 24.0]\n",
              "1929             NaN\n",
              "1932             NaN\n",
              "1942             NaN\n",
              "1946    (34.0, 48.0]\n",
              "Name: age, Length: 435, dtype: category\n",
              "Categories (5, interval[float64]): [(-1.0, 18.0] < (18.0, 24.0] < (24.0, 34.0] < (34.0, 48.0] <\n",
              "                                    (48.0, 84.0]]"
            ]
          },
          "metadata": {
            "tags": []
          },
          "execution_count": 110
        }
      ]
    },
    {
      "cell_type": "code",
      "metadata": {
        "id": "OWB0k-MSMYmD",
        "colab": {
          "base_uri": "https://localhost:8080/"
        },
        "outputId": "af7b2f40-1ce7-43f4-e0b2-359090a5098c"
      },
      "source": [
        "df['age'].fillna(22, inplace=True)"
      ],
      "execution_count": null,
      "outputs": [
        {
          "output_type": "stream",
          "text": [
            "/usr/local/lib/python3.7/dist-packages/pandas/core/series.py:4536: SettingWithCopyWarning: \n",
            "A value is trying to be set on a copy of a slice from a DataFrame\n",
            "\n",
            "See the caveats in the documentation: https://pandas.pydata.org/pandas-docs/stable/user_guide/indexing.html#returning-a-view-versus-a-copy\n",
            "  downcast=downcast,\n"
          ],
          "name": "stderr"
        }
      ]
    },
    {
      "cell_type": "code",
      "metadata": {
        "id": "dMTjSxAjLUc-",
        "colab": {
          "base_uri": "https://localhost:8080/"
        },
        "outputId": "613b5ab5-46fb-49ab-8359-d5e68069a48c"
      },
      "source": [
        "# bucket ages into groups\n",
        "df['age'] = df['age'].astype(int)\n",
        "df.loc[ df['age'] <= 18, 'age'] = 0\n",
        "df.loc[(df['age'] > 18) & (df['age'] <= 24), 'age'] = 1\n",
        "df.loc[(df['age'] > 24) & (df['age'] <= 34), 'age'] = 2\n",
        "df.loc[(df['age'] > 34) & (df['age'] <= 48), 'age'] = 3\n",
        "df.loc[(df['age'] > 48) & (df['age'] <= 84), 'age'] = 4\n",
        "\n",
        "df['age'].value_counts()"
      ],
      "execution_count": null,
      "outputs": [
        {
          "output_type": "stream",
          "text": [
            "/usr/local/lib/python3.7/dist-packages/ipykernel_launcher.py:2: SettingWithCopyWarning: \n",
            "A value is trying to be set on a copy of a slice from a DataFrame.\n",
            "Try using .loc[row_indexer,col_indexer] = value instead\n",
            "\n",
            "See the caveats in the documentation: https://pandas.pydata.org/pandas-docs/stable/user_guide/indexing.html#returning-a-view-versus-a-copy\n",
            "  \n",
            "/usr/local/lib/python3.7/dist-packages/pandas/core/indexing.py:1763: SettingWithCopyWarning: \n",
            "A value is trying to be set on a copy of a slice from a DataFrame.\n",
            "Try using .loc[row_indexer,col_indexer] = value instead\n",
            "\n",
            "See the caveats in the documentation: https://pandas.pydata.org/pandas-docs/stable/user_guide/indexing.html#returning-a-view-versus-a-copy\n",
            "  isetter(loc, value)\n",
            "/usr/local/lib/python3.7/dist-packages/pandas/core/indexing.py:1763: SettingWithCopyWarning: \n",
            "A value is trying to be set on a copy of a slice from a DataFrame.\n",
            "Try using .loc[row_indexer,col_indexer] = value instead\n",
            "\n",
            "See the caveats in the documentation: https://pandas.pydata.org/pandas-docs/stable/user_guide/indexing.html#returning-a-view-versus-a-copy\n",
            "  isetter(loc, value)\n",
            "/usr/local/lib/python3.7/dist-packages/pandas/core/indexing.py:1763: SettingWithCopyWarning: \n",
            "A value is trying to be set on a copy of a slice from a DataFrame.\n",
            "Try using .loc[row_indexer,col_indexer] = value instead\n",
            "\n",
            "See the caveats in the documentation: https://pandas.pydata.org/pandas-docs/stable/user_guide/indexing.html#returning-a-view-versus-a-copy\n",
            "  isetter(loc, value)\n",
            "/usr/local/lib/python3.7/dist-packages/pandas/core/indexing.py:1763: SettingWithCopyWarning: \n",
            "A value is trying to be set on a copy of a slice from a DataFrame.\n",
            "Try using .loc[row_indexer,col_indexer] = value instead\n",
            "\n",
            "See the caveats in the documentation: https://pandas.pydata.org/pandas-docs/stable/user_guide/indexing.html#returning-a-view-versus-a-copy\n",
            "  isetter(loc, value)\n",
            "/usr/local/lib/python3.7/dist-packages/pandas/core/indexing.py:1763: SettingWithCopyWarning: \n",
            "A value is trying to be set on a copy of a slice from a DataFrame.\n",
            "Try using .loc[row_indexer,col_indexer] = value instead\n",
            "\n",
            "See the caveats in the documentation: https://pandas.pydata.org/pandas-docs/stable/user_guide/indexing.html#returning-a-view-versus-a-copy\n",
            "  isetter(loc, value)\n"
          ],
          "name": "stderr"
        },
        {
          "output_type": "execute_result",
          "data": {
            "text/plain": [
              "1    336\n",
              "0     28\n",
              "4     25\n",
              "3     24\n",
              "2     22\n",
              "Name: age, dtype: int64"
            ]
          },
          "metadata": {
            "tags": []
          },
          "execution_count": 112
        }
      ]
    },
    {
      "cell_type": "markdown",
      "metadata": {
        "id": "LhAJFfSYYOhO"
      },
      "source": [
        "### **DATA VISUALIZATION**\n",
        "Let's create a heatmap to visualize any correlations. The closer to 1 or -1 the correlation value is, the more related the features are. A value close to 0 means there is little correlation. Here are a few questions we could explore.\n",
        "1. Is there a correlation between a character's traits: **married or not, male or female, noble or not** and survival?\n",
        "2. Is there a correlation between **popularity** and survival?\n",
        "3. Is there a correlation between the **number of dead relatives** and that character's survival?\n",
        "4. Is there a correlation between **appearances in a particular book** & survival?\n",
        "5. Is there a correlation between **age** & survival?\n",
        "6. Is there a correlation between whether **mother, father, heir, or spouse are alive** and survival?"
      ]
    },
    {
      "cell_type": "code",
      "metadata": {
        "id": "9BUk6myT5QHl"
      },
      "source": [
        "# Create correlation matrix\n",
        "corr_matrix = df.corr()\n",
        "\n",
        "# df_dummy = pd.get_dummies(df.house)\n",
        "# df = pd.concat([df, df_dummy], axis = 1)\n",
        "\n",
        "# Set up mask to hide upper triangle.\n",
        "mask = np.zeros_like(corr_matrix, dtype=np.bool)\n",
        "mask[np.triu_indices_from(mask)]= True"
      ],
      "execution_count": null,
      "outputs": []
    },
    {
      "cell_type": "code",
      "metadata": {
        "id": "beW6adz8PpDo",
        "colab": {
          "base_uri": "https://localhost:8080/",
          "height": 879
        },
        "outputId": "c5e92cc7-cdb4-4fa3-fa02-3e3b586582db"
      },
      "source": [
        "# Visualize correlations\n",
        "plt.figure(figsize = (15,15))\n",
        "sns.heatmap(corr_matrix, \n",
        "            mask = mask, \n",
        "            square=True, \n",
        "            annot=True,\n",
        "            linewidths = .5, \n",
        "            cmap='coolwarm',\n",
        "            vmin = -1, \n",
        "            vmax = 1)\n",
        "\n",
        "plt.title(\"Character Features & Survival Correlation\")\n",
        "sns.set_style({'xtick.bottom': True}, {'ytick.left': True})"
      ],
      "execution_count": null,
      "outputs": [
        {
          "output_type": "display_data",
          "data": {
            "image/png": "[encoded data removed]",
            "text/plain": [
              "<Figure size 1080x1080 with 2 Axes>"
            ]
          },
          "metadata": {
            "tags": []
          }
        }
      ]
    },
    {
      "cell_type": "markdown",
      "metadata": {
        "id": "rw6DC1aKJKjz"
      },
      "source": [
        "Looking at the heatmap above, let's reflect on our initial questions. A strong correlation coefficent is greater than 0.8. A correlation under 0.5 is generally described as weak. There aren't any strong positive or negative correlations between a character's survival and any of the features in our dataframe. The highest correlation 0.63 is between number of dead relatives and popularity. Only the numeric column correlations were calculated, so it's possible there's a correlation between house or culture and survival. "
      ]
    },
    {
      "cell_type": "markdown",
      "metadata": {
        "id": "LSKN5wQPHp-y"
      },
      "source": [
        "### **PLOT CLASS BALANCE**\n",
        "Let's look at the balance of characters alive vs dead and the representation of each house and culture.  "
      ]
    },
    {
      "cell_type": "code",
      "metadata": {
        "id": "p269uZjynezf",
        "colab": {
          "base_uri": "https://localhost:8080/"
        },
        "outputId": "b57f918c-d663-4f52-c6d0-8b423abfd917"
      },
      "source": [
        "df.isAlive.value_counts()"
      ],
      "execution_count": null,
      "outputs": [
        {
          "output_type": "execute_result",
          "data": {
            "text/plain": [
              "1    270\n",
              "0    165\n",
              "Name: isAlive, dtype: int64"
            ]
          },
          "metadata": {
            "tags": []
          },
          "execution_count": 115
        }
      ]
    },
    {
      "cell_type": "markdown",
      "metadata": {
        "id": "MuQpfbMlntKb"
      },
      "source": [
        "The dataset isn't heavily skewed in one direction. The living represent 62% of the dataset, and the dead 38%. "
      ]
    },
    {
      "cell_type": "code",
      "metadata": {
        "id": "8K4NNkdbTJtY",
        "colab": {
          "base_uri": "https://localhost:8080/"
        },
        "outputId": "f42a49d9-da11-4b96-8e47-97eade6504db"
      },
      "source": [
        "# What is the representation of each house in the data?\n",
        "df.house.value_counts() / len(df)"
      ],
      "execution_count": null,
      "outputs": [
        {
          "output_type": "execute_result",
          "data": {
            "text/plain": [
              "Night's Watch    0.241379\n",
              " Stark           0.165517\n",
              " Targaryen       0.142529\n",
              " Lannister       0.112644\n",
              " Greyjoy         0.094253\n",
              " Tyrell          0.082759\n",
              " Martell         0.066667\n",
              " Arryn           0.036782\n",
              " Baratheon       0.029885\n",
              " Tully           0.027586\n",
              "Name: house, dtype: float64"
            ]
          },
          "metadata": {
            "tags": []
          },
          "execution_count": 116
        }
      ]
    },
    {
      "cell_type": "markdown",
      "metadata": {
        "id": "CSG5yMdGUt3b"
      },
      "source": [
        "Out of 435 characters, Night's Watch represents 24% of the data with 2.8% being from the smallest house, Tully."
      ]
    },
    {
      "cell_type": "code",
      "metadata": {
        "id": "lU_5RT8aF0Db",
        "colab": {
          "base_uri": "https://localhost:8080/",
          "height": 626
        },
        "outputId": "78e6f459-4244-4bef-bc9b-caf3f7bd2c8e"
      },
      "source": [
        "# Plot proportion alive by house\n",
        "sns.barplot(x='isAlive', y='house', data=df, ci=None)\n",
        "fig = plt.gcf()\n",
        "fig.set_size_inches(5, 10)\n",
        "plt.xlabel(\"Proportion Alive\")\n",
        "plt.ylabel(\"House\")\n",
        "plt.title(\"Proportion Alive by House\")\n",
        "plt.savefig(\"proportion_alive_by_house.png\", format='png',dpi=150)"
      ],
      "execution_count": null,
      "outputs": [
        {
          "output_type": "display_data",
          "data": {
            "image/png": "[encoded data removed]",
            "text/plain": [
              "<Figure size 360x720 with 1 Axes>"
            ]
          },
          "metadata": {
            "tags": []
          }
        }
      ]
    },
    {
      "cell_type": "markdown",
      "metadata": {
        "id": "c_CLJvLwv1SK"
      },
      "source": [
        "House Tyrell has the largest portion alive, while Targaryens have the least portion of their house alive. This matches up with the history of Westeros which inclues a major war between two Targaryens that resulted in the destruction of most of house Targaryen and nearly all their dragons."
      ]
    },
    {
      "cell_type": "code",
      "metadata": {
        "id": "NQCj5Fc5jPT0",
        "colab": {
          "base_uri": "https://localhost:8080/"
        },
        "outputId": "51a5cad2-61cd-4261-80dc-f9b8d2b64bbf"
      },
      "source": [
        "# Get unique culture values regardless \n",
        "df['culture'].str.title().unique()"
      ],
      "execution_count": null,
      "outputs": [
        {
          "output_type": "execute_result",
          "data": {
            "text/plain": [
              "array([nan, 'Valyrian', 'Ironborn', 'Northmen', 'Reach', 'Lhazarene',\n",
              "       'Westermen', 'Westerman', 'Summer Isles', 'Dothraki', 'Westeros',\n",
              "       'Rivermen', 'Vale', 'Sistermen', 'Wildling', 'Dorne', 'Dornishmen',\n",
              "       'Dornish', 'Tyroshi', 'Westerlands', 'Naathi', 'Rhoynar',\n",
              "       'Free Folk', 'Ironmen', 'Norvos', 'Meereenese', 'First Men',\n",
              "       'Lysene', 'Pentoshi', 'Valemen', 'Stormlands', 'Braavosi',\n",
              "       'Wildlings', 'The Reach'], dtype=object)"
            ]
          },
          "metadata": {
            "tags": []
          },
          "execution_count": 118
        }
      ]
    },
    {
      "cell_type": "code",
      "metadata": {
        "id": "CSIBF4V7c5xa",
        "colab": {
          "base_uri": "https://localhost:8080/",
          "height": 626
        },
        "outputId": "8dab7ccc-1529-4bdc-80bc-65793b99c345"
      },
      "source": [
        "# Plot proportion alive by culture\n",
        "sns.set_style('whitegrid')\n",
        "culture = list(df['culture'].str.title().unique())\n",
        "ax = sns.barplot(x='isAlive', y='culture', data=df, ci=None)\n",
        "fig = plt.gcf()\n",
        "fig.set_size_inches(5, 10)\n",
        "plt.xlabel(\"Proportion Alive\")\n",
        "plt.ylabel(\"Culture\")\n",
        "plt.title(\"Proportion Alive by Culture\")\n",
        "plt.savefig(\"proportion_alive_by_culture.png\", format='png',dpi=150)"
      ],
      "execution_count": null,
      "outputs": [
        {
          "output_type": "display_data",
          "data": {
            "image/png": "[encoded data removed]",
            "text/plain": [
              "<Figure size 360x720 with 1 Axes>"
            ]
          },
          "metadata": {
            "tags": []
          }
        }
      ]
    },
    {
      "cell_type": "markdown",
      "metadata": {
        "id": "URvzjcKJws-J"
      },
      "source": [
        "This doesn't seem right. The First Men are the original human inhabitants of Westeros, so it's unlikely they are alive. Let's look at the counts behind these percentages."
      ]
    },
    {
      "cell_type": "code",
      "metadata": {
        "id": "mFvQzJ8ox1Hv",
        "colab": {
          "base_uri": "https://localhost:8080/",
          "height": 111
        },
        "outputId": "ed76378b-fc13-4f47-a003-77a74fc1e154"
      },
      "source": [
        "df.loc[df['culture'] == 'First Men'][['name', 'isAlive']]"
      ],
      "execution_count": null,
      "outputs": [
        {
          "output_type": "execute_result",
          "data": {
            "text/html": [
              "<div>\n",
              "<style scoped>\n",
              "    .dataframe tbody tr th:only-of-type {\n",
              "        vertical-align: middle;\n",
              "    }\n",
              "\n",
              "    .dataframe tbody tr th {\n",
              "        vertical-align: top;\n",
              "    }\n",
              "\n",
              "    .dataframe thead th {\n",
              "        text-align: right;\n",
              "    }\n",
              "</style>\n",
              "<table border=\"1\" class=\"dataframe\">\n",
              "  <thead>\n",
              "    <tr style=\"text-align: right;\">\n",
              "      <th></th>\n",
              "      <th>name</th>\n",
              "      <th>isAlive</th>\n",
              "    </tr>\n",
              "    <tr>\n",
              "      <th>S.No</th>\n",
              "      <th></th>\n",
              "      <th></th>\n",
              "    </tr>\n",
              "  </thead>\n",
              "  <tbody>\n",
              "    <tr>\n",
              "      <th>1665</th>\n",
              "      <td>Bran the Builder</td>\n",
              "      <td>1</td>\n",
              "    </tr>\n",
              "  </tbody>\n",
              "</table>\n",
              "</div>"
            ],
            "text/plain": [
              "                  name  isAlive\n",
              "S.No                           \n",
              "1665  Bran the Builder        1"
            ]
          },
          "metadata": {
            "tags": []
          },
          "execution_count": 120
        }
      ]
    },
    {
      "cell_type": "code",
      "metadata": {
        "id": "DckEFQwu1NA9",
        "colab": {
          "base_uri": "https://localhost:8080/"
        },
        "outputId": "e1cec7f9-49cc-4ee0-f730-c74f12866ea2"
      },
      "source": [
        "df.culture.value_counts()"
      ],
      "execution_count": null,
      "outputs": [
        {
          "output_type": "execute_result",
          "data": {
            "text/plain": [
              "Northmen      48\n",
              "Valyrian      29\n",
              "Ironborn      26\n",
              "Dornishmen     9\n",
              "northmen       8\n",
              "              ..\n",
              "Lhazarene      1\n",
              "Dorne          1\n",
              "First Men      1\n",
              "Rhoynar        1\n",
              "Braavosi       1\n",
              "Name: culture, Length: 35, dtype: int64"
            ]
          },
          "metadata": {
            "tags": []
          },
          "execution_count": 121
        }
      ]
    },
    {
      "cell_type": "code",
      "metadata": {
        "id": "6fJd3yTAgZYv",
        "colab": {
          "base_uri": "https://localhost:8080/"
        },
        "outputId": "32c29c71-128f-415d-9f24-da6ea692ca79"
      },
      "source": [
        "df.culture.nunique()"
      ],
      "execution_count": null,
      "outputs": [
        {
          "output_type": "execute_result",
          "data": {
            "text/plain": [
              "35"
            ]
          },
          "metadata": {
            "tags": []
          },
          "execution_count": 122
        }
      ]
    },
    {
      "cell_type": "markdown",
      "metadata": {
        "id": "kznVhxkugTo2"
      },
      "source": [
        "Compared with the house value where we have no null values, the culture value is not likely to be as helpful to predict death. There are 35 unique cultures, and the distribution is sparsely spread across the remaining 32 cultures after the top 3 cultures. There are 19 cultures with just a single person in the culture."
      ]
    },
    {
      "cell_type": "code",
      "metadata": {
        "id": "4cg_qgMdx7kc",
        "colab": {
          "base_uri": "https://localhost:8080/",
          "height": 235
        },
        "outputId": "be59a941-79e1-4607-cab6-2b3a9918c1cf"
      },
      "source": [
        "df.head()"
      ],
      "execution_count": null,
      "outputs": [
        {
          "output_type": "execute_result",
          "data": {
            "text/html": [
              "<div>\n",
              "<style scoped>\n",
              "    .dataframe tbody tr th:only-of-type {\n",
              "        vertical-align: middle;\n",
              "    }\n",
              "\n",
              "    .dataframe tbody tr th {\n",
              "        vertical-align: top;\n",
              "    }\n",
              "\n",
              "    .dataframe thead th {\n",
              "        text-align: right;\n",
              "    }\n",
              "</style>\n",
              "<table border=\"1\" class=\"dataframe\">\n",
              "  <thead>\n",
              "    <tr style=\"text-align: right;\">\n",
              "      <th></th>\n",
              "      <th>name</th>\n",
              "      <th>male</th>\n",
              "      <th>culture</th>\n",
              "      <th>house</th>\n",
              "      <th>book1</th>\n",
              "      <th>book2</th>\n",
              "      <th>book3</th>\n",
              "      <th>book4</th>\n",
              "      <th>book5</th>\n",
              "      <th>isMarried</th>\n",
              "      <th>isNoble</th>\n",
              "      <th>age</th>\n",
              "      <th>numDeadRelations</th>\n",
              "      <th>popularity</th>\n",
              "      <th>isAlive</th>\n",
              "    </tr>\n",
              "    <tr>\n",
              "      <th>S.No</th>\n",
              "      <th></th>\n",
              "      <th></th>\n",
              "      <th></th>\n",
              "      <th></th>\n",
              "      <th></th>\n",
              "      <th></th>\n",
              "      <th></th>\n",
              "      <th></th>\n",
              "      <th></th>\n",
              "      <th></th>\n",
              "      <th></th>\n",
              "      <th></th>\n",
              "      <th></th>\n",
              "      <th></th>\n",
              "      <th></th>\n",
              "    </tr>\n",
              "  </thead>\n",
              "  <tbody>\n",
              "    <tr>\n",
              "      <th>4</th>\n",
              "      <td>Aemma Arryn</td>\n",
              "      <td>0</td>\n",
              "      <td>NaN</td>\n",
              "      <td>Arryn</td>\n",
              "      <td>0</td>\n",
              "      <td>0</td>\n",
              "      <td>0</td>\n",
              "      <td>0</td>\n",
              "      <td>0</td>\n",
              "      <td>1</td>\n",
              "      <td>1</td>\n",
              "      <td>1</td>\n",
              "      <td>0</td>\n",
              "      <td>0.183946</td>\n",
              "      <td>0</td>\n",
              "    </tr>\n",
              "    <tr>\n",
              "      <th>7</th>\n",
              "      <td>Valarr Targaryen</td>\n",
              "      <td>1</td>\n",
              "      <td>Valyrian</td>\n",
              "      <td>Targaryen</td>\n",
              "      <td>0</td>\n",
              "      <td>0</td>\n",
              "      <td>0</td>\n",
              "      <td>0</td>\n",
              "      <td>0</td>\n",
              "      <td>1</td>\n",
              "      <td>1</td>\n",
              "      <td>2</td>\n",
              "      <td>0</td>\n",
              "      <td>0.431438</td>\n",
              "      <td>0</td>\n",
              "    </tr>\n",
              "    <tr>\n",
              "      <th>11</th>\n",
              "      <td>Will</td>\n",
              "      <td>1</td>\n",
              "      <td>NaN</td>\n",
              "      <td>Night's Watch</td>\n",
              "      <td>1</td>\n",
              "      <td>1</td>\n",
              "      <td>0</td>\n",
              "      <td>0</td>\n",
              "      <td>0</td>\n",
              "      <td>0</td>\n",
              "      <td>0</td>\n",
              "      <td>1</td>\n",
              "      <td>0</td>\n",
              "      <td>0.163880</td>\n",
              "      <td>0</td>\n",
              "    </tr>\n",
              "    <tr>\n",
              "      <th>28</th>\n",
              "      <td>Wulfe</td>\n",
              "      <td>1</td>\n",
              "      <td>Ironborn</td>\n",
              "      <td>Greyjoy</td>\n",
              "      <td>0</td>\n",
              "      <td>0</td>\n",
              "      <td>0</td>\n",
              "      <td>1</td>\n",
              "      <td>1</td>\n",
              "      <td>0</td>\n",
              "      <td>0</td>\n",
              "      <td>1</td>\n",
              "      <td>0</td>\n",
              "      <td>0.023411</td>\n",
              "      <td>1</td>\n",
              "    </tr>\n",
              "    <tr>\n",
              "      <th>30</th>\n",
              "      <td>Wyl (guard)</td>\n",
              "      <td>0</td>\n",
              "      <td>Northmen</td>\n",
              "      <td>Stark</td>\n",
              "      <td>1</td>\n",
              "      <td>0</td>\n",
              "      <td>0</td>\n",
              "      <td>0</td>\n",
              "      <td>0</td>\n",
              "      <td>0</td>\n",
              "      <td>0</td>\n",
              "      <td>1</td>\n",
              "      <td>0</td>\n",
              "      <td>0.026756</td>\n",
              "      <td>0</td>\n",
              "    </tr>\n",
              "  </tbody>\n",
              "</table>\n",
              "</div>"
            ],
            "text/plain": [
              "                  name  male   culture          house  book1  book2  book3  \\\n",
              "S.No                                                                         \n",
              "4          Aemma Arryn     0       NaN          Arryn      0      0      0   \n",
              "7     Valarr Targaryen     1  Valyrian      Targaryen      0      0      0   \n",
              "11                Will     1       NaN  Night's Watch      1      1      0   \n",
              "28               Wulfe     1  Ironborn        Greyjoy      0      0      0   \n",
              "30         Wyl (guard)     0  Northmen          Stark      1      0      0   \n",
              "\n",
              "      book4  book5  isMarried  isNoble  age  numDeadRelations  popularity  \\\n",
              "S.No                                                                        \n",
              "4         0      0          1        1    1                 0    0.183946   \n",
              "7         0      0          1        1    2                 0    0.431438   \n",
              "11        0      0          0        0    1                 0    0.163880   \n",
              "28        1      1          0        0    1                 0    0.023411   \n",
              "30        0      0          0        0    1                 0    0.026756   \n",
              "\n",
              "      isAlive  \n",
              "S.No           \n",
              "4           0  \n",
              "7           0  \n",
              "11          0  \n",
              "28          1  \n",
              "30          0  "
            ]
          },
          "metadata": {
            "tags": []
          },
          "execution_count": 123
        }
      ]
    },
    {
      "cell_type": "markdown",
      "metadata": {
        "id": "ow3ZCoBGIR1G"
      },
      "source": [
        "##**PREPROCESSING: PREPARE DATA FOR MODELING**\n",
        "To prepare the data for ML algorithms drop remaining irrelevant columns and convert categorical house values to numeric."
      ]
    },
    {
      "cell_type": "code",
      "metadata": {
        "id": "Ig7M-ljgKgUO",
        "colab": {
          "base_uri": "https://localhost:8080/"
        },
        "outputId": "9f463660-f93b-4a5b-b930-af6dab5017bb"
      },
      "source": [
        "df.columns"
      ],
      "execution_count": null,
      "outputs": [
        {
          "output_type": "execute_result",
          "data": {
            "text/plain": [
              "Index(['name', 'male', 'culture', 'house', 'book1', 'book2', 'book3', 'book4',\n",
              "       'book5', 'isMarried', 'isNoble', 'age', 'numDeadRelations',\n",
              "       'popularity', 'isAlive'],\n",
              "      dtype='object')"
            ]
          },
          "metadata": {
            "tags": []
          },
          "execution_count": 124
        }
      ]
    },
    {
      "cell_type": "markdown",
      "metadata": {
        "id": "Wll9Y2DUhcoF"
      },
      "source": [
        "**Drop columns not useful for ML model**"
      ]
    },
    {
      "cell_type": "code",
      "metadata": {
        "id": "4_LAlWHOfWMt",
        "colab": {
          "base_uri": "https://localhost:8080/"
        },
        "outputId": "847fb527-6048-4136-8947-780d89da3a6c"
      },
      "source": [
        "df.drop(['culture', 'name'], axis=1, inplace=True)"
      ],
      "execution_count": null,
      "outputs": [
        {
          "output_type": "stream",
          "text": [
            "/usr/local/lib/python3.7/dist-packages/pandas/core/frame.py:4174: SettingWithCopyWarning: \n",
            "A value is trying to be set on a copy of a slice from a DataFrame\n",
            "\n",
            "See the caveats in the documentation: https://pandas.pydata.org/pandas-docs/stable/user_guide/indexing.html#returning-a-view-versus-a-copy\n",
            "  errors=errors,\n"
          ],
          "name": "stderr"
        }
      ]
    },
    {
      "cell_type": "markdown",
      "metadata": {
        "id": "UK9bf8bKfxUl"
      },
      "source": [
        "**Turn House Into Numeric Values**"
      ]
    },
    {
      "cell_type": "code",
      "metadata": {
        "id": "6PDFKMauK80q"
      },
      "source": [
        "df_encoded = pd.get_dummies(df)"
      ],
      "execution_count": null,
      "outputs": []
    },
    {
      "cell_type": "code",
      "metadata": {
        "id": "8ih582YkUOOz",
        "colab": {
          "base_uri": "https://localhost:8080/",
          "height": 487
        },
        "outputId": "6050f1f0-5333-4889-965d-6ce49a976b0f"
      },
      "source": [
        "df_encoded"
      ],
      "execution_count": null,
      "outputs": [
        {
          "output_type": "execute_result",
          "data": {
            "text/html": [
              "<div>\n",
              "<style scoped>\n",
              "    .dataframe tbody tr th:only-of-type {\n",
              "        vertical-align: middle;\n",
              "    }\n",
              "\n",
              "    .dataframe tbody tr th {\n",
              "        vertical-align: top;\n",
              "    }\n",
              "\n",
              "    .dataframe thead th {\n",
              "        text-align: right;\n",
              "    }\n",
              "</style>\n",
              "<table border=\"1\" class=\"dataframe\">\n",
              "  <thead>\n",
              "    <tr style=\"text-align: right;\">\n",
              "      <th></th>\n",
              "      <th>male</th>\n",
              "      <th>book1</th>\n",
              "      <th>book2</th>\n",
              "      <th>book3</th>\n",
              "      <th>book4</th>\n",
              "      <th>book5</th>\n",
              "      <th>isMarried</th>\n",
              "      <th>isNoble</th>\n",
              "      <th>age</th>\n",
              "      <th>numDeadRelations</th>\n",
              "      <th>...</th>\n",
              "      <th>house_ Arryn</th>\n",
              "      <th>house_ Baratheon</th>\n",
              "      <th>house_ Greyjoy</th>\n",
              "      <th>house_ Lannister</th>\n",
              "      <th>house_ Martell</th>\n",
              "      <th>house_ Stark</th>\n",
              "      <th>house_ Targaryen</th>\n",
              "      <th>house_ Tully</th>\n",
              "      <th>house_ Tyrell</th>\n",
              "      <th>house_Night's Watch</th>\n",
              "    </tr>\n",
              "    <tr>\n",
              "      <th>S.No</th>\n",
              "      <th></th>\n",
              "      <th></th>\n",
              "      <th></th>\n",
              "      <th></th>\n",
              "      <th></th>\n",
              "      <th></th>\n",
              "      <th></th>\n",
              "      <th></th>\n",
              "      <th></th>\n",
              "      <th></th>\n",
              "      <th></th>\n",
              "      <th></th>\n",
              "      <th></th>\n",
              "      <th></th>\n",
              "      <th></th>\n",
              "      <th></th>\n",
              "      <th></th>\n",
              "      <th></th>\n",
              "      <th></th>\n",
              "      <th></th>\n",
              "      <th></th>\n",
              "    </tr>\n",
              "  </thead>\n",
              "  <tbody>\n",
              "    <tr>\n",
              "      <th>4</th>\n",
              "      <td>0</td>\n",
              "      <td>0</td>\n",
              "      <td>0</td>\n",
              "      <td>0</td>\n",
              "      <td>0</td>\n",
              "      <td>0</td>\n",
              "      <td>1</td>\n",
              "      <td>1</td>\n",
              "      <td>1</td>\n",
              "      <td>0</td>\n",
              "      <td>...</td>\n",
              "      <td>1</td>\n",
              "      <td>0</td>\n",
              "      <td>0</td>\n",
              "      <td>0</td>\n",
              "      <td>0</td>\n",
              "      <td>0</td>\n",
              "      <td>0</td>\n",
              "      <td>0</td>\n",
              "      <td>0</td>\n",
              "      <td>0</td>\n",
              "    </tr>\n",
              "    <tr>\n",
              "      <th>7</th>\n",
              "      <td>1</td>\n",
              "      <td>0</td>\n",
              "      <td>0</td>\n",
              "      <td>0</td>\n",
              "      <td>0</td>\n",
              "      <td>0</td>\n",
              "      <td>1</td>\n",
              "      <td>1</td>\n",
              "      <td>2</td>\n",
              "      <td>0</td>\n",
              "      <td>...</td>\n",
              "      <td>0</td>\n",
              "      <td>0</td>\n",
              "      <td>0</td>\n",
              "      <td>0</td>\n",
              "      <td>0</td>\n",
              "      <td>0</td>\n",
              "      <td>1</td>\n",
              "      <td>0</td>\n",
              "      <td>0</td>\n",
              "      <td>0</td>\n",
              "    </tr>\n",
              "    <tr>\n",
              "      <th>11</th>\n",
              "      <td>1</td>\n",
              "      <td>1</td>\n",
              "      <td>1</td>\n",
              "      <td>0</td>\n",
              "      <td>0</td>\n",
              "      <td>0</td>\n",
              "      <td>0</td>\n",
              "      <td>0</td>\n",
              "      <td>1</td>\n",
              "      <td>0</td>\n",
              "      <td>...</td>\n",
              "      <td>0</td>\n",
              "      <td>0</td>\n",
              "      <td>0</td>\n",
              "      <td>0</td>\n",
              "      <td>0</td>\n",
              "      <td>0</td>\n",
              "      <td>0</td>\n",
              "      <td>0</td>\n",
              "      <td>0</td>\n",
              "      <td>1</td>\n",
              "    </tr>\n",
              "    <tr>\n",
              "      <th>28</th>\n",
              "      <td>1</td>\n",
              "      <td>0</td>\n",
              "      <td>0</td>\n",
              "      <td>0</td>\n",
              "      <td>1</td>\n",
              "      <td>1</td>\n",
              "      <td>0</td>\n",
              "      <td>0</td>\n",
              "      <td>1</td>\n",
              "      <td>0</td>\n",
              "      <td>...</td>\n",
              "      <td>0</td>\n",
              "      <td>0</td>\n",
              "      <td>1</td>\n",
              "      <td>0</td>\n",
              "      <td>0</td>\n",
              "      <td>0</td>\n",
              "      <td>0</td>\n",
              "      <td>0</td>\n",
              "      <td>0</td>\n",
              "      <td>0</td>\n",
              "    </tr>\n",
              "    <tr>\n",
              "      <th>30</th>\n",
              "      <td>0</td>\n",
              "      <td>1</td>\n",
              "      <td>0</td>\n",
              "      <td>0</td>\n",
              "      <td>0</td>\n",
              "      <td>0</td>\n",
              "      <td>0</td>\n",
              "      <td>0</td>\n",
              "      <td>1</td>\n",
              "      <td>0</td>\n",
              "      <td>...</td>\n",
              "      <td>0</td>\n",
              "      <td>0</td>\n",
              "      <td>0</td>\n",
              "      <td>0</td>\n",
              "      <td>0</td>\n",
              "      <td>1</td>\n",
              "      <td>0</td>\n",
              "      <td>0</td>\n",
              "      <td>0</td>\n",
              "      <td>0</td>\n",
              "    </tr>\n",
              "    <tr>\n",
              "      <th>...</th>\n",
              "      <td>...</td>\n",
              "      <td>...</td>\n",
              "      <td>...</td>\n",
              "      <td>...</td>\n",
              "      <td>...</td>\n",
              "      <td>...</td>\n",
              "      <td>...</td>\n",
              "      <td>...</td>\n",
              "      <td>...</td>\n",
              "      <td>...</td>\n",
              "      <td>...</td>\n",
              "      <td>...</td>\n",
              "      <td>...</td>\n",
              "      <td>...</td>\n",
              "      <td>...</td>\n",
              "      <td>...</td>\n",
              "      <td>...</td>\n",
              "      <td>...</td>\n",
              "      <td>...</td>\n",
              "      <td>...</td>\n",
              "      <td>...</td>\n",
              "    </tr>\n",
              "    <tr>\n",
              "      <th>1928</th>\n",
              "      <td>1</td>\n",
              "      <td>1</td>\n",
              "      <td>1</td>\n",
              "      <td>1</td>\n",
              "      <td>1</td>\n",
              "      <td>1</td>\n",
              "      <td>0</td>\n",
              "      <td>1</td>\n",
              "      <td>1</td>\n",
              "      <td>2</td>\n",
              "      <td>...</td>\n",
              "      <td>0</td>\n",
              "      <td>0</td>\n",
              "      <td>0</td>\n",
              "      <td>0</td>\n",
              "      <td>0</td>\n",
              "      <td>0</td>\n",
              "      <td>0</td>\n",
              "      <td>0</td>\n",
              "      <td>1</td>\n",
              "      <td>0</td>\n",
              "    </tr>\n",
              "    <tr>\n",
              "      <th>1929</th>\n",
              "      <td>0</td>\n",
              "      <td>0</td>\n",
              "      <td>0</td>\n",
              "      <td>0</td>\n",
              "      <td>1</td>\n",
              "      <td>1</td>\n",
              "      <td>0</td>\n",
              "      <td>1</td>\n",
              "      <td>1</td>\n",
              "      <td>0</td>\n",
              "      <td>...</td>\n",
              "      <td>0</td>\n",
              "      <td>0</td>\n",
              "      <td>0</td>\n",
              "      <td>0</td>\n",
              "      <td>1</td>\n",
              "      <td>0</td>\n",
              "      <td>0</td>\n",
              "      <td>0</td>\n",
              "      <td>0</td>\n",
              "      <td>0</td>\n",
              "    </tr>\n",
              "    <tr>\n",
              "      <th>1932</th>\n",
              "      <td>1</td>\n",
              "      <td>0</td>\n",
              "      <td>0</td>\n",
              "      <td>0</td>\n",
              "      <td>0</td>\n",
              "      <td>1</td>\n",
              "      <td>1</td>\n",
              "      <td>0</td>\n",
              "      <td>1</td>\n",
              "      <td>0</td>\n",
              "      <td>...</td>\n",
              "      <td>0</td>\n",
              "      <td>0</td>\n",
              "      <td>0</td>\n",
              "      <td>0</td>\n",
              "      <td>0</td>\n",
              "      <td>0</td>\n",
              "      <td>1</td>\n",
              "      <td>0</td>\n",
              "      <td>0</td>\n",
              "      <td>0</td>\n",
              "    </tr>\n",
              "    <tr>\n",
              "      <th>1942</th>\n",
              "      <td>1</td>\n",
              "      <td>1</td>\n",
              "      <td>1</td>\n",
              "      <td>1</td>\n",
              "      <td>1</td>\n",
              "      <td>1</td>\n",
              "      <td>0</td>\n",
              "      <td>0</td>\n",
              "      <td>1</td>\n",
              "      <td>0</td>\n",
              "      <td>...</td>\n",
              "      <td>0</td>\n",
              "      <td>0</td>\n",
              "      <td>0</td>\n",
              "      <td>0</td>\n",
              "      <td>0</td>\n",
              "      <td>1</td>\n",
              "      <td>0</td>\n",
              "      <td>0</td>\n",
              "      <td>0</td>\n",
              "      <td>0</td>\n",
              "    </tr>\n",
              "    <tr>\n",
              "      <th>1946</th>\n",
              "      <td>1</td>\n",
              "      <td>0</td>\n",
              "      <td>0</td>\n",
              "      <td>1</td>\n",
              "      <td>1</td>\n",
              "      <td>1</td>\n",
              "      <td>1</td>\n",
              "      <td>1</td>\n",
              "      <td>3</td>\n",
              "      <td>4</td>\n",
              "      <td>...</td>\n",
              "      <td>0</td>\n",
              "      <td>0</td>\n",
              "      <td>0</td>\n",
              "      <td>1</td>\n",
              "      <td>0</td>\n",
              "      <td>0</td>\n",
              "      <td>0</td>\n",
              "      <td>0</td>\n",
              "      <td>0</td>\n",
              "      <td>0</td>\n",
              "    </tr>\n",
              "  </tbody>\n",
              "</table>\n",
              "<p>435 rows × 22 columns</p>\n",
              "</div>"
            ],
            "text/plain": [
              "      male  book1  book2  book3  book4  book5  isMarried  isNoble  age  \\\n",
              "S.No                                                                     \n",
              "4        0      0      0      0      0      0          1        1    1   \n",
              "7        1      0      0      0      0      0          1        1    2   \n",
              "11       1      1      1      0      0      0          0        0    1   \n",
              "28       1      0      0      0      1      1          0        0    1   \n",
              "30       0      1      0      0      0      0          0        0    1   \n",
              "...    ...    ...    ...    ...    ...    ...        ...      ...  ...   \n",
              "1928     1      1      1      1      1      1          0        1    1   \n",
              "1929     0      0      0      0      1      1          0        1    1   \n",
              "1932     1      0      0      0      0      1          1        0    1   \n",
              "1942     1      1      1      1      1      1          0        0    1   \n",
              "1946     1      0      0      1      1      1          1        1    3   \n",
              "\n",
              "      numDeadRelations  ...  house_ Arryn  house_ Baratheon  house_ Greyjoy  \\\n",
              "S.No                    ...                                                   \n",
              "4                    0  ...             1                 0               0   \n",
              "7                    0  ...             0                 0               0   \n",
              "11                   0  ...             0                 0               0   \n",
              "28                   0  ...             0                 0               1   \n",
              "30                   0  ...             0                 0               0   \n",
              "...                ...  ...           ...               ...             ...   \n",
              "1928                 2  ...             0                 0               0   \n",
              "1929                 0  ...             0                 0               0   \n",
              "1932                 0  ...             0                 0               0   \n",
              "1942                 0  ...             0                 0               0   \n",
              "1946                 4  ...             0                 0               0   \n",
              "\n",
              "      house_ Lannister  house_ Martell  house_ Stark  house_ Targaryen  \\\n",
              "S.No                                                                     \n",
              "4                    0               0             0                 0   \n",
              "7                    0               0             0                 1   \n",
              "11                   0               0             0                 0   \n",
              "28                   0               0             0                 0   \n",
              "30                   0               0             1                 0   \n",
              "...                ...             ...           ...               ...   \n",
              "1928                 0               0             0                 0   \n",
              "1929                 0               1             0                 0   \n",
              "1932                 0               0             0                 1   \n",
              "1942                 0               0             1                 0   \n",
              "1946                 1               0             0                 0   \n",
              "\n",
              "      house_ Tully  house_ Tyrell  house_Night's Watch  \n",
              "S.No                                                    \n",
              "4                0              0                    0  \n",
              "7                0              0                    0  \n",
              "11               0              0                    1  \n",
              "28               0              0                    0  \n",
              "30               0              0                    0  \n",
              "...            ...            ...                  ...  \n",
              "1928             0              1                    0  \n",
              "1929             0              0                    0  \n",
              "1932             0              0                    0  \n",
              "1942             0              0                    0  \n",
              "1946             0              0                    0  \n",
              "\n",
              "[435 rows x 22 columns]"
            ]
          },
          "metadata": {
            "tags": []
          },
          "execution_count": 127
        }
      ]
    },
    {
      "cell_type": "code",
      "metadata": {
        "id": "I1Ckg65Wh-xr",
        "colab": {
          "base_uri": "https://localhost:8080/"
        },
        "outputId": "dbf6f39f-915b-429a-fbf7-97b1bd5c71c4"
      },
      "source": [
        "df_encoded.info()"
      ],
      "execution_count": null,
      "outputs": [
        {
          "output_type": "stream",
          "text": [
            "<class 'pandas.core.frame.DataFrame'>\n",
            "Int64Index: 435 entries, 4 to 1946\n",
            "Data columns (total 22 columns):\n",
            " #   Column               Non-Null Count  Dtype  \n",
            "---  ------               --------------  -----  \n",
            " 0   male                 435 non-null    int64  \n",
            " 1   book1                435 non-null    int64  \n",
            " 2   book2                435 non-null    int64  \n",
            " 3   book3                435 non-null    int64  \n",
            " 4   book4                435 non-null    int64  \n",
            " 5   book5                435 non-null    int64  \n",
            " 6   isMarried            435 non-null    int64  \n",
            " 7   isNoble              435 non-null    int64  \n",
            " 8   age                  435 non-null    int64  \n",
            " 9   numDeadRelations     435 non-null    int64  \n",
            " 10  popularity           435 non-null    float64\n",
            " 11  isAlive              435 non-null    int64  \n",
            " 12  house_ Arryn         435 non-null    uint8  \n",
            " 13  house_ Baratheon     435 non-null    uint8  \n",
            " 14  house_ Greyjoy       435 non-null    uint8  \n",
            " 15  house_ Lannister     435 non-null    uint8  \n",
            " 16  house_ Martell       435 non-null    uint8  \n",
            " 17  house_ Stark         435 non-null    uint8  \n",
            " 18  house_ Targaryen     435 non-null    uint8  \n",
            " 19  house_ Tully         435 non-null    uint8  \n",
            " 20  house_ Tyrell        435 non-null    uint8  \n",
            " 21  house_Night's Watch  435 non-null    uint8  \n",
            "dtypes: float64(1), int64(11), uint8(10)\n",
            "memory usage: 68.4 KB\n"
          ],
          "name": "stdout"
        }
      ]
    },
    {
      "cell_type": "code",
      "metadata": {
        "id": "jWU-YPgPMrba",
        "colab": {
          "base_uri": "https://localhost:8080/"
        },
        "outputId": "4e3d2ee0-99b9-4926-edcc-759b58619709"
      },
      "source": [
        "df_encoded['age'].isnull().sum()"
      ],
      "execution_count": null,
      "outputs": [
        {
          "output_type": "execute_result",
          "data": {
            "text/plain": [
              "0"
            ]
          },
          "metadata": {
            "tags": []
          },
          "execution_count": 129
        }
      ]
    },
    {
      "cell_type": "code",
      "metadata": {
        "id": "1X_0-I48TLY6",
        "colab": {
          "base_uri": "https://localhost:8080/",
          "height": 301
        },
        "outputId": "40c26885-cac8-4cc6-ab03-17cf89788e24"
      },
      "source": [
        "df_encoded.head()"
      ],
      "execution_count": null,
      "outputs": [
        {
          "output_type": "execute_result",
          "data": {
            "text/html": [
              "<div>\n",
              "<style scoped>\n",
              "    .dataframe tbody tr th:only-of-type {\n",
              "        vertical-align: middle;\n",
              "    }\n",
              "\n",
              "    .dataframe tbody tr th {\n",
              "        vertical-align: top;\n",
              "    }\n",
              "\n",
              "    .dataframe thead th {\n",
              "        text-align: right;\n",
              "    }\n",
              "</style>\n",
              "<table border=\"1\" class=\"dataframe\">\n",
              "  <thead>\n",
              "    <tr style=\"text-align: right;\">\n",
              "      <th></th>\n",
              "      <th>male</th>\n",
              "      <th>book1</th>\n",
              "      <th>book2</th>\n",
              "      <th>book3</th>\n",
              "      <th>book4</th>\n",
              "      <th>book5</th>\n",
              "      <th>isMarried</th>\n",
              "      <th>isNoble</th>\n",
              "      <th>age</th>\n",
              "      <th>numDeadRelations</th>\n",
              "      <th>...</th>\n",
              "      <th>house_ Arryn</th>\n",
              "      <th>house_ Baratheon</th>\n",
              "      <th>house_ Greyjoy</th>\n",
              "      <th>house_ Lannister</th>\n",
              "      <th>house_ Martell</th>\n",
              "      <th>house_ Stark</th>\n",
              "      <th>house_ Targaryen</th>\n",
              "      <th>house_ Tully</th>\n",
              "      <th>house_ Tyrell</th>\n",
              "      <th>house_Night's Watch</th>\n",
              "    </tr>\n",
              "    <tr>\n",
              "      <th>S.No</th>\n",
              "      <th></th>\n",
              "      <th></th>\n",
              "      <th></th>\n",
              "      <th></th>\n",
              "      <th></th>\n",
              "      <th></th>\n",
              "      <th></th>\n",
              "      <th></th>\n",
              "      <th></th>\n",
              "      <th></th>\n",
              "      <th></th>\n",
              "      <th></th>\n",
              "      <th></th>\n",
              "      <th></th>\n",
              "      <th></th>\n",
              "      <th></th>\n",
              "      <th></th>\n",
              "      <th></th>\n",
              "      <th></th>\n",
              "      <th></th>\n",
              "      <th></th>\n",
              "    </tr>\n",
              "  </thead>\n",
              "  <tbody>\n",
              "    <tr>\n",
              "      <th>4</th>\n",
              "      <td>0</td>\n",
              "      <td>0</td>\n",
              "      <td>0</td>\n",
              "      <td>0</td>\n",
              "      <td>0</td>\n",
              "      <td>0</td>\n",
              "      <td>1</td>\n",
              "      <td>1</td>\n",
              "      <td>1</td>\n",
              "      <td>0</td>\n",
              "      <td>...</td>\n",
              "      <td>1</td>\n",
              "      <td>0</td>\n",
              "      <td>0</td>\n",
              "      <td>0</td>\n",
              "      <td>0</td>\n",
              "      <td>0</td>\n",
              "      <td>0</td>\n",
              "      <td>0</td>\n",
              "      <td>0</td>\n",
              "      <td>0</td>\n",
              "    </tr>\n",
              "    <tr>\n",
              "      <th>7</th>\n",
              "      <td>1</td>\n",
              "      <td>0</td>\n",
              "      <td>0</td>\n",
              "      <td>0</td>\n",
              "      <td>0</td>\n",
              "      <td>0</td>\n",
              "      <td>1</td>\n",
              "      <td>1</td>\n",
              "      <td>2</td>\n",
              "      <td>0</td>\n",
              "      <td>...</td>\n",
              "      <td>0</td>\n",
              "      <td>0</td>\n",
              "      <td>0</td>\n",
              "      <td>0</td>\n",
              "      <td>0</td>\n",
              "      <td>0</td>\n",
              "      <td>1</td>\n",
              "      <td>0</td>\n",
              "      <td>0</td>\n",
              "      <td>0</td>\n",
              "    </tr>\n",
              "    <tr>\n",
              "      <th>11</th>\n",
              "      <td>1</td>\n",
              "      <td>1</td>\n",
              "      <td>1</td>\n",
              "      <td>0</td>\n",
              "      <td>0</td>\n",
              "      <td>0</td>\n",
              "      <td>0</td>\n",
              "      <td>0</td>\n",
              "      <td>1</td>\n",
              "      <td>0</td>\n",
              "      <td>...</td>\n",
              "      <td>0</td>\n",
              "      <td>0</td>\n",
              "      <td>0</td>\n",
              "      <td>0</td>\n",
              "      <td>0</td>\n",
              "      <td>0</td>\n",
              "      <td>0</td>\n",
              "      <td>0</td>\n",
              "      <td>0</td>\n",
              "      <td>1</td>\n",
              "    </tr>\n",
              "    <tr>\n",
              "      <th>28</th>\n",
              "      <td>1</td>\n",
              "      <td>0</td>\n",
              "      <td>0</td>\n",
              "      <td>0</td>\n",
              "      <td>1</td>\n",
              "      <td>1</td>\n",
              "      <td>0</td>\n",
              "      <td>0</td>\n",
              "      <td>1</td>\n",
              "      <td>0</td>\n",
              "      <td>...</td>\n",
              "      <td>0</td>\n",
              "      <td>0</td>\n",
              "      <td>1</td>\n",
              "      <td>0</td>\n",
              "      <td>0</td>\n",
              "      <td>0</td>\n",
              "      <td>0</td>\n",
              "      <td>0</td>\n",
              "      <td>0</td>\n",
              "      <td>0</td>\n",
              "    </tr>\n",
              "    <tr>\n",
              "      <th>30</th>\n",
              "      <td>0</td>\n",
              "      <td>1</td>\n",
              "      <td>0</td>\n",
              "      <td>0</td>\n",
              "      <td>0</td>\n",
              "      <td>0</td>\n",
              "      <td>0</td>\n",
              "      <td>0</td>\n",
              "      <td>1</td>\n",
              "      <td>0</td>\n",
              "      <td>...</td>\n",
              "      <td>0</td>\n",
              "      <td>0</td>\n",
              "      <td>0</td>\n",
              "      <td>0</td>\n",
              "      <td>0</td>\n",
              "      <td>1</td>\n",
              "      <td>0</td>\n",
              "      <td>0</td>\n",
              "      <td>0</td>\n",
              "      <td>0</td>\n",
              "    </tr>\n",
              "  </tbody>\n",
              "</table>\n",
              "<p>5 rows × 22 columns</p>\n",
              "</div>"
            ],
            "text/plain": [
              "      male  book1  book2  book3  book4  book5  isMarried  isNoble  age  \\\n",
              "S.No                                                                     \n",
              "4        0      0      0      0      0      0          1        1    1   \n",
              "7        1      0      0      0      0      0          1        1    2   \n",
              "11       1      1      1      0      0      0          0        0    1   \n",
              "28       1      0      0      0      1      1          0        0    1   \n",
              "30       0      1      0      0      0      0          0        0    1   \n",
              "\n",
              "      numDeadRelations  ...  house_ Arryn  house_ Baratheon  house_ Greyjoy  \\\n",
              "S.No                    ...                                                   \n",
              "4                    0  ...             1                 0               0   \n",
              "7                    0  ...             0                 0               0   \n",
              "11                   0  ...             0                 0               0   \n",
              "28                   0  ...             0                 0               1   \n",
              "30                   0  ...             0                 0               0   \n",
              "\n",
              "      house_ Lannister  house_ Martell  house_ Stark  house_ Targaryen  \\\n",
              "S.No                                                                     \n",
              "4                    0               0             0                 0   \n",
              "7                    0               0             0                 1   \n",
              "11                   0               0             0                 0   \n",
              "28                   0               0             0                 0   \n",
              "30                   0               0             1                 0   \n",
              "\n",
              "      house_ Tully  house_ Tyrell  house_Night's Watch  \n",
              "S.No                                                    \n",
              "4                0              0                    0  \n",
              "7                0              0                    0  \n",
              "11               0              0                    1  \n",
              "28               0              0                    0  \n",
              "30               0              0                    0  \n",
              "\n",
              "[5 rows x 22 columns]"
            ]
          },
          "metadata": {
            "tags": []
          },
          "execution_count": 130
        }
      ]
    },
    {
      "cell_type": "markdown",
      "metadata": {
        "id": "AO8eSOEYh9cQ"
      },
      "source": [
        "##**MODELING**\n",
        "Now we can split our data into training and testing sets and build some models. We'll start with a baseline classifer. The baseline is useful to compare with other classifiers. Then we'll do a regression to get a feel for our data before moving to random forest. Since this is a classification problem, we'll use logistic regression instead of linear regression. "
      ]
    },
    {
      "cell_type": "code",
      "metadata": {
        "id": "sIC9N2qLRvx2"
      },
      "source": [
        "# define X and y\n",
        "feature_cols = ['male', 'book1', 'book2', 'book3', 'book4', 'book5', \n",
        "                'isMarried', 'isNoble', 'age', 'numDeadRelations', 'popularity',\n",
        "                'house_ Arryn', 'house_ Baratheon', 'house_ Greyjoy', \n",
        "                'house_ Lannister', 'house_ Martell', 'house_ Stark',\n",
        "                'house_ Targaryen', 'house_ Tully', 'house_ Tyrell', \n",
        "                'house_Night\\'s Watch']\n",
        "X = df_encoded[feature_cols]\n",
        "y = df_encoded.isAlive.values"
      ],
      "execution_count": null,
      "outputs": []
    },
    {
      "cell_type": "markdown",
      "metadata": {
        "id": "oXN_0jPGJ34n"
      },
      "source": [
        "Split data into 80% training & 20% testing sets. Use stratified sampling by isAlive status to ensure both training & testing sets contain balanced # of representatives of each of the classes"
      ]
    },
    {
      "cell_type": "code",
      "metadata": {
        "colab": {
          "base_uri": "https://localhost:8080/"
        },
        "id": "DITmhG2d_Pxz",
        "outputId": "7b7ddc7b-d9e9-4181-f5c9-30e53c9fff95"
      },
      "source": [
        "# split data into training and testing set\n",
        "X_train, X_test, y_train, y_test = train_test_split(X, y, test_size=0.2, stratify=y, random_state=123456)\n",
        "print(X_train.shape, y_train.shape)\n",
        "print(X_test.shape, y_test.shape)"
      ],
      "execution_count": null,
      "outputs": [
        {
          "output_type": "stream",
          "text": [
            "(348, 21) (348,)\n",
            "(87, 21) (87,)\n"
          ],
          "name": "stdout"
        }
      ]
    },
    {
      "cell_type": "code",
      "metadata": {
        "id": "OADWKQTjFgZ7"
      },
      "source": [
        "# scale the data\n",
        "# X_train, X_test, y_train, y_test = train_test_split(X, y, train_size=0.8, random_state=42)\n",
        "scaler = StandardScaler().fit(X_train)\n",
        "X_train_scaled = pd.DataFrame(scaler.transform(X_train), index=X_train.index.values, columns=X_train.columns.values)\n",
        "X_test_scaled = pd.DataFrame(scaler.transform(X_test), index=X_test.index.values, columns=X_test.columns.values)"
      ],
      "execution_count": null,
      "outputs": []
    },
    {
      "cell_type": "markdown",
      "metadata": {
        "id": "4onftNhtABiE"
      },
      "source": [
        "###**Baseline Classification Model**###\n",
        "Create a baseline model that always predicts the most common class."
      ]
    },
    {
      "cell_type": "code",
      "metadata": {
        "colab": {
          "base_uri": "https://localhost:8080/"
        },
        "id": "eO82pnnKJHuN",
        "outputId": "fc00a55a-894c-4cc9-ba88-2985c51cb030"
      },
      "source": [
        "# create dummy classifier\n",
        "baseline = DummyClassifier(strategy='most_frequent', random_state=1)\n",
        "\n",
        "# \"train\" model\n",
        "baseline.fit(X_train, y_train)"
      ],
      "execution_count": null,
      "outputs": [
        {
          "output_type": "execute_result",
          "data": {
            "text/plain": [
              "DummyClassifier(constant=None, random_state=1, strategy='most_frequent')"
            ]
          },
          "metadata": {
            "tags": []
          },
          "execution_count": 150
        }
      ]
    },
    {
      "cell_type": "code",
      "metadata": {
        "colab": {
          "base_uri": "https://localhost:8080/"
        },
        "id": "IhZaFo04JUyu",
        "outputId": "b1cf688f-10e1-4e19-fac2-bf04557d99d6"
      },
      "source": [
        "# get accuracy score\n",
        "baseline.score(X_test, y_test)"
      ],
      "execution_count": null,
      "outputs": [
        {
          "output_type": "execute_result",
          "data": {
            "text/plain": [
              "0.6206896551724138"
            ]
          },
          "metadata": {
            "tags": []
          },
          "execution_count": 151
        }
      ]
    },
    {
      "cell_type": "markdown",
      "metadata": {
        "id": "SX6WeGY9MkGm"
      },
      "source": [
        "###**Logistic Regression**###"
      ]
    },
    {
      "cell_type": "code",
      "metadata": {
        "id": "PpPaPjuOScTd"
      },
      "source": [
        "# fit the model on the training data\n",
        "lg = LogisticRegression()\n",
        "\n",
        "model = lg.fit(X_train, y_train)\n",
        "predicted = lg.predict(X_test)\n",
        "# probs = lg.predict_proba(X_test)[:, 1]"
      ],
      "execution_count": null,
      "outputs": []
    },
    {
      "cell_type": "code",
      "metadata": {
        "id": "Xs3w0PVF7Nh8",
        "colab": {
          "base_uri": "https://localhost:8080/"
        },
        "outputId": "d8295e8a-8f4d-4ef6-9cad-35523fc47a18"
      },
      "source": [
        "# see what the first 5 predictions are\n",
        "predicted[0:5]"
      ],
      "execution_count": null,
      "outputs": [
        {
          "output_type": "execute_result",
          "data": {
            "text/plain": [
              "array([1, 1, 1, 1, 0])"
            ]
          },
          "metadata": {
            "tags": []
          },
          "execution_count": 137
        }
      ]
    },
    {
      "cell_type": "code",
      "metadata": {
        "colab": {
          "base_uri": "https://localhost:8080/"
        },
        "id": "fSXj69SNcKs5",
        "outputId": "9a3f1a17-7527-43ae-c2a1-27a756cb3cfb"
      },
      "source": [
        "# view confusion matrix for test data and predictions\n",
        "confusion_matrix(y_test, predicted)"
      ],
      "execution_count": null,
      "outputs": [
        {
          "output_type": "execute_result",
          "data": {
            "text/plain": [
              "array([[18, 15],\n",
              "       [ 8, 46]])"
            ]
          },
          "metadata": {
            "tags": []
          },
          "execution_count": 138
        }
      ]
    },
    {
      "cell_type": "code",
      "metadata": {
        "colab": {
          "base_uri": "https://localhost:8080/",
          "height": 494
        },
        "id": "uqSzkVksFKvL",
        "outputId": "b5476726-07e6-4f78-b7bc-2152af84bfc7"
      },
      "source": [
        "# get and reshape confusion matrix data\n",
        "matrix = confusion_matrix(y_test, predicted)\n",
        "matrix = matrix.astype('float') / matrix.sum(axis=1)[:, np.newaxis]\n",
        "\n",
        "# plot the data\n",
        "plt.figure(figsize=(16,7))\n",
        "sns.set(font_scale=1.4)\n",
        "sns.heatmap(matrix, annot=True, annot_kws={'size':10},\n",
        "            cmap=plt.cm.Greens, linewidths=0.2)\n",
        "\n",
        "# add labels to the plot\n",
        "class_names = ['Alive', 'Dead']\n",
        "tick_marks = np.arange(len(class_names))\n",
        "tick_marks2 = tick_marks + 0.5\n",
        "plt.xticks(tick_marks, class_names, rotation=25)\n",
        "plt.yticks(tick_marks2, class_names, rotation=0)\n",
        "plt.xlabel('Predicted label')\n",
        "plt.ylabel('True label')\n",
        "plt.title('Confusion Matrix for Logistic Regression')\n",
        "plt.show()"
      ],
      "execution_count": null,
      "outputs": [
        {
          "output_type": "display_data",
          "data": {
            "image/png": "[encoded data removed]",
            "text/plain": [
              "<Figure size 1152x504 with 2 Axes>"
            ]
          },
          "metadata": {
            "tags": []
          }
        }
      ]
    },
    {
      "cell_type": "code",
      "metadata": {
        "id": "OB8_etNI7kVX",
        "colab": {
          "base_uri": "https://localhost:8080/"
        },
        "outputId": "1acdddd2-3abe-4682-8d65-33d0be55712d"
      },
      "source": [
        "# print accuracy score\n",
        "print(\"Score:\" , model.score(X_test, y_test))\n",
        "print(cross_val_score(lg, X, y, cv=10, scoring='accuracy').mean())"
      ],
      "execution_count": null,
      "outputs": [
        {
          "output_type": "stream",
          "text": [
            "Score: 0.735632183908046\n",
            "0.6918604651162791\n"
          ],
          "name": "stdout"
        }
      ]
    },
    {
      "cell_type": "code",
      "metadata": {
        "id": "I6GZ8Yk8r4wS",
        "colab": {
          "base_uri": "https://localhost:8080/"
        },
        "outputId": "5b35c635-4e3c-4b71-951d-a003c9def456"
      },
      "source": [
        "# Try higher number of data splits\n",
        "lg = LogisticRegression()\n",
        "logval = cross_val_score(lg, X, y, cv=100).mean()\n",
        "print(logval)"
      ],
      "execution_count": null,
      "outputs": [
        {
          "output_type": "stream",
          "text": [
            "0.6905000000000001\n"
          ],
          "name": "stdout"
        }
      ]
    },
    {
      "cell_type": "markdown",
      "metadata": {
        "id": "oAYNCqgJAUCb"
      },
      "source": [
        "### **Random Forest Classifier** ###"
      ]
    },
    {
      "cell_type": "code",
      "metadata": {
        "colab": {
          "base_uri": "https://localhost:8080/"
        },
        "id": "BSQrDKzcB9X2",
        "outputId": "6ef7cf2f-c997-4972-9e7c-6be2a60f172e"
      },
      "source": [
        "# fit random forest classifier to our training set\n",
        "# rf = RandomForestClassifier(n_estimators=100, oob_score=True, random_state=123456)\n",
        "rf = RandomForestClassifier(oob_score=True)\n",
        "rf.fit(X_train, y_train)"
      ],
      "execution_count": null,
      "outputs": [
        {
          "output_type": "execute_result",
          "data": {
            "text/plain": [
              "RandomForestClassifier(bootstrap=True, ccp_alpha=0.0, class_weight=None,\n",
              "                       criterion='gini', max_depth=None, max_features='auto',\n",
              "                       max_leaf_nodes=None, max_samples=None,\n",
              "                       min_impurity_decrease=0.0, min_impurity_split=None,\n",
              "                       min_samples_leaf=1, min_samples_split=2,\n",
              "                       min_weight_fraction_leaf=0.0, n_estimators=100,\n",
              "                       n_jobs=None, oob_score=True, random_state=None,\n",
              "                       verbose=0, warm_start=False)"
            ]
          },
          "metadata": {
            "tags": []
          },
          "execution_count": 141
        }
      ]
    },
    {
      "cell_type": "code",
      "metadata": {
        "colab": {
          "base_uri": "https://localhost:8080/"
        },
        "id": "SGhoddE9B9g1",
        "outputId": "1ddfdb3f-8ba5-42e8-ecfc-ebf5382f680f"
      },
      "source": [
        "# predict labels for test data\n",
        "predicted = rf.predict(X_test)\n",
        "\n",
        "# evaluate accuracy: % of predictions correct\n",
        "accuracy = accuracy_score(y_test, predicted)\n",
        "\n",
        "print(f'Accuracy score: {accuracy:.3}')\n",
        "print(f'Out-of-bag score estimate: {rf.oob_score_:.3}')"
      ],
      "execution_count": null,
      "outputs": [
        {
          "output_type": "stream",
          "text": [
            "Accuracy score: 0.759\n",
            "Out-of-bag score estimate: 0.767\n"
          ],
          "name": "stdout"
        }
      ]
    },
    {
      "cell_type": "markdown",
      "metadata": {
        "id": "076of_IkArsp"
      },
      "source": [
        "An accuracy score alone is not a great mesure of classifier performance when the classes are imbalanced. Out of bag (OOB) score is a better estimation of how accurate the model will be when applied to new unseen data. Let's get more information on how the model performed with the different classes. Did it perform better for one class? "
      ]
    },
    {
      "cell_type": "code",
      "metadata": {
        "colab": {
          "base_uri": "https://localhost:8080/"
        },
        "id": "A3PNTgCuWNq8",
        "outputId": "3267d2d9-76f8-4289-8a0d-82c7ff35b6e8"
      },
      "source": [
        "# view confusion matrix for test data and predictions\n",
        "confusion_matrix(y_test, predicted)"
      ],
      "execution_count": null,
      "outputs": [
        {
          "output_type": "execute_result",
          "data": {
            "text/plain": [
              "array([[22, 11],\n",
              "       [10, 44]])"
            ]
          },
          "metadata": {
            "tags": []
          },
          "execution_count": 143
        }
      ]
    },
    {
      "cell_type": "markdown",
      "metadata": {
        "id": "r0Uyty_sWX8u"
      },
      "source": [
        "There aren't high values in the off-diagonals so the model is doing pretty well. Let's make this matrix easier to read by adding some color to help spot the biggest and smallest values. We'll also normalize the values since percents are easier to understand than absolute counts. "
      ]
    },
    {
      "cell_type": "code",
      "metadata": {
        "colab": {
          "base_uri": "https://localhost:8080/",
          "height": 494
        },
        "id": "jnGKcGJMWvkn",
        "outputId": "3c7b6196-9d71-40b3-c305-dad395cd2933"
      },
      "source": [
        "# get and reshape confusion matrix data\n",
        "matrix = confusion_matrix(y_test, predicted)\n",
        "matrix = matrix.astype('float') / matrix.sum(axis=1)[:, np.newaxis]\n",
        "\n",
        "# plot the data\n",
        "plt.figure(figsize=(16,7))\n",
        "sns.set(font_scale=1.4)\n",
        "sns.heatmap(matrix, annot=True, annot_kws={'size':10},\n",
        "            cmap=plt.cm.Greens, linewidths=0.2)\n",
        "\n",
        "# add labels to the plot\n",
        "class_names = ['Alive', 'Dead']\n",
        "tick_marks = np.arange(len(class_names))\n",
        "tick_marks2 = tick_marks + 0.5\n",
        "plt.xticks(tick_marks, class_names, rotation=25)\n",
        "plt.yticks(tick_marks2, class_names, rotation=0)\n",
        "plt.xlabel('Predicted label')\n",
        "plt.ylabel('True label')\n",
        "plt.title('Confusion Matrix for Random Forest Classifier')\n",
        "plt.show()"
      ],
      "execution_count": null,
      "outputs": [
        {
          "output_type": "display_data",
          "data": {
            "image/png": "[encoded data removed]",
            "text/plain": [
              "<Figure size 1152x504 with 2 Axes>"
            ]
          },
          "metadata": {
            "tags": []
          }
        }
      ]
    },
    {
      "cell_type": "markdown",
      "metadata": {
        "id": "gZecz7LEXQor"
      },
      "source": [
        "The classifier had a harder time predicting who would be alive, getting it wrong about a third of the time, while only incorrectly predicting who died 17% of the time. "
      ]
    },
    {
      "cell_type": "markdown",
      "metadata": {
        "id": "v0Nu_qd2YGke"
      },
      "source": [
        "#### Classification Report ####\n",
        "Let's get more insight into model performance by looking at precision, recall and F1 score. Precision is the # of correctly identified / total times the model predicted that class. Recall is the # correctly identified / total # members in that class, or the number of alive characters the model correctly predicted as such. F1 score combines precision and recall into a single metric. If precision & recall are both high, F1 will be high. If they are both low, F1 will be low. If one is high and the other low, F1 will be low. This score is a way to tell if the classifier is actually good at identifying a class, or if it's using shortcuts like classifying everything as a member of a large class."
      ]
    },
    {
      "cell_type": "code",
      "metadata": {
        "colab": {
          "base_uri": "https://localhost:8080/"
        },
        "id": "AA6vwSIRX0nv",
        "outputId": "e8666714-bf73-4174-a386-4334d2b0da85"
      },
      "source": [
        "# View the classification report for test data and predictions\n",
        "print(classification_report(y_test, predicted))"
      ],
      "execution_count": null,
      "outputs": [
        {
          "output_type": "stream",
          "text": [
            "              precision    recall  f1-score   support\n",
            "\n",
            "           0       0.69      0.67      0.68        33\n",
            "           1       0.80      0.81      0.81        54\n",
            "\n",
            "    accuracy                           0.76        87\n",
            "   macro avg       0.74      0.74      0.74        87\n",
            "weighted avg       0.76      0.76      0.76        87\n",
            "\n"
          ],
          "name": "stdout"
        }
      ]
    },
    {
      "cell_type": "markdown",
      "metadata": {
        "id": "zNLn0fVKZVYa"
      },
      "source": [
        "Looking at class 1 which indicates a character is \"alive\", both precision and recall are high. Meaning the model was careful to avoid labeling characters alive that died, and it correctly identified many of the total \"alive\" characters. "
      ]
    }
  ]
}