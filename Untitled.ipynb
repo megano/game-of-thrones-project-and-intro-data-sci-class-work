{
 "cells": [
  {
   "cell_type": "code",
   "execution_count": 5,
   "metadata": {
    "collapsed": true
   },
   "outputs": [],
   "source": [
    "import pandas as pd\n",
    "import numpy as np\n",
    "import matplotlib.pyplot as plt"
   ]
  },
  {
   "cell_type": "code",
   "execution_count": 6,
   "metadata": {
    "collapsed": false
   },
   "outputs": [
    {
     "data": {
      "text/plain": [
       "0    1.0\n",
       "1    3.0\n",
       "2    5.0\n",
       "3    NaN\n",
       "4    6.0\n",
       "5    8.0\n",
       "dtype: float64"
      ]
     },
     "execution_count": 6,
     "metadata": {},
     "output_type": "execute_result"
    }
   ],
   "source": [
    "s = pd.Series([1,3,5,np.nan,6,8])\n",
    "\n",
    "s"
   ]
  },
  {
   "cell_type": "code",
   "execution_count": 7,
   "metadata": {
    "collapsed": false
   },
   "outputs": [
    {
     "data": {
      "text/plain": [
       "DatetimeIndex(['2013-01-01', '2013-01-02', '2013-01-03', '2013-01-04',\n",
       "               '2013-01-05', '2013-01-06'],\n",
       "              dtype='datetime64[ns]', freq='D')"
      ]
     },
     "execution_count": 7,
     "metadata": {},
     "output_type": "execute_result"
    }
   ],
   "source": [
    "dates = pd.date_range('20130101', periods=6)\n",
    "dates"
   ]
  },
  {
   "cell_type": "code",
   "execution_count": 8,
   "metadata": {
    "collapsed": false
   },
   "outputs": [
    {
     "data": {
      "text/html": [
       "<div>\n",
       "<table border=\"1\" class=\"dataframe\">\n",
       "  <thead>\n",
       "    <tr style=\"text-align: right;\">\n",
       "      <th></th>\n",
       "      <th>A</th>\n",
       "      <th>B</th>\n",
       "      <th>D</th>\n",
       "      <th>C</th>\n",
       "    </tr>\n",
       "  </thead>\n",
       "  <tbody>\n",
       "    <tr>\n",
       "      <th>2013-01-01</th>\n",
       "      <td>-0.129083</td>\n",
       "      <td>0.596053</td>\n",
       "      <td>-0.082540</td>\n",
       "      <td>-1.300133</td>\n",
       "    </tr>\n",
       "    <tr>\n",
       "      <th>2013-01-02</th>\n",
       "      <td>-0.916457</td>\n",
       "      <td>-1.632912</td>\n",
       "      <td>0.961210</td>\n",
       "      <td>-0.098384</td>\n",
       "    </tr>\n",
       "    <tr>\n",
       "      <th>2013-01-03</th>\n",
       "      <td>0.250017</td>\n",
       "      <td>-1.660147</td>\n",
       "      <td>-0.765029</td>\n",
       "      <td>-3.299078</td>\n",
       "    </tr>\n",
       "    <tr>\n",
       "      <th>2013-01-04</th>\n",
       "      <td>1.219069</td>\n",
       "      <td>1.183494</td>\n",
       "      <td>-1.701701</td>\n",
       "      <td>-0.939008</td>\n",
       "    </tr>\n",
       "    <tr>\n",
       "      <th>2013-01-05</th>\n",
       "      <td>-0.064611</td>\n",
       "      <td>-0.415441</td>\n",
       "      <td>0.722184</td>\n",
       "      <td>-0.184727</td>\n",
       "    </tr>\n",
       "    <tr>\n",
       "      <th>2013-01-06</th>\n",
       "      <td>1.237588</td>\n",
       "      <td>2.310964</td>\n",
       "      <td>-1.208783</td>\n",
       "      <td>-0.763129</td>\n",
       "    </tr>\n",
       "  </tbody>\n",
       "</table>\n",
       "</div>"
      ],
      "text/plain": [
       "                   A         B         D         C\n",
       "2013-01-01 -0.129083  0.596053 -0.082540 -1.300133\n",
       "2013-01-02 -0.916457 -1.632912  0.961210 -0.098384\n",
       "2013-01-03  0.250017 -1.660147 -0.765029 -3.299078\n",
       "2013-01-04  1.219069  1.183494 -1.701701 -0.939008\n",
       "2013-01-05 -0.064611 -0.415441  0.722184 -0.184727\n",
       "2013-01-06  1.237588  2.310964 -1.208783 -0.763129"
      ]
     },
     "execution_count": 8,
     "metadata": {},
     "output_type": "execute_result"
    }
   ],
   "source": [
    "df = pd.DataFrame(np.random.randn(6,4), index=dates, columns=list('ABDC'))\n",
    "df"
   ]
  },
  {
   "cell_type": "code",
   "execution_count": 9,
   "metadata": {
    "collapsed": false
   },
   "outputs": [
    {
     "data": {
      "text/html": [
       "<div>\n",
       "<table border=\"1\" class=\"dataframe\">\n",
       "  <thead>\n",
       "    <tr style=\"text-align: right;\">\n",
       "      <th></th>\n",
       "      <th>A</th>\n",
       "      <th>B</th>\n",
       "      <th>C</th>\n",
       "      <th>D</th>\n",
       "      <th>E</th>\n",
       "      <th>F</th>\n",
       "    </tr>\n",
       "  </thead>\n",
       "  <tbody>\n",
       "    <tr>\n",
       "      <th>0</th>\n",
       "      <td>1.0</td>\n",
       "      <td>2013-01-02</td>\n",
       "      <td>1.0</td>\n",
       "      <td>3</td>\n",
       "      <td>test</td>\n",
       "      <td>foo</td>\n",
       "    </tr>\n",
       "    <tr>\n",
       "      <th>1</th>\n",
       "      <td>1.0</td>\n",
       "      <td>2013-01-02</td>\n",
       "      <td>1.0</td>\n",
       "      <td>3</td>\n",
       "      <td>train</td>\n",
       "      <td>foo</td>\n",
       "    </tr>\n",
       "    <tr>\n",
       "      <th>2</th>\n",
       "      <td>1.0</td>\n",
       "      <td>2013-01-02</td>\n",
       "      <td>1.0</td>\n",
       "      <td>3</td>\n",
       "      <td>test</td>\n",
       "      <td>foo</td>\n",
       "    </tr>\n",
       "    <tr>\n",
       "      <th>3</th>\n",
       "      <td>1.0</td>\n",
       "      <td>2013-01-02</td>\n",
       "      <td>1.0</td>\n",
       "      <td>3</td>\n",
       "      <td>train</td>\n",
       "      <td>foo</td>\n",
       "    </tr>\n",
       "  </tbody>\n",
       "</table>\n",
       "</div>"
      ],
      "text/plain": [
       "     A          B    C  D      E    F\n",
       "0  1.0 2013-01-02  1.0  3   test  foo\n",
       "1  1.0 2013-01-02  1.0  3  train  foo\n",
       "2  1.0 2013-01-02  1.0  3   test  foo\n",
       "3  1.0 2013-01-02  1.0  3  train  foo"
      ]
     },
     "execution_count": 9,
     "metadata": {},
     "output_type": "execute_result"
    }
   ],
   "source": [
    "df2 = pd.DataFrame({ 'A' : 1.,\n",
    "                     'B' : pd.Timestamp('20130102'),\n",
    "                     'C' : pd.Series(1,index=list(range(4)),dtype='float32'),\n",
    "                     'D' : np.array([3] * 4, dtype='int32'),\n",
    "                     'E' : pd.Categorical([\"test\",\"train\",\"test\",\"train\"]),\n",
    "                     'F' : 'foo' })\n",
    "df2"
   ]
  },
  {
   "cell_type": "code",
   "execution_count": 19,
   "metadata": {
    "collapsed": false,
    "scrolled": true
   },
   "outputs": [
    {
     "name": "stdout",
     "output_type": "stream",
     "text": [
      "----------\n",
      "NY State has:  New York\n",
      "OR State has:  Portland\n",
      "----------\n",
      "Michigan's abbreviation is:  MI\n",
      "Florida's abbreviation is:  FL\n",
      "----------\n",
      "Michigan has:  Detroit\n",
      "Florida has:  Jacksonville\n",
      "----------\n",
      "California is abbreviated CA\n",
      "Michigan is abbreviated MI\n",
      "New York is abbreviated NY\n",
      "Florida is abbreviated FL\n",
      "Oregon is abbreviated OR\n",
      "----------\n",
      "FL has the city Jacksonville\n",
      "CA has the city San Francisco\n",
      "MI has the city Detroit\n",
      "OR has the city Portland\n",
      "NY has the city New York\n",
      "----------\n",
      "California state is abbreviated CA and has city San Francisco\n",
      "Michigan state is abbreviated MI and has city Detroit\n",
      "New York state is abbreviated NY and has city New York\n",
      "Florida state is abbreviated FL and has city Jacksonville\n",
      "Oregon state is abbreviated OR and has city Portland\n",
      "----------\n",
      "Sorry, no Texas.\n",
      "The city for the state 'TX' is: Does Not Exist\n"
     ]
    }
   ],
   "source": [
    "# create a mapping of state to abbreviation\n",
    "states = {\n",
    "    'Oregon': 'OR',\n",
    "    'Florida': 'FL',\n",
    "    'California': 'CA',\n",
    "    'New York': 'NY',\n",
    "    'Michigan': 'MI'\n",
    "}\n",
    "\n",
    "# create a basic set of states and some cities in them\n",
    "cities = {\n",
    "    'CA': 'San Francisco',\n",
    "    'MI': 'Detroit',\n",
    "    'FL': 'Jacksonville'\n",
    "}\n",
    "\n",
    "# add some more cities\n",
    "cities['NY'] = 'New York'\n",
    "cities['OR'] = 'Portland'\n",
    "\n",
    "# print out some cities\n",
    "print '-' * 10\n",
    "print \"NY State has: \", cities['NY']\n",
    "print \"OR State has: \", cities['OR']\n",
    "\n",
    "# print some states\n",
    "print '-' * 10\n",
    "print \"Michigan's abbreviation is: \", states['Michigan']\n",
    "print \"Florida's abbreviation is: \", states['Florida']\n",
    "\n",
    "# do it by using the state then cities dict\n",
    "print '-' * 10\n",
    "print \"Michigan has: \", cities[states['Michigan']]\n",
    "print \"Florida has: \", cities[states['Florida']]\n",
    "\n",
    "# print every state abbreviation\n",
    "print '-' * 10\n",
    "for state, abbrev in states.items():\n",
    "    print \"%s is abbreviated %s\" % (state, abbrev)\n",
    "\n",
    "# print every city in state\n",
    "print '-' * 10\n",
    "for abbrev, city in cities.items():\n",
    "    print \"%s has the city %s\" % (abbrev, city)\n",
    "\n",
    "# now do both at the same time\n",
    "print '-' * 10\n",
    "for state, abbrev in states.items():\n",
    "    print \"%s state is abbreviated %s and has city %s\" % (\n",
    "        state, abbrev, cities[abbrev])\n",
    "\n",
    "print '-' * 10\n",
    "# safely get a abbreviation by state that might not be there\n",
    "state = states.get('Texas')\n",
    "\n",
    "if not state:\n",
    "    print \"Sorry, no Texas.\"\n",
    "\n",
    "# get a city with a default value\n",
    "city = cities.get('TX', 'Does Not Exist')\n",
    "print \"The city for the state 'TX' is: %s\" % city"
   ]
  },
  {
   "cell_type": "code",
   "execution_count": null,
   "metadata": {
    "collapsed": true
   },
   "outputs": [],
   "source": []
  },
  {
   "cell_type": "code",
   "execution_count": null,
   "metadata": {
    "collapsed": true
   },
   "outputs": [],
   "source": []
  },
  {
   "cell_type": "code",
   "execution_count": null,
   "metadata": {
    "collapsed": true
   },
   "outputs": [],
   "source": []
  }
 ],
 "metadata": {
  "kernelspec": {
   "display_name": "Python 2",
   "language": "python",
   "name": "python2"
  },
  "language_info": {
   "codemirror_mode": {
    "name": "ipython",
    "version": 2
   },
   "file_extension": ".py",
   "mimetype": "text/x-python",
   "name": "python",
   "nbconvert_exporter": "python",
   "pygments_lexer": "ipython2",
   "version": "2.7.11"
  }
 },
 "nbformat": 4,
 "nbformat_minor": 0
}
