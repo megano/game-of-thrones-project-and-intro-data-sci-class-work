{
 "cells": [
  {
   "cell_type": "code",
   "execution_count": 144,
   "metadata": {
    "collapsed": true
   },
   "outputs": [],
   "source": [
    "import pandas as pd\n",
    "import numpy as np\n",
    "from matplotlib import pyplot as plt\n",
    "%matplotlib inline\n",
    "from sklearn.cross_validation import train_test_split\n",
    "from sklearn.preprocessing import normalize\n",
    "from sklearn.linear_model import LogisticRegression\n",
    "from sklearn import metrics\n",
    "\n",
    "pd.set_option('display.max_rows', 50)\n",
    "pd.set_option('display.max_columns', 50)\n"
   ]
  },
  {
   "cell_type": "code",
   "execution_count": 2,
   "metadata": {
    "collapsed": false
   },
   "outputs": [],
   "source": [
    "battles = pd.read_csv('battles.csv')\n",
    "character_deaths = pd.read_csv('character-deaths.csv')\n",
    "character_predictions = pd.read_csv('character-predictions.csv')"
   ]
  },
  {
   "cell_type": "code",
   "execution_count": 112,
   "metadata": {
    "collapsed": false
   },
   "outputs": [],
   "source": [
    "# start with character_predictions as main df\n",
    "df = character_predictions\n",
    "\n",
    "# add calculated cols: num_books, culture, \n",
    "df.loc[:, \"num_books\"] = df[[x for x in df.columns if x.startswith(\"book\")]].sum(axis = 1)\n",
    "\n",
    "cult = {\n",
    "    'Summer Islands': ['summer islands', 'summer islander', 'summer isles'],\n",
    "    'Ghiscari': ['ghiscari', 'ghiscaricari',  'ghis'],\n",
    "    'Asshai': [\"asshai'i\", 'asshai'],\n",
    "    'Lysene': ['lysene', 'lyseni'],\n",
    "    'Andal': ['andal', 'andals'],\n",
    "    'Braavosi': ['braavosi', 'braavos'],\n",
    "    'Dornish': ['dornishmen', 'dorne', 'dornish'],\n",
    "    'Myrish': ['myr', 'myrish', 'myrmen'],\n",
    "    'Westermen': ['westermen', 'westerman', 'westerlands'],\n",
    "    'Westerosi': ['westeros', 'westerosi'],\n",
    "    'Stormlander': ['stormlands', 'stormlander'],\n",
    "    'Norvoshi': ['norvos', 'norvoshi'],\n",
    "    'Northmen': ['the north', 'northmen'],\n",
    "    'Free Folk': ['wildling', 'first men', 'free folk'],\n",
    "    'Qartheen': ['qartheen', 'qarth'],\n",
    "    'Reach': ['the reach', 'reach', 'reachmen'],\n",
    "}\n",
    "\n",
    "def get_cult(value):\n",
    "    value = value.lower()\n",
    "    v = [k for (k, v) in cult.items() if value in v]\n",
    "    return v[0] if len(v) > 0 else value.title()\n",
    "\n",
    "df.loc[:, \"culture\"] = [get_cult(x) for x in df.culture.fillna(\"\")]\n",
    "\n",
    "# convert 'house' and 'name' to string\n",
    "df['house'] = df['house'].astype(str)\n",
    "df['name'] = df['name'].astype(str)\n",
    "\n",
    "# add col to see if character's name also appears in the house name\n",
    "name_check=[]\n",
    "\n",
    "for i in range(len(df)):\n",
    "    name_set = set(df.ix[i,'name'].split(' '))\n",
    "    house_set = set(df.ix[i,'house'].split(' '))\n",
    "    name_check.append(int(bool(name_set&house_set)))\n",
    "    \n",
    "df['name_in_house'] = name_check"
   ]
  },
  {
   "cell_type": "code",
   "execution_count": 110,
   "metadata": {
    "collapsed": false
   },
   "outputs": [],
   "source": [
    "# get rid of previous prediction information from source data; we're going to make our own predictions!\n",
    "df.drop(['S.No','actual','pred','alive','plod'],axis=1,inplace=True)"
   ]
  },
  {
   "cell_type": "code",
   "execution_count": 145,
   "metadata": {
    "collapsed": false
   },
   "outputs": [],
   "source": [
    "# compute null accuracy rate\n",
    "y = df.isAlive\n",
    "na_rate = y.mean()"
   ]
  },
  {
   "cell_type": "markdown",
   "metadata": {},
   "source": [
    "## Model 1: Logistic Regression\n",
    "TODO: Normalize column values, cross validation, tune model, ROC/AUC"
   ]
  },
  {
   "cell_type": "code",
   "execution_count": 148,
   "metadata": {
    "collapsed": false
   },
   "outputs": [
    {
     "name": "stdout",
     "output_type": "stream",
     "text": [
      "accuracy: 0.762076053443\n",
      "compared to null accuracy rate of 0.745632065776\n",
      "\n",
      "Confusion Matrix:\n",
      "[[  95  400]\n",
      " [  63 1388]]\n"
     ]
    },
    {
     "data": {
      "image/png": "[encoded data removed]",
      "text/plain": [
       "<matplotlib.figure.Figure at 0x11b013910>"
      ]
     },
     "metadata": {},
     "output_type": "display_data"
    },
    {
     "name": "stdout",
     "output_type": "stream",
     "text": [
      "sensitivity (if alive, chance we predicted correctly): 0.956581667815\n",
      "specificity (if dead, chance we predicted correctly): 0.191919191919\n"
     ]
    }
   ],
   "source": [
    "# Model 1: Logistic Regression\n",
    "\n",
    "logreg = LogisticRegression()\n",
    "feature_cols = ['male','book1','book2','book3','book4','book5','isMarried','isNoble','popularity','name_in_house']\n",
    "X = df[feature_cols]\n",
    "logreg.fit(X, y)\n",
    "print 'accuracy: ' + str(logreg.score(X,y))\n",
    "print 'compared to null accuracy rate of '+str(na_rate)\n",
    "\n",
    "preds = logreg.predict(X)\n",
    "logreg_cm = metrics.confusion_matrix(y, preds)\n",
    "print '\\nConfusion Matrix:'\n",
    "print logreg_cm\n",
    "\n",
    "'''\n",
    "top left: predicted dead, actually died\n",
    "bottom left: predicted dead, actually alive\n",
    "top right: predicted alive, actually dead\n",
    "bottom right: predicted alive, actually alive\n",
    "'''\n",
    "\n",
    "#logreg confusion matrix\n",
    "def plot_confusion_matrix(cm, order, title='LogReg Confusion matrix', cmap=plt.cm.Blues):\n",
    "    plt.imshow(cm, interpolation='nearest', cmap=cmap)\n",
    "    plt.title(title)\n",
    "    plt.colorbar()\n",
    "    tick_marks = np.arange(len(order))\n",
    "    plt.xticks(tick_marks, order, rotation=0)\n",
    "    plt.yticks(tick_marks, order)\n",
    "    plt.tight_layout()\n",
    "    plt.ylabel('Actual')\n",
    "    plt.xlabel('Predicted')\n",
    "\n",
    "plt.figure()\n",
    "plot_confusion_matrix(logreg_cm,['dead','alive'])\n",
    "plt.show()\n",
    "\n",
    "sensitivity = 1.*logreg_cm[1,1]/sum(logreg_cm[1,:])\n",
    "print 'sensitivity (if alive, chance we predicted correctly): ' + str(sensitivity)\n",
    "\n",
    "specificity = 1.*logreg_cm[0,0]/sum(logreg_cm[0,:])\n",
    "print 'specificity (if dead, chance we predicted correctly): ' + str(specificity)"
   ]
  },
  {
   "cell_type": "markdown",
   "metadata": {},
   "source": [
    "## Model 2: Decision Tree / Random Forest"
   ]
  },
  {
   "cell_type": "code",
   "execution_count": null,
   "metadata": {
    "collapsed": false
   },
   "outputs": [],
   "source": []
  },
  {
   "cell_type": "markdown",
   "metadata": {
    "collapsed": true
   },
   "source": [
    "## Model 3: Bayesian"
   ]
  },
  {
   "cell_type": "code",
   "execution_count": null,
   "metadata": {
    "collapsed": false
   },
   "outputs": [],
   "source": []
  },
  {
   "cell_type": "code",
   "execution_count": null,
   "metadata": {
    "collapsed": false
   },
   "outputs": [],
   "source": []
  },
  {
   "cell_type": "code",
   "execution_count": null,
   "metadata": {
    "collapsed": false
   },
   "outputs": [],
   "source": []
  },
  {
   "cell_type": "code",
   "execution_count": null,
   "metadata": {
    "collapsed": false
   },
   "outputs": [],
   "source": []
  },
  {
   "cell_type": "code",
   "execution_count": null,
   "metadata": {
    "collapsed": false
   },
   "outputs": [],
   "source": []
  },
  {
   "cell_type": "code",
   "execution_count": 47,
   "metadata": {
    "collapsed": true
   },
   "outputs": [],
   "source": []
  },
  {
   "cell_type": "code",
   "execution_count": null,
   "metadata": {
    "collapsed": false
   },
   "outputs": [],
   "source": []
  },
  {
   "cell_type": "code",
   "execution_count": 52,
   "metadata": {
    "collapsed": true
   },
   "outputs": [],
   "source": []
  },
  {
   "cell_type": "code",
   "execution_count": null,
   "metadata": {
    "collapsed": false
   },
   "outputs": [],
   "source": []
  },
  {
   "cell_type": "code",
   "execution_count": null,
   "metadata": {
    "collapsed": false
   },
   "outputs": [],
   "source": []
  },
  {
   "cell_type": "markdown",
   "metadata": {},
   "source": [
    "## OLD CODE NOT IN USE"
   ]
  },
  {
   "cell_type": "code",
   "execution_count": null,
   "metadata": {
    "collapsed": true
   },
   "outputs": [],
   "source": [
    "'''\n",
    "def died(df):\n",
    "    if np.isnan(df['Death Year']) and np.isnan(df['Book of Death']) and np.isnan(df['Death Chapter']):\n",
    "        return False\n",
    "    else:\n",
    "        return True\n",
    "\n",
    "character_deaths['died'] = character_deaths.apply(died,axis=1)\n",
    "'''"
   ]
  }
 ],
 "metadata": {
  "kernelspec": {
   "display_name": "Python 2",
   "language": "python",
   "name": "python2"
  },
  "language_info": {
   "codemirror_mode": {
    "name": "ipython",
    "version": 2
   },
   "file_extension": ".py",
   "mimetype": "text/x-python",
   "name": "python",
   "nbconvert_exporter": "python",
   "pygments_lexer": "ipython2",
   "version": "2.7.11"
  }
 },
 "nbformat": 4,
 "nbformat_minor": 0
}
