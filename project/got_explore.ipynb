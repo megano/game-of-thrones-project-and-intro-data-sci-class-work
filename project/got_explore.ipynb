{
 "cells": [
  {
   "cell_type": "markdown",
   "metadata": {},
   "source": [
    "## Setup and Cleaning"
   ]
  },
  {
   "cell_type": "code",
   "execution_count": 1,
   "metadata": {
    "collapsed": true
   },
   "outputs": [],
   "source": [
    "import pandas as pd\n",
    "import numpy as np\n",
    "from matplotlib import pyplot as plt\n",
    "%matplotlib inline\n",
    "from sklearn.cross_validation import train_test_split\n",
    "from sklearn.preprocessing import normalize\n",
    "from sklearn.linear_model import LogisticRegression\n",
    "from sklearn import metrics\n",
    "from sklearn.cross_validation import cross_val_score\n",
    "from sklearn.naive_bayes import MultinomialNB\n",
    "from sklearn.ensemble import RandomForestRegressor\n",
    "\n",
    "pd.set_option('display.max_rows', 50)\n",
    "pd.set_option('display.max_columns', 50)\n"
   ]
  },
  {
   "cell_type": "code",
   "execution_count": 2,
   "metadata": {
    "collapsed": false
   },
   "outputs": [],
   "source": [
    "battles = pd.read_csv('battles.csv')\n",
    "character_deaths = pd.read_csv('character-deaths.csv')\n",
    "character_predictions = pd.read_csv('character-predictions.csv')"
   ]
  },
  {
   "cell_type": "code",
   "execution_count": 3,
   "metadata": {
    "collapsed": false
   },
   "outputs": [],
   "source": [
    "# start with character_predictions as main df\n",
    "df = character_predictions\n",
    "\n",
    "# add calculated cols: num_books, culture, \n",
    "df.loc[:, \"num_books\"] = df[[x for x in df.columns if x.startswith(\"book\")]].sum(axis = 1)\n",
    "\n",
    "cult = {\n",
    "    'Summer Islands': ['summer islands', 'summer islander', 'summer isles'],\n",
    "    'Ghiscari': ['ghiscari', 'ghiscaricari',  'ghis'],\n",
    "    'Asshai': [\"asshai'i\", 'asshai'],\n",
    "    'Lysene': ['lysene', 'lyseni'],\n",
    "    'Andal': ['andal', 'andals'],\n",
    "    'Braavosi': ['braavosi', 'braavos'],\n",
    "    'Dornish': ['dornishmen', 'dorne', 'dornish'],\n",
    "    'Myrish': ['myr', 'myrish', 'myrmen'],\n",
    "    'Westermen': ['westermen', 'westerman', 'westerlands'],\n",
    "    'Westerosi': ['westeros', 'westerosi'],\n",
    "    'Stormlander': ['stormlands', 'stormlander'],\n",
    "    'Norvoshi': ['norvos', 'norvoshi'],\n",
    "    'Northmen': ['the north', 'northmen'],\n",
    "    'Free Folk': ['wildling', 'first men', 'free folk'],\n",
    "    'Qartheen': ['qartheen', 'qarth'],\n",
    "    'Reach': ['the reach', 'reach', 'reachmen'],\n",
    "}\n",
    "\n",
    "def get_cult(value):\n",
    "    value = value.lower()\n",
    "    v = [k for (k, v) in cult.items() if value in v]\n",
    "    return v[0] if len(v) > 0 else value.title()\n",
    "\n",
    "df.loc[:, \"culture\"] = [get_cult(x) for x in df.culture.fillna(\"\")]\n",
    "\n",
    "# convert 'house' and 'name' to string\n",
    "df['house'] = df['house'].astype(str)\n",
    "df['name'] = df['name'].astype(str)\n",
    "\n",
    "# add col to see if character's name also appears in the house name\n",
    "name_check=[]\n",
    "\n",
    "for i in range(len(df)):\n",
    "    name_set = set(df.ix[i,'name'].split(' '))\n",
    "    house_set = set(df.ix[i,'house'].split(' '))\n",
    "    name_check.append(int(bool(name_set&house_set)))\n",
    "    \n",
    "df['name_in_house'] = name_check"
   ]
  },
  {
   "cell_type": "code",
   "execution_count": 4,
   "metadata": {
    "collapsed": false
   },
   "outputs": [],
   "source": [
    "# get rid of previous prediction information from source data; we're going to make our own predictions!\n",
    "df.drop(['S.No','actual','pred','alive','plod'],axis=1,inplace=True)"
   ]
  },
  {
   "cell_type": "code",
   "execution_count": 5,
   "metadata": {
    "collapsed": true
   },
   "outputs": [],
   "source": [
    "# transform culture into dummy variables and append to dataframe\n",
    "culture_dummies = pd.get_dummies(df.culture).iloc[:,1:]\n",
    "df = pd.concat([df,culture_dummies],axis=1)"
   ]
  },
  {
   "cell_type": "code",
   "execution_count": 6,
   "metadata": {
    "collapsed": false
   },
   "outputs": [],
   "source": [
    "# add age groups\n",
    "\n",
    "df['is_old'] = df['age'].apply(lambda x: 1 if x>70 else 0)\n",
    "df['is_young'] = df['age'].apply(lambda x: 1 if x<18 else 0)\n",
    "df['is_middle_aged'] = df['age'].apply(lambda x: 1 if x>=18 and x<=70 else 0)"
   ]
  },
  {
   "cell_type": "markdown",
   "metadata": {},
   "source": [
    "## Data Exploration"
   ]
  },
  {
   "cell_type": "code",
   "execution_count": 7,
   "metadata": {
    "collapsed": false
   },
   "outputs": [],
   "source": [
    "def plot(cat):\n",
    "    df.groupby(cat).isAlive.mean().plot(kind='bar')\n",
    "    plt.ylabel('Percent Alive')\n",
    "    plt.ylim([0.0, 1.0])\n",
    "    plt.show()"
   ]
  },
  {
   "cell_type": "code",
   "execution_count": 8,
   "metadata": {
    "collapsed": false
   },
   "outputs": [
    {
     "data": {
      "image/png": "[encoded data removed]",
      "text/plain": [
       "<matplotlib.figure.Figure at 0x1040c7190>"
      ]
     },
     "metadata": {},
     "output_type": "display_data"
    }
   ],
   "source": [
    "plot('male')"
   ]
  },
  {
   "cell_type": "code",
   "execution_count": 9,
   "metadata": {
    "collapsed": false
   },
   "outputs": [
    {
     "data": {
      "image/png": "[encoded data removed]",
      "text/plain": [
       "<matplotlib.figure.Figure at 0x11962e1d0>"
      ]
     },
     "metadata": {},
     "output_type": "display_data"
    }
   ],
   "source": [
    "plot('is_old')"
   ]
  },
  {
   "cell_type": "code",
   "execution_count": 10,
   "metadata": {
    "collapsed": false,
    "scrolled": true
   },
   "outputs": [
    {
     "data": {
      "image/png": "[encoded data removed]",
      "text/plain": [
       "<matplotlib.figure.Figure at 0x119786ad0>"
      ]
     },
     "metadata": {},
     "output_type": "display_data"
    }
   ],
   "source": [
    "plot('Valyrian')"
   ]
  },
  {
   "cell_type": "code",
   "execution_count": 11,
   "metadata": {
    "collapsed": false
   },
   "outputs": [],
   "source": [
    "# popularity: https://docs.google.com/spreadsheets/d/1WQlsF_agiphO1TUYb0W8cLwd-OL4RYvTtFDq08mV0QI/edit?usp=sharing"
   ]
  },
  {
   "cell_type": "markdown",
   "metadata": {},
   "source": [
    "## Train/Test/Split"
   ]
  },
  {
   "cell_type": "code",
   "execution_count": 12,
   "metadata": {
    "collapsed": true
   },
   "outputs": [],
   "source": [
    "# train/test/split used for models\n",
    "\n",
    "feature_cols = ['male','book1','book2','book3','book4','book5','isMarried','isNoble','popularity','name_in_house',\\\n",
    "                'boolDeadRelations','is_old','is_young','is_middle_aged']+list(culture_dummies.columns.values)\n",
    "X = df[feature_cols]\n",
    "y = df.isAlive\n",
    "\n",
    "X_train, X_test, y_train, y_test = train_test_split(X, y, random_state=8)"
   ]
  },
  {
   "cell_type": "code",
   "execution_count": 13,
   "metadata": {
    "collapsed": false
   },
   "outputs": [
    {
     "data": {
      "text/plain": [
       "'nar=[]\\nfor i in range(40):\\n    X_train, X_test, y_train, y_test = train_test_split(X, y, random_state=i)\\n    nar.append(y_test.mean())\\n\\nplt.plot(np.arange(40),nar)'"
      ]
     },
     "execution_count": 13,
     "metadata": {},
     "output_type": "execute_result"
    }
   ],
   "source": [
    "'''nar=[]\n",
    "for i in range(40):\n",
    "    X_train, X_test, y_train, y_test = train_test_split(X, y, random_state=i)\n",
    "    nar.append(y_test.mean())\n",
    "\n",
    "plt.plot(np.arange(40),nar)'''"
   ]
  },
  {
   "cell_type": "markdown",
   "metadata": {},
   "source": [
    "## Null Accuracy Rate"
   ]
  },
  {
   "cell_type": "code",
   "execution_count": 14,
   "metadata": {
    "collapsed": false
   },
   "outputs": [
    {
     "name": "stdout",
     "output_type": "stream",
     "text": [
      "null accuracy rate: 0.745632065776\n",
      "0.745379876797\n"
     ]
    }
   ],
   "source": [
    "# compute null accuracy rate\n",
    "na_rate = y.mean()\n",
    "print 'null accuracy rate: %s' %na_rate\n",
    "print y_test.mean()"
   ]
  },
  {
   "cell_type": "markdown",
   "metadata": {},
   "source": []
  },
  {
   "cell_type": "markdown",
   "metadata": {},
   "source": [
    "## Metrics and Confusion Matrix"
   ]
  },
  {
   "cell_type": "code",
   "execution_count": 15,
   "metadata": {
    "collapsed": false
   },
   "outputs": [
    {
     "data": {
      "text/plain": [
       "'\\ntop left: predicted dead, actually died\\nbottom left: predicted dead, actually alive\\ntop right: predicted alive, actually dead\\nbottom right: predicted alive, actually alive\\n'"
      ]
     },
     "execution_count": 15,
     "metadata": {},
     "output_type": "execute_result"
    }
   ],
   "source": [
    "# initialize dictionaries to hold comparisons across models\n",
    "accuracy_comparison = {}\n",
    "auc_comparison = {}\n",
    "sensitivity_comparison = {}\n",
    "specificity_comparison = {}\n",
    "\n",
    "# define  output\n",
    "\n",
    "# confusion matrix\n",
    "def plot_confusion_matrix(cm, order, title='Confusion matrix', cmap=plt.cm.Blues):\n",
    "    plt.imshow(cm, interpolation='nearest', cmap=cmap)\n",
    "    plt.title(title)\n",
    "    plt.colorbar()\n",
    "    tick_marks = np.arange(len(order))\n",
    "    plt.xticks(tick_marks, order, rotation=0)\n",
    "    plt.yticks(tick_marks, order)\n",
    "    plt.tight_layout()\n",
    "    plt.ylabel('Actual')\n",
    "    plt.xlabel('Predicted')\n",
    "    plt.show()\n",
    "\n",
    "def roc_auc():\n",
    "    fpr, tpr, thresholds = metrics.roc_curve(y_test, probs)\n",
    "    plt.plot(fpr, tpr)\n",
    "    plt.xlim([0.0, 1.0])\n",
    "    plt.ylim([0.0, 1.0])\n",
    "    plt.xlabel('False Positive Rate (1 - Specificity)')\n",
    "    plt.ylabel('True Positive Rate (Sensitivity)')\n",
    "    plt.show()\n",
    "    print 'AUC: %s' %metrics.roc_auc_score(y_test, probs)\n",
    "\n",
    "def c_val(model,cv=10,scoring='accuracy'):\n",
    "    cv_score = cross_val_score(model, X, y, cv=cv, scoring=scoring).mean()\n",
    "    print 'cross_val_score: %s (cv=%s and scoring=%s)' %(cv_score,cv,scoring)\n",
    "    return cv_score\n",
    "\n",
    "def SCORE(model):\n",
    "    print 'accuracy: %s' %metrics.accuracy_score(y_test, preds)\n",
    "    print 'compared to null accuracy rate of: %s' %y_test.mean()\n",
    "    cm = metrics.confusion_matrix(y_test, preds)\n",
    "    plt.figure()\n",
    "    plot_confusion_matrix(cm,['dead','alive'])\n",
    "    \n",
    "    sensitivity = 1.*cm[1,1]/sum(cm[1,:])\n",
    "    print 'sensitivity (if alive, chance we predicted correctly): ' + str(sensitivity)\n",
    "\n",
    "    specificity = 1.*cm[0,0]/sum(cm[0,:])\n",
    "    print 'specificity (if dead, chance we predicted correctly): ' + str(specificity)\n",
    "    roc_auc()\n",
    "\n",
    "    c_val(model,10,'roc_auc')\n",
    "    c_val(model,100,'roc_auc')\n",
    "    c_val(model,10,'accuracy')\n",
    "    c_val(model,100,'accuracy')\n",
    "    \n",
    "    accuracy_comparison[model_name] = c_val(model,100,'accuracy')\n",
    "    auc_comparison[model_name] = c_val(model,100,'roc_auc')\n",
    "    sensitivity_comparison[model_name] = sensitivity\n",
    "    specificity_comparison[model_name] = specificity\n",
    "    \n",
    "'''\n",
    "top left: predicted dead, actually died\n",
    "bottom left: predicted dead, actually alive\n",
    "top right: predicted alive, actually dead\n",
    "bottom right: predicted alive, actually alive\n",
    "'''\n",
    "\n"
   ]
  },
  {
   "cell_type": "markdown",
   "metadata": {},
   "source": [
    "## Model 1: Logistic Regression\n",
    "TODO: Normalize column values, cross validation, tune model, ROC/AUC"
   ]
  },
  {
   "cell_type": "code",
   "execution_count": 16,
   "metadata": {
    "collapsed": false
   },
   "outputs": [
    {
     "name": "stdout",
     "output_type": "stream",
     "text": [
      "accuracy: 0.792607802875\n",
      "compared to null accuracy rate of: 0.745379876797\n"
     ]
    },
    {
     "data": {
      "image/png": "[encoded data removed]",
      "text/plain": [
       "<matplotlib.figure.Figure at 0x11a60add0>"
      ]
     },
     "metadata": {},
     "output_type": "display_data"
    },
    {
     "name": "stdout",
     "output_type": "stream",
     "text": [
      "sensitivity (if alive, chance we predicted correctly): 0.931129476584\n",
      "specificity (if dead, chance we predicted correctly): 0.387096774194\n"
     ]
    },
    {
     "data": {
      "image/png": "[encoded data removed]",
      "text/plain": [
       "<matplotlib.figure.Figure at 0x11a955990>"
      ]
     },
     "metadata": {},
     "output_type": "display_data"
    },
    {
     "name": "stdout",
     "output_type": "stream",
     "text": [
      "AUC: 0.76349640096\n",
      "cross_val_score: 0.757565480609 (cv=10 and scoring=roc_auc)\n",
      "cross_val_score: 0.766869047619 (cv=100 and scoring=roc_auc)\n",
      "cross_val_score: 0.782100508721 (cv=10 and scoring=accuracy)\n",
      "cross_val_score: 0.781997076023 (cv=100 and scoring=accuracy)\n",
      "cross_val_score: 0.781997076023 (cv=100 and scoring=accuracy)\n",
      "cross_val_score: 0.766869047619 (cv=100 and scoring=roc_auc)\n"
     ]
    }
   ],
   "source": [
    "# Model 1: Logistic Regression\n",
    "\n",
    "model_name = 'logreg'\n",
    "logreg = LogisticRegression()\n",
    "logreg.fit(X_train,y_train)\n",
    "preds = logreg.predict(X_test)\n",
    "probs = logreg.predict_proba(X_test)[:, 1]\n",
    "SCORE(logreg)\n",
    "\n"
   ]
  },
  {
   "cell_type": "markdown",
   "metadata": {},
   "source": [
    "## Model 2: Decision Tree / Random Forest"
   ]
  },
  {
   "cell_type": "code",
   "execution_count": 17,
   "metadata": {
    "collapsed": false
   },
   "outputs": [
    {
     "data": {
      "text/plain": [
       "\" commenting out until needed since it is sloooow\\n\\n# find the ideal number of trees to use\\n\\nfrom sklearn.ensemble import RandomForestRegressor\\nrfreg = RandomForestRegressor()\\n\\n# list of values to try for n_estimators\\nestimator_range = range(10, 310, 10)\\n\\n# list to store the average accuracy for each value of n_estimators\\nscores = []\\n\\n# use 5-fold cross-validation with each value of n_estimators\\nfor estimator in estimator_range:\\n    rfreg = RandomForestRegressor(n_estimators=estimator, random_state=1)\\n    score = cross_val_score(rfreg, X, y, cv=5, scoring='roc_auc').mean()\\n    scores.append(score)\\n\\n\\n# plot n_estimators (x-axis) versus AUC (y-axis)\\nplt.plot(estimator_range, scores)\\nplt.xlabel('n_estimators')\\nplt.ylabel('AUC')\\n\\n# show the best AUC and the corresponding n_estimators (num trees)\\nprint sorted(zip(scores, estimator_range))[-1]\\n\""
      ]
     },
     "execution_count": 17,
     "metadata": {},
     "output_type": "execute_result"
    }
   ],
   "source": [
    "''' commenting out until needed since it is sloooow\n",
    "\n",
    "# find the ideal number of trees to use\n",
    "\n",
    "from sklearn.ensemble import RandomForestRegressor\n",
    "rfreg = RandomForestRegressor()\n",
    "\n",
    "# list of values to try for n_estimators\n",
    "estimator_range = range(10, 310, 10)\n",
    "\n",
    "# list to store the average accuracy for each value of n_estimators\n",
    "scores = []\n",
    "\n",
    "# use 5-fold cross-validation with each value of n_estimators\n",
    "for estimator in estimator_range:\n",
    "    rfreg = RandomForestRegressor(n_estimators=estimator, random_state=1)\n",
    "    score = cross_val_score(rfreg, X, y, cv=5, scoring='roc_auc').mean()\n",
    "    scores.append(score)\n",
    "\n",
    "\n",
    "# plot n_estimators (x-axis) versus AUC (y-axis)\n",
    "plt.plot(estimator_range, scores)\n",
    "plt.xlabel('n_estimators')\n",
    "plt.ylabel('AUC')\n",
    "\n",
    "# show the best AUC and the corresponding n_estimators (num trees)\n",
    "print sorted(zip(scores, estimator_range))[-1]\n",
    "'''"
   ]
  },
  {
   "cell_type": "code",
   "execution_count": 18,
   "metadata": {
    "collapsed": true
   },
   "outputs": [],
   "source": [
    "# set n_estimators\n",
    "n = 250"
   ]
  },
  {
   "cell_type": "code",
   "execution_count": 19,
   "metadata": {
    "collapsed": false
   },
   "outputs": [
    {
     "data": {
      "text/plain": [
       "\" commenting out until needed since it is sloooow\\n# list of values to try for max_features\\nfeature_range = range(1, len(feature_cols)+1)\\n\\n# list to store the average RMSE for each value of max_features\\nscores = []\\n\\n# use 10-fold cross-validation with each value of max_features (WARNING: SLOW!)\\nfor feature in feature_range:\\n    rfreg = RandomForestRegressor(n_estimators=n, max_features=feature, random_state=1)\\n    score = cross_val_score(rfreg, X, y, cv=10, scoring='roc_auc')\\n    scores.append(np.mean(score))\\n\\n# plot max_features (x-axis) versus AUC (y-axis)\\nplt.plot(feature_range, scores)\\nplt.xlabel('max_features')\\nplt.ylabel('AUC')\\n\\n# show the best AUC and the corresponding max_features\\nprint sorted(zip(scores, feature_range))[-1]\\n\""
      ]
     },
     "execution_count": 19,
     "metadata": {},
     "output_type": "execute_result"
    }
   ],
   "source": [
    "''' commenting out until needed since it is sloooow\n",
    "# list of values to try for max_features\n",
    "feature_range = range(1, len(feature_cols)+1)\n",
    "\n",
    "# list to store the average RMSE for each value of max_features\n",
    "scores = []\n",
    "\n",
    "# use 10-fold cross-validation with each value of max_features (WARNING: SLOW!)\n",
    "for feature in feature_range:\n",
    "    rfreg = RandomForestRegressor(n_estimators=n, max_features=feature, random_state=1)\n",
    "    score = cross_val_score(rfreg, X, y, cv=10, scoring='roc_auc')\n",
    "    scores.append(np.mean(score))\n",
    "\n",
    "# plot max_features (x-axis) versus AUC (y-axis)\n",
    "plt.plot(feature_range, scores)\n",
    "plt.xlabel('max_features')\n",
    "plt.ylabel('AUC')\n",
    "\n",
    "# show the best AUC and the corresponding max_features\n",
    "print sorted(zip(scores, feature_range))[-1]\n",
    "'''"
   ]
  },
  {
   "cell_type": "code",
   "execution_count": 20,
   "metadata": {
    "collapsed": true
   },
   "outputs": [],
   "source": [
    "# set max features\n",
    "mf = 25"
   ]
  },
  {
   "cell_type": "markdown",
   "metadata": {},
   "source": [
    "### Best Random Forest Model has 250 estimators and 25 max features"
   ]
  },
  {
   "cell_type": "code",
   "execution_count": 21,
   "metadata": {
    "collapsed": false
   },
   "outputs": [
    {
     "name": "stdout",
     "output_type": "stream",
     "text": [
      "              feature  importance\n",
      "8          popularity    0.350557\n",
      "4               book4    0.085490\n",
      "5               book5    0.044841\n",
      "7             isNoble    0.039672\n",
      "0                male    0.039564\n",
      "2               book2    0.039156\n",
      "9       name_in_house    0.039068\n",
      "3               book3    0.037651\n",
      "1               book1    0.036715\n",
      "6           isMarried    0.027985\n",
      "13     is_middle_aged    0.026377\n",
      "11             is_old    0.025393\n",
      "10  boolDeadRelations    0.025031\n",
      "35           Northmen    0.025006\n",
      "51           Valyrian    0.021170\n",
      "12           is_young    0.019720\n",
      "22          Free Folk    0.018930\n",
      "25           Ironborn    0.016358\n",
      "20            Dornish    0.007670\n",
      "43           Rivermen    0.006404\n",
      "23           Ghiscari    0.006401\n",
      "40              Reach    0.005150\n",
      "52          Westermen    0.005082\n",
      "21           Dothraki    0.004328\n",
      "47            Tyroshi    0.004310\n"
     ]
    }
   ],
   "source": [
    "# fit best model\n",
    "rfreg = RandomForestRegressor(n_estimators=n, max_features=mf, oob_score=True, random_state=1)\n",
    "rfreg.fit(X, y)\n",
    "\n",
    "# compute feature importances\n",
    "rf_importance = pd.DataFrame({'feature':feature_cols, 'importance':rfreg.feature_importances_}).sort_values(by='importance',ascending=False)\n",
    "print rf_importance.head(25)"
   ]
  },
  {
   "cell_type": "code",
   "execution_count": 22,
   "metadata": {
    "collapsed": false
   },
   "outputs": [
    {
     "data": {
      "text/plain": [
       "0.23691368064874407"
      ]
     },
     "execution_count": 22,
     "metadata": {},
     "output_type": "execute_result"
    }
   ],
   "source": [
    "# compute out of bag score\n",
    "rfreg.oob_score_"
   ]
  },
  {
   "cell_type": "code",
   "execution_count": 23,
   "metadata": {
    "collapsed": false
   },
   "outputs": [
    {
     "name": "stderr",
     "output_type": "stream",
     "text": [
      "/Users/lucas/anaconda/lib/python2.7/site-packages/sklearn/utils/__init__.py:93: DeprecationWarning: Function transform is deprecated; Support to use estimators as feature selectors will be removed in version 0.19. Use SelectFromModel instead.\n",
      "  warnings.warn(msg, category=DeprecationWarning)\n"
     ]
    }
   ],
   "source": [
    "# create a new feature matrix that only includes important features\n",
    "X_important = rfreg.transform(X, threshold=.01)\n",
    "rf_feature_cols = list(rf_importance[rf_importance.importance>=.01]['feature'].values)"
   ]
  },
  {
   "cell_type": "code",
   "execution_count": 24,
   "metadata": {
    "collapsed": false
   },
   "outputs": [],
   "source": [
    "# get accuracy\n",
    "rfreg = RandomForestRegressor(n_estimators=n, max_features=8)\n",
    "rfreg.fit(X_train[rf_feature_cols], y_train)\n",
    "probs = rfreg.predict(X_test[rf_feature_cols])\n",
    "len(preds)\n",
    "\n",
    "# Random Forest has no predict_proba, so we have to convert continuous to binary\n",
    "preds = np.round(probs)"
   ]
  },
  {
   "cell_type": "code",
   "execution_count": 25,
   "metadata": {
    "collapsed": false
   },
   "outputs": [
    {
     "name": "stdout",
     "output_type": "stream",
     "text": [
      "accuracy: 0.82135523614\n",
      "compared to null accuracy rate of: 0.745379876797\n"
     ]
    },
    {
     "data": {
      "image/png": "[encoded data removed]",
      "text/plain": [
       "<matplotlib.figure.Figure at 0x11a88e850>"
      ]
     },
     "metadata": {},
     "output_type": "display_data"
    },
    {
     "name": "stdout",
     "output_type": "stream",
     "text": [
      "sensitivity (if alive, chance we predicted correctly): 0.884297520661\n",
      "specificity (if dead, chance we predicted correctly): 0.637096774194\n"
     ]
    }
   ],
   "source": [
    "print 'accuracy: %s' %metrics.accuracy_score(y_test, preds)\n",
    "print 'compared to null accuracy rate of: %s' %y_test.mean()\n",
    "cm = metrics.confusion_matrix(y_test, preds)\n",
    "plt.figure()\n",
    "plot_confusion_matrix(cm,['dead','alive'])\n",
    "\n",
    "sensitivity = 1.*cm[1,1]/sum(cm[1,:])\n",
    "print 'sensitivity (if alive, chance we predicted correctly): ' + str(sensitivity)\n",
    "\n",
    "specificity = 1.*cm[0,0]/sum(cm[0,:])\n",
    "print 'specificity (if dead, chance we predicted correctly): ' + str(specificity)\n",
    "\n",
    "# add to comparison dicts\n",
    "rfreg = RandomForestRegressor(n_estimators=n, max_features=8, random_state=1)\n",
    "cross_val_score(rfreg, X_important, y, cv=10, scoring='roc_auc').mean()\n",
    "\n",
    "model = 'random_forest'\n",
    "accuracy_comparison[model] = metrics.accuracy_score(y_test, preds)\n",
    "auc_comparison[model] = cross_val_score(rfreg, X_important, y, cv=10, scoring='roc_auc').mean()\n",
    "sensitivity_comparison[model] = sensitivity\n",
    "specificity_comparison[model] = specificity"
   ]
  },
  {
   "cell_type": "code",
   "execution_count": 26,
   "metadata": {
    "collapsed": false
   },
   "outputs": [
    {
     "data": {
      "image/png": "[encoded data removed]",
      "text/plain": [
       "<matplotlib.figure.Figure at 0x1167cdc90>"
      ]
     },
     "metadata": {},
     "output_type": "display_data"
    },
    {
     "name": "stdout",
     "output_type": "stream",
     "text": [
      "AUC: 0.839231760419\n"
     ]
    }
   ],
   "source": [
    "roc_auc()"
   ]
  },
  {
   "cell_type": "markdown",
   "metadata": {
    "collapsed": true
   },
   "source": [
    "## Model 3: Bayesian"
   ]
  },
  {
   "cell_type": "code",
   "execution_count": 27,
   "metadata": {
    "collapsed": false
   },
   "outputs": [
    {
     "name": "stdout",
     "output_type": "stream",
     "text": [
      "accuracy: 0.792607802875\n",
      "compared to null accuracy rate of: 0.745379876797\n"
     ]
    },
    {
     "data": {
      "image/png": "[encoded data removed]",
      "text/plain": [
       "<matplotlib.figure.Figure at 0x11a8a3550>"
      ]
     },
     "metadata": {},
     "output_type": "display_data"
    },
    {
     "name": "stdout",
     "output_type": "stream",
     "text": [
      "sensitivity (if alive, chance we predicted correctly): 0.964187327824\n",
      "specificity (if dead, chance we predicted correctly): 0.290322580645\n"
     ]
    },
    {
     "data": {
      "image/png": "[encoded data removed]",
      "text/plain": [
       "<matplotlib.figure.Figure at 0x1196378d0>"
      ]
     },
     "metadata": {},
     "output_type": "display_data"
    },
    {
     "name": "stdout",
     "output_type": "stream",
     "text": [
      "AUC: 0.74163556385\n",
      "cross_val_score: 0.724628837496 (cv=10 and scoring=roc_auc)\n",
      "cross_val_score: 0.731330952381 (cv=100 and scoring=roc_auc)\n",
      "cross_val_score: 0.778489536973 (cv=10 and scoring=accuracy)\n",
      "cross_val_score: 0.779871345029 (cv=100 and scoring=accuracy)\n",
      "cross_val_score: 0.779871345029 (cv=100 and scoring=accuracy)\n",
      "cross_val_score: 0.731330952381 (cv=100 and scoring=roc_auc)\n"
     ]
    }
   ],
   "source": [
    "model_name='bayesian'\n",
    "nb = MultinomialNB()\n",
    "nb.fit(X_train, y_train)\n",
    "preds = nb.predict(X_test)\n",
    "probs = nb.predict_proba(X_test)[:, 1]\n",
    "SCORE(nb)"
   ]
  },
  {
   "cell_type": "markdown",
   "metadata": {},
   "source": [
    "## Model Comparison"
   ]
  },
  {
   "cell_type": "code",
   "execution_count": 28,
   "metadata": {
    "collapsed": true
   },
   "outputs": [],
   "source": [
    "comparisons = [accuracy_comparison,auc_comparison,sensitivity_comparison,specificity_comparison]"
   ]
  },
  {
   "cell_type": "code",
   "execution_count": 29,
   "metadata": {
    "collapsed": false
   },
   "outputs": [
    {
     "name": "stdout",
     "output_type": "stream",
     "text": [
      "accuracy_comparison: {'bayesian': 0.7798713450292396, 'random_forest': 0.82135523613963035, 'logreg': 0.78199707602339175}\n",
      "auc_comparison: {'bayesian': 0.73133095238095236, 'random_forest': 0.79766885384630459, 'logreg': 0.76686904761904762}\n",
      "sensitivity_comparison: {'bayesian': 0.9641873278236914, 'random_forest': 0.8842975206611571, 'logreg': 0.931129476584022}\n",
      "specificity_comparison: {'bayesian': 0.2903225806451613, 'random_forest': 0.6370967741935484, 'logreg': 0.3870967741935484}\n"
     ]
    },
    {
     "data": {
      "text/plain": [
       "<matplotlib.axes._subplots.AxesSubplot at 0x11a7371d0>"
      ]
     },
     "execution_count": 29,
     "metadata": {},
     "output_type": "execute_result"
    },
    {
     "data": {
      "image/png": "[encoded data removed]",
      "text/plain": [
       "<matplotlib.figure.Figure at 0x11a72c9d0>"
      ]
     },
     "metadata": {},
     "output_type": "display_data"
    }
   ],
   "source": [
    "import seaborn as sns\n",
    "print 'accuracy_comparison: ' + str(accuracy_comparison)\n",
    "print 'auc_comparison: ' + str(auc_comparison)\n",
    "print 'sensitivity_comparison: ' + str(sensitivity_comparison)\n",
    "print 'specificity_comparison: ' + str(specificity_comparison)\n",
    "\n",
    "sns.barplot(comparisons[0].keys(),comparisons[0].values())"
   ]
  },
  {
   "cell_type": "code",
   "execution_count": 30,
   "metadata": {
    "collapsed": false
   },
   "outputs": [
    {
     "data": {
      "text/plain": [
       "<matplotlib.axes._subplots.AxesSubplot at 0x11a8cc350>"
      ]
     },
     "execution_count": 30,
     "metadata": {},
     "output_type": "execute_result"
    },
    {
     "data": {
      "image/png": "[encoded data removed]",
      "text/plain": [
       "<matplotlib.figure.Figure at 0x11a6a7890>"
      ]
     },
     "metadata": {},
     "output_type": "display_data"
    }
   ],
   "source": [
    "sns.barplot(comparisons[1].keys(),comparisons[1].values())"
   ]
  },
  {
   "cell_type": "code",
   "execution_count": 31,
   "metadata": {
    "collapsed": false
   },
   "outputs": [
    {
     "data": {
      "text/plain": [
       "<matplotlib.axes._subplots.AxesSubplot at 0x11a67fbd0>"
      ]
     },
     "execution_count": 31,
     "metadata": {},
     "output_type": "execute_result"
    },
    {
     "data": {
      "image/png": "[encoded data removed]",
      "text/plain": [
       "<matplotlib.figure.Figure at 0x11a60ae90>"
      ]
     },
     "metadata": {},
     "output_type": "display_data"
    }
   ],
   "source": [
    "sns.barplot(comparisons[2].keys(),comparisons[2].values())"
   ]
  },
  {
   "cell_type": "code",
   "execution_count": 32,
   "metadata": {
    "collapsed": false
   },
   "outputs": [
    {
     "data": {
      "text/plain": [
       "<matplotlib.axes._subplots.AxesSubplot at 0x11a921c10>"
      ]
     },
     "execution_count": 32,
     "metadata": {},
     "output_type": "execute_result"
    },
    {
     "data": {
      "image/png": "[encoded data removed]",
      "text/plain": [
       "<matplotlib.figure.Figure at 0x11a6e6150>"
      ]
     },
     "metadata": {},
     "output_type": "display_data"
    }
   ],
   "source": [
    "sns.barplot(comparisons[3].keys(),comparisons[3].values())"
   ]
  },
  {
   "cell_type": "code",
   "execution_count": null,
   "metadata": {
    "collapsed": false
   },
   "outputs": [],
   "source": []
  },
  {
   "cell_type": "code",
   "execution_count": null,
   "metadata": {
    "collapsed": false
   },
   "outputs": [],
   "source": []
  },
  {
   "cell_type": "code",
   "execution_count": null,
   "metadata": {
    "collapsed": false
   },
   "outputs": [],
   "source": []
  },
  {
   "cell_type": "code",
   "execution_count": null,
   "metadata": {
    "collapsed": true
   },
   "outputs": [],
   "source": []
  },
  {
   "cell_type": "markdown",
   "metadata": {
    "collapsed": false
   },
   "source": [
    "## Which Characters that Are Still Alive Have Highest Chance of Death?"
   ]
  },
  {
   "cell_type": "code",
   "execution_count": 33,
   "metadata": {
    "collapsed": false
   },
   "outputs": [
    {
     "data": {
      "text/html": [
       "<div>\n",
       "<table border=\"1\" class=\"dataframe\">\n",
       "  <thead>\n",
       "    <tr style=\"text-align: right;\">\n",
       "      <th></th>\n",
       "      <th>name</th>\n",
       "      <th>likelihood_of_death</th>\n",
       "    </tr>\n",
       "  </thead>\n",
       "  <tbody>\n",
       "    <tr>\n",
       "      <th>909</th>\n",
       "      <td>Ardrian Celtigar</td>\n",
       "      <td>0.875462</td>\n",
       "    </tr>\n",
       "    <tr>\n",
       "      <th>1835</th>\n",
       "      <td>Tysha</td>\n",
       "      <td>0.839689</td>\n",
       "    </tr>\n",
       "    <tr>\n",
       "      <th>387</th>\n",
       "      <td>Bryen</td>\n",
       "      <td>0.835518</td>\n",
       "    </tr>\n",
       "    <tr>\n",
       "      <th>1</th>\n",
       "      <td>Walder Frey</td>\n",
       "      <td>0.828664</td>\n",
       "    </tr>\n",
       "    <tr>\n",
       "      <th>1677</th>\n",
       "      <td>Daenerys Targaryen</td>\n",
       "      <td>0.827858</td>\n",
       "    </tr>\n",
       "    <tr>\n",
       "      <th>1741</th>\n",
       "      <td>Jaime Lannister</td>\n",
       "      <td>0.807363</td>\n",
       "    </tr>\n",
       "    <tr>\n",
       "      <th>283</th>\n",
       "      <td>Aegon Targaryen (son of Baelon)</td>\n",
       "      <td>0.728942</td>\n",
       "    </tr>\n",
       "    <tr>\n",
       "      <th>328</th>\n",
       "      <td>Ayrmidon</td>\n",
       "      <td>0.709589</td>\n",
       "    </tr>\n",
       "    <tr>\n",
       "      <th>172</th>\n",
       "      <td>Stannis Baratheon</td>\n",
       "      <td>0.696874</td>\n",
       "    </tr>\n",
       "    <tr>\n",
       "      <th>5</th>\n",
       "      <td>Tommen Baratheon</td>\n",
       "      <td>0.696874</td>\n",
       "    </tr>\n",
       "    <tr>\n",
       "      <th>1840</th>\n",
       "      <td>Tyrion Lannister</td>\n",
       "      <td>0.673367</td>\n",
       "    </tr>\n",
       "    <tr>\n",
       "      <th>1481</th>\n",
       "      <td>Cersei Lannister</td>\n",
       "      <td>0.659313</td>\n",
       "    </tr>\n",
       "  </tbody>\n",
       "</table>\n",
       "</div>"
      ],
      "text/plain": [
       "                                 name  likelihood_of_death\n",
       "909                  Ardrian Celtigar             0.875462\n",
       "1835                            Tysha             0.839689\n",
       "387                             Bryen             0.835518\n",
       "1                         Walder Frey             0.828664\n",
       "1677               Daenerys Targaryen             0.827858\n",
       "1741                  Jaime Lannister             0.807363\n",
       "283   Aegon Targaryen (son of Baelon)             0.728942\n",
       "328                          Ayrmidon             0.709589\n",
       "172                 Stannis Baratheon             0.696874\n",
       "5                    Tommen Baratheon             0.696874\n",
       "1840                 Tyrion Lannister             0.673367\n",
       "1481                 Cersei Lannister             0.659313"
      ]
     },
     "execution_count": 33,
     "metadata": {},
     "output_type": "execute_result"
    }
   ],
   "source": [
    "# logreg prediction\n",
    "df['likelihood_of_death'] = 1 - logreg.predict_proba(X)[:, 1]\n",
    "df[df.isAlive==1].sort_values(by='likelihood_of_death',ascending=False)[['name','likelihood_of_death']].head(12)"
   ]
  },
  {
   "cell_type": "code",
   "execution_count": 34,
   "metadata": {
    "collapsed": false
   },
   "outputs": [
    {
     "data": {
      "text/html": [
       "<div>\n",
       "<table border=\"1\" class=\"dataframe\">\n",
       "  <thead>\n",
       "    <tr style=\"text-align: right;\">\n",
       "      <th></th>\n",
       "      <th>name</th>\n",
       "      <th>likelihood_of_death</th>\n",
       "    </tr>\n",
       "  </thead>\n",
       "  <tbody>\n",
       "    <tr>\n",
       "      <th>420</th>\n",
       "      <td>Collio Quaynis</td>\n",
       "      <td>0.693062</td>\n",
       "    </tr>\n",
       "    <tr>\n",
       "      <th>204</th>\n",
       "      <td>Toregg</td>\n",
       "      <td>0.672451</td>\n",
       "    </tr>\n",
       "    <tr>\n",
       "      <th>172</th>\n",
       "      <td>Stannis Baratheon</td>\n",
       "      <td>0.672292</td>\n",
       "    </tr>\n",
       "    <tr>\n",
       "      <th>5</th>\n",
       "      <td>Tommen Baratheon</td>\n",
       "      <td>0.672292</td>\n",
       "    </tr>\n",
       "    <tr>\n",
       "      <th>173</th>\n",
       "      <td>Steffon Varner</td>\n",
       "      <td>0.656979</td>\n",
       "    </tr>\n",
       "    <tr>\n",
       "      <th>44</th>\n",
       "      <td>Zei</td>\n",
       "      <td>0.639843</td>\n",
       "    </tr>\n",
       "    <tr>\n",
       "      <th>1488</th>\n",
       "      <td>Crawn</td>\n",
       "      <td>0.638600</td>\n",
       "    </tr>\n",
       "    <tr>\n",
       "      <th>1872</th>\n",
       "      <td>Parmen Crane</td>\n",
       "      <td>0.635872</td>\n",
       "    </tr>\n",
       "    <tr>\n",
       "      <th>266</th>\n",
       "      <td>Werlag</td>\n",
       "      <td>0.635284</td>\n",
       "    </tr>\n",
       "    <tr>\n",
       "      <th>791</th>\n",
       "      <td>Mother Mole</td>\n",
       "      <td>0.592905</td>\n",
       "    </tr>\n",
       "    <tr>\n",
       "      <th>275</th>\n",
       "      <td>Addam Frey</td>\n",
       "      <td>0.589828</td>\n",
       "    </tr>\n",
       "    <tr>\n",
       "      <th>1277</th>\n",
       "      <td>Otho Bracken</td>\n",
       "      <td>0.589828</td>\n",
       "    </tr>\n",
       "    <tr>\n",
       "      <th>485</th>\n",
       "      <td>Eldiss</td>\n",
       "      <td>0.577703</td>\n",
       "    </tr>\n",
       "    <tr>\n",
       "      <th>1065</th>\n",
       "      <td>Grazdan mo Eraz</td>\n",
       "      <td>0.532267</td>\n",
       "    </tr>\n",
       "    <tr>\n",
       "      <th>1933</th>\n",
       "      <td>Temmo</td>\n",
       "      <td>0.505933</td>\n",
       "    </tr>\n",
       "    <tr>\n",
       "      <th>1822</th>\n",
       "      <td>Steely Pate</td>\n",
       "      <td>0.503797</td>\n",
       "    </tr>\n",
       "    <tr>\n",
       "      <th>83</th>\n",
       "      <td>Reysen</td>\n",
       "      <td>0.502933</td>\n",
       "    </tr>\n",
       "    <tr>\n",
       "      <th>732</th>\n",
       "      <td>Lyonel (knight)</td>\n",
       "      <td>0.500378</td>\n",
       "    </tr>\n",
       "    <tr>\n",
       "      <th>839</th>\n",
       "      <td>Owen</td>\n",
       "      <td>0.497786</td>\n",
       "    </tr>\n",
       "    <tr>\n",
       "      <th>482</th>\n",
       "      <td>Eggon</td>\n",
       "      <td>0.494998</td>\n",
       "    </tr>\n",
       "    <tr>\n",
       "      <th>176</th>\n",
       "      <td>Sybassion</td>\n",
       "      <td>0.494998</td>\n",
       "    </tr>\n",
       "    <tr>\n",
       "      <th>141</th>\n",
       "      <td>Salloreon</td>\n",
       "      <td>0.494998</td>\n",
       "    </tr>\n",
       "    <tr>\n",
       "      <th>335</th>\n",
       "      <td>Barre</td>\n",
       "      <td>0.494998</td>\n",
       "    </tr>\n",
       "    <tr>\n",
       "      <th>1840</th>\n",
       "      <td>Tyrion Lannister</td>\n",
       "      <td>0.494760</td>\n",
       "    </tr>\n",
       "    <tr>\n",
       "      <th>1828</th>\n",
       "      <td>Petyr Baelish</td>\n",
       "      <td>0.494760</td>\n",
       "    </tr>\n",
       "    <tr>\n",
       "      <th>1644</th>\n",
       "      <td>Bael the Bard</td>\n",
       "      <td>0.492111</td>\n",
       "    </tr>\n",
       "    <tr>\n",
       "      <th>938</th>\n",
       "      <td>Black Bernarr</td>\n",
       "      <td>0.489224</td>\n",
       "    </tr>\n",
       "    <tr>\n",
       "      <th>480</th>\n",
       "      <td>Edmund Ambrose</td>\n",
       "      <td>0.469200</td>\n",
       "    </tr>\n",
       "    <tr>\n",
       "      <th>181</th>\n",
       "      <td>Tal Toraq</td>\n",
       "      <td>0.462800</td>\n",
       "    </tr>\n",
       "    <tr>\n",
       "      <th>1186</th>\n",
       "      <td>Lyonel Selmy</td>\n",
       "      <td>0.462152</td>\n",
       "    </tr>\n",
       "  </tbody>\n",
       "</table>\n",
       "</div>"
      ],
      "text/plain": [
       "                   name  likelihood_of_death\n",
       "420      Collio Quaynis             0.693062\n",
       "204              Toregg             0.672451\n",
       "172   Stannis Baratheon             0.672292\n",
       "5      Tommen Baratheon             0.672292\n",
       "173      Steffon Varner             0.656979\n",
       "44                  Zei             0.639843\n",
       "1488              Crawn             0.638600\n",
       "1872       Parmen Crane             0.635872\n",
       "266              Werlag             0.635284\n",
       "791         Mother Mole             0.592905\n",
       "275          Addam Frey             0.589828\n",
       "1277       Otho Bracken             0.589828\n",
       "485              Eldiss             0.577703\n",
       "1065    Grazdan mo Eraz             0.532267\n",
       "1933              Temmo             0.505933\n",
       "1822        Steely Pate             0.503797\n",
       "83               Reysen             0.502933\n",
       "732     Lyonel (knight)             0.500378\n",
       "839                Owen             0.497786\n",
       "482               Eggon             0.494998\n",
       "176           Sybassion             0.494998\n",
       "141           Salloreon             0.494998\n",
       "335               Barre             0.494998\n",
       "1840   Tyrion Lannister             0.494760\n",
       "1828      Petyr Baelish             0.494760\n",
       "1644      Bael the Bard             0.492111\n",
       "938       Black Bernarr             0.489224\n",
       "480      Edmund Ambrose             0.469200\n",
       "181           Tal Toraq             0.462800\n",
       "1186       Lyonel Selmy             0.462152"
      ]
     },
     "execution_count": 34,
     "metadata": {},
     "output_type": "execute_result"
    }
   ],
   "source": [
    "# random forest prediction\n",
    "rfreg = RandomForestRegressor(n_estimators=n, max_features=8)\n",
    "rfreg.fit(X[rf_feature_cols], y)\n",
    "preds = rfreg.predict(X[rf_feature_cols])\n",
    "\n",
    "df['likelihood_of_death'] = 1 - preds\n",
    "df[df.isAlive==1].sort_values(by='likelihood_of_death',ascending=False)[['name','likelihood_of_death']].head(30)"
   ]
  },
  {
   "cell_type": "code",
   "execution_count": null,
   "metadata": {
    "collapsed": false
   },
   "outputs": [],
   "source": []
  },
  {
   "cell_type": "code",
   "execution_count": null,
   "metadata": {
    "collapsed": false
   },
   "outputs": [],
   "source": []
  },
  {
   "cell_type": "code",
   "execution_count": null,
   "metadata": {
    "collapsed": false
   },
   "outputs": [],
   "source": []
  },
  {
   "cell_type": "code",
   "execution_count": null,
   "metadata": {
    "collapsed": true
   },
   "outputs": [],
   "source": []
  },
  {
   "cell_type": "code",
   "execution_count": null,
   "metadata": {
    "collapsed": false
   },
   "outputs": [],
   "source": []
  },
  {
   "cell_type": "code",
   "execution_count": null,
   "metadata": {
    "collapsed": false
   },
   "outputs": [],
   "source": []
  },
  {
   "cell_type": "markdown",
   "metadata": {},
   "source": [
    "## OLD CODE NOT IN USE"
   ]
  },
  {
   "cell_type": "code",
   "execution_count": 35,
   "metadata": {
    "collapsed": false
   },
   "outputs": [
    {
     "data": {
      "text/plain": [
       "\"\\ndef died(df):\\n    if np.isnan(df['Death Year']) and np.isnan(df['Book of Death']) and np.isnan(df['Death Chapter']):\\n        return False\\n    else:\\n        return True\\n\\ncharacter_deaths['died'] = character_deaths.apply(died,axis=1)\\n\""
      ]
     },
     "execution_count": 35,
     "metadata": {},
     "output_type": "execute_result"
    }
   ],
   "source": [
    "'''\n",
    "def died(df):\n",
    "    if np.isnan(df['Death Year']) and np.isnan(df['Book of Death']) and np.isnan(df['Death Chapter']):\n",
    "        return False\n",
    "    else:\n",
    "        return True\n",
    "\n",
    "character_deaths['died'] = character_deaths.apply(died,axis=1)\n",
    "'''"
   ]
  }
 ],
 "metadata": {
  "kernelspec": {
   "display_name": "Python 2",
   "language": "python",
   "name": "python2"
  },
  "language_info": {
   "codemirror_mode": {
    "name": "ipython",
    "version": 2
   },
   "file_extension": ".py",
   "mimetype": "text/x-python",
   "name": "python",
   "nbconvert_exporter": "python",
   "pygments_lexer": "ipython2",
   "version": "2.7.11"
  }
 },
 "nbformat": 4,
 "nbformat_minor": 0
}
