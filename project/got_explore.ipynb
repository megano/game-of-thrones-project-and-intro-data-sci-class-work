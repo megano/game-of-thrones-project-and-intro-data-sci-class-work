{
 "cells": [
  {
   "cell_type": "markdown",
   "metadata": {},
   "source": [
    "## Setup and Cleaning"
   ]
  },
  {
   "cell_type": "code",
   "execution_count": 108,
   "metadata": {
    "collapsed": true
   },
   "outputs": [],
   "source": [
    "import pandas as pd\n",
    "import numpy as np\n",
    "from matplotlib import pyplot as plt\n",
    "%matplotlib inline\n",
    "from sklearn.cross_validation import train_test_split\n",
    "from sklearn.preprocessing import normalize\n",
    "from sklearn.linear_model import LogisticRegression\n",
    "from sklearn import metrics\n",
    "from sklearn.cross_validation import cross_val_score\n",
    "from sklearn.naive_bayes import MultinomialNB\n",
    "\n",
    "pd.set_option('display.max_rows', 50)\n",
    "pd.set_option('display.max_columns', 50)\n"
   ]
  },
  {
   "cell_type": "code",
   "execution_count": 2,
   "metadata": {
    "collapsed": false
   },
   "outputs": [],
   "source": [
    "battles = pd.read_csv('battles.csv')\n",
    "character_deaths = pd.read_csv('character-deaths.csv')\n",
    "character_predictions = pd.read_csv('character-predictions.csv')"
   ]
  },
  {
   "cell_type": "code",
   "execution_count": 3,
   "metadata": {
    "collapsed": false
   },
   "outputs": [],
   "source": [
    "# start with character_predictions as main df\n",
    "df = character_predictions\n",
    "\n",
    "# add calculated cols: num_books, culture, \n",
    "df.loc[:, \"num_books\"] = df[[x for x in df.columns if x.startswith(\"book\")]].sum(axis = 1)\n",
    "\n",
    "cult = {\n",
    "    'Summer Islands': ['summer islands', 'summer islander', 'summer isles'],\n",
    "    'Ghiscari': ['ghiscari', 'ghiscaricari',  'ghis'],\n",
    "    'Asshai': [\"asshai'i\", 'asshai'],\n",
    "    'Lysene': ['lysene', 'lyseni'],\n",
    "    'Andal': ['andal', 'andals'],\n",
    "    'Braavosi': ['braavosi', 'braavos'],\n",
    "    'Dornish': ['dornishmen', 'dorne', 'dornish'],\n",
    "    'Myrish': ['myr', 'myrish', 'myrmen'],\n",
    "    'Westermen': ['westermen', 'westerman', 'westerlands'],\n",
    "    'Westerosi': ['westeros', 'westerosi'],\n",
    "    'Stormlander': ['stormlands', 'stormlander'],\n",
    "    'Norvoshi': ['norvos', 'norvoshi'],\n",
    "    'Northmen': ['the north', 'northmen'],\n",
    "    'Free Folk': ['wildling', 'first men', 'free folk'],\n",
    "    'Qartheen': ['qartheen', 'qarth'],\n",
    "    'Reach': ['the reach', 'reach', 'reachmen'],\n",
    "}\n",
    "\n",
    "def get_cult(value):\n",
    "    value = value.lower()\n",
    "    v = [k for (k, v) in cult.items() if value in v]\n",
    "    return v[0] if len(v) > 0 else value.title()\n",
    "\n",
    "df.loc[:, \"culture\"] = [get_cult(x) for x in df.culture.fillna(\"\")]\n",
    "\n",
    "# convert 'house' and 'name' to string\n",
    "df['house'] = df['house'].astype(str)\n",
    "df['name'] = df['name'].astype(str)\n",
    "\n",
    "# add col to see if character's name also appears in the house name\n",
    "name_check=[]\n",
    "\n",
    "for i in range(len(df)):\n",
    "    name_set = set(df.ix[i,'name'].split(' '))\n",
    "    house_set = set(df.ix[i,'house'].split(' '))\n",
    "    name_check.append(int(bool(name_set&house_set)))\n",
    "    \n",
    "df['name_in_house'] = name_check"
   ]
  },
  {
   "cell_type": "code",
   "execution_count": 4,
   "metadata": {
    "collapsed": false
   },
   "outputs": [],
   "source": [
    "# get rid of previous prediction information from source data; we're going to make our own predictions!\n",
    "df.drop(['S.No','actual','pred','alive','plod'],axis=1,inplace=True)"
   ]
  },
  {
   "cell_type": "code",
   "execution_count": null,
   "metadata": {
    "collapsed": true
   },
   "outputs": [],
   "source": [
    "# transform culture into dummy variables and append to dataframe\n",
    "culture_dummies = pd.get_dummies(df.culture).iloc[:,1:]\n",
    "df = pd.concat([df,culture_dummies],axis=1)"
   ]
  },
  {
   "cell_type": "code",
   "execution_count": 48,
   "metadata": {
    "collapsed": false
   },
   "outputs": [],
   "source": [
    "# add age groups\n",
    "\n",
    "df['is_old'] = df['age'].apply(lambda x: 1 if x>70 else 0)\n",
    "df['is_young'] = df['age'].apply(lambda x: 1 if x<18 else 0)\n",
    "df['is_middle_aged'] = df['age'].apply(lambda x: 1 if x>=18 and x<=70 else 0)"
   ]
  },
  {
   "cell_type": "markdown",
   "metadata": {},
   "source": [
    "## Data Exploration"
   ]
  },
  {
   "cell_type": "code",
   "execution_count": 144,
   "metadata": {
    "collapsed": false
   },
   "outputs": [],
   "source": [
    "def plot(cat):\n",
    "    df.groupby(cat).isAlive.mean().plot(kind='bar')\n",
    "    plt.ylabel('Percent Alive')\n",
    "    plt.ylim([0.0, 1.0])\n",
    "    plt.show()"
   ]
  },
  {
   "cell_type": "code",
   "execution_count": 145,
   "metadata": {
    "collapsed": false
   },
   "outputs": [
    {
     "data": {
      "image/png": "[encoded data removed]",
      "text/plain": [
       "<matplotlib.figure.Figure at 0x11a3bc450>"
      ]
     },
     "metadata": {},
     "output_type": "display_data"
    }
   ],
   "source": [
    "plot('male')"
   ]
  },
  {
   "cell_type": "code",
   "execution_count": 152,
   "metadata": {
    "collapsed": false
   },
   "outputs": [
    {
     "data": {
      "image/png": "[encoded data removed]",
      "text/plain": [
       "<matplotlib.figure.Figure at 0x11d1c6710>"
      ]
     },
     "metadata": {},
     "output_type": "display_data"
    }
   ],
   "source": [
    "plot('is_old')"
   ]
  },
  {
   "cell_type": "code",
   "execution_count": 154,
   "metadata": {
    "collapsed": false,
    "scrolled": true
   },
   "outputs": [
    {
     "data": {
      "image/png": "[encoded data removed]",
      "text/plain": [
       "<matplotlib.figure.Figure at 0x11d1b6b50>"
      ]
     },
     "metadata": {},
     "output_type": "display_data"
    }
   ],
   "source": [
    "plot('Valyrian')"
   ]
  },
  {
   "cell_type": "code",
   "execution_count": 160,
   "metadata": {
    "collapsed": false
   },
   "outputs": [],
   "source": [
    "# popularity: https://docs.google.com/spreadsheets/d/1WQlsF_agiphO1TUYb0W8cLwd-OL4RYvTtFDq08mV0QI/edit?usp=sharing"
   ]
  },
  {
   "cell_type": "code",
   "execution_count": null,
   "metadata": {
    "collapsed": true
   },
   "outputs": [],
   "source": []
  },
  {
   "cell_type": "markdown",
   "metadata": {},
   "source": [
    "## Null Accuracy Rate"
   ]
  },
  {
   "cell_type": "code",
   "execution_count": 76,
   "metadata": {
    "collapsed": false
   },
   "outputs": [
    {
     "name": "stdout",
     "output_type": "stream",
     "text": [
      "null accuracy rate: 0.745632065776\n"
     ]
    }
   ],
   "source": [
    "# compute null accuracy rate\n",
    "na_rate = y.mean()\n",
    "print 'null accuracy rate: %s' %na_rate"
   ]
  },
  {
   "cell_type": "markdown",
   "metadata": {},
   "source": [
    "## Train/Test/Split"
   ]
  },
  {
   "cell_type": "code",
   "execution_count": 99,
   "metadata": {
    "collapsed": true
   },
   "outputs": [],
   "source": [
    "# train/test/split used for models\n",
    "\n",
    "feature_cols = ['male','book1','book2','book3','book4','book5','isMarried','isNoble','popularity','name_in_house',\\\n",
    "                'boolDeadRelations','is_old','is_young','is_middle_aged']+list(culture_dummies.columns.values)\n",
    "X = df[feature_cols]\n",
    "y = df.isAlive\n",
    "\n",
    "X_train, X_test, y_train, y_test = train_test_split(X, y)"
   ]
  },
  {
   "cell_type": "markdown",
   "metadata": {},
   "source": [
    "## Metrics and Confusion Matrix"
   ]
  },
  {
   "cell_type": "code",
   "execution_count": 115,
   "metadata": {
    "collapsed": false
   },
   "outputs": [
    {
     "data": {
      "text/plain": [
       "'\\ntop left: predicted dead, actually died\\nbottom left: predicted dead, actually alive\\ntop right: predicted alive, actually dead\\nbottom right: predicted alive, actually alive\\n'"
      ]
     },
     "execution_count": 115,
     "metadata": {},
     "output_type": "execute_result"
    }
   ],
   "source": [
    "# define output\n",
    "\n",
    "# confusion matrix\n",
    "def plot_confusion_matrix(cm, order, title='Confusion matrix', cmap=plt.cm.Blues):\n",
    "    plt.imshow(cm, interpolation='nearest', cmap=cmap)\n",
    "    plt.title(title)\n",
    "    plt.colorbar()\n",
    "    tick_marks = np.arange(len(order))\n",
    "    plt.xticks(tick_marks, order, rotation=0)\n",
    "    plt.yticks(tick_marks, order)\n",
    "    plt.tight_layout()\n",
    "    plt.ylabel('Actual')\n",
    "    plt.xlabel('Predicted')\n",
    "    plt.show()\n",
    "\n",
    "def roc_auc():\n",
    "    fpr, tpr, thresholds = metrics.roc_curve(y_test, probs)\n",
    "    plt.plot(fpr, tpr)\n",
    "    plt.xlim([0.0, 1.0])\n",
    "    plt.ylim([0.0, 1.0])\n",
    "    plt.xlabel('False Positive Rate (1 - Specificity)')\n",
    "    plt.ylabel('True Positive Rate (Sensitivity)')\n",
    "    plt.show()\n",
    "    print 'AUC: %s' %metrics.roc_auc_score(y_test, probs)\n",
    "    \n",
    "def SCORE(model):\n",
    "    print 'accuracy: %s' %metrics.accuracy_score(y_test, preds)\n",
    "    print 'compared to null accuracy rate of: %s' %y_test.mean()\n",
    "    cm = metrics.confusion_matrix(y_test, preds)\n",
    "    plt.figure()\n",
    "    plot_confusion_matrix(cm,['dead','alive'])\n",
    "    \n",
    "    sensitivity = 1.*cm[1,1]/sum(cm[1,:])\n",
    "    print 'sensitivity (if alive, chance we predicted correctly): ' + str(sensitivity)\n",
    "\n",
    "    specificity = 1.*cm[0,0]/sum(cm[0,:])\n",
    "    print 'specificity (if dead, chance we predicted correctly): ' + str(specificity)\n",
    "    roc_auc()\n",
    "\n",
    "    cv_score = cross_val_score(model, X, y, cv=10, scoring='roc_auc').mean()\n",
    "    print 'cross_val_score: %s' %cv_score\n",
    "\n",
    "    \n",
    "'''\n",
    "top left: predicted dead, actually died\n",
    "bottom left: predicted dead, actually alive\n",
    "top right: predicted alive, actually dead\n",
    "bottom right: predicted alive, actually alive\n",
    "'''\n"
   ]
  },
  {
   "cell_type": "markdown",
   "metadata": {},
   "source": [
    "## Model 1: Logistic Regression\n",
    "TODO: Normalize column values, cross validation, tune model, ROC/AUC"
   ]
  },
  {
   "cell_type": "code",
   "execution_count": 116,
   "metadata": {
    "collapsed": false
   },
   "outputs": [
    {
     "name": "stdout",
     "output_type": "stream",
     "text": [
      "accuracy: 0.804928131417\n",
      "compared to null accuracy rate of: 0.749486652977\n"
     ]
    },
    {
     "data": {
      "image/png": "[encoded data removed]",
      "text/plain": [
       "<matplotlib.figure.Figure at 0x11b5cbf50>"
      ]
     },
     "metadata": {},
     "output_type": "display_data"
    },
    {
     "name": "stdout",
     "output_type": "stream",
     "text": [
      "sensitivity (if alive, chance we predicted correctly): 0.975342465753\n",
      "specificity (if dead, chance we predicted correctly): 0.295081967213\n"
     ]
    },
    {
     "data": {
      "image/png": "[encoded data removed]",
      "text/plain": [
       "<matplotlib.figure.Figure at 0x11a4c53d0>"
      ]
     },
     "metadata": {},
     "output_type": "display_data"
    },
    {
     "name": "stdout",
     "output_type": "stream",
     "text": [
      "AUC: 0.795744441949\n",
      "cross_val_score: 0.757565480609\n"
     ]
    }
   ],
   "source": [
    "# Model 1: Logistic Regression\n",
    "\n",
    "logreg = LogisticRegression()\n",
    "logreg.fit(X_train,y_train)\n",
    "preds = logreg.predict(X_test)\n",
    "probs = logreg.predict_proba(X_test)[:, 1]\n",
    "SCORE(logreg)\n",
    "\n"
   ]
  },
  {
   "cell_type": "markdown",
   "metadata": {},
   "source": [
    "## Model 2: Decision Tree / Random Forest"
   ]
  },
  {
   "cell_type": "code",
   "execution_count": null,
   "metadata": {
    "collapsed": false
   },
   "outputs": [],
   "source": []
  },
  {
   "cell_type": "markdown",
   "metadata": {
    "collapsed": true
   },
   "source": [
    "## Model 3: Bayesian"
   ]
  },
  {
   "cell_type": "code",
   "execution_count": 117,
   "metadata": {
    "collapsed": false
   },
   "outputs": [
    {
     "name": "stdout",
     "output_type": "stream",
     "text": [
      "accuracy: 0.796714579055\n",
      "compared to null accuracy rate of: 0.749486652977\n"
     ]
    },
    {
     "data": {
      "image/png": "[encoded data removed]",
      "text/plain": [
       "<matplotlib.figure.Figure at 0x11ab6d190>"
      ]
     },
     "metadata": {},
     "output_type": "display_data"
    },
    {
     "name": "stdout",
     "output_type": "stream",
     "text": [
      "sensitivity (if alive, chance we predicted correctly): 0.978082191781\n",
      "specificity (if dead, chance we predicted correctly): 0.254098360656\n"
     ]
    },
    {
     "data": {
      "image/png": "[encoded data removed]",
      "text/plain": [
       "<matplotlib.figure.Figure at 0x11b5a6890>"
      ]
     },
     "metadata": {},
     "output_type": "display_data"
    },
    {
     "name": "stdout",
     "output_type": "stream",
     "text": [
      "AUC: 0.773781720189\n",
      "cross_val_score: 0.724628837496\n"
     ]
    }
   ],
   "source": [
    "nb = MultinomialNB()\n",
    "nb.fit(X_train, y_train)\n",
    "preds = nb.predict(X_test)\n",
    "probs = nb.predict_proba(X_test)[:, 1]\n",
    "SCORE(nb)"
   ]
  },
  {
   "cell_type": "code",
   "execution_count": null,
   "metadata": {
    "collapsed": false
   },
   "outputs": [],
   "source": []
  },
  {
   "cell_type": "markdown",
   "metadata": {
    "collapsed": false
   },
   "source": [
    "## Which Characters that Are Still Alive Have Highest Chance of Death? (LogReg)"
   ]
  },
  {
   "cell_type": "code",
   "execution_count": 134,
   "metadata": {
    "collapsed": false
   },
   "outputs": [
    {
     "data": {
      "text/html": [
       "<div>\n",
       "<table border=\"1\" class=\"dataframe\">\n",
       "  <thead>\n",
       "    <tr style=\"text-align: right;\">\n",
       "      <th></th>\n",
       "      <th>name</th>\n",
       "      <th>likelihood_of_death</th>\n",
       "    </tr>\n",
       "  </thead>\n",
       "  <tbody>\n",
       "    <tr>\n",
       "      <th>1677</th>\n",
       "      <td>Daenerys Targaryen</td>\n",
       "      <td>0.826877</td>\n",
       "    </tr>\n",
       "    <tr>\n",
       "      <th>1835</th>\n",
       "      <td>Tysha</td>\n",
       "      <td>0.801951</td>\n",
       "    </tr>\n",
       "    <tr>\n",
       "      <th>1</th>\n",
       "      <td>Walder Frey</td>\n",
       "      <td>0.780956</td>\n",
       "    </tr>\n",
       "    <tr>\n",
       "      <th>909</th>\n",
       "      <td>Ardrian Celtigar</td>\n",
       "      <td>0.779719</td>\n",
       "    </tr>\n",
       "    <tr>\n",
       "      <th>283</th>\n",
       "      <td>Aegon Targaryen (son of Baelon)</td>\n",
       "      <td>0.725444</td>\n",
       "    </tr>\n",
       "    <tr>\n",
       "      <th>5</th>\n",
       "      <td>Tommen Baratheon</td>\n",
       "      <td>0.719526</td>\n",
       "    </tr>\n",
       "    <tr>\n",
       "      <th>172</th>\n",
       "      <td>Stannis Baratheon</td>\n",
       "      <td>0.719526</td>\n",
       "    </tr>\n",
       "    <tr>\n",
       "      <th>1741</th>\n",
       "      <td>Jaime Lannister</td>\n",
       "      <td>0.704333</td>\n",
       "    </tr>\n",
       "    <tr>\n",
       "      <th>387</th>\n",
       "      <td>Bryen</td>\n",
       "      <td>0.690051</td>\n",
       "    </tr>\n",
       "    <tr>\n",
       "      <th>328</th>\n",
       "      <td>Ayrmidon</td>\n",
       "      <td>0.671972</td>\n",
       "    </tr>\n",
       "    <tr>\n",
       "      <th>1474</th>\n",
       "      <td>Bran Stark</td>\n",
       "      <td>0.668107</td>\n",
       "    </tr>\n",
       "    <tr>\n",
       "      <th>1840</th>\n",
       "      <td>Tyrion Lannister</td>\n",
       "      <td>0.667613</td>\n",
       "    </tr>\n",
       "  </tbody>\n",
       "</table>\n",
       "</div>"
      ],
      "text/plain": [
       "                                 name  likelihood_of_death\n",
       "1677               Daenerys Targaryen             0.826877\n",
       "1835                            Tysha             0.801951\n",
       "1                         Walder Frey             0.780956\n",
       "909                  Ardrian Celtigar             0.779719\n",
       "283   Aegon Targaryen (son of Baelon)             0.725444\n",
       "5                    Tommen Baratheon             0.719526\n",
       "172                 Stannis Baratheon             0.719526\n",
       "1741                  Jaime Lannister             0.704333\n",
       "387                             Bryen             0.690051\n",
       "328                          Ayrmidon             0.671972\n",
       "1474                       Bran Stark             0.668107\n",
       "1840                 Tyrion Lannister             0.667613"
      ]
     },
     "execution_count": 134,
     "metadata": {},
     "output_type": "execute_result"
    }
   ],
   "source": [
    "df['likelihood_of_death'] = 1 - logreg.predict_proba(X)[:, 1]\n",
    "df[df.isAlive==1].sort_values(by='prediction')[['name','likelihood_of_death']].head(12)"
   ]
  },
  {
   "cell_type": "code",
   "execution_count": null,
   "metadata": {
    "collapsed": false
   },
   "outputs": [],
   "source": []
  },
  {
   "cell_type": "code",
   "execution_count": 47,
   "metadata": {
    "collapsed": true
   },
   "outputs": [],
   "source": []
  },
  {
   "cell_type": "code",
   "execution_count": null,
   "metadata": {
    "collapsed": false
   },
   "outputs": [],
   "source": []
  },
  {
   "cell_type": "code",
   "execution_count": 52,
   "metadata": {
    "collapsed": true
   },
   "outputs": [],
   "source": []
  },
  {
   "cell_type": "code",
   "execution_count": null,
   "metadata": {
    "collapsed": false
   },
   "outputs": [],
   "source": []
  },
  {
   "cell_type": "code",
   "execution_count": null,
   "metadata": {
    "collapsed": false
   },
   "outputs": [],
   "source": []
  },
  {
   "cell_type": "markdown",
   "metadata": {},
   "source": [
    "## OLD CODE NOT IN USE"
   ]
  },
  {
   "cell_type": "code",
   "execution_count": null,
   "metadata": {
    "collapsed": true
   },
   "outputs": [],
   "source": [
    "'''\n",
    "def died(df):\n",
    "    if np.isnan(df['Death Year']) and np.isnan(df['Book of Death']) and np.isnan(df['Death Chapter']):\n",
    "        return False\n",
    "    else:\n",
    "        return True\n",
    "\n",
    "character_deaths['died'] = character_deaths.apply(died,axis=1)\n",
    "'''"
   ]
  }
 ],
 "metadata": {
  "kernelspec": {
   "display_name": "Python 2",
   "language": "python",
   "name": "python2"
  },
  "language_info": {
   "codemirror_mode": {
    "name": "ipython",
    "version": 2
   },
   "file_extension": ".py",
   "mimetype": "text/x-python",
   "name": "python",
   "nbconvert_exporter": "python",
   "pygments_lexer": "ipython2",
   "version": "2.7.11"
  }
 },
 "nbformat": 4,
 "nbformat_minor": 0
}
